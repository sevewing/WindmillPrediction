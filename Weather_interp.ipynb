{
 "cells": [
  {
   "cell_type": "code",
   "execution_count": 2,
   "metadata": {},
   "outputs": [],
   "source": [
    "import pandas as pd\n",
    "import numpy as np\n",
    "from math import pi\n",
    "import warnings\n",
    "warnings.filterwarnings(\"ignore\")"
   ]
  },
  {
   "cell_type": "markdown",
   "metadata": {},
   "source": [
    "# Wind Speed Vector Extract"
   ]
  },
  {
   "cell_type": "code",
   "execution_count": null,
   "metadata": {},
   "outputs": [],
   "source": [
    "ws_10 = pd.read_parquet(\"data/ITU_DATA/prognosis/ENetNEA/wind_speed_10m.parquet\")\n",
    "ws_100 = pd.read_parquet(\"data/ITU_DATA/prognosis/ENetNEA/wind_speed_100m.parquet\")\n",
    "wd_10 = pd.read_parquet(\"data/ITU_DATA/prognosis/ENetNEA/wind_direction_10m.parquet\")\n",
    "wd_100 = pd.read_parquet(\"data/ITU_DATA/prognosis/ENetNEA/wind_direction_100m.parquet\")"
   ]
  },
  {
   "cell_type": "code",
   "execution_count": null,
   "metadata": {},
   "outputs": [],
   "source": [
    "def wind_speed_to_vector(s, d):\n",
    "    u = round(s * np.cos(pi/180 * (270-d)),3)\n",
    "    v = round(s * np.sin(pi/180 * (270-d)),3)\n",
    "    return u, v"
   ]
  },
  {
   "cell_type": "code",
   "execution_count": null,
   "metadata": {},
   "outputs": [],
   "source": [
    "def get_uv(ws, wd):\n",
    "    cols = ws.columns\n",
    "\n",
    "    df_u = pd.DataFrame(columns=cols)\n",
    "    df_u['TIME_CET'] = ws.index\n",
    "    df_u['predicted_ahead'] = ws[\"predicted_ahead\"].to_list()\n",
    "    \n",
    "\n",
    "    df_v = pd.DataFrame(columns=cols)\n",
    "    df_v['TIME_CET'] = ws.index\n",
    "    df_v['predicted_ahead'] = ws[\"predicted_ahead\"].to_list()\n",
    "\n",
    "    grid = ws.columns.drop([\"predicted_ahead\"]).astype(str)\n",
    "\n",
    "    for g in grid: \n",
    "        u, v = wind_speed_to_vector(ws[g], wd[g])\n",
    "        df_u[g] = u.to_list()\n",
    "        df_v[g] = v.to_list()\n",
    "    \n",
    "    return df_u, df_v"
   ]
  },
  {
   "cell_type": "code",
   "execution_count": null,
   "metadata": {
    "tags": [
     "outputPrepend",
     "outputPrepend",
     "outputPrepend",
     "outputPrepend",
     "outputPrepend",
     "outputPrepend",
     "outputPrepend",
     "outputPrepend",
     "outputPrepend",
     "outputPrepend",
     "outputPrepend",
     "outputPrepend",
     "outputPrepend",
     "outputPrepend",
     "outputPrepend",
     "outputPrepend",
     "outputPrepend",
     "outputPrepend",
     "outputPrepend",
     "outputPrepend",
     "outputPrepend",
     "outputPrepend",
     "outputPrepend",
     "outputPrepend",
     "outputPrepend",
     "outputPrepend",
     "outputPrepend",
     "outputPrepend",
     "outputPrepend",
     "outputPrepend",
     "outputPrepend",
     "outputPrepend",
     "outputPrepend",
     "outputPrepend",
     "outputPrepend",
     "outputPrepend",
     "outputPrepend",
     "outputPrepend",
     "outputPrepend",
     "outputPrepend",
     "outputPrepend",
     "outputPrepend",
     "outputPrepend",
     "outputPrepend",
     "outputPrepend",
     "outputPrepend",
     "outputPrepend",
     "outputPrepend",
     "outputPrepend",
     "outputPrepend",
     "outputPrepend",
     "outputPrepend",
     "outputPrepend",
     "outputPrepend",
     "outputPrepend",
     "outputPrepend",
     "outputPrepend",
     "outputPrepend",
     "outputPrepend",
     "outputPrepend",
     "outputPrepend",
     "outputPrepend"
    ]
   },
   "outputs": [],
   "source": [
    "df_u, df_v = get_uv(ws_10, wd_10)"
   ]
  },
  {
   "cell_type": "code",
   "execution_count": null,
   "metadata": {},
   "outputs": [],
   "source": [
    "df_u.to_parquet(\"data/ITU_DATA/prognosis/ENetNEA/wu_10m.parquet\")\n",
    "df_v.to_parquet(\"data/ITU_DATA/prognosis/ENetNEA/wv_10m.parquet\")"
   ]
  },
  {
   "cell_type": "code",
   "execution_count": null,
   "metadata": {},
   "outputs": [],
   "source": [
    "df_u, df_v = get_uv(ws_100, wd_100)"
   ]
  },
  {
   "cell_type": "code",
   "execution_count": null,
   "metadata": {},
   "outputs": [],
   "source": [
    "df_u.to_parquet(\"data/ITU_DATA/prognosis/ENetNEA/wu_100m.parquet\")\n",
    "df_v.to_parquet(\"data/ITU_DATA/prognosis/ENetNEA/wv_100m.parquet\")"
   ]
  },
  {
   "cell_type": "code",
   "execution_count": null,
   "metadata": {},
   "outputs": [],
   "source": []
  }
 ],
 "metadata": {
  "language_info": {
   "name": "python",
   "codemirror_mode": {
    "name": "ipython",
    "version": 3
   },
   "version": "3.7.7-final"
  },
  "orig_nbformat": 2,
  "file_extension": ".py",
  "mimetype": "text/x-python",
  "name": "python",
  "npconvert_exporter": "python",
  "pygments_lexer": "ipython3",
  "version": 3,
  "kernelspec": {
   "name": "python37264bit3a462acd451f4b989328b3d637ce9031",
   "display_name": "Python 3.7.2 64-bit"
  }
 },
 "nbformat": 4,
 "nbformat_minor": 2
}
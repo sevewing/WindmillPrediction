{
 "cells": [
  {
   "cell_type": "code",
   "execution_count": 1,
   "metadata": {},
   "outputs": [],
   "source": [
    "import pandas as pd\n",
    "import numpy as np\n",
    "from math import pi\n",
    "import warnings\n",
    "warnings.filterwarnings(\"ignore\")\n",
    "import features"
   ]
  },
  {
   "cell_type": "markdown",
   "metadata": {},
   "source": [
    "# Weather Data Compress"
   ]
  },
  {
   "cell_type": "code",
   "execution_count": 125,
   "metadata": {},
   "outputs": [],
   "source": [
    "ws_10 = pd.read_parquet(\"data/ITU_DATA/prognosis/ENetNEA/wind_speed_10m.parquet\")\n",
    "ws_100 = pd.read_parquet(\"data/ITU_DATA/prognosis/ENetNEA/wind_speed_100m.parquet\")\n",
    "wd_10 = pd.read_parquet(\"data/ITU_DATA/prognosis/ENetNEA/wind_direction_10m.parquet\")\n",
    "wd_100 = pd.read_parquet(\"data/ITU_DATA/prognosis/ENetNEA/wind_direction_100m.parquet\")\n",
    "tmp_2 = pd.read_parquet(\"data/ITU_DATA/prognosis/ENetNEA/temperatur_2m.parquet\")\n",
    "tmp_100 = pd.read_parquet(\"data/ITU_DATA/prognosis/ENetNEA/temperatur_100m.parquet\")"
   ]
  },
  {
   "cell_type": "code",
   "execution_count": 56,
   "metadata": {},
   "outputs": [],
   "source": [
    "def compress(df):\n",
    "    df = df.reset_index().rename({\"index\":\"TIME_CET\"}, axis=1)\n",
    "    df = df.groupby(\"TIME_CET\", as_index=False).last()\n",
    "    return df"
   ]
  },
  {
   "cell_type": "code",
   "execution_count": 58,
   "metadata": {},
   "outputs": [],
   "source": [
    "ws_10 = compress(ws_10)\n",
    "ws_100 = compress(ws_100)\n",
    "wd_10 = compress(wd_10)\n",
    "wd_100 = compress(wd_100)\n",
    "tmp_2 = compress(tmp_2)\n",
    "tmp_100 = compress(tmp_100)"
   ]
  },
  {
   "cell_type": "code",
   "execution_count": 59,
   "metadata": {},
   "outputs": [],
   "source": [
    "ws_10.to_parquet(\"data/ITU_DATA/prognosis/ENetNEA/ws_10m_cmp.parquet\")\n",
    "ws_100.to_parquet(\"data/ITU_DATA/prognosis/ENetNEA/ws_100m_cmp.parquet\")\n",
    "wd_10.to_parquet(\"data/ITU_DATA/prognosis/ENetNEA/wd_10m_cmp.parquet\")\n",
    "wd_100.to_parquet(\"data/ITU_DATA/prognosis/ENetNEA/wd_100m_cmp.parquet\")\n",
    "tmp_2.to_parquet(\"data/ITU_DATA/prognosis/ENetNEA/tmp_2m_cmp.parquet\")\n",
    "tmp_100.to_parquet(\"data/ITU_DATA/prognosis/ENetNEA/tmp_100m_cmp.parquet\")"
   ]
  },
  {
   "cell_type": "markdown",
   "metadata": {},
   "source": [
    "# Wind Speed Vector Extract"
   ]
  },
  {
   "cell_type": "code",
   "execution_count": 126,
   "metadata": {},
   "outputs": [],
   "source": [
    "ws_10 = pd.read_parquet(\"data/ITU_DATA/prognosis/ENetNEA/ws_10m_cmp.parquet\")\n",
    "ws_100 = pd.read_parquet(\"data/ITU_DATA/prognosis/ENetNEA/ws_100m_cmp.parquet\")\n",
    "wd_10 = pd.read_parquet(\"data/ITU_DATA/prognosis/ENetNEA/wd_10m_cmp.parquet\")\n",
    "wd_100 = pd.read_parquet(\"data/ITU_DATA/prognosis/ENetNEA/wd_100m_cmp.parquet\")"
   ]
  },
  {
   "cell_type": "code",
   "execution_count": 128,
   "metadata": {},
   "outputs": [],
   "source": [
    "def get_uv(ws, wd):\n",
    "    cols = ws.columns\n",
    "\n",
    "    df_u = pd.DataFrame(columns=cols)\n",
    "    df_u['TIME_CET'] = ws[\"TIME_CET\"].to_list()\n",
    "    df_u['predicted_ahead'] = ws[\"predicted_ahead\"].to_list()\n",
    "    \n",
    "    df_v = pd.DataFrame(columns=cols)\n",
    "    df_v['TIME_CET'] = ws[\"TIME_CET\"].to_list()\n",
    "    df_v['predicted_ahead'] = ws[\"predicted_ahead\"].to_list()\n",
    "\n",
    "    grid = ws.columns.drop([\"predicted_ahead\",\"TIME_CET\"]).astype(str)\n",
    "\n",
    "    for g in grid: \n",
    "        u, v = features.to_vector(ws[g], wd[g])\n",
    "        df_u[g] = u.to_list() \n",
    "        df_v[g] = v.to_list()\n",
    "    \n",
    "    return df_u, df_v"
   ]
  },
  {
   "cell_type": "code",
   "execution_count": 62,
   "metadata": {},
   "outputs": [],
   "source": [
    "df_u, df_v = get_uv(ws_10, wd_10)"
   ]
  },
  {
   "cell_type": "code",
   "execution_count": 63,
   "metadata": {},
   "outputs": [],
   "source": [
    "df_u.to_parquet(\"data/ITU_DATA/prognosis/ENetNEA/wu_10m_cmp.parquet\")\n",
    "df_v.to_parquet(\"data/ITU_DATA/prognosis/ENetNEA/wv_10m_cmp.parquet\")"
   ]
  },
  {
   "cell_type": "code",
   "execution_count": 64,
   "metadata": {},
   "outputs": [],
   "source": [
    "df_u, df_v = get_uv(ws_10, wd_10)"
   ]
  },
  {
   "cell_type": "code",
   "execution_count": 65,
   "metadata": {},
   "outputs": [],
   "source": [
    "df_u.to_parquet(\"data/ITU_DATA/prognosis/ENetNEA/wu_100m_cmp.parquet\")\n",
    "df_v.to_parquet(\"data/ITU_DATA/prognosis/ENetNEA/wv_100m_cmp.parquet\")"
   ]
  },
  {
   "cell_type": "code",
   "execution_count": null,
   "metadata": {},
   "outputs": [],
   "source": []
  }
 ],
 "metadata": {
  "language_info": {
   "name": "python",
   "codemirror_mode": {
    "name": "ipython",
    "version": 3
   },
   "version": "3.7.7-final"
  },
  "orig_nbformat": 2,
  "file_extension": ".py",
  "mimetype": "text/x-python",
  "name": "python",
  "npconvert_exporter": "python",
  "pygments_lexer": "ipython3",
  "version": 3,
  "kernelspec": {
   "name": "python37264bit3a462acd451f4b989328b3d637ce9031",
   "display_name": "Python 3.7.2 64-bit"
  }
 },
 "nbformat": 4,
 "nbformat_minor": 2
}
{
 "cells": [
  {
   "cell_type": "code",
   "execution_count": 28,
   "metadata": {},
   "outputs": [],
   "source": [
    "import pandas as pd\n",
    "import warnings\n",
    "warnings.filterwarnings(\"ignore\")\n",
    "\n",
    "import torch\n",
    "import torch.nn as nn\n",
    "import torch.nn.functional as F\n",
    "import torch.optim as optim\n",
    "from sklearn.metrics import r2_score\n",
    "\n",
    "import constant\n",
    "from constant import org_cols, wsr_cols, geo_pow_cols, geo_log_cols, semigeo_cols\n",
    "import tools\n",
    "import myplot\n",
    "import features\n",
    "from models import MLP_Regression, train_model, train_test_validation, model_evaluation, model_improvement, get_days_error, NRMSE_all\n",
    "path = \"SL_SC_1/\"\n",
    "model_path = constant.model_path + path\n",
    "plot_path = constant.plot_path + path"
   ]
  },
  {
   "cell_type": "markdown",
   "metadata": {},
   "source": [
    "# Neural Network Train"
   ]
  },
  {
   "cell_type": "code",
   "execution_count": 29,
   "metadata": {},
   "outputs": [],
   "source": [
    "class MLP_Regression(nn.Module):\n",
    "\n",
    "  def __init__(self, input_size, hidden_size, f_active, bias=0):\n",
    "    super(MLP_Regression, self).__init__()\n",
    "    self.fc1 = nn.Linear(input_size, hidden_size)\n",
    "    self.fc1.bias.data.fill_(bias)\n",
    "    self.fc2 = nn.Linear(hidden_size, hidden_size)\n",
    "    self.fc3 = nn.Linear(hidden_size, 1)\n",
    "    self.d = nn.Dropout(p=0.5)\n",
    "    self.f_active = f_active\n",
    "\n",
    "  def forward(self, x):\n",
    "    x = self.f_active(self.fc1(x))\n",
    "    # x = self.f_active(self.fc2(x))\n",
    "    x = self.fc3(x)\n",
    "\n",
    "    return x"
   ]
  },
  {
   "cell_type": "code",
   "execution_count": 30,
   "metadata": {},
   "outputs": [],
   "source": [
    "def train_model(\n",
    "    input_size,\n",
    "    hidden_size,\n",
    "    f_active,\n",
    "    lr,\n",
    "    num_epochs,\n",
    "    X_train, \n",
    "    y_train\n",
    "    ):\n",
    "\n",
    "    model = MLP_Regression(\n",
    "        input_size=input_size,\n",
    "        hidden_size=hidden_size,\n",
    "        f_active = f_active\n",
    "        )\n",
    "\n",
    "    optimiser = torch.optim.Adam(model.parameters(), lr=lr)\n",
    "    loss_fn = torch.nn.SmoothL1Loss()\n",
    "    for t in range(num_epochs):\n",
    "        y_pred = model(X_train)\n",
    "        loss = loss_fn(y_pred.float(), y_train)\n",
    "\n",
    "        optimiser.zero_grad()\n",
    "        loss.backward()\n",
    "        optimiser.step()\n",
    "\n",
    "    return model.eval()"
   ]
  },
  {
   "cell_type": "code",
   "execution_count": 31,
   "metadata": {},
   "outputs": [],
   "source": [
    "df_train = pd.read_parquet(constant.SL_SC_TRAIN_path)"
   ]
  },
  {
   "cell_type": "code",
   "execution_count": 32,
   "metadata": {},
   "outputs": [
    {
     "output_type": "execute_result",
     "data": {
      "text/plain": "445587"
     },
     "metadata": {},
     "execution_count": 32
    }
   ],
   "source": [
    "len(df_train)"
   ]
  },
  {
   "cell_type": "code",
   "execution_count": 33,
   "metadata": {},
   "outputs": [],
   "source": [
    "df_evl = pd.read_parquet(constant.SL_SC_EVL_path)\n",
    "df_evl[\"TIME_CET\"] = pd.to_datetime(df_evl[\"TIME_CET\"])"
   ]
  },
  {
   "cell_type": "code",
   "execution_count": 34,
   "metadata": {},
   "outputs": [
    {
     "output_type": "execute_result",
     "data": {
      "text/plain": "37944"
     },
     "metadata": {},
     "execution_count": 34
    }
   ],
   "source": [
    "len(df_evl)"
   ]
  },
  {
   "cell_type": "code",
   "execution_count": 41,
   "metadata": {},
   "outputs": [],
   "source": [
    "hidden_size = [700, 1000]\n",
    "f_active = [F.sigmoid, F.relu]\n",
    "lr = [0.01, 0.001]\n",
    "num_epochs = [30, 40]\n",
    "target = [\"VAERDI\"]"
   ]
  },
  {
   "cell_type": "code",
   "execution_count": 42,
   "metadata": {},
   "outputs": [],
   "source": [
    "paras = []\n",
    "for hs in hidden_size:\n",
    "    for ac in f_active:\n",
    "        for l in lr:\n",
    "            for ep in num_epochs:\n",
    "                paras.append([hs, ac, l, ep])"
   ]
  },
  {
   "cell_type": "code",
   "execution_count": 43,
   "metadata": {},
   "outputs": [
    {
     "output_type": "execute_result",
     "data": {
      "text/plain": "16"
     },
     "metadata": {},
     "execution_count": 43
    }
   ],
   "source": [
    "len(paras)"
   ]
  },
  {
   "cell_type": "code",
   "execution_count": 44,
   "metadata": {},
   "outputs": [],
   "source": [
    "def Grid_Search(x_train_tensor, y_train_tensor, df_evl, paras, input_size, cols):\n",
    "    grid_results = pd.DataFrame(columns=[\"NRMSE_all\", \"NRMSE_var\", \"R2\"])\n",
    "    for i, para in enumerate(paras):\n",
    "        model = train_model(input_size = input_size,\n",
    "                                hidden_size = para[0],\n",
    "                                f_active = para[1],\n",
    "                                lr = para[2],\n",
    "                                num_epochs = para[3],\n",
    "                                X_train = x_train_tensor, \n",
    "                                y_train = y_train_tensor)\n",
    "        model_errs = get_days_error(df_evl, model, cols)\n",
    "\n",
    "        model_NRMSE_all  = NRMSE_all(model_errs)\n",
    "        r2 = round(r2_score(model_errs[\"VAERDI\"], model_errs[\"pred\"]), 2)\n",
    "\n",
    "        grid_results = grid_results.append({\"NRMSE_all\":model_NRMSE_all, \"NRMSE_var\": model_errs[\"NRMSE\"].std(), \"R2\":r2}, ignore_index=True)\n",
    "        print(i, \" Done\")\n",
    "    return grid_results"
   ]
  },
  {
   "cell_type": "markdown",
   "metadata": {},
   "source": [
    "## Original Features"
   ]
  },
  {
   "cell_type": "code",
   "execution_count": 45,
   "metadata": {},
   "outputs": [],
   "source": [
    "x_train, y_train = df_train[org_cols].values, df_train[target].values\n",
    "x_train_tensor = torch.tensor(x_train, dtype = torch.float)\n",
    "y_train_tensor = torch.tensor(y_train, dtype = torch.float)"
   ]
  },
  {
   "cell_type": "code",
   "execution_count": 46,
   "metadata": {
    "tags": []
   },
   "outputs": [
    {
     "output_type": "stream",
     "name": "stdout",
     "text": "0  Done\n1  Done\n2  Done\n3  Done\n4  Done\n5  Done\n6  Done\n7  Done\n8  Done\n9  Done\n10  Done\n11  Done\n12  Done\n13  Done\n14  Done\n15  Done\n"
    }
   ],
   "source": [
    "original_grids = Grid_Search(x_train_tensor, y_train_tensor, df_evl, paras, 45, org_cols)"
   ]
  },
  {
   "cell_type": "code",
   "execution_count": 47,
   "metadata": {},
   "outputs": [
    {
     "output_type": "execute_result",
     "data": {
      "text/plain": "    NRMSE_all  NRMSE_var    R2\n0    2.494173   5.945952  0.16\n1   25.828534   9.009301 -0.92\n2   17.964613   2.983801 -0.39\n3    3.254622   5.034674  0.17\n4   48.018929   1.524675 -3.71\n5   26.468518   1.432544 -0.49\n6   16.636898   2.427307 -0.09\n7   21.732142   1.476118 -0.18\n8   55.899370   1.560212 -5.35\n9   60.026715   1.376971 -6.09\n10  11.347986   3.854739 -0.02\n11  11.141602   3.890641 -0.04\n12  60.539143   1.142079 -6.24\n13  14.467494   4.948982  0.46\n14  21.713306   2.014004 -0.34\n15  14.929036   2.074463  0.22",
      "text/html": "<div>\n<style scoped>\n    .dataframe tbody tr th:only-of-type {\n        vertical-align: middle;\n    }\n\n    .dataframe tbody tr th {\n        vertical-align: top;\n    }\n\n    .dataframe thead th {\n        text-align: right;\n    }\n</style>\n<table border=\"1\" class=\"dataframe\">\n  <thead>\n    <tr style=\"text-align: right;\">\n      <th></th>\n      <th>NRMSE_all</th>\n      <th>NRMSE_var</th>\n      <th>R2</th>\n    </tr>\n  </thead>\n  <tbody>\n    <tr>\n      <th>0</th>\n      <td>2.494173</td>\n      <td>5.945952</td>\n      <td>0.16</td>\n    </tr>\n    <tr>\n      <th>1</th>\n      <td>25.828534</td>\n      <td>9.009301</td>\n      <td>-0.92</td>\n    </tr>\n    <tr>\n      <th>2</th>\n      <td>17.964613</td>\n      <td>2.983801</td>\n      <td>-0.39</td>\n    </tr>\n    <tr>\n      <th>3</th>\n      <td>3.254622</td>\n      <td>5.034674</td>\n      <td>0.17</td>\n    </tr>\n    <tr>\n      <th>4</th>\n      <td>48.018929</td>\n      <td>1.524675</td>\n      <td>-3.71</td>\n    </tr>\n    <tr>\n      <th>5</th>\n      <td>26.468518</td>\n      <td>1.432544</td>\n      <td>-0.49</td>\n    </tr>\n    <tr>\n      <th>6</th>\n      <td>16.636898</td>\n      <td>2.427307</td>\n      <td>-0.09</td>\n    </tr>\n    <tr>\n      <th>7</th>\n      <td>21.732142</td>\n      <td>1.476118</td>\n      <td>-0.18</td>\n    </tr>\n    <tr>\n      <th>8</th>\n      <td>55.899370</td>\n      <td>1.560212</td>\n      <td>-5.35</td>\n    </tr>\n    <tr>\n      <th>9</th>\n      <td>60.026715</td>\n      <td>1.376971</td>\n      <td>-6.09</td>\n    </tr>\n    <tr>\n      <th>10</th>\n      <td>11.347986</td>\n      <td>3.854739</td>\n      <td>-0.02</td>\n    </tr>\n    <tr>\n      <th>11</th>\n      <td>11.141602</td>\n      <td>3.890641</td>\n      <td>-0.04</td>\n    </tr>\n    <tr>\n      <th>12</th>\n      <td>60.539143</td>\n      <td>1.142079</td>\n      <td>-6.24</td>\n    </tr>\n    <tr>\n      <th>13</th>\n      <td>14.467494</td>\n      <td>4.948982</td>\n      <td>0.46</td>\n    </tr>\n    <tr>\n      <th>14</th>\n      <td>21.713306</td>\n      <td>2.014004</td>\n      <td>-0.34</td>\n    </tr>\n    <tr>\n      <th>15</th>\n      <td>14.929036</td>\n      <td>2.074463</td>\n      <td>0.22</td>\n    </tr>\n  </tbody>\n</table>\n</div>"
     },
     "metadata": {},
     "execution_count": 47
    }
   ],
   "source": [
    "original_grids.to_csv(model_path+\"original_grids.csv\")\n",
    "original_grids"
   ]
  },
  {
   "cell_type": "code",
   "execution_count": 49,
   "metadata": {},
   "outputs": [
    {
     "output_type": "execute_result",
     "data": {
      "text/plain": "[1000, <function torch.nn.functional.relu(input, inplace=False)>, 0.01, 40]"
     },
     "metadata": {},
     "execution_count": 49
    }
   ],
   "source": [
    "paras[13]"
   ]
  },
  {
   "cell_type": "markdown",
   "metadata": {},
   "source": [
    "## Geo_power Features"
   ]
  },
  {
   "cell_type": "code",
   "execution_count": 14,
   "metadata": {},
   "outputs": [],
   "source": [
    "x_train, y_train = df_train[geo_pow_cols].values, df_train[target].values\n",
    "x_train_tensor = torch.tensor(x_train, dtype = torch.float)\n",
    "y_train_tensor = torch.tensor(y_train, dtype = torch.float)"
   ]
  },
  {
   "cell_type": "code",
   "execution_count": 15,
   "metadata": {
    "tags": []
   },
   "outputs": [
    {
     "output_type": "stream",
     "name": "stdout",
     "text": "0  Done\n1  Done\n2  Done\n3  Done\n4  Done\n5  Done\n6  Done\n7  Done\n8  Done\n9  Done\n10  Done\n11  Done\n12  Done\n13  Done\n14  Done\n15  Done\n"
    }
   ],
   "source": [
    "geo_power_grids = Grid_Search(x_train_tensor, y_train_tensor, df_evl, paras, 46, geo_pow_cols)"
   ]
  },
  {
   "cell_type": "code",
   "execution_count": 26,
   "metadata": {},
   "outputs": [
    {
     "output_type": "execute_result",
     "data": {
      "text/plain": "      NRMSE_all   NRMSE_var          R2\n0   1437.392331  162.287504  -886220.04\n1   1089.466996  106.423302  -510726.36\n2      9.972991    0.979482      -57.54\n3     25.823956    2.865919     -285.74\n4    532.377211   53.331457  -122900.16\n5    495.702650   80.688738  -107756.56\n6    131.678412   13.410671    -7669.12\n7      9.292895    4.770703     -125.75\n8   1677.475506  162.127441 -1211613.66\n9    249.722919   12.758064   -28027.33\n10   102.020628   10.169111    -4481.49\n11    28.756629    4.661521     -361.45\n12  1095.772383   84.621428  -530873.36\n13   738.706851   35.578291  -257073.49\n14    52.203378    5.469413    -1282.02\n15   142.031865    6.593746    -9058.27",
      "text/html": "<div>\n<style scoped>\n    .dataframe tbody tr th:only-of-type {\n        vertical-align: middle;\n    }\n\n    .dataframe tbody tr th {\n        vertical-align: top;\n    }\n\n    .dataframe thead th {\n        text-align: right;\n    }\n</style>\n<table border=\"1\" class=\"dataframe\">\n  <thead>\n    <tr style=\"text-align: right;\">\n      <th></th>\n      <th>NRMSE_all</th>\n      <th>NRMSE_var</th>\n      <th>R2</th>\n    </tr>\n  </thead>\n  <tbody>\n    <tr>\n      <th>0</th>\n      <td>1437.392331</td>\n      <td>162.287504</td>\n      <td>-886220.04</td>\n    </tr>\n    <tr>\n      <th>1</th>\n      <td>1089.466996</td>\n      <td>106.423302</td>\n      <td>-510726.36</td>\n    </tr>\n    <tr>\n      <th>2</th>\n      <td>9.972991</td>\n      <td>0.979482</td>\n      <td>-57.54</td>\n    </tr>\n    <tr>\n      <th>3</th>\n      <td>25.823956</td>\n      <td>2.865919</td>\n      <td>-285.74</td>\n    </tr>\n    <tr>\n      <th>4</th>\n      <td>532.377211</td>\n      <td>53.331457</td>\n      <td>-122900.16</td>\n    </tr>\n    <tr>\n      <th>5</th>\n      <td>495.702650</td>\n      <td>80.688738</td>\n      <td>-107756.56</td>\n    </tr>\n    <tr>\n      <th>6</th>\n      <td>131.678412</td>\n      <td>13.410671</td>\n      <td>-7669.12</td>\n    </tr>\n    <tr>\n      <th>7</th>\n      <td>9.292895</td>\n      <td>4.770703</td>\n      <td>-125.75</td>\n    </tr>\n    <tr>\n      <th>8</th>\n      <td>1677.475506</td>\n      <td>162.127441</td>\n      <td>-1211613.66</td>\n    </tr>\n    <tr>\n      <th>9</th>\n      <td>249.722919</td>\n      <td>12.758064</td>\n      <td>-28027.33</td>\n    </tr>\n    <tr>\n      <th>10</th>\n      <td>102.020628</td>\n      <td>10.169111</td>\n      <td>-4481.49</td>\n    </tr>\n    <tr>\n      <th>11</th>\n      <td>28.756629</td>\n      <td>4.661521</td>\n      <td>-361.45</td>\n    </tr>\n    <tr>\n      <th>12</th>\n      <td>1095.772383</td>\n      <td>84.621428</td>\n      <td>-530873.36</td>\n    </tr>\n    <tr>\n      <th>13</th>\n      <td>738.706851</td>\n      <td>35.578291</td>\n      <td>-257073.49</td>\n    </tr>\n    <tr>\n      <th>14</th>\n      <td>52.203378</td>\n      <td>5.469413</td>\n      <td>-1282.02</td>\n    </tr>\n    <tr>\n      <th>15</th>\n      <td>142.031865</td>\n      <td>6.593746</td>\n      <td>-9058.27</td>\n    </tr>\n  </tbody>\n</table>\n</div>"
     },
     "metadata": {},
     "execution_count": 26
    }
   ],
   "source": [
    "geo_power_grids.to_csv(model_path+\"geo_power_grids.csv\")\n",
    "geo_power_grids"
   ]
  },
  {
   "cell_type": "code",
   "execution_count": 23,
   "metadata": {},
   "outputs": [
    {
     "output_type": "execute_result",
     "data": {
      "text/plain": "[700, <function torch.nn.functional.relu(input, inplace=False)>, 0.001, 20]"
     },
     "metadata": {},
     "execution_count": 23
    }
   ],
   "source": [
    "paras[6]"
   ]
  },
  {
   "cell_type": "markdown",
   "metadata": {},
   "source": [
    "# Geo_Log Features"
   ]
  },
  {
   "cell_type": "code",
   "execution_count": null,
   "metadata": {},
   "outputs": [],
   "source": [
    "x_train, y_train = df_train[geo_log_cols].values, df_train[target].values\n",
    "x_train_tensor = torch.tensor(x_train, dtype = torch.float)\n",
    "y_train_tensor = torch.tensor(y_train, dtype = torch.float)"
   ]
  },
  {
   "cell_type": "code",
   "execution_count": null,
   "metadata": {},
   "outputs": [],
   "source": [
    "geo_log_grids = Grid_Search(x_train_tensor, y_train_tensor, df_evl, paras, 46, geo_log_cols)"
   ]
  },
  {
   "cell_type": "code",
   "execution_count": null,
   "metadata": {},
   "outputs": [],
   "source": [
    "geo_log_grids.to_csv(model_path+\"geo_log_grids.csv\")\n",
    "geo_log_grids"
   ]
  },
  {
   "cell_type": "markdown",
   "metadata": {},
   "source": [
    "# WindShear"
   ]
  },
  {
   "cell_type": "code",
   "execution_count": 17,
   "metadata": {},
   "outputs": [
    {
     "output_type": "error",
     "ename": "NameError",
     "evalue": "name 'df_train_B' is not defined",
     "traceback": [
      "\u001b[0;31m---------------------------------------------------------------------------\u001b[0m",
      "\u001b[0;31mNameError\u001b[0m                                 Traceback (most recent call last)",
      "\u001b[0;32m<ipython-input-17-1327b249d0f9>\u001b[0m in \u001b[0;36m<module>\u001b[0;34m\u001b[0m\n\u001b[0;32m----> 1\u001b[0;31m \u001b[0mx_train\u001b[0m\u001b[0;34m,\u001b[0m \u001b[0my_train\u001b[0m \u001b[0;34m=\u001b[0m \u001b[0mdf_train_B\u001b[0m\u001b[0;34m[\u001b[0m\u001b[0mwsr_cols\u001b[0m\u001b[0;34m]\u001b[0m\u001b[0;34m.\u001b[0m\u001b[0mvalues\u001b[0m\u001b[0;34m,\u001b[0m \u001b[0mdf_train\u001b[0m\u001b[0;34m[\u001b[0m\u001b[0mtarget\u001b[0m\u001b[0;34m]\u001b[0m\u001b[0;34m.\u001b[0m\u001b[0mvalues\u001b[0m\u001b[0;34m\u001b[0m\u001b[0;34m\u001b[0m\u001b[0m\n\u001b[0m\u001b[1;32m      2\u001b[0m \u001b[0mx_train_tensor\u001b[0m \u001b[0;34m=\u001b[0m \u001b[0mtorch\u001b[0m\u001b[0;34m.\u001b[0m\u001b[0mtensor\u001b[0m\u001b[0;34m(\u001b[0m\u001b[0mx_train\u001b[0m\u001b[0;34m,\u001b[0m \u001b[0mdtype\u001b[0m \u001b[0;34m=\u001b[0m \u001b[0mtorch\u001b[0m\u001b[0;34m.\u001b[0m\u001b[0mfloat\u001b[0m\u001b[0;34m)\u001b[0m\u001b[0;34m\u001b[0m\u001b[0;34m\u001b[0m\u001b[0m\n\u001b[1;32m      3\u001b[0m \u001b[0my_train_tensor\u001b[0m \u001b[0;34m=\u001b[0m \u001b[0mtorch\u001b[0m\u001b[0;34m.\u001b[0m\u001b[0mtensor\u001b[0m\u001b[0;34m(\u001b[0m\u001b[0my_train\u001b[0m\u001b[0;34m,\u001b[0m \u001b[0mdtype\u001b[0m \u001b[0;34m=\u001b[0m \u001b[0mtorch\u001b[0m\u001b[0;34m.\u001b[0m\u001b[0mfloat\u001b[0m\u001b[0;34m)\u001b[0m\u001b[0;34m\u001b[0m\u001b[0;34m\u001b[0m\u001b[0m\n",
      "\u001b[0;31mNameError\u001b[0m: name 'df_train_B' is not defined"
     ]
    }
   ],
   "source": [
    "x_train, y_train = df_train[wsr_cols].values, df_train[target].values\n",
    "x_train_tensor = torch.tensor(x_train, dtype = torch.float)\n",
    "y_train_tensor = torch.tensor(y_train, dtype = torch.float)"
   ]
  },
  {
   "cell_type": "code",
   "execution_count": null,
   "metadata": {
    "tags": []
   },
   "outputs": [],
   "source": [
    "wsr_grids = Grid_Search(x_train_tensor, y_train_tensor,df_evl, paras, 44, wsr_cols)"
   ]
  },
  {
   "cell_type": "code",
   "execution_count": null,
   "metadata": {},
   "outputs": [],
   "source": [
    "wsr_grids.to_csv(model_path+\"wsr_grids.csv\")\n",
    "wsr_grids"
   ]
  },
  {
   "cell_type": "code",
   "execution_count": 42,
   "metadata": {},
   "outputs": [
    {
     "output_type": "execute_result",
     "data": {
      "text/plain": "[700, <function torch.nn.functional.relu(input, inplace=False)>, 0.001, 20]"
     },
     "metadata": {},
     "execution_count": 42
    }
   ],
   "source": [
    "paras[6]"
   ]
  },
  {
   "cell_type": "markdown",
   "metadata": {},
   "source": [
    "# Semigeo"
   ]
  },
  {
   "cell_type": "code",
   "execution_count": null,
   "metadata": {},
   "outputs": [],
   "source": [
    "x_train, y_train = df_train[semigeo_cols].values, df_train[target].values\n",
    "x_train_tensor = torch.tensor(x_train, dtype = torch.float)\n",
    "y_train_tensor = torch.tensor(y_train, dtype = torch.float)"
   ]
  },
  {
   "cell_type": "code",
   "execution_count": null,
   "metadata": {
    "tags": []
   },
   "outputs": [],
   "source": [
    "semigeo_grids = Grid_Search(x_train_tensor, y_train_tensor,df_evl, paras, 47, semigeo_cols)"
   ]
  },
  {
   "cell_type": "code",
   "execution_count": null,
   "metadata": {},
   "outputs": [],
   "source": [
    "semigeo_grids.to_csv(model_path+\"semigeo_grids.csv\")"
   ]
  },
  {
   "cell_type": "code",
   "execution_count": null,
   "metadata": {},
   "outputs": [],
   "source": [
    "semigeo_grids"
   ]
  },
  {
   "cell_type": "code",
   "execution_count": 43,
   "metadata": {},
   "outputs": [
    {
     "output_type": "execute_result",
     "data": {
      "text/plain": "[700, <function torch.nn.functional.sigmoid(input)>, 0.001, 30]"
     },
     "metadata": {},
     "execution_count": 43
    }
   ],
   "source": [
    "paras[3]"
   ]
  },
  {
   "cell_type": "code",
   "execution_count": null,
   "metadata": {},
   "outputs": [],
   "source": []
  }
 ],
 "metadata": {
  "language_info": {
   "name": "python",
   "codemirror_mode": {
    "name": "ipython",
    "version": 3
   },
   "version": "3.7.7-final"
  },
  "orig_nbformat": 2,
  "file_extension": ".py",
  "mimetype": "text/x-python",
  "name": "python",
  "npconvert_exporter": "python",
  "pygments_lexer": "ipython3",
  "version": 3,
  "kernelspec": {
   "name": "python37264bit3a462acd451f4b989328b3d637ce9031",
   "display_name": "Python 3.7.2 64-bit"
  }
 },
 "nbformat": 4,
 "nbformat_minor": 2
}
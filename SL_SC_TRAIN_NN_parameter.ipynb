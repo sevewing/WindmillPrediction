{
 "cells": [
  {
   "cell_type": "code",
   "execution_count": 23,
   "metadata": {},
   "outputs": [],
   "source": [
    "import time\n",
    "import pandas as pd\n",
    "import warnings\n",
    "warnings.filterwarnings(\"ignore\")\n",
    "\n",
    "import torch\n",
    "import torch.nn as nn\n",
    "import torch.nn.functional as F\n",
    "import torch.optim as optim\n",
    "from sklearn.metrics import r2_score\n",
    "\n",
    "import constant\n",
    "from constant import org_cols, wsr_cols, geo_pow_cols, geo_log_cols, semigeo_cols\n",
    "import tools\n",
    "import myplot\n",
    "import features\n",
    "from models import MLP_Regression, train_model, train_test_validation, model_evaluation, model_improvement, get_days_error, NRMSE_all\n",
    "path = \"SL_SC_1/\"\n",
    "model_path = constant.model_path + path\n",
    "plot_path = constant.plot_path + path"
   ]
  },
  {
   "cell_type": "markdown",
   "metadata": {},
   "source": [
    "# Load Files"
   ]
  },
  {
   "cell_type": "code",
   "execution_count": 2,
   "metadata": {},
   "outputs": [],
   "source": [
    "settlement = pd.read_parquet(constant.settlement_train_path)\n",
    "dtype = {\"GSRN\":str,\"Parent_GSRN\":str,\"Turbine_type\":str,\"BBR_municipal\":str,\"Placement\":str,\"grid\":str}\n",
    "windmill = pd.read_csv(constant.windmill_SL_SC_path, dtype=dtype).sample(frac=0.05, random_state=1)\n",
    "\n",
    "wu10 = pd.read_parquet(constant.wu10_path)\n",
    "wv10 = pd.read_parquet(constant.wv10_path)\n",
    "wu100 = pd.read_parquet(constant.wu100_path)\n",
    "wv100 = pd.read_parquet(constant.wv100_path)\n",
    "\n",
    "tmp2 = pd.read_parquet(constant.tmp2_path)\n",
    "tmp100 = pd.read_parquet(constant.tmp100_path)"
   ]
  },
  {
   "cell_type": "code",
   "execution_count": 3,
   "metadata": {},
   "outputs": [
    {
     "output_type": "execute_result",
     "data": {
      "text/plain": "48"
     },
     "metadata": {},
     "execution_count": 3
    }
   ],
   "source": [
    "len(windmill)"
   ]
  },
  {
   "cell_type": "code",
   "execution_count": 4,
   "metadata": {},
   "outputs": [],
   "source": [
    "df = pd.merge(windmill, settlement, on=\"GSRN\")"
   ]
  },
  {
   "cell_type": "markdown",
   "metadata": {},
   "source": [
    "# Feature Extraction"
   ]
  },
  {
   "cell_type": "code",
   "execution_count": 5,
   "metadata": {},
   "outputs": [],
   "source": [
    "features.fun_register(wu10, wv10, wu100, wv100, tmp2, tmp100)"
   ]
  },
  {
   "cell_type": "code",
   "execution_count": 6,
   "metadata": {
    "tags": []
   },
   "outputs": [
    {
     "output_type": "stream",
     "name": "stdout",
     "text": "parallelize_extract time:  2849.281149864197\n"
    }
   ],
   "source": [
    "df = features.parallelize_extract(df)"
   ]
  },
  {
   "cell_type": "code",
   "execution_count": 2,
   "metadata": {},
   "outputs": [
    {
     "output_type": "error",
     "ename": "NameError",
     "evalue": "name 'df' is not defined",
     "traceback": [
      "\u001b[0;31m---------------------------------------------------------------------------\u001b[0m",
      "\u001b[0;31mNameError\u001b[0m                                 Traceback (most recent call last)",
      "\u001b[0;32m<ipython-input-2-f6d6f445e19a>\u001b[0m in \u001b[0;36m<module>\u001b[0;34m\u001b[0m\n\u001b[0;32m----> 1\u001b[0;31m \u001b[0mdf\u001b[0m\u001b[0;34m.\u001b[0m\u001b[0mto_parquet\u001b[0m\u001b[0;34m(\u001b[0m\u001b[0;34m\"./traintestdata/SL_SC.parquet\"\u001b[0m\u001b[0;34m,\u001b[0m \u001b[0mindex\u001b[0m\u001b[0;34m=\u001b[0m\u001b[0;32mFalse\u001b[0m\u001b[0;34m)\u001b[0m\u001b[0;34m\u001b[0m\u001b[0;34m\u001b[0m\u001b[0m\n\u001b[0m",
      "\u001b[0;31mNameError\u001b[0m: name 'df' is not defined"
     ]
    }
   ],
   "source": [
    "df.to_parquet(\"./traintestdata/SL_SC.parquet\", index=False)"
   ]
  },
  {
   "cell_type": "code",
   "execution_count": 24,
   "metadata": {},
   "outputs": [],
   "source": [
    "df = pd.read_parquet(\"./traintestdata/SL_SC.parquet\")"
   ]
  },
  {
   "cell_type": "code",
   "execution_count": 25,
   "metadata": {},
   "outputs": [],
   "source": [
    "cols_filter = [\"grid\", \"month\", \"hour\", \"GSRN\", \"Turbine_type\", \"Placement\", \"Parent_GSRN\", \"BBR_municipal\", \"TIME_CET\", \"predicted_ahead\", 'UTM_x', 'UTM_y', 'VAERDI', 'max_VAERDI', 'In_service']"
   ]
  },
  {
   "cell_type": "code",
   "execution_count": 26,
   "metadata": {},
   "outputs": [],
   "source": [
    "df['VAERDI'] = df['VAERDI'] / df['max_VAERDI'] \n",
    "df[\"TIME_CET\"] = pd.to_datetime(df[\"TIME_CET\"])"
   ]
  },
  {
   "cell_type": "code",
   "execution_count": 27,
   "metadata": {},
   "outputs": [],
   "source": [
    "cols = [x for x in df.columns if x not in cols_filter]\n",
    "df[cols] = tools.normalize_zcenter(df[cols])\n",
    "date_s = pd.to_datetime(\"2019-03-01\")\n",
    "df_train = df[df[\"TIME_CET\"] < date_s].sort_values([\"TIME_CET\", \"GSRN\"]).reset_index(drop=True)\n",
    "df_evl = df[df[\"TIME_CET\"] >= date_s].sort_values([\"TIME_CET\", \"GSRN\"]).reset_index(drop=True)"
   ]
  },
  {
   "cell_type": "code",
   "execution_count": 28,
   "metadata": {},
   "outputs": [],
   "source": [
    "df_train.to_parquet(constant.SL_SC_TRAIN_path, index=False)\n",
    "df_evl.to_parquet(constant.SL_SC_EVL_path, index=False)"
   ]
  },
  {
   "cell_type": "code",
   "execution_count": 7,
   "metadata": {},
   "outputs": [],
   "source": [
    "df = None"
   ]
  },
  {
   "cell_type": "markdown",
   "metadata": {},
   "source": [
    "# Neural Network Train"
   ]
  },
  {
   "cell_type": "code",
   "execution_count": 29,
   "metadata": {},
   "outputs": [
    {
     "output_type": "execute_result",
     "data": {
      "text/plain": "445587"
     },
     "metadata": {},
     "execution_count": 29
    }
   ],
   "source": [
    "df_train = pd.read_parquet(constant.SL_SC_TRAIN_path)\n",
    "len(df_train)"
   ]
  },
  {
   "cell_type": "code",
   "execution_count": 30,
   "metadata": {},
   "outputs": [
    {
     "output_type": "execute_result",
     "data": {
      "text/plain": "37944"
     },
     "metadata": {},
     "execution_count": 30
    }
   ],
   "source": [
    "df_evl = pd.read_parquet(constant.SL_SC_EVL_path)\n",
    "df_evl[\"TIME_CET\"] = pd.to_datetime(df_evl[\"TIME_CET\"])\n",
    "len(df_evl)"
   ]
  },
  {
   "cell_type": "markdown",
   "metadata": {},
   "source": [
    "## Grid_Search"
   ]
  },
  {
   "cell_type": "code",
   "execution_count": 74,
   "metadata": {},
   "outputs": [],
   "source": [
    "hidden_size = [500, 600]\n",
    "f_active = [F.tanh, F.leaky_relu, F.relu]\n",
    "lr = [0.01, 0.001]\n",
    "num_epochs = [30, 40]\n",
    "target = [\"VAERDI\"]"
   ]
  },
  {
   "cell_type": "code",
   "execution_count": 75,
   "metadata": {},
   "outputs": [
    {
     "output_type": "execute_result",
     "data": {
      "text/plain": "24"
     },
     "metadata": {},
     "execution_count": 75
    }
   ],
   "source": [
    "paras = []\n",
    "for hs in hidden_size:\n",
    "    for ac in f_active:\n",
    "        for l in lr:\n",
    "            for ep in num_epochs:\n",
    "                paras.append([hs, ac, l, ep])\n",
    "len(paras)"
   ]
  },
  {
   "cell_type": "code",
   "execution_count": 76,
   "metadata": {},
   "outputs": [],
   "source": [
    "pd.DataFrame(paras).to_csv(\"paras.csv\")"
   ]
  },
  {
   "cell_type": "code",
   "execution_count": 77,
   "metadata": {},
   "outputs": [],
   "source": [
    "def Grid_Search(x_train_tensor, y_train_tensor, df_evl, df_train, paras, input_size, cols):\n",
    "    grid_results = pd.DataFrame(columns=[\"NRMSE_train_all\",\"NRMSE_evl_all\", \"NRMSE_train_var\", \"NRMSE_evl_var\", \"R2_train\", \"R2_evl\", \"time\"])\n",
    "    for i, para in enumerate(paras):\n",
    "        start = time.time()\n",
    "        model, _, _ = train_model(input_size = input_size,\n",
    "                                hidden_size = para[0],\n",
    "                                f_active = para[1],\n",
    "                                lr = para[2],\n",
    "                                num_epochs = para[3],\n",
    "                                X_train = x_train_tensor, \n",
    "                                y_train = y_train_tensor,\n",
    "                                loss_record=False)\n",
    "        end = time.time()\n",
    "\n",
    "        model_train_errs = model_evaluation(df_train, cols, model, days=True)\n",
    "        model_evl_errs = model_evaluation(df_evl, cols, model, days=True)\n",
    "        \n",
    "        r2_train = round(r2_score(model_train_errs[\"VAERDI\"], model_train_errs[\"pred\"]), 2)\n",
    "        r2_evl = round(r2_score(model_evl_errs[\"VAERDI\"], model_evl_errs[\"pred\"]), 2)\n",
    "\n",
    "        grid_results = grid_results.append({\"NRMSE_train_all\": NRMSE_all(model_train_errs),\n",
    "                                            \"NRMSE_evl_all\": NRMSE_all(model_evl_errs),\n",
    "                                            \"NRMSE_train_var\": model_train_errs[\"NRMSE\"].std(), \n",
    "                                            \"NRMSE_evl_var\": model_evl_errs[\"NRMSE\"].std(), \n",
    "                                            \"R2_train\": r2_train, \n",
    "                                            \"R2_evl\": r2_evl,\n",
    "                                            \"time\": end - start}, \n",
    "                                            ignore_index=True)\n",
    "        print(i, \" Done\")\n",
    "    return grid_results"
   ]
  },
  {
   "cell_type": "code",
   "execution_count": 78,
   "metadata": {},
   "outputs": [],
   "source": [
    "filtet_sort = lambda x: x[x[\"NRMSE_train_all\"]>x[\"NRMSE_evl_all\"]].sort_values(\"NRMSE_evl_all\")"
   ]
  },
  {
   "cell_type": "markdown",
   "metadata": {},
   "source": [
    "## Original Features"
   ]
  },
  {
   "cell_type": "code",
   "execution_count": 79,
   "metadata": {},
   "outputs": [],
   "source": [
    "x_train, y_train = df_train[org_cols].values, df_train[target].values\n",
    "x_train_tensor = torch.tensor(x_train, dtype = torch.float)\n",
    "y_train_tensor = torch.tensor(y_train, dtype = torch.float)"
   ]
  },
  {
   "cell_type": "code",
   "execution_count": 80,
   "metadata": {
    "tags": []
   },
   "outputs": [
    {
     "output_type": "stream",
     "name": "stdout",
     "text": "0  Done\n1  Done\n2  Done\n3  Done\n4  Done\n5  Done\n6  Done\n7  Done\n8  Done\n9  Done\n10  Done\n11  Done\n12  Done\n13  Done\n14  Done\n15  Done\n16  Done\n17  Done\n18  Done\n19  Done\n20  Done\n21  Done\n22  Done\n23  Done\n"
    }
   ],
   "source": [
    "original_grids = Grid_Search(x_train_tensor, y_train_tensor, df_evl, df_train, paras, 45, org_cols)"
   ]
  },
  {
   "cell_type": "code",
   "execution_count": 81,
   "metadata": {},
   "outputs": [],
   "source": [
    "original_grids.to_csv(model_path + \"original_grids.csv\", index=False)"
   ]
  },
  {
   "cell_type": "code",
   "execution_count": 82,
   "metadata": {},
   "outputs": [
    {
     "output_type": "execute_result",
     "data": {
      "text/plain": "    NRMSE_train_all  NRMSE_evl_all  NRMSE_train_var  NRMSE_evl_var  R2_train  \\\n21        49.242375       1.125177         0.306169       2.032903      0.62   \n2         13.666005       2.453326         0.831862       3.892718      0.18   \n16        63.743537       4.263394         0.765645       4.098302      0.35   \n14         9.564849       4.284871         0.790655       2.945447      0.22   \n0         10.586077       8.651131         0.691107       2.295389      0.14   \n9         25.553820      10.021348         0.524216       1.853533      0.73   \n22        12.953725      12.909210         0.439055       1.776191      0.55   \n8         65.776124      32.443847         0.680680       0.746543      0.14   \n20        79.062527      36.010206         0.810084       0.897613     -0.13   \n\n    R2_evl        time  \n21    0.87  140.497334  \n2     0.21  123.939918  \n16    0.46  176.452258  \n14    0.17  152.438668  \n0     0.08  158.087064  \n9     0.51  145.477594  \n22    0.12  105.448136  \n8    -1.21  115.938078  \n20   -1.75  105.568600  ",
      "text/html": "<div>\n<style scoped>\n    .dataframe tbody tr th:only-of-type {\n        vertical-align: middle;\n    }\n\n    .dataframe tbody tr th {\n        vertical-align: top;\n    }\n\n    .dataframe thead th {\n        text-align: right;\n    }\n</style>\n<table border=\"1\" class=\"dataframe\">\n  <thead>\n    <tr style=\"text-align: right;\">\n      <th></th>\n      <th>NRMSE_train_all</th>\n      <th>NRMSE_evl_all</th>\n      <th>NRMSE_train_var</th>\n      <th>NRMSE_evl_var</th>\n      <th>R2_train</th>\n      <th>R2_evl</th>\n      <th>time</th>\n    </tr>\n  </thead>\n  <tbody>\n    <tr>\n      <th>21</th>\n      <td>49.242375</td>\n      <td>1.125177</td>\n      <td>0.306169</td>\n      <td>2.032903</td>\n      <td>0.62</td>\n      <td>0.87</td>\n      <td>140.497334</td>\n    </tr>\n    <tr>\n      <th>2</th>\n      <td>13.666005</td>\n      <td>2.453326</td>\n      <td>0.831862</td>\n      <td>3.892718</td>\n      <td>0.18</td>\n      <td>0.21</td>\n      <td>123.939918</td>\n    </tr>\n    <tr>\n      <th>16</th>\n      <td>63.743537</td>\n      <td>4.263394</td>\n      <td>0.765645</td>\n      <td>4.098302</td>\n      <td>0.35</td>\n      <td>0.46</td>\n      <td>176.452258</td>\n    </tr>\n    <tr>\n      <th>14</th>\n      <td>9.564849</td>\n      <td>4.284871</td>\n      <td>0.790655</td>\n      <td>2.945447</td>\n      <td>0.22</td>\n      <td>0.17</td>\n      <td>152.438668</td>\n    </tr>\n    <tr>\n      <th>0</th>\n      <td>10.586077</td>\n      <td>8.651131</td>\n      <td>0.691107</td>\n      <td>2.295389</td>\n      <td>0.14</td>\n      <td>0.08</td>\n      <td>158.087064</td>\n    </tr>\n    <tr>\n      <th>9</th>\n      <td>25.553820</td>\n      <td>10.021348</td>\n      <td>0.524216</td>\n      <td>1.853533</td>\n      <td>0.73</td>\n      <td>0.51</td>\n      <td>145.477594</td>\n    </tr>\n    <tr>\n      <th>22</th>\n      <td>12.953725</td>\n      <td>12.909210</td>\n      <td>0.439055</td>\n      <td>1.776191</td>\n      <td>0.55</td>\n      <td>0.12</td>\n      <td>105.448136</td>\n    </tr>\n    <tr>\n      <th>8</th>\n      <td>65.776124</td>\n      <td>32.443847</td>\n      <td>0.680680</td>\n      <td>0.746543</td>\n      <td>0.14</td>\n      <td>-1.21</td>\n      <td>115.938078</td>\n    </tr>\n    <tr>\n      <th>20</th>\n      <td>79.062527</td>\n      <td>36.010206</td>\n      <td>0.810084</td>\n      <td>0.897613</td>\n      <td>-0.13</td>\n      <td>-1.75</td>\n      <td>105.568600</td>\n    </tr>\n  </tbody>\n</table>\n</div>"
     },
     "metadata": {},
     "execution_count": 82
    }
   ],
   "source": [
    "filtet_sort(original_grids)"
   ]
  },
  {
   "cell_type": "code",
   "execution_count": 98,
   "metadata": {},
   "outputs": [
    {
     "output_type": "execute_result",
     "data": {
      "text/plain": "[600, <function torch.nn.functional.relu(input, inplace=False)>, 0.01, 40]"
     },
     "metadata": {},
     "execution_count": 98
    }
   ],
   "source": [
    "paras[21]"
   ]
  },
  {
   "cell_type": "markdown",
   "metadata": {},
   "source": [
    "# WindShear"
   ]
  },
  {
   "cell_type": "code",
   "execution_count": 87,
   "metadata": {},
   "outputs": [],
   "source": [
    "x_train, y_train = df_train[wsr_cols].values, df_train[target].values\n",
    "x_train_tensor = torch.tensor(x_train, dtype = torch.float)\n",
    "y_train_tensor = torch.tensor(y_train, dtype = torch.float)"
   ]
  },
  {
   "cell_type": "code",
   "execution_count": 88,
   "metadata": {
    "tags": []
   },
   "outputs": [
    {
     "output_type": "stream",
     "name": "stdout",
     "text": "0  Done\n1  Done\n2  Done\n3  Done\n4  Done\n5  Done\n6  Done\n7  Done\n8  Done\n9  Done\n10  Done\n11  Done\n12  Done\n13  Done\n14  Done\n15  Done\n16  Done\n17  Done\n18  Done\n19  Done\n20  Done\n21  Done\n22  Done\n23  Done\n"
    }
   ],
   "source": [
    "wsr_grids = Grid_Search(x_train_tensor, y_train_tensor, df_evl, df_train, paras, 44, wsr_cols)"
   ]
  },
  {
   "cell_type": "code",
   "execution_count": 89,
   "metadata": {},
   "outputs": [],
   "source": [
    "wsr_grids.to_csv(model_path+\"wsr_grids.csv\")"
   ]
  },
  {
   "cell_type": "code",
   "execution_count": 90,
   "metadata": {},
   "outputs": [
    {
     "output_type": "execute_result",
     "data": {
      "text/plain": "    NRMSE_train_all  NRMSE_evl_all  NRMSE_train_var  NRMSE_evl_var  R2_train  \\\n3          9.996591       0.368964         0.144374       0.191645      0.95   \n12         1.766767       1.123484         0.223079       0.490220      0.85   \n5          4.539607       3.015303         0.140445       0.515707      0.95   \n9          3.792496       3.144450         0.155199       0.198039      0.93   \n17         8.730232       3.291914         0.091491       0.257086      0.92   \n23        22.174051       5.024781         0.179704       0.205849      0.89   \n2         13.253502       7.347080         0.241306       0.387660      0.93   \n18        37.178641       9.048733         0.384206       0.243918      0.81   \n19        15.781747       9.529234         0.171534       0.376285      0.92   \n22        14.552281      13.203876         0.232679       0.486690      0.91   \n21        34.224406      13.585207         0.312944       1.675674      0.83   \n14        15.847044      14.833013         0.484523       0.429192      0.92   \n16        66.605049      21.376866         0.321701       2.446525      0.52   \n8         63.348634      22.687616         0.265776       1.353331      0.49   \n4         47.744623      23.477387         0.488053       0.864727      0.52   \n20        77.755545      36.687424         0.543447       1.527090      0.17   \n\n    R2_evl        time  \n3     0.96  181.085390  \n12    0.92  170.902654  \n5     0.93  194.019592  \n9     0.94  128.815995  \n17    0.92  203.543437  \n23    0.87  138.247076  \n2     0.87  135.492389  \n18    0.80  136.374773  \n19    0.74  162.425164  \n22    0.62  103.311739  \n21    0.65  139.115068  \n14    0.59  138.980653  \n16    0.18  134.742698  \n8     0.02   97.064295  \n4    -0.08  133.786225  \n20   -1.50  103.468647  ",
      "text/html": "<div>\n<style scoped>\n    .dataframe tbody tr th:only-of-type {\n        vertical-align: middle;\n    }\n\n    .dataframe tbody tr th {\n        vertical-align: top;\n    }\n\n    .dataframe thead th {\n        text-align: right;\n    }\n</style>\n<table border=\"1\" class=\"dataframe\">\n  <thead>\n    <tr style=\"text-align: right;\">\n      <th></th>\n      <th>NRMSE_train_all</th>\n      <th>NRMSE_evl_all</th>\n      <th>NRMSE_train_var</th>\n      <th>NRMSE_evl_var</th>\n      <th>R2_train</th>\n      <th>R2_evl</th>\n      <th>time</th>\n    </tr>\n  </thead>\n  <tbody>\n    <tr>\n      <th>3</th>\n      <td>9.996591</td>\n      <td>0.368964</td>\n      <td>0.144374</td>\n      <td>0.191645</td>\n      <td>0.95</td>\n      <td>0.96</td>\n      <td>181.085390</td>\n    </tr>\n    <tr>\n      <th>12</th>\n      <td>1.766767</td>\n      <td>1.123484</td>\n      <td>0.223079</td>\n      <td>0.490220</td>\n      <td>0.85</td>\n      <td>0.92</td>\n      <td>170.902654</td>\n    </tr>\n    <tr>\n      <th>5</th>\n      <td>4.539607</td>\n      <td>3.015303</td>\n      <td>0.140445</td>\n      <td>0.515707</td>\n      <td>0.95</td>\n      <td>0.93</td>\n      <td>194.019592</td>\n    </tr>\n    <tr>\n      <th>9</th>\n      <td>3.792496</td>\n      <td>3.144450</td>\n      <td>0.155199</td>\n      <td>0.198039</td>\n      <td>0.93</td>\n      <td>0.94</td>\n      <td>128.815995</td>\n    </tr>\n    <tr>\n      <th>17</th>\n      <td>8.730232</td>\n      <td>3.291914</td>\n      <td>0.091491</td>\n      <td>0.257086</td>\n      <td>0.92</td>\n      <td>0.92</td>\n      <td>203.543437</td>\n    </tr>\n    <tr>\n      <th>23</th>\n      <td>22.174051</td>\n      <td>5.024781</td>\n      <td>0.179704</td>\n      <td>0.205849</td>\n      <td>0.89</td>\n      <td>0.87</td>\n      <td>138.247076</td>\n    </tr>\n    <tr>\n      <th>2</th>\n      <td>13.253502</td>\n      <td>7.347080</td>\n      <td>0.241306</td>\n      <td>0.387660</td>\n      <td>0.93</td>\n      <td>0.87</td>\n      <td>135.492389</td>\n    </tr>\n    <tr>\n      <th>18</th>\n      <td>37.178641</td>\n      <td>9.048733</td>\n      <td>0.384206</td>\n      <td>0.243918</td>\n      <td>0.81</td>\n      <td>0.80</td>\n      <td>136.374773</td>\n    </tr>\n    <tr>\n      <th>19</th>\n      <td>15.781747</td>\n      <td>9.529234</td>\n      <td>0.171534</td>\n      <td>0.376285</td>\n      <td>0.92</td>\n      <td>0.74</td>\n      <td>162.425164</td>\n    </tr>\n    <tr>\n      <th>22</th>\n      <td>14.552281</td>\n      <td>13.203876</td>\n      <td>0.232679</td>\n      <td>0.486690</td>\n      <td>0.91</td>\n      <td>0.62</td>\n      <td>103.311739</td>\n    </tr>\n    <tr>\n      <th>21</th>\n      <td>34.224406</td>\n      <td>13.585207</td>\n      <td>0.312944</td>\n      <td>1.675674</td>\n      <td>0.83</td>\n      <td>0.65</td>\n      <td>139.115068</td>\n    </tr>\n    <tr>\n      <th>14</th>\n      <td>15.847044</td>\n      <td>14.833013</td>\n      <td>0.484523</td>\n      <td>0.429192</td>\n      <td>0.92</td>\n      <td>0.59</td>\n      <td>138.980653</td>\n    </tr>\n    <tr>\n      <th>16</th>\n      <td>66.605049</td>\n      <td>21.376866</td>\n      <td>0.321701</td>\n      <td>2.446525</td>\n      <td>0.52</td>\n      <td>0.18</td>\n      <td>134.742698</td>\n    </tr>\n    <tr>\n      <th>8</th>\n      <td>63.348634</td>\n      <td>22.687616</td>\n      <td>0.265776</td>\n      <td>1.353331</td>\n      <td>0.49</td>\n      <td>0.02</td>\n      <td>97.064295</td>\n    </tr>\n    <tr>\n      <th>4</th>\n      <td>47.744623</td>\n      <td>23.477387</td>\n      <td>0.488053</td>\n      <td>0.864727</td>\n      <td>0.52</td>\n      <td>-0.08</td>\n      <td>133.786225</td>\n    </tr>\n    <tr>\n      <th>20</th>\n      <td>77.755545</td>\n      <td>36.687424</td>\n      <td>0.543447</td>\n      <td>1.527090</td>\n      <td>0.17</td>\n      <td>-1.50</td>\n      <td>103.468647</td>\n    </tr>\n  </tbody>\n</table>\n</div>"
     },
     "metadata": {},
     "execution_count": 90
    }
   ],
   "source": [
    "filtet_sort(wsr_grids)"
   ]
  },
  {
   "cell_type": "code",
   "execution_count": 96,
   "metadata": {},
   "outputs": [
    {
     "output_type": "execute_result",
     "data": {
      "text/plain": "[500, <function torch.nn.functional.tanh(input)>, 0.001, 40]"
     },
     "metadata": {},
     "execution_count": 96
    }
   ],
   "source": [
    "paras[3]"
   ]
  },
  {
   "cell_type": "markdown",
   "metadata": {},
   "source": [
    "## Geo_power Features"
   ]
  },
  {
   "cell_type": "code",
   "execution_count": 83,
   "metadata": {},
   "outputs": [],
   "source": [
    "x_train, y_train = df_train[geo_pow_cols].values, df_train[target].values\n",
    "x_train_tensor = torch.tensor(x_train, dtype = torch.float)\n",
    "y_train_tensor = torch.tensor(y_train, dtype = torch.float)"
   ]
  },
  {
   "cell_type": "code",
   "execution_count": 84,
   "metadata": {
    "tags": []
   },
   "outputs": [
    {
     "output_type": "stream",
     "name": "stdout",
     "text": "0  Done\n1  Done\n2  Done\n3  Done\n4  Done\n5  Done\n6  Done\n7  Done\n8  Done\n9  Done\n10  Done\n11  Done\n12  Done\n13  Done\n14  Done\n15  Done\n16  Done\n17  Done\n18  Done\n19  Done\n20  Done\n21  Done\n22  Done\n23  Done\n"
    }
   ],
   "source": [
    "geo_power_grids = Grid_Search(x_train_tensor, y_train_tensor, df_evl, df_train, paras, 46, geo_pow_cols)"
   ]
  },
  {
   "cell_type": "code",
   "execution_count": null,
   "metadata": {},
   "outputs": [],
   "source": [
    "geo_power_grids.to_csv(model_path + \"geo_power_grids.csv\")"
   ]
  },
  {
   "cell_type": "code",
   "execution_count": 100,
   "metadata": {},
   "outputs": [
    {
     "output_type": "execute_result",
     "data": {
      "text/plain": "    NRMSE_train_all  NRMSE_evl_all  NRMSE_train_var  NRMSE_evl_var  R2_train  \\\n0          2.371915       0.283493         0.115722       0.164086      0.95   \n3          1.296326       1.055801         0.150239       0.269532      0.96   \n21         5.424458       2.569548         0.138247       0.160998      0.94   \n15         7.900909       3.228936         0.222310       0.422791      0.95   \n18        23.809251       5.879459         0.208440       0.380745      0.86   \n2          9.447065       6.075940         0.338269       0.829556      0.93   \n9         38.202950       6.270224         0.134969       0.365773      0.83   \n22         8.182518       6.477658         0.188568       0.278712      0.92   \n10        16.770026       6.566142         0.169668       0.216350      0.89   \n5         11.459550       9.184893         0.162140       0.572221      0.91   \n14        14.793498       9.605994         0.344957       0.667148      0.91   \n17        32.234106      17.136565         0.245504       1.289584      0.84   \n16        54.167662      23.642969         0.318861       1.692450      0.65   \n4         57.537503      27.400525         0.528554       0.748884      0.38   \n8         65.800575      28.410426         0.342107       1.064320      0.35   \n20        75.017828      29.470635         0.368367       1.809260      0.35   \n\n    R2_evl        time  \n0     0.96  106.348312  \n3     0.97  204.460937  \n21    0.95  162.818763  \n15    0.94  200.097982  \n18    0.83  147.429451  \n2     0.89  130.840174  \n9     0.90  148.235072  \n22    0.84  126.549640  \n10    0.79   98.600505  \n5     0.81  191.323140  \n14    0.81  157.124626  \n17    0.44  205.714138  \n16   -0.02  166.208919  \n4    -0.44  149.963150  \n8    -0.54  112.922814  \n20   -0.56  109.971088  ",
      "text/html": "<div>\n<style scoped>\n    .dataframe tbody tr th:only-of-type {\n        vertical-align: middle;\n    }\n\n    .dataframe tbody tr th {\n        vertical-align: top;\n    }\n\n    .dataframe thead th {\n        text-align: right;\n    }\n</style>\n<table border=\"1\" class=\"dataframe\">\n  <thead>\n    <tr style=\"text-align: right;\">\n      <th></th>\n      <th>NRMSE_train_all</th>\n      <th>NRMSE_evl_all</th>\n      <th>NRMSE_train_var</th>\n      <th>NRMSE_evl_var</th>\n      <th>R2_train</th>\n      <th>R2_evl</th>\n      <th>time</th>\n    </tr>\n  </thead>\n  <tbody>\n    <tr>\n      <th>0</th>\n      <td>2.371915</td>\n      <td>0.283493</td>\n      <td>0.115722</td>\n      <td>0.164086</td>\n      <td>0.95</td>\n      <td>0.96</td>\n      <td>106.348312</td>\n    </tr>\n    <tr>\n      <th>3</th>\n      <td>1.296326</td>\n      <td>1.055801</td>\n      <td>0.150239</td>\n      <td>0.269532</td>\n      <td>0.96</td>\n      <td>0.97</td>\n      <td>204.460937</td>\n    </tr>\n    <tr>\n      <th>21</th>\n      <td>5.424458</td>\n      <td>2.569548</td>\n      <td>0.138247</td>\n      <td>0.160998</td>\n      <td>0.94</td>\n      <td>0.95</td>\n      <td>162.818763</td>\n    </tr>\n    <tr>\n      <th>15</th>\n      <td>7.900909</td>\n      <td>3.228936</td>\n      <td>0.222310</td>\n      <td>0.422791</td>\n      <td>0.95</td>\n      <td>0.94</td>\n      <td>200.097982</td>\n    </tr>\n    <tr>\n      <th>18</th>\n      <td>23.809251</td>\n      <td>5.879459</td>\n      <td>0.208440</td>\n      <td>0.380745</td>\n      <td>0.86</td>\n      <td>0.83</td>\n      <td>147.429451</td>\n    </tr>\n    <tr>\n      <th>2</th>\n      <td>9.447065</td>\n      <td>6.075940</td>\n      <td>0.338269</td>\n      <td>0.829556</td>\n      <td>0.93</td>\n      <td>0.89</td>\n      <td>130.840174</td>\n    </tr>\n    <tr>\n      <th>9</th>\n      <td>38.202950</td>\n      <td>6.270224</td>\n      <td>0.134969</td>\n      <td>0.365773</td>\n      <td>0.83</td>\n      <td>0.90</td>\n      <td>148.235072</td>\n    </tr>\n    <tr>\n      <th>22</th>\n      <td>8.182518</td>\n      <td>6.477658</td>\n      <td>0.188568</td>\n      <td>0.278712</td>\n      <td>0.92</td>\n      <td>0.84</td>\n      <td>126.549640</td>\n    </tr>\n    <tr>\n      <th>10</th>\n      <td>16.770026</td>\n      <td>6.566142</td>\n      <td>0.169668</td>\n      <td>0.216350</td>\n      <td>0.89</td>\n      <td>0.79</td>\n      <td>98.600505</td>\n    </tr>\n    <tr>\n      <th>5</th>\n      <td>11.459550</td>\n      <td>9.184893</td>\n      <td>0.162140</td>\n      <td>0.572221</td>\n      <td>0.91</td>\n      <td>0.81</td>\n      <td>191.323140</td>\n    </tr>\n    <tr>\n      <th>14</th>\n      <td>14.793498</td>\n      <td>9.605994</td>\n      <td>0.344957</td>\n      <td>0.667148</td>\n      <td>0.91</td>\n      <td>0.81</td>\n      <td>157.124626</td>\n    </tr>\n    <tr>\n      <th>17</th>\n      <td>32.234106</td>\n      <td>17.136565</td>\n      <td>0.245504</td>\n      <td>1.289584</td>\n      <td>0.84</td>\n      <td>0.44</td>\n      <td>205.714138</td>\n    </tr>\n    <tr>\n      <th>16</th>\n      <td>54.167662</td>\n      <td>23.642969</td>\n      <td>0.318861</td>\n      <td>1.692450</td>\n      <td>0.65</td>\n      <td>-0.02</td>\n      <td>166.208919</td>\n    </tr>\n    <tr>\n      <th>4</th>\n      <td>57.537503</td>\n      <td>27.400525</td>\n      <td>0.528554</td>\n      <td>0.748884</td>\n      <td>0.38</td>\n      <td>-0.44</td>\n      <td>149.963150</td>\n    </tr>\n    <tr>\n      <th>8</th>\n      <td>65.800575</td>\n      <td>28.410426</td>\n      <td>0.342107</td>\n      <td>1.064320</td>\n      <td>0.35</td>\n      <td>-0.54</td>\n      <td>112.922814</td>\n    </tr>\n    <tr>\n      <th>20</th>\n      <td>75.017828</td>\n      <td>29.470635</td>\n      <td>0.368367</td>\n      <td>1.809260</td>\n      <td>0.35</td>\n      <td>-0.56</td>\n      <td>109.971088</td>\n    </tr>\n  </tbody>\n</table>\n</div>"
     },
     "metadata": {},
     "execution_count": 100
    }
   ],
   "source": [
    "filtet_sort(geo_power_grids)"
   ]
  },
  {
   "cell_type": "code",
   "execution_count": 101,
   "metadata": {},
   "outputs": [
    {
     "output_type": "execute_result",
     "data": {
      "text/plain": "[500, <function torch.nn.functional.tanh(input)>, 0.01, 30]"
     },
     "metadata": {},
     "execution_count": 101
    }
   ],
   "source": [
    "paras[0]"
   ]
  },
  {
   "cell_type": "markdown",
   "metadata": {},
   "source": [
    "# Semigeo"
   ]
  },
  {
   "cell_type": "code",
   "execution_count": 91,
   "metadata": {},
   "outputs": [],
   "source": [
    "x_train, y_train = df_train[semigeo_cols].values, df_train[target].values\n",
    "x_train_tensor = torch.tensor(x_train, dtype = torch.float)\n",
    "y_train_tensor = torch.tensor(y_train, dtype = torch.float)"
   ]
  },
  {
   "cell_type": "code",
   "execution_count": 92,
   "metadata": {
    "tags": []
   },
   "outputs": [
    {
     "output_type": "stream",
     "name": "stdout",
     "text": "0  Done\n1  Done\n2  Done\n3  Done\n4  Done\n5  Done\n6  Done\n7  Done\n8  Done\n9  Done\n10  Done\n11  Done\n12  Done\n13  Done\n14  Done\n15  Done\n16  Done\n17  Done\n18  Done\n19  Done\n20  Done\n21  Done\n22  Done\n23  Done\n"
    }
   ],
   "source": [
    "semigeo_grids = Grid_Search(x_train_tensor, y_train_tensor,df_evl, df_train, paras, 47, semigeo_cols)"
   ]
  },
  {
   "cell_type": "code",
   "execution_count": 93,
   "metadata": {},
   "outputs": [],
   "source": [
    "semigeo_grids.to_csv(model_path+\"semigeo_grids.csv\")"
   ]
  },
  {
   "cell_type": "code",
   "execution_count": 94,
   "metadata": {},
   "outputs": [
    {
     "output_type": "execute_result",
     "data": {
      "text/plain": "    NRMSE_train_all  NRMSE_evl_all  NRMSE_train_var  NRMSE_evl_var  R2_train  \\\n7         16.679849       0.975444         0.147859       0.149801      0.92   \n13         6.277858       1.957414         0.184565       0.160267      0.95   \n12         3.972796       2.247181         0.270251       0.970800      0.86   \n17         8.554809       2.559902         0.059527       0.081036      0.94   \n10         8.539603       3.665428         0.085644       0.278185      0.94   \n14        12.957412       7.786517         0.192642       0.222623      0.94   \n22        31.982325       8.371570         0.206957       0.726034      0.86   \n2         12.477438       8.676419         0.291857       0.301593      0.91   \n18        11.589963       9.963492         0.154327       0.329464      0.91   \n6         29.242370      10.981435         0.230084       0.439293      0.84   \n5         40.905623      13.703668         0.417699       1.036050      0.81   \n21        39.231394      14.024694         0.390821       0.382821      0.82   \n9         45.567288      14.854641         0.395176       1.062694      0.75   \n20        68.275272      25.487937         0.500288       0.242116      0.28   \n4         65.235875      27.192184         0.546544       1.136857      0.34   \n8         68.814458      30.001479         0.647458       1.943884      0.40   \n16        65.910054      33.851665         0.617798       1.396364      0.27   \n\n    R2_evl        time  \n7     0.96  156.741829  \n13    0.94  196.505705  \n12    0.86  166.864298  \n17    0.96  197.460035  \n10    0.92   97.129944  \n14    0.86  145.190564  \n22    0.84  121.622754  \n2     0.84  124.100292  \n18    0.75  157.133357  \n6     0.69  130.235646  \n5     0.63  163.017285  \n21    0.61  190.136353  \n9     0.58  137.553061  \n20   -0.35  146.358664  \n4    -0.43  115.074990  \n8    -0.62  102.119913  \n16   -1.17  157.956049  ",
      "text/html": "<div>\n<style scoped>\n    .dataframe tbody tr th:only-of-type {\n        vertical-align: middle;\n    }\n\n    .dataframe tbody tr th {\n        vertical-align: top;\n    }\n\n    .dataframe thead th {\n        text-align: right;\n    }\n</style>\n<table border=\"1\" class=\"dataframe\">\n  <thead>\n    <tr style=\"text-align: right;\">\n      <th></th>\n      <th>NRMSE_train_all</th>\n      <th>NRMSE_evl_all</th>\n      <th>NRMSE_train_var</th>\n      <th>NRMSE_evl_var</th>\n      <th>R2_train</th>\n      <th>R2_evl</th>\n      <th>time</th>\n    </tr>\n  </thead>\n  <tbody>\n    <tr>\n      <th>7</th>\n      <td>16.679849</td>\n      <td>0.975444</td>\n      <td>0.147859</td>\n      <td>0.149801</td>\n      <td>0.92</td>\n      <td>0.96</td>\n      <td>156.741829</td>\n    </tr>\n    <tr>\n      <th>13</th>\n      <td>6.277858</td>\n      <td>1.957414</td>\n      <td>0.184565</td>\n      <td>0.160267</td>\n      <td>0.95</td>\n      <td>0.94</td>\n      <td>196.505705</td>\n    </tr>\n    <tr>\n      <th>12</th>\n      <td>3.972796</td>\n      <td>2.247181</td>\n      <td>0.270251</td>\n      <td>0.970800</td>\n      <td>0.86</td>\n      <td>0.86</td>\n      <td>166.864298</td>\n    </tr>\n    <tr>\n      <th>17</th>\n      <td>8.554809</td>\n      <td>2.559902</td>\n      <td>0.059527</td>\n      <td>0.081036</td>\n      <td>0.94</td>\n      <td>0.96</td>\n      <td>197.460035</td>\n    </tr>\n    <tr>\n      <th>10</th>\n      <td>8.539603</td>\n      <td>3.665428</td>\n      <td>0.085644</td>\n      <td>0.278185</td>\n      <td>0.94</td>\n      <td>0.92</td>\n      <td>97.129944</td>\n    </tr>\n    <tr>\n      <th>14</th>\n      <td>12.957412</td>\n      <td>7.786517</td>\n      <td>0.192642</td>\n      <td>0.222623</td>\n      <td>0.94</td>\n      <td>0.86</td>\n      <td>145.190564</td>\n    </tr>\n    <tr>\n      <th>22</th>\n      <td>31.982325</td>\n      <td>8.371570</td>\n      <td>0.206957</td>\n      <td>0.726034</td>\n      <td>0.86</td>\n      <td>0.84</td>\n      <td>121.622754</td>\n    </tr>\n    <tr>\n      <th>2</th>\n      <td>12.477438</td>\n      <td>8.676419</td>\n      <td>0.291857</td>\n      <td>0.301593</td>\n      <td>0.91</td>\n      <td>0.84</td>\n      <td>124.100292</td>\n    </tr>\n    <tr>\n      <th>18</th>\n      <td>11.589963</td>\n      <td>9.963492</td>\n      <td>0.154327</td>\n      <td>0.329464</td>\n      <td>0.91</td>\n      <td>0.75</td>\n      <td>157.133357</td>\n    </tr>\n    <tr>\n      <th>6</th>\n      <td>29.242370</td>\n      <td>10.981435</td>\n      <td>0.230084</td>\n      <td>0.439293</td>\n      <td>0.84</td>\n      <td>0.69</td>\n      <td>130.235646</td>\n    </tr>\n    <tr>\n      <th>5</th>\n      <td>40.905623</td>\n      <td>13.703668</td>\n      <td>0.417699</td>\n      <td>1.036050</td>\n      <td>0.81</td>\n      <td>0.63</td>\n      <td>163.017285</td>\n    </tr>\n    <tr>\n      <th>21</th>\n      <td>39.231394</td>\n      <td>14.024694</td>\n      <td>0.390821</td>\n      <td>0.382821</td>\n      <td>0.82</td>\n      <td>0.61</td>\n      <td>190.136353</td>\n    </tr>\n    <tr>\n      <th>9</th>\n      <td>45.567288</td>\n      <td>14.854641</td>\n      <td>0.395176</td>\n      <td>1.062694</td>\n      <td>0.75</td>\n      <td>0.58</td>\n      <td>137.553061</td>\n    </tr>\n    <tr>\n      <th>20</th>\n      <td>68.275272</td>\n      <td>25.487937</td>\n      <td>0.500288</td>\n      <td>0.242116</td>\n      <td>0.28</td>\n      <td>-0.35</td>\n      <td>146.358664</td>\n    </tr>\n    <tr>\n      <th>4</th>\n      <td>65.235875</td>\n      <td>27.192184</td>\n      <td>0.546544</td>\n      <td>1.136857</td>\n      <td>0.34</td>\n      <td>-0.43</td>\n      <td>115.074990</td>\n    </tr>\n    <tr>\n      <th>8</th>\n      <td>68.814458</td>\n      <td>30.001479</td>\n      <td>0.647458</td>\n      <td>1.943884</td>\n      <td>0.40</td>\n      <td>-0.62</td>\n      <td>102.119913</td>\n    </tr>\n    <tr>\n      <th>16</th>\n      <td>65.910054</td>\n      <td>33.851665</td>\n      <td>0.617798</td>\n      <td>1.396364</td>\n      <td>0.27</td>\n      <td>-1.17</td>\n      <td>157.956049</td>\n    </tr>\n  </tbody>\n</table>\n</div>"
     },
     "metadata": {},
     "execution_count": 94
    }
   ],
   "source": [
    "filtet_sort(semigeo_grids)"
   ]
  },
  {
   "cell_type": "code",
   "execution_count": 95,
   "metadata": {},
   "outputs": [
    {
     "output_type": "execute_result",
     "data": {
      "text/plain": "[500,\n <function torch.nn.functional.leaky_relu(input, negative_slope=0.01, inplace=False)>,\n 0.001,\n 40]"
     },
     "metadata": {},
     "execution_count": 95
    }
   ],
   "source": [
    "paras[7]"
   ]
  },
  {
   "cell_type": "code",
   "execution_count": null,
   "metadata": {},
   "outputs": [],
   "source": []
  }
 ],
 "metadata": {
  "language_info": {
   "name": "python",
   "codemirror_mode": {
    "name": "ipython",
    "version": 3
   },
   "version": "3.7.7-final"
  },
  "orig_nbformat": 2,
  "file_extension": ".py",
  "mimetype": "text/x-python",
  "name": "python",
  "npconvert_exporter": "python",
  "pygments_lexer": "ipython3",
  "version": 3,
  "kernelspec": {
   "name": "python37264bit3a462acd451f4b989328b3d637ce9031",
   "display_name": "Python 3.7.2 64-bit"
  }
 },
 "nbformat": 4,
 "nbformat_minor": 2
}
{
 "nbformat": 4,
 "nbformat_minor": 2,
 "metadata": {
  "language_info": {
   "name": "python",
   "codemirror_mode": {
    "name": "ipython",
    "version": 3
   },
   "version": "3.7.2-final"
  },
  "orig_nbformat": 2,
  "file_extension": ".py",
  "mimetype": "text/x-python",
  "name": "python",
  "npconvert_exporter": "python",
  "pygments_lexer": "ipython3",
  "version": 3,
  "kernelspec": {
   "name": "python37264bit3a462acd451f4b989328b3d637ce9031",
   "display_name": "Python 3.7.2 64-bit"
  }
 },
 "cells": [
  {
   "cell_type": "code",
   "execution_count": 1,
   "metadata": {},
   "outputs": [],
   "source": [
    "import pandas as pd\n",
    "import pyarrow.parquet as pq"
   ]
  },
  {
   "cell_type": "markdown",
   "execution_count": null,
   "metadata": {},
   "outputs": [],
   "source": [
    "## Creat a static dictionary for useful columns"
   ]
  },
  {
   "cell_type": "code",
   "execution_count": 2,
   "metadata": {},
   "outputs": [],
   "source": [
    "# static cols\n",
    "dic = {\n",
    "    'windmills':['GSRN','Turbine_type','Parent_GSRN','BBR_municipal','Placement','UTM_x','UTM_y','Capacity_kw','Rotor_diameter','Navhub_height']\n",
    "}"
   ]
  },
  {
   "cell_type": "code",
   "execution_count": 3,
   "metadata": {},
   "outputs": [],
   "source": [
    "windmills = pq.read_table('data/ITU_DATA/masterdatawind.parquet').to_pandas()[dic['windmills']]"
   ]
  },
  {
   "cell_type": "code",
   "execution_count": 4,
   "metadata": {},
   "outputs": [],
   "source": [
    "windmills.drop_duplicates(subset =\"GSRN\", keep = 'first', ignore_index = True, inplace = True)"
   ]
  },
  {
   "cell_type": "code",
   "execution_count": 6,
   "metadata": {},
   "outputs": [
    {
     "data": {
      "text/html": "<div>\n<style scoped>\n    .dataframe tbody tr th:only-of-type {\n        vertical-align: middle;\n    }\n\n    .dataframe tbody tr th {\n        vertical-align: top;\n    }\n\n    .dataframe thead th {\n        text-align: right;\n    }\n</style>\n<table border=\"1\" class=\"dataframe\">\n  <thead>\n    <tr style=\"text-align: right;\">\n      <th></th>\n      <th>GSRN</th>\n      <th>Turbine_type</th>\n      <th>Parent_GSRN</th>\n      <th>BBR_municipal</th>\n      <th>Placement</th>\n      <th>UTM_x</th>\n      <th>UTM_y</th>\n      <th>Capacity_kw</th>\n      <th>Rotor_diameter</th>\n      <th>Navhub_height</th>\n    </tr>\n  </thead>\n  <tbody>\n    <tr>\n      <th>1</th>\n      <td>570714700000000027</td>\n      <td>M</td>\n      <td>570714700000050459</td>\n      <td>101</td>\n      <td>LAND</td>\n      <td>720898.353</td>\n      <td>6171174.877</td>\n      <td>225.0</td>\n      <td>27.0</td>\n      <td>30.0</td>\n    </tr>\n    <tr>\n      <th>2</th>\n      <td>570714700000000034</td>\n      <td>M</td>\n      <td>570714700000050459</td>\n      <td>101</td>\n      <td>LAND</td>\n      <td>720993.352</td>\n      <td>6171226.877</td>\n      <td>225.0</td>\n      <td>27.0</td>\n      <td>30.0</td>\n    </tr>\n    <tr>\n      <th>3</th>\n      <td>570714700000000041</td>\n      <td>M</td>\n      <td>570714700000050466</td>\n      <td>101</td>\n      <td>LAND</td>\n      <td>727504.304</td>\n      <td>6178385.864</td>\n      <td>600.0</td>\n      <td>44.0</td>\n      <td>50.0</td>\n    </tr>\n    <tr>\n      <th>4</th>\n      <td>570714700000000058</td>\n      <td>M</td>\n      <td>570714700000050466</td>\n      <td>101</td>\n      <td>LAND</td>\n      <td>727628.303</td>\n      <td>6178385.865</td>\n      <td>600.0</td>\n      <td>44.0</td>\n      <td>50.0</td>\n    </tr>\n    <tr>\n      <th>5</th>\n      <td>570714700000000065</td>\n      <td>M</td>\n      <td>570714700000050466</td>\n      <td>101</td>\n      <td>LAND</td>\n      <td>727817.302</td>\n      <td>6178365.866</td>\n      <td>600.0</td>\n      <td>44.0</td>\n      <td>50.0</td>\n    </tr>\n    <tr>\n      <th>6</th>\n      <td>570714700000000072</td>\n      <td>M</td>\n      <td>570714700000050053</td>\n      <td>167</td>\n      <td>LAND</td>\n      <td>717288.000</td>\n      <td>6167432.000</td>\n      <td>300.0</td>\n      <td>31.0</td>\n      <td>30.0</td>\n    </tr>\n    <tr>\n      <th>7</th>\n      <td>570714700000000089</td>\n      <td>M</td>\n      <td>570714700000050053</td>\n      <td>167</td>\n      <td>LAND</td>\n      <td>717423.000</td>\n      <td>6167422.000</td>\n      <td>300.0</td>\n      <td>31.0</td>\n      <td>30.0</td>\n    </tr>\n    <tr>\n      <th>8</th>\n      <td>570714700000000096</td>\n      <td>M</td>\n      <td>570714700000050053</td>\n      <td>167</td>\n      <td>LAND</td>\n      <td>717556.000</td>\n      <td>6167412.000</td>\n      <td>300.0</td>\n      <td>31.0</td>\n      <td>30.0</td>\n    </tr>\n    <tr>\n      <th>10</th>\n      <td>570714700000000119</td>\n      <td>M</td>\n      <td>570714700000050060</td>\n      <td>167</td>\n      <td>LAND</td>\n      <td>718603.000</td>\n      <td>6167242.000</td>\n      <td>300.0</td>\n      <td>31.0</td>\n      <td>30.0</td>\n    </tr>\n    <tr>\n      <th>11</th>\n      <td>570714700000000126</td>\n      <td>M</td>\n      <td>570714700000050060</td>\n      <td>167</td>\n      <td>LAND</td>\n      <td>718736.000</td>\n      <td>6167233.000</td>\n      <td>300.0</td>\n      <td>31.0</td>\n      <td>30.0</td>\n    </tr>\n    <tr>\n      <th>16</th>\n      <td>570714700000000171</td>\n      <td>M</td>\n      <td>570714700000050084</td>\n      <td>253</td>\n      <td>LAND</td>\n      <td>702315.000</td>\n      <td>6164048.000</td>\n      <td>300.0</td>\n      <td>31.0</td>\n      <td>30.0</td>\n    </tr>\n    <tr>\n      <th>17</th>\n      <td>570714700000000188</td>\n      <td>M</td>\n      <td>570714700000050084</td>\n      <td>253</td>\n      <td>LAND</td>\n      <td>702393.000</td>\n      <td>6163966.000</td>\n      <td>300.0</td>\n      <td>31.0</td>\n      <td>30.0</td>\n    </tr>\n    <tr>\n      <th>18</th>\n      <td>570714700000000195</td>\n      <td>M</td>\n      <td>570714700000050084</td>\n      <td>253</td>\n      <td>LAND</td>\n      <td>702470.000</td>\n      <td>6163884.000</td>\n      <td>300.0</td>\n      <td>31.0</td>\n      <td>30.0</td>\n    </tr>\n    <tr>\n      <th>19</th>\n      <td>570714700000000201</td>\n      <td>M</td>\n      <td>570714700000050077</td>\n      <td>265</td>\n      <td>LAND</td>\n      <td>689297.000</td>\n      <td>6168922.000</td>\n      <td>300.0</td>\n      <td>31.0</td>\n      <td>30.0</td>\n    </tr>\n    <tr>\n      <th>20</th>\n      <td>570714700000000218</td>\n      <td>M</td>\n      <td>570714700000050077</td>\n      <td>265</td>\n      <td>LAND</td>\n      <td>689270.000</td>\n      <td>6168825.000</td>\n      <td>300.0</td>\n      <td>31.0</td>\n      <td>30.0</td>\n    </tr>\n    <tr>\n      <th>21</th>\n      <td>570714700000000225</td>\n      <td>M</td>\n      <td>570714700000050077</td>\n      <td>265</td>\n      <td>LAND</td>\n      <td>689243.000</td>\n      <td>6168728.000</td>\n      <td>300.0</td>\n      <td>31.0</td>\n      <td>30.0</td>\n    </tr>\n    <tr>\n      <th>22</th>\n      <td>570714700000000232</td>\n      <td>M</td>\n      <td>570714700000050091</td>\n      <td>350</td>\n      <td>LAND</td>\n      <td>691838.000</td>\n      <td>6165774.000</td>\n      <td>500.0</td>\n      <td>39.0</td>\n      <td>40.5</td>\n    </tr>\n    <tr>\n      <th>23</th>\n      <td>570714700000000249</td>\n      <td>M</td>\n      <td>570714700000050091</td>\n      <td>350</td>\n      <td>LAND</td>\n      <td>691963.000</td>\n      <td>6165674.000</td>\n      <td>500.0</td>\n      <td>39.0</td>\n      <td>40.5</td>\n    </tr>\n    <tr>\n      <th>24</th>\n      <td>570714700000000256</td>\n      <td>M</td>\n      <td>570714700000050091</td>\n      <td>350</td>\n      <td>LAND</td>\n      <td>692088.000</td>\n      <td>6165575.000</td>\n      <td>500.0</td>\n      <td>39.0</td>\n      <td>40.5</td>\n    </tr>\n    <tr>\n      <th>25</th>\n      <td>570714700000000263</td>\n      <td>M</td>\n      <td>570714700000050114</td>\n      <td>350</td>\n      <td>LAND</td>\n      <td>682293.000</td>\n      <td>6173516.000</td>\n      <td>225.0</td>\n      <td>27.0</td>\n      <td>31.0</td>\n    </tr>\n  </tbody>\n</table>\n</div>",
      "text/plain": "                  GSRN Turbine_type         Parent_GSRN BBR_municipal  \\\n1   570714700000000027            M  570714700000050459           101   \n2   570714700000000034            M  570714700000050459           101   \n3   570714700000000041            M  570714700000050466           101   \n4   570714700000000058            M  570714700000050466           101   \n5   570714700000000065            M  570714700000050466           101   \n6   570714700000000072            M  570714700000050053           167   \n7   570714700000000089            M  570714700000050053           167   \n8   570714700000000096            M  570714700000050053           167   \n10  570714700000000119            M  570714700000050060           167   \n11  570714700000000126            M  570714700000050060           167   \n16  570714700000000171            M  570714700000050084           253   \n17  570714700000000188            M  570714700000050084           253   \n18  570714700000000195            M  570714700000050084           253   \n19  570714700000000201            M  570714700000050077           265   \n20  570714700000000218            M  570714700000050077           265   \n21  570714700000000225            M  570714700000050077           265   \n22  570714700000000232            M  570714700000050091           350   \n23  570714700000000249            M  570714700000050091           350   \n24  570714700000000256            M  570714700000050091           350   \n25  570714700000000263            M  570714700000050114           350   \n\n   Placement       UTM_x        UTM_y  Capacity_kw  Rotor_diameter  \\\n1       LAND  720898.353  6171174.877        225.0            27.0   \n2       LAND  720993.352  6171226.877        225.0            27.0   \n3       LAND  727504.304  6178385.864        600.0            44.0   \n4       LAND  727628.303  6178385.865        600.0            44.0   \n5       LAND  727817.302  6178365.866        600.0            44.0   \n6       LAND  717288.000  6167432.000        300.0            31.0   \n7       LAND  717423.000  6167422.000        300.0            31.0   \n8       LAND  717556.000  6167412.000        300.0            31.0   \n10      LAND  718603.000  6167242.000        300.0            31.0   \n11      LAND  718736.000  6167233.000        300.0            31.0   \n16      LAND  702315.000  6164048.000        300.0            31.0   \n17      LAND  702393.000  6163966.000        300.0            31.0   \n18      LAND  702470.000  6163884.000        300.0            31.0   \n19      LAND  689297.000  6168922.000        300.0            31.0   \n20      LAND  689270.000  6168825.000        300.0            31.0   \n21      LAND  689243.000  6168728.000        300.0            31.0   \n22      LAND  691838.000  6165774.000        500.0            39.0   \n23      LAND  691963.000  6165674.000        500.0            39.0   \n24      LAND  692088.000  6165575.000        500.0            39.0   \n25      LAND  682293.000  6173516.000        225.0            27.0   \n\n    Navhub_height  \n1            30.0  \n2            30.0  \n3            50.0  \n4            50.0  \n5            50.0  \n6            30.0  \n7            30.0  \n8            30.0  \n10           30.0  \n11           30.0  \n16           30.0  \n17           30.0  \n18           30.0  \n19           30.0  \n20           30.0  \n21           30.0  \n22           40.5  \n23           40.5  \n24           40.5  \n25           31.0  "
     },
     "execution_count": 6,
     "metadata": {},
     "output_type": "execute_result"
    }
   ],
   "source": [
    "windmills[windmills['Turbine_type'] == 'M'].head(20)"
   ]
  },
  {
   "cell_type": "code",
   "execution_count": 7,
   "metadata": {},
   "outputs": [
    {
     "data": {
      "text/plain": "(9853, 10)"
     },
     "execution_count": 7,
     "metadata": {},
     "output_type": "execute_result"
    }
   ],
   "source": [
    "windmills.shape"
   ]
  },
  {
   "cell_type": "code",
   "execution_count": 12,
   "metadata": {},
   "outputs": [],
   "source": [
    " windmills['GSRN'] = [x+'z' for x in windmills['GSRN']]"
   ]
  },
  {
   "cell_type": "code",
   "execution_count": 23,
   "metadata": {},
   "outputs": [],
   "source": [
    "windmills['Parent_GSRN'].fillna('',inplace = True)"
   ]
  },
  {
   "cell_type": "code",
   "execution_count": 24,
   "metadata": {},
   "outputs": [],
   "source": [
    "windmills['Parent_GSRN'] = [x+'z' for x in windmills['Parent_GSRN']]"
   ]
  },
  {
   "cell_type": "code",
   "execution_count": 26,
   "metadata": {},
   "outputs": [],
   "source": [
    "windmills.to_csv('data/windmills_gis.csv', index=False)"
   ]
  },
  {
   "cell_type": "code",
   "execution_count": 32,
   "metadata": {},
   "outputs": [],
   "source": [
    "aggs = {'UTM_x':lambda x : x.mean(),\n",
    "        'UTM_y':lambda x : x.mean()}"
   ]
  },
  {
   "cell_type": "code",
   "execution_count": 48,
   "metadata": {},
   "outputs": [],
   "source": [
    "f_temp = windmills[windmills['Turbine_type'] == 'M'].groupby('Parent_GSRN', as_index = False).agg(aggs).rename(columns={'Parent_GSRN':'GSRN','UTM_x':'x_t','UTM_y':'y_t'})"
   ]
  },
  {
   "cell_type": "code",
   "execution_count": 49,
   "metadata": {},
   "outputs": [
    {
     "data": {
      "text/html": "<div>\n<style scoped>\n    .dataframe tbody tr th:only-of-type {\n        vertical-align: middle;\n    }\n\n    .dataframe tbody tr th {\n        vertical-align: top;\n    }\n\n    .dataframe thead th {\n        text-align: right;\n    }\n</style>\n<table border=\"1\" class=\"dataframe\">\n  <thead>\n    <tr style=\"text-align: right;\">\n      <th></th>\n      <th>GSRN</th>\n      <th>x_t</th>\n      <th>y_t</th>\n    </tr>\n  </thead>\n  <tbody>\n    <tr>\n      <th>0</th>\n      <td>570714700000005640z</td>\n      <td>642373.900000</td>\n      <td>6.139972e+06</td>\n    </tr>\n    <tr>\n      <th>1</th>\n      <td>570714700000012037z</td>\n      <td>664423.733000</td>\n      <td>6.072868e+06</td>\n    </tr>\n    <tr>\n      <th>2</th>\n      <td>570714700000012051z</td>\n      <td>664630.731000</td>\n      <td>6.072840e+06</td>\n    </tr>\n    <tr>\n      <th>3</th>\n      <td>570714700000012105z</td>\n      <td>728122.163500</td>\n      <td>6.165601e+06</td>\n    </tr>\n    <tr>\n      <th>4</th>\n      <td>570714700000050008z</td>\n      <td>684100.400000</td>\n      <td>6.097951e+06</td>\n    </tr>\n    <tr>\n      <th>...</th>\n      <td>...</td>\n      <td>...</td>\n      <td>...</td>\n    </tr>\n    <tr>\n      <th>574</th>\n      <td>570715000000258107z</td>\n      <td>636075.348135</td>\n      <td>6.275118e+06</td>\n    </tr>\n    <tr>\n      <th>575</th>\n      <td>570715000001613493z</td>\n      <td>415507.469388</td>\n      <td>6.172906e+06</td>\n    </tr>\n    <tr>\n      <th>576</th>\n      <td>570715000001761682z</td>\n      <td>464444.000000</td>\n      <td>6.283758e+06</td>\n    </tr>\n    <tr>\n      <th>577</th>\n      <td>571313134700404281z</td>\n      <td>453783.500000</td>\n      <td>6.281010e+06</td>\n    </tr>\n    <tr>\n      <th>578</th>\n      <td>z</td>\n      <td>568607.492000</td>\n      <td>6.235737e+06</td>\n    </tr>\n  </tbody>\n</table>\n<p>579 rows × 3 columns</p>\n</div>",
      "text/plain": "                    GSRN            x_t           y_t\n0    570714700000005640z  642373.900000  6.139972e+06\n1    570714700000012037z  664423.733000  6.072868e+06\n2    570714700000012051z  664630.731000  6.072840e+06\n3    570714700000012105z  728122.163500  6.165601e+06\n4    570714700000050008z  684100.400000  6.097951e+06\n..                   ...            ...           ...\n574  570715000000258107z  636075.348135  6.275118e+06\n575  570715000001613493z  415507.469388  6.172906e+06\n576  570715000001761682z  464444.000000  6.283758e+06\n577  571313134700404281z  453783.500000  6.281010e+06\n578                    z  568607.492000  6.235737e+06\n\n[579 rows x 3 columns]"
     },
     "execution_count": 49,
     "metadata": {},
     "output_type": "execute_result"
    }
   ],
   "source": [
    "f_temp"
   ]
  },
  {
   "cell_type": "code",
   "execution_count": 61,
   "metadata": {},
   "outputs": [],
   "source": [
    "f = pd.merge(windmills, f_temp, on='GSRN',how='left')"
   ]
  },
  {
   "cell_type": "code",
   "execution_count": 76,
   "metadata": {},
   "outputs": [
    {
     "data": {
      "text/plain": "(9853, 10)"
     },
     "execution_count": 76,
     "metadata": {},
     "output_type": "execute_result"
    }
   ],
   "source": [
    "f.shape"
   ]
  },
  {
   "cell_type": "code",
   "execution_count": 69,
   "metadata": {},
   "outputs": [],
   "source": [
    "f[['UTM_x']] = f.apply(lambda x: x[['UTM_x']].fillna(value = x['x_t']), axis=1)[['UTM_x']]"
   ]
  },
  {
   "cell_type": "code",
   "execution_count": 71,
   "metadata": {},
   "outputs": [],
   "source": [
    "f[['UTM_y']] = f.apply(lambda x: x[['UTM_y']].fillna(value = x['y_t']), axis=1)[['UTM_y']]"
   ]
  },
  {
   "cell_type": "code",
   "execution_count": 75,
   "metadata": {},
   "outputs": [],
   "source": [
    "f.drop(columns=['x_t','y_t'], inplace=True)"
   ]
  },
  {
   "cell_type": "code",
   "execution_count": 104,
   "metadata": {},
   "outputs": [
    {
     "data": {
      "text/html": "<div>\n<style scoped>\n    .dataframe tbody tr th:only-of-type {\n        vertical-align: middle;\n    }\n\n    .dataframe tbody tr th {\n        vertical-align: top;\n    }\n\n    .dataframe thead th {\n        text-align: right;\n    }\n</style>\n<table border=\"1\" class=\"dataframe\">\n  <thead>\n    <tr style=\"text-align: right;\">\n      <th></th>\n      <th>Parent_GSRN</th>\n      <th>Navhub_height</th>\n      <th>GSRN</th>\n      <th>Turbine_type</th>\n      <th>BBR_municipal</th>\n      <th>Placement</th>\n      <th>UTM_x</th>\n      <th>UTM_y</th>\n      <th>Capacity_kw</th>\n      <th>Rotor_diameter</th>\n    </tr>\n  </thead>\n  <tbody>\n    <tr>\n      <th>0</th>\n      <td>570714700000005640z</td>\n      <td>30.0</td>\n      <td>1</td>\n      <td>1</td>\n      <td>1</td>\n      <td>1</td>\n      <td>1</td>\n      <td>1</td>\n      <td>1</td>\n      <td>1</td>\n    </tr>\n    <tr>\n      <th>1</th>\n      <td>570714700000012037z</td>\n      <td>45.0</td>\n      <td>1</td>\n      <td>1</td>\n      <td>1</td>\n      <td>1</td>\n      <td>1</td>\n      <td>1</td>\n      <td>1</td>\n      <td>1</td>\n    </tr>\n    <tr>\n      <th>2</th>\n      <td>570714700000012051z</td>\n      <td>45.0</td>\n      <td>1</td>\n      <td>1</td>\n      <td>1</td>\n      <td>1</td>\n      <td>1</td>\n      <td>1</td>\n      <td>1</td>\n      <td>1</td>\n    </tr>\n    <tr>\n      <th>3</th>\n      <td>570714700000012105z</td>\n      <td>24.0</td>\n      <td>6</td>\n      <td>6</td>\n      <td>6</td>\n      <td>6</td>\n      <td>6</td>\n      <td>6</td>\n      <td>6</td>\n      <td>6</td>\n    </tr>\n    <tr>\n      <th>4</th>\n      <td>570714700000050008z</td>\n      <td>45.0</td>\n      <td>5</td>\n      <td>5</td>\n      <td>5</td>\n      <td>5</td>\n      <td>5</td>\n      <td>5</td>\n      <td>5</td>\n      <td>5</td>\n    </tr>\n    <tr>\n      <th>...</th>\n      <td>...</td>\n      <td>...</td>\n      <td>...</td>\n      <td>...</td>\n      <td>...</td>\n      <td>...</td>\n      <td>...</td>\n      <td>...</td>\n      <td>...</td>\n      <td>...</td>\n    </tr>\n    <tr>\n      <th>646</th>\n      <td>570715000000091803z</td>\n      <td>20.0</td>\n      <td>2</td>\n      <td>2</td>\n      <td>2</td>\n      <td>2</td>\n      <td>2</td>\n      <td>2</td>\n      <td>2</td>\n      <td>2</td>\n    </tr>\n    <tr>\n      <th>647</th>\n      <td>570715000000258107z</td>\n      <td>81.6</td>\n      <td>111</td>\n      <td>111</td>\n      <td>111</td>\n      <td>111</td>\n      <td>111</td>\n      <td>111</td>\n      <td>111</td>\n      <td>111</td>\n    </tr>\n    <tr>\n      <th>648</th>\n      <td>570715000001613493z</td>\n      <td>105.0</td>\n      <td>49</td>\n      <td>49</td>\n      <td>49</td>\n      <td>49</td>\n      <td>49</td>\n      <td>49</td>\n      <td>49</td>\n      <td>49</td>\n    </tr>\n    <tr>\n      <th>649</th>\n      <td>570715000001761682z</td>\n      <td>18.5</td>\n      <td>2</td>\n      <td>2</td>\n      <td>2</td>\n      <td>2</td>\n      <td>2</td>\n      <td>2</td>\n      <td>2</td>\n      <td>2</td>\n    </tr>\n    <tr>\n      <th>650</th>\n      <td>571313134700404281z</td>\n      <td>85.3</td>\n      <td>4</td>\n      <td>4</td>\n      <td>4</td>\n      <td>4</td>\n      <td>4</td>\n      <td>4</td>\n      <td>4</td>\n      <td>4</td>\n    </tr>\n  </tbody>\n</table>\n<p>651 rows × 10 columns</p>\n</div>",
      "text/plain": "             Parent_GSRN  Navhub_height  GSRN  Turbine_type  BBR_municipal  \\\n0    570714700000005640z           30.0     1             1              1   \n1    570714700000012037z           45.0     1             1              1   \n2    570714700000012051z           45.0     1             1              1   \n3    570714700000012105z           24.0     6             6              6   \n4    570714700000050008z           45.0     5             5              5   \n..                   ...            ...   ...           ...            ...   \n646  570715000000091803z           20.0     2             2              2   \n647  570715000000258107z           81.6   111           111            111   \n648  570715000001613493z          105.0    49            49             49   \n649  570715000001761682z           18.5     2             2              2   \n650  571313134700404281z           85.3     4             4              4   \n\n     Placement  UTM_x  UTM_y  Capacity_kw  Rotor_diameter  \n0            1      1      1            1               1  \n1            1      1      1            1               1  \n2            1      1      1            1               1  \n3            6      6      6            6               6  \n4            5      5      5            5               5  \n..         ...    ...    ...          ...             ...  \n646          2      2      2            2               2  \n647        111    111    111          111             111  \n648         49     49     49           49              49  \n649          2      2      2            2               2  \n650          4      4      4            4               4  \n\n[651 rows x 10 columns]"
     },
     "execution_count": 104,
     "metadata": {},
     "output_type": "execute_result"
    }
   ],
   "source": [
    "f[f['Parent_GSRN'] != 'z'].groupby(['Parent_GSRN','Navhub_height'],as_index = False).count()"
   ]
  },
  {
   "cell_type": "code",
   "execution_count": 107,
   "metadata": {},
   "outputs": [],
   "source": [
    "f.to_csv('data/windmills_gis.csv', index=False)"
   ]
  },
  {
   "cell_type": "code",
   "execution_count": 158,
   "metadata": {},
   "outputs": [],
   "source": [
    "pd.set_option('display.float_format',lambda x : '%.3f' % x)"
   ]
  },
  {
   "cell_type": "code",
   "execution_count": 195,
   "metadata": {},
   "outputs": [],
   "source": [
    "windmills_multi = pd.read_excel('data/Windmills_to_Multi-Grids.xlsx')"
   ]
  },
  {
   "cell_type": "code",
   "execution_count": 196,
   "metadata": {},
   "outputs": [],
   "source": [
    "windmills_multi['Parent_GSRN'].fillna(value=0, inplace = True)\n",
    "windmills_multi['grid'].fillna(value=0, inplace = True)"
   ]
  },
  {
   "cell_type": "code",
   "execution_count": 197,
   "metadata": {},
   "outputs": [
    {
     "data": {
      "text/html": "<div>\n<style scoped>\n    .dataframe tbody tr th:only-of-type {\n        vertical-align: middle;\n    }\n\n    .dataframe tbody tr th {\n        vertical-align: top;\n    }\n\n    .dataframe thead th {\n        text-align: right;\n    }\n</style>\n<table border=\"1\" class=\"dataframe\">\n  <thead>\n    <tr style=\"text-align: right;\">\n      <th></th>\n      <th>GSRN</th>\n      <th>Turbine_type</th>\n      <th>Parent_GSRN</th>\n      <th>BBR_municipal</th>\n      <th>Placement</th>\n      <th>UTM_x</th>\n      <th>UTM_y</th>\n      <th>Capacity_kw</th>\n      <th>Rotor_diameter</th>\n      <th>Navhub_height</th>\n      <th>BUFF_DIST</th>\n      <th>grid</th>\n    </tr>\n  </thead>\n  <tbody>\n    <tr>\n      <th>0</th>\n      <td>570714700000000027</td>\n      <td>M</td>\n      <td>570714700000050496.000</td>\n      <td>101</td>\n      <td>LAND</td>\n      <td>720898.353</td>\n      <td>6171174.877</td>\n      <td>225.000</td>\n      <td>27.000</td>\n      <td>30.000</td>\n      <td>30000</td>\n      <td>609.000</td>\n    </tr>\n    <tr>\n      <th>1</th>\n      <td>570714700000000027</td>\n      <td>M</td>\n      <td>570714700000050496.000</td>\n      <td>101</td>\n      <td>LAND</td>\n      <td>720898.353</td>\n      <td>6171174.877</td>\n      <td>225.000</td>\n      <td>27.000</td>\n      <td>30.000</td>\n      <td>30000</td>\n      <td>610.000</td>\n    </tr>\n    <tr>\n      <th>2</th>\n      <td>570714700000000027</td>\n      <td>M</td>\n      <td>570714700000050496.000</td>\n      <td>101</td>\n      <td>LAND</td>\n      <td>720898.353</td>\n      <td>6171174.877</td>\n      <td>225.000</td>\n      <td>27.000</td>\n      <td>30.000</td>\n      <td>30000</td>\n      <td>611.000</td>\n    </tr>\n    <tr>\n      <th>3</th>\n      <td>570714700000000027</td>\n      <td>M</td>\n      <td>570714700000050496.000</td>\n      <td>101</td>\n      <td>LAND</td>\n      <td>720898.353</td>\n      <td>6171174.877</td>\n      <td>225.000</td>\n      <td>27.000</td>\n      <td>30.000</td>\n      <td>30000</td>\n      <td>651.000</td>\n    </tr>\n    <tr>\n      <th>4</th>\n      <td>570714700000000027</td>\n      <td>M</td>\n      <td>570714700000050496.000</td>\n      <td>101</td>\n      <td>LAND</td>\n      <td>720898.353</td>\n      <td>6171174.877</td>\n      <td>225.000</td>\n      <td>27.000</td>\n      <td>30.000</td>\n      <td>30000</td>\n      <td>652.000</td>\n    </tr>\n    <tr>\n      <th>...</th>\n      <td>...</td>\n      <td>...</td>\n      <td>...</td>\n      <td>...</td>\n      <td>...</td>\n      <td>...</td>\n      <td>...</td>\n      <td>...</td>\n      <td>...</td>\n      <td>...</td>\n      <td>...</td>\n      <td>...</td>\n    </tr>\n    <tr>\n      <th>76172</th>\n      <td>571313179100196008</td>\n      <td>W</td>\n      <td>0.000</td>\n      <td>265</td>\n      <td>LAND</td>\n      <td>694663.000</td>\n      <td>6175328.000</td>\n      <td>1200.000</td>\n      <td>29.000</td>\n      <td>59.500</td>\n      <td>30000</td>\n      <td>736.000</td>\n    </tr>\n    <tr>\n      <th>76173</th>\n      <td>571313179100196008</td>\n      <td>W</td>\n      <td>0.000</td>\n      <td>265</td>\n      <td>LAND</td>\n      <td>694663.000</td>\n      <td>6175328.000</td>\n      <td>1200.000</td>\n      <td>29.000</td>\n      <td>59.500</td>\n      <td>30000</td>\n      <td>737.000</td>\n    </tr>\n    <tr>\n      <th>76174</th>\n      <td>571313179100196008</td>\n      <td>W</td>\n      <td>0.000</td>\n      <td>265</td>\n      <td>LAND</td>\n      <td>694663.000</td>\n      <td>6175328.000</td>\n      <td>1200.000</td>\n      <td>29.000</td>\n      <td>59.500</td>\n      <td>30000</td>\n      <td>738.000</td>\n    </tr>\n    <tr>\n      <th>76175</th>\n      <td>571313179100196008</td>\n      <td>W</td>\n      <td>0.000</td>\n      <td>265</td>\n      <td>LAND</td>\n      <td>694663.000</td>\n      <td>6175328.000</td>\n      <td>1200.000</td>\n      <td>29.000</td>\n      <td>59.500</td>\n      <td>30000</td>\n      <td>778.000</td>\n    </tr>\n    <tr>\n      <th>76176</th>\n      <td>571313179100196008</td>\n      <td>W</td>\n      <td>0.000</td>\n      <td>265</td>\n      <td>LAND</td>\n      <td>694663.000</td>\n      <td>6175328.000</td>\n      <td>1200.000</td>\n      <td>29.000</td>\n      <td>59.500</td>\n      <td>30000</td>\n      <td>779.000</td>\n    </tr>\n  </tbody>\n</table>\n<p>76177 rows × 12 columns</p>\n</div>",
      "text/plain": "                     GSRN Turbine_type            Parent_GSRN  BBR_municipal  \\\n0      570714700000000027            M 570714700000050496.000            101   \n1      570714700000000027            M 570714700000050496.000            101   \n2      570714700000000027            M 570714700000050496.000            101   \n3      570714700000000027            M 570714700000050496.000            101   \n4      570714700000000027            M 570714700000050496.000            101   \n...                   ...          ...                    ...            ...   \n76172  571313179100196008            W                  0.000            265   \n76173  571313179100196008            W                  0.000            265   \n76174  571313179100196008            W                  0.000            265   \n76175  571313179100196008            W                  0.000            265   \n76176  571313179100196008            W                  0.000            265   \n\n      Placement      UTM_x       UTM_y  Capacity_kw  Rotor_diameter  \\\n0          LAND 720898.353 6171174.877      225.000          27.000   \n1          LAND 720898.353 6171174.877      225.000          27.000   \n2          LAND 720898.353 6171174.877      225.000          27.000   \n3          LAND 720898.353 6171174.877      225.000          27.000   \n4          LAND 720898.353 6171174.877      225.000          27.000   \n...         ...        ...         ...          ...             ...   \n76172      LAND 694663.000 6175328.000     1200.000          29.000   \n76173      LAND 694663.000 6175328.000     1200.000          29.000   \n76174      LAND 694663.000 6175328.000     1200.000          29.000   \n76175      LAND 694663.000 6175328.000     1200.000          29.000   \n76176      LAND 694663.000 6175328.000     1200.000          29.000   \n\n       Navhub_height  BUFF_DIST    grid  \n0             30.000      30000 609.000  \n1             30.000      30000 610.000  \n2             30.000      30000 611.000  \n3             30.000      30000 651.000  \n4             30.000      30000 652.000  \n...              ...        ...     ...  \n76172         59.500      30000 736.000  \n76173         59.500      30000 737.000  \n76174         59.500      30000 738.000  \n76175         59.500      30000 778.000  \n76176         59.500      30000 779.000  \n\n[76177 rows x 12 columns]"
     },
     "execution_count": 197,
     "metadata": {},
     "output_type": "execute_result"
    }
   ],
   "source": [
    "windmills_multi"
   ]
  },
  {
   "cell_type": "code",
   "execution_count": 198,
   "metadata": {},
   "outputs": [],
   "source": [
    "windmills_multi['Parent_GSRN'] = windmills_multi['Parent_GSRN'].astype(int)\n",
    "windmills_multi['grid'] = windmills_multi['grid'].astype(int)\n",
    "windmills_multi['grid'] = windmills_multi['grid'].astype(str)"
   ]
  },
  {
   "cell_type": "code",
   "execution_count": 199,
   "metadata": {},
   "outputs": [],
   "source": [
    "def ab(df):\n",
    "    return','.join(df.values)\n",
    "    \n",
    "windmills_multi_merged = windmills_multi.groupby('GSRN')['grid'].apply(ab).reset_index()\n"
   ]
  },
  {
   "cell_type": "code",
   "execution_count": 200,
   "metadata": {},
   "outputs": [
    {
     "data": {
      "text/html": "<div>\n<style scoped>\n    .dataframe tbody tr th:only-of-type {\n        vertical-align: middle;\n    }\n\n    .dataframe tbody tr th {\n        vertical-align: top;\n    }\n\n    .dataframe thead th {\n        text-align: right;\n    }\n</style>\n<table border=\"1\" class=\"dataframe\">\n  <thead>\n    <tr style=\"text-align: right;\">\n      <th></th>\n      <th>GSRN</th>\n      <th>grid</th>\n    </tr>\n  </thead>\n  <tbody>\n    <tr>\n      <th>0</th>\n      <td>570714700000000027</td>\n      <td>609,610,611,651,652,653,654,694,695,696</td>\n    </tr>\n    <tr>\n      <th>1</th>\n      <td>570714700000000034</td>\n      <td>609,610,611,651,652,653,654,694,695,696</td>\n    </tr>\n    <tr>\n      <th>2</th>\n      <td>570714700000000041</td>\n      <td>610,611,652,653,654,694,695,696</td>\n    </tr>\n    <tr>\n      <th>3</th>\n      <td>570714700000000058</td>\n      <td>610,611,652,653,654,694,695,696</td>\n    </tr>\n    <tr>\n      <th>4</th>\n      <td>570714700000000065</td>\n      <td>610,611,652,653,654,694,695,696</td>\n    </tr>\n    <tr>\n      <th>...</th>\n      <td>...</td>\n      <td>...</td>\n    </tr>\n    <tr>\n      <th>7515</th>\n      <td>571313174001699894</td>\n      <td>728,729,730,731,770,771,772,773,813,814</td>\n    </tr>\n    <tr>\n      <th>7516</th>\n      <td>571313174001699900</td>\n      <td>728,729,730,731,770,771,772,773,813,814</td>\n    </tr>\n    <tr>\n      <th>7517</th>\n      <td>571313174001764448</td>\n      <td>607,608,609,649,650,651,691,692,693,734</td>\n    </tr>\n    <tr>\n      <th>7518</th>\n      <td>571313174116253585</td>\n      <td>652,653,693,694,695,696,735,736,737,738,778,779</td>\n    </tr>\n    <tr>\n      <th>7519</th>\n      <td>571313179100196008</td>\n      <td>652,653,693,694,695,696,735,736,737,738,778,779</td>\n    </tr>\n  </tbody>\n</table>\n<p>7520 rows × 2 columns</p>\n</div>",
      "text/plain": "                    GSRN                                             grid\n0     570714700000000027          609,610,611,651,652,653,654,694,695,696\n1     570714700000000034          609,610,611,651,652,653,654,694,695,696\n2     570714700000000041                  610,611,652,653,654,694,695,696\n3     570714700000000058                  610,611,652,653,654,694,695,696\n4     570714700000000065                  610,611,652,653,654,694,695,696\n...                  ...                                              ...\n7515  571313174001699894          728,729,730,731,770,771,772,773,813,814\n7516  571313174001699900          728,729,730,731,770,771,772,773,813,814\n7517  571313174001764448          607,608,609,649,650,651,691,692,693,734\n7518  571313174116253585  652,653,693,694,695,696,735,736,737,738,778,779\n7519  571313179100196008  652,653,693,694,695,696,735,736,737,738,778,779\n\n[7520 rows x 2 columns]"
     },
     "execution_count": 200,
     "metadata": {},
     "output_type": "execute_result"
    }
   ],
   "source": [
    "windmills_multi_merged"
   ]
  },
  {
   "cell_type": "code",
   "execution_count": 201,
   "metadata": {},
   "outputs": [],
   "source": [
    "windmills_grid= pd.read_excel('data/Point_SpatialJoin.xlsx')"
   ]
  },
  {
   "cell_type": "code",
   "execution_count": 202,
   "metadata": {},
   "outputs": [],
   "source": [
    "windmills_grid['grid'].fillna(value=0, inplace = True)\n",
    "windmills_grid['grid'] = windmills_grid['grid'].astype(int)\n",
    "windmills_grid['grid'] = windmills_grid['grid'].astype(str)"
   ]
  },
  {
   "cell_type": "code",
   "execution_count": 206,
   "metadata": {},
   "outputs": [
    {
     "data": {
      "text/html": "<div>\n<style scoped>\n    .dataframe tbody tr th:only-of-type {\n        vertical-align: middle;\n    }\n\n    .dataframe tbody tr th {\n        vertical-align: top;\n    }\n\n    .dataframe thead th {\n        text-align: right;\n    }\n</style>\n<table border=\"1\" class=\"dataframe\">\n  <thead>\n    <tr style=\"text-align: right;\">\n      <th></th>\n      <th>GSRN</th>\n      <th>grid_in_range</th>\n    </tr>\n  </thead>\n  <tbody>\n    <tr>\n      <th>0</th>\n      <td>570714700000000027</td>\n      <td>609,610,611,651,652,653,654,694,695,696</td>\n    </tr>\n    <tr>\n      <th>1</th>\n      <td>570714700000000034</td>\n      <td>609,610,611,651,652,653,654,694,695,696</td>\n    </tr>\n    <tr>\n      <th>2</th>\n      <td>570714700000000041</td>\n      <td>610,611,652,653,654,694,695,696</td>\n    </tr>\n    <tr>\n      <th>3</th>\n      <td>570714700000000058</td>\n      <td>610,611,652,653,654,694,695,696</td>\n    </tr>\n    <tr>\n      <th>4</th>\n      <td>570714700000000065</td>\n      <td>610,611,652,653,654,694,695,696</td>\n    </tr>\n    <tr>\n      <th>...</th>\n      <td>...</td>\n      <td>...</td>\n    </tr>\n    <tr>\n      <th>7515</th>\n      <td>571313174001699894</td>\n      <td>728,729,730,731,770,771,772,773,813,814</td>\n    </tr>\n    <tr>\n      <th>7516</th>\n      <td>571313174001699900</td>\n      <td>728,729,730,731,770,771,772,773,813,814</td>\n    </tr>\n    <tr>\n      <th>7517</th>\n      <td>571313174001764448</td>\n      <td>607,608,609,649,650,651,691,692,693,734</td>\n    </tr>\n    <tr>\n      <th>7518</th>\n      <td>571313174116253585</td>\n      <td>652,653,693,694,695,696,735,736,737,738,778,779</td>\n    </tr>\n    <tr>\n      <th>7519</th>\n      <td>571313179100196008</td>\n      <td>652,653,693,694,695,696,735,736,737,738,778,779</td>\n    </tr>\n  </tbody>\n</table>\n<p>7520 rows × 2 columns</p>\n</div>",
      "text/plain": "                    GSRN                                    grid_in_range\n0     570714700000000027          609,610,611,651,652,653,654,694,695,696\n1     570714700000000034          609,610,611,651,652,653,654,694,695,696\n2     570714700000000041                  610,611,652,653,654,694,695,696\n3     570714700000000058                  610,611,652,653,654,694,695,696\n4     570714700000000065                  610,611,652,653,654,694,695,696\n...                  ...                                              ...\n7515  571313174001699894          728,729,730,731,770,771,772,773,813,814\n7516  571313174001699900          728,729,730,731,770,771,772,773,813,814\n7517  571313174001764448          607,608,609,649,650,651,691,692,693,734\n7518  571313174116253585  652,653,693,694,695,696,735,736,737,738,778,779\n7519  571313179100196008  652,653,693,694,695,696,735,736,737,738,778,779\n\n[7520 rows x 2 columns]"
     },
     "execution_count": 206,
     "metadata": {},
     "output_type": "execute_result"
    }
   ],
   "source": [
    "windmills_multi_merged"
   ]
  },
  {
   "cell_type": "code",
   "execution_count": 204,
   "metadata": {},
   "outputs": [],
   "source": [
    "windmills_multi_merged.rename(columns={'grid':'grid_in_range'}, inplace=True)"
   ]
  },
  {
   "cell_type": "code",
   "execution_count": 207,
   "metadata": {},
   "outputs": [],
   "source": [
    "f = pd.merge(windmills_grid, windmills_multi_merged, on='GSRN',how='left')"
   ]
  },
  {
   "cell_type": "code",
   "execution_count": 208,
   "metadata": {},
   "outputs": [
    {
     "data": {
      "text/html": "<div>\n<style scoped>\n    .dataframe tbody tr th:only-of-type {\n        vertical-align: middle;\n    }\n\n    .dataframe tbody tr th {\n        vertical-align: top;\n    }\n\n    .dataframe thead th {\n        text-align: right;\n    }\n</style>\n<table border=\"1\" class=\"dataframe\">\n  <thead>\n    <tr style=\"text-align: right;\">\n      <th></th>\n      <th>GSRN</th>\n      <th>Turbine_type</th>\n      <th>Parent_GSRN</th>\n      <th>BBR_municipal</th>\n      <th>Placement</th>\n      <th>UTM_x</th>\n      <th>UTM_y</th>\n      <th>Capacity_kw</th>\n      <th>Rotor_diameter</th>\n      <th>Navhub_height</th>\n      <th>grid</th>\n      <th>grid_in_range</th>\n    </tr>\n  </thead>\n  <tbody>\n    <tr>\n      <th>0</th>\n      <td>0</td>\n      <td>H</td>\n      <td>nan</td>\n      <td>760</td>\n      <td>NaN</td>\n      <td>nan</td>\n      <td>nan</td>\n      <td>11.000</td>\n      <td>13.000</td>\n      <td>18.200</td>\n      <td>0</td>\n      <td>NaN</td>\n    </tr>\n    <tr>\n      <th>1</th>\n      <td>570714700000000027</td>\n      <td>M</td>\n      <td>570714700000050496.000</td>\n      <td>101</td>\n      <td>LAND</td>\n      <td>720898.353</td>\n      <td>6171174.877</td>\n      <td>225.000</td>\n      <td>27.000</td>\n      <td>30.000</td>\n      <td>653</td>\n      <td>609,610,611,651,652,653,654,694,695,696</td>\n    </tr>\n    <tr>\n      <th>2</th>\n      <td>570714700000000034</td>\n      <td>M</td>\n      <td>570714700000050496.000</td>\n      <td>101</td>\n      <td>LAND</td>\n      <td>720993.352</td>\n      <td>6171226.877</td>\n      <td>225.000</td>\n      <td>27.000</td>\n      <td>30.000</td>\n      <td>653</td>\n      <td>609,610,611,651,652,653,654,694,695,696</td>\n    </tr>\n    <tr>\n      <th>3</th>\n      <td>570714700000000041</td>\n      <td>M</td>\n      <td>570714700000050496.000</td>\n      <td>101</td>\n      <td>LAND</td>\n      <td>727504.304</td>\n      <td>6178385.864</td>\n      <td>600.000</td>\n      <td>44.000</td>\n      <td>50.000</td>\n      <td>653</td>\n      <td>610,611,652,653,654,694,695,696</td>\n    </tr>\n    <tr>\n      <th>4</th>\n      <td>570714700000000058</td>\n      <td>M</td>\n      <td>570714700000050496.000</td>\n      <td>101</td>\n      <td>LAND</td>\n      <td>727628.303</td>\n      <td>6178385.865</td>\n      <td>600.000</td>\n      <td>44.000</td>\n      <td>50.000</td>\n      <td>653</td>\n      <td>610,611,652,653,654,694,695,696</td>\n    </tr>\n    <tr>\n      <th>...</th>\n      <td>...</td>\n      <td>...</td>\n      <td>...</td>\n      <td>...</td>\n      <td>...</td>\n      <td>...</td>\n      <td>...</td>\n      <td>...</td>\n      <td>...</td>\n      <td>...</td>\n      <td>...</td>\n      <td>...</td>\n    </tr>\n    <tr>\n      <th>9848</th>\n      <td>571313179100075143</td>\n      <td>H</td>\n      <td>nan</td>\n      <td>219</td>\n      <td>NaN</td>\n      <td>nan</td>\n      <td>nan</td>\n      <td>10.000</td>\n      <td>13.000</td>\n      <td>18.200</td>\n      <td>0</td>\n      <td>NaN</td>\n    </tr>\n    <tr>\n      <th>9849</th>\n      <td>571313179100118352</td>\n      <td>H</td>\n      <td>nan</td>\n      <td>260</td>\n      <td>NaN</td>\n      <td>nan</td>\n      <td>nan</td>\n      <td>10.000</td>\n      <td>7.000</td>\n      <td>18.000</td>\n      <td>0</td>\n      <td>NaN</td>\n    </tr>\n    <tr>\n      <th>9850</th>\n      <td>571313179100196008</td>\n      <td>W</td>\n      <td>nan</td>\n      <td>265</td>\n      <td>LAND</td>\n      <td>694663.000</td>\n      <td>6175328.000</td>\n      <td>1200.000</td>\n      <td>29.000</td>\n      <td>59.500</td>\n      <td>736</td>\n      <td>652,653,693,694,695,696,735,736,737,738,778,779</td>\n    </tr>\n    <tr>\n      <th>9851</th>\n      <td>571313179100992129</td>\n      <td>H</td>\n      <td>nan</td>\n      <td>250</td>\n      <td>NaN</td>\n      <td>nan</td>\n      <td>nan</td>\n      <td>25.000</td>\n      <td>11.000</td>\n      <td>23.500</td>\n      <td>0</td>\n      <td>NaN</td>\n    </tr>\n    <tr>\n      <th>9852</th>\n      <td>571313186000124581</td>\n      <td>H</td>\n      <td>nan</td>\n      <td>751</td>\n      <td>NaN</td>\n      <td>nan</td>\n      <td>nan</td>\n      <td>20.000</td>\n      <td>8.000</td>\n      <td>13.000</td>\n      <td>0</td>\n      <td>NaN</td>\n    </tr>\n  </tbody>\n</table>\n<p>9853 rows × 12 columns</p>\n</div>",
      "text/plain": "                    GSRN Turbine_type            Parent_GSRN  BBR_municipal  \\\n0                      0            H                    nan            760   \n1     570714700000000027            M 570714700000050496.000            101   \n2     570714700000000034            M 570714700000050496.000            101   \n3     570714700000000041            M 570714700000050496.000            101   \n4     570714700000000058            M 570714700000050496.000            101   \n...                  ...          ...                    ...            ...   \n9848  571313179100075143            H                    nan            219   \n9849  571313179100118352            H                    nan            260   \n9850  571313179100196008            W                    nan            265   \n9851  571313179100992129            H                    nan            250   \n9852  571313186000124581            H                    nan            751   \n\n     Placement      UTM_x       UTM_y  Capacity_kw  Rotor_diameter  \\\n0          NaN        nan         nan       11.000          13.000   \n1         LAND 720898.353 6171174.877      225.000          27.000   \n2         LAND 720993.352 6171226.877      225.000          27.000   \n3         LAND 727504.304 6178385.864      600.000          44.000   \n4         LAND 727628.303 6178385.865      600.000          44.000   \n...        ...        ...         ...          ...             ...   \n9848       NaN        nan         nan       10.000          13.000   \n9849       NaN        nan         nan       10.000           7.000   \n9850      LAND 694663.000 6175328.000     1200.000          29.000   \n9851       NaN        nan         nan       25.000          11.000   \n9852       NaN        nan         nan       20.000           8.000   \n\n      Navhub_height grid                                    grid_in_range  \n0            18.200    0                                              NaN  \n1            30.000  653          609,610,611,651,652,653,654,694,695,696  \n2            30.000  653          609,610,611,651,652,653,654,694,695,696  \n3            50.000  653                  610,611,652,653,654,694,695,696  \n4            50.000  653                  610,611,652,653,654,694,695,696  \n...             ...  ...                                              ...  \n9848         18.200    0                                              NaN  \n9849         18.000    0                                              NaN  \n9850         59.500  736  652,653,693,694,695,696,735,736,737,738,778,779  \n9851         23.500    0                                              NaN  \n9852         13.000    0                                              NaN  \n\n[9853 rows x 12 columns]"
     },
     "execution_count": 208,
     "metadata": {},
     "output_type": "execute_result"
    }
   ],
   "source": [
    "f"
   ]
  },
  {
   "cell_type": "code",
   "execution_count": 209,
   "metadata": {},
   "outputs": [],
   "source": [
    "f.to_csv('data/windmill_cleaned.csv')"
   ]
  },
  {
   "cell_type": "code",
   "execution_count": 5,
   "metadata": {},
   "outputs": [
    {
     "name": "stdout",
     "output_type": "stream",
     "text": "354\n"
    },
    {
     "data": {
      "text/html": "<div>\n<style scoped>\n    .dataframe tbody tr th:only-of-type {\n        vertical-align: middle;\n    }\n\n    .dataframe tbody tr th {\n        vertical-align: top;\n    }\n\n    .dataframe thead th {\n        text-align: right;\n    }\n</style>\n<table border=\"1\" class=\"dataframe\">\n  <thead>\n    <tr style=\"text-align: right;\">\n      <th></th>\n      <th>grid</th>\n      <th>utm_x</th>\n      <th>utm_y</th>\n    </tr>\n  </thead>\n  <tbody>\n    <tr>\n      <th>0</th>\n      <td>190</td>\n      <td>895390</td>\n      <td>6112543</td>\n    </tr>\n    <tr>\n      <th>1</th>\n      <td>191</td>\n      <td>899875</td>\n      <td>6128134</td>\n    </tr>\n    <tr>\n      <th>2</th>\n      <td>231</td>\n      <td>874801</td>\n      <td>6101548</td>\n    </tr>\n    <tr>\n      <th>3</th>\n      <td>232</td>\n      <td>879280</td>\n      <td>6117148</td>\n    </tr>\n    <tr>\n      <th>4</th>\n      <td>233</td>\n      <td>883767</td>\n      <td>6132746</td>\n    </tr>\n    <tr>\n      <th>5</th>\n      <td>273</td>\n      <td>858691</td>\n      <td>6106142</td>\n    </tr>\n    <tr>\n      <th>6</th>\n      <td>274</td>\n      <td>863172</td>\n      <td>6121751</td>\n    </tr>\n    <tr>\n      <th>7</th>\n      <td>275</td>\n      <td>867660</td>\n      <td>6137358</td>\n    </tr>\n    <tr>\n      <th>8</th>\n      <td>314</td>\n      <td>838109</td>\n      <td>6095118</td>\n    </tr>\n    <tr>\n      <th>9</th>\n      <td>315</td>\n      <td>842583</td>\n      <td>6110737</td>\n    </tr>\n  </tbody>\n</table>\n</div>",
      "text/plain": "   grid   utm_x    utm_y\n0   190  895390  6112543\n1   191  899875  6128134\n2   231  874801  6101548\n3   232  879280  6117148\n4   233  883767  6132746\n5   273  858691  6106142\n6   274  863172  6121751\n7   275  867660  6137358\n8   314  838109  6095118\n9   315  842583  6110737"
     },
     "execution_count": 5,
     "metadata": {},
     "output_type": "execute_result"
    }
   ],
   "source": [
    "weather_grids = pd.read_csv('data/ITU_DATA/prognosis/grid_coordinates.csv') \n",
    "print(len(weather_grids))\n",
    "weather_grids.head(10)"
   ]
  },
  {
   "cell_type": "code",
   "execution_count": 6,
   "metadata": {},
   "outputs": [],
   "source": [
    "observed_pressure = pq.read_table('data/ITU_DATA/observations/observed_pressure.parquet').to_pandas()"
   ]
  },
  {
   "cell_type": "code",
   "execution_count": 7,
   "metadata": {},
   "outputs": [
    {
     "name": "stdout",
     "output_type": "stream",
     "text": "22890252\n"
    },
    {
     "data": {
      "text/html": "<div>\n<style scoped>\n    .dataframe tbody tr th:only-of-type {\n        vertical-align: middle;\n    }\n\n    .dataframe tbody tr th {\n        vertical-align: top;\n    }\n\n    .dataframe thead th {\n        text-align: right;\n    }\n</style>\n<table border=\"1\" class=\"dataframe\">\n  <thead>\n    <tr style=\"text-align: right;\">\n      <th></th>\n      <th>municipal</th>\n      <th>subtype</th>\n      <th>value</th>\n      <th>unit</th>\n    </tr>\n    <tr>\n      <th>timestamp_utc</th>\n      <th></th>\n      <th></th>\n      <th></th>\n      <th></th>\n    </tr>\n  </thead>\n  <tbody>\n    <tr>\n      <th>2019-06-24 10:00:00</th>\n      <td>Horsens</td>\n      <td>Time atmosfæretryk</td>\n      <td>1027.078491</td>\n      <td>hPa</td>\n    </tr>\n    <tr>\n      <th>2019-06-24 07:00:00</th>\n      <td>Københavns</td>\n      <td>Time atmosfæretryk</td>\n      <td>1027.699951</td>\n      <td>hPa</td>\n    </tr>\n    <tr>\n      <th>2019-06-24 10:00:00</th>\n      <td>Mariagerfjord</td>\n      <td>Time atmosfæretryk</td>\n      <td>1027.682251</td>\n      <td>hPa</td>\n    </tr>\n    <tr>\n      <th>2019-06-24 00:00:00</th>\n      <td>Morsø</td>\n      <td>Time atmosfæretryk</td>\n      <td>1026.642578</td>\n      <td>hPa</td>\n    </tr>\n    <tr>\n      <th>2019-06-23 22:00:00</th>\n      <td>Næstved</td>\n      <td>Time atmosfæretryk</td>\n      <td>1026.166016</td>\n      <td>hPa</td>\n    </tr>\n    <tr>\n      <th>2019-06-24 16:00:00</th>\n      <td>Odsherred</td>\n      <td>Time atmosfæretryk</td>\n      <td>1026.213379</td>\n      <td>hPa</td>\n    </tr>\n    <tr>\n      <th>2019-06-24 21:00:00</th>\n      <td>Odsherred</td>\n      <td>Time atmosfæretryk</td>\n      <td>1025.884277</td>\n      <td>hPa</td>\n    </tr>\n    <tr>\n      <th>2019-06-24 06:00:00</th>\n      <td>Slagelse</td>\n      <td>Time atmosfæretryk</td>\n      <td>1027.182861</td>\n      <td>hPa</td>\n    </tr>\n    <tr>\n      <th>2019-06-24 14:00:00</th>\n      <td>Sorø</td>\n      <td>Time atmosfæretryk</td>\n      <td>1026.566650</td>\n      <td>hPa</td>\n    </tr>\n    <tr>\n      <th>2019-06-24 08:00:00</th>\n      <td>Tønder</td>\n      <td>Time atmosfæretryk</td>\n      <td>1025.446533</td>\n      <td>hPa</td>\n    </tr>\n  </tbody>\n</table>\n</div>",
      "text/plain": "                         municipal             subtype        value unit\ntimestamp_utc                                                           \n2019-06-24 10:00:00        Horsens  Time atmosfæretryk  1027.078491  hPa\n2019-06-24 07:00:00     Københavns  Time atmosfæretryk  1027.699951  hPa\n2019-06-24 10:00:00  Mariagerfjord  Time atmosfæretryk  1027.682251  hPa\n2019-06-24 00:00:00          Morsø  Time atmosfæretryk  1026.642578  hPa\n2019-06-23 22:00:00        Næstved  Time atmosfæretryk  1026.166016  hPa\n2019-06-24 16:00:00      Odsherred  Time atmosfæretryk  1026.213379  hPa\n2019-06-24 21:00:00      Odsherred  Time atmosfæretryk  1025.884277  hPa\n2019-06-24 06:00:00       Slagelse  Time atmosfæretryk  1027.182861  hPa\n2019-06-24 14:00:00           Sorø  Time atmosfæretryk  1026.566650  hPa\n2019-06-24 08:00:00         Tønder  Time atmosfæretryk  1025.446533  hPa"
     },
     "execution_count": 7,
     "metadata": {},
     "output_type": "execute_result"
    }
   ],
   "source": [
    "print(len(observed_pressure))\n",
    "observed_pressure.tail(10)"
   ]
  },
  {
   "cell_type": "code",
   "execution_count": 7,
   "metadata": {},
   "outputs": [],
   "source": [
    "observed_wind_speed_high10 = pq.read_table('data/ITU_DATA/observations/observed_wind_speed_high10.parquet').to_pandas()\n",
    "print(len(observed_wind_speed_high10))\n",
    "observed_wind_speed_high10.tail(10)"
   ]
  },
  {
   "cell_type": "code",
   "execution_count": 8,
   "metadata": {},
   "outputs": [],
   "source": [
    "wind_speed_10m = pq.read_table('data/ITU_DATA/prognosis/ENetNEA/wind_speed_10m.parquet').to_pandas()"
   ]
  },
  {
   "cell_type": "code",
   "execution_count": 27,
   "metadata": {},
   "outputs": [
    {
     "name": "stdout",
     "output_type": "stream",
     "text": "(291280, 355)\n"
    },
    {
     "data": {
      "text/html": "<div>\n<style scoped>\n    .dataframe tbody tr th:only-of-type {\n        vertical-align: middle;\n    }\n\n    .dataframe tbody tr th {\n        vertical-align: top;\n    }\n\n    .dataframe thead th {\n        text-align: right;\n    }\n</style>\n<table border=\"1\" class=\"dataframe\">\n  <thead>\n    <tr style=\"text-align: right;\">\n      <th></th>\n      <th>190</th>\n      <th>191</th>\n      <th>231</th>\n      <th>232</th>\n      <th>233</th>\n      <th>273</th>\n      <th>274</th>\n      <th>275</th>\n      <th>314</th>\n      <th>315</th>\n      <th>...</th>\n      <th>1412</th>\n      <th>1413</th>\n      <th>1445</th>\n      <th>1446</th>\n      <th>1447</th>\n      <th>1448</th>\n      <th>1449</th>\n      <th>1450</th>\n      <th>1451</th>\n      <th>predicted_ahead</th>\n    </tr>\n  </thead>\n  <tbody>\n    <tr>\n      <td>2020-01-11 14:00:00</td>\n      <td>11.5</td>\n      <td>10.8</td>\n      <td>11.7</td>\n      <td>9.1</td>\n      <td>8.6</td>\n      <td>11.1</td>\n      <td>9.2</td>\n      <td>8.7</td>\n      <td>10.9</td>\n      <td>11.4</td>\n      <td>...</td>\n      <td>15.6</td>\n      <td>15.7</td>\n      <td>16.4</td>\n      <td>16.1</td>\n      <td>15.6</td>\n      <td>15.6</td>\n      <td>15.6</td>\n      <td>15.5</td>\n      <td>15.7</td>\n      <td>51</td>\n    </tr>\n    <tr>\n      <td>2020-01-11 15:00:00</td>\n      <td>12.3</td>\n      <td>11.8</td>\n      <td>12.4</td>\n      <td>9.9</td>\n      <td>9.2</td>\n      <td>12.1</td>\n      <td>9.8</td>\n      <td>9.3</td>\n      <td>11.7</td>\n      <td>12.2</td>\n      <td>...</td>\n      <td>15.6</td>\n      <td>15.6</td>\n      <td>16.2</td>\n      <td>15.9</td>\n      <td>15.9</td>\n      <td>15.5</td>\n      <td>15.8</td>\n      <td>15.8</td>\n      <td>15.9</td>\n      <td>52</td>\n    </tr>\n    <tr>\n      <td>2020-01-11 16:00:00</td>\n      <td>12.9</td>\n      <td>11.8</td>\n      <td>13.1</td>\n      <td>10.7</td>\n      <td>9.5</td>\n      <td>12.6</td>\n      <td>10.1</td>\n      <td>9.8</td>\n      <td>11.8</td>\n      <td>12.4</td>\n      <td>...</td>\n      <td>15.3</td>\n      <td>15.2</td>\n      <td>16.7</td>\n      <td>16.3</td>\n      <td>16.0</td>\n      <td>15.9</td>\n      <td>15.8</td>\n      <td>15.8</td>\n      <td>15.9</td>\n      <td>53</td>\n    </tr>\n    <tr>\n      <td>2020-01-11 17:00:00</td>\n      <td>13.5</td>\n      <td>11.6</td>\n      <td>13.2</td>\n      <td>11.0</td>\n      <td>11.2</td>\n      <td>13.1</td>\n      <td>10.3</td>\n      <td>9.8</td>\n      <td>12.3</td>\n      <td>13.0</td>\n      <td>...</td>\n      <td>14.8</td>\n      <td>15.0</td>\n      <td>16.6</td>\n      <td>16.5</td>\n      <td>16.5</td>\n      <td>16.3</td>\n      <td>16.2</td>\n      <td>16.0</td>\n      <td>15.9</td>\n      <td>54</td>\n    </tr>\n    <tr>\n      <td>2020-01-11 18:00:00</td>\n      <td>13.6</td>\n      <td>11.8</td>\n      <td>13.4</td>\n      <td>11.5</td>\n      <td>11.5</td>\n      <td>13.2</td>\n      <td>10.5</td>\n      <td>10.1</td>\n      <td>12.7</td>\n      <td>13.3</td>\n      <td>...</td>\n      <td>15.3</td>\n      <td>15.0</td>\n      <td>16.7</td>\n      <td>16.7</td>\n      <td>16.6</td>\n      <td>16.5</td>\n      <td>16.0</td>\n      <td>16.2</td>\n      <td>16.1</td>\n      <td>55</td>\n    </tr>\n    <tr>\n      <td>2020-01-10 00:00:00</td>\n      <td>7.9</td>\n      <td>7.2</td>\n      <td>9.4</td>\n      <td>5.6</td>\n      <td>5.9</td>\n      <td>8.9</td>\n      <td>6.5</td>\n      <td>6.2</td>\n      <td>8.7</td>\n      <td>9.0</td>\n      <td>...</td>\n      <td>10.2</td>\n      <td>11.1</td>\n      <td>8.1</td>\n      <td>7.1</td>\n      <td>6.7</td>\n      <td>6.3</td>\n      <td>5.1</td>\n      <td>4.7</td>\n      <td>3.6</td>\n      <td>1</td>\n    </tr>\n    <tr>\n      <td>2020-01-10 01:00:00</td>\n      <td>8.2</td>\n      <td>7.2</td>\n      <td>8.3</td>\n      <td>5.3</td>\n      <td>6.0</td>\n      <td>7.9</td>\n      <td>6.1</td>\n      <td>5.3</td>\n      <td>7.6</td>\n      <td>7.5</td>\n      <td>...</td>\n      <td>12.2</td>\n      <td>11.9</td>\n      <td>6.9</td>\n      <td>6.3</td>\n      <td>5.3</td>\n      <td>4.7</td>\n      <td>4.4</td>\n      <td>3.6</td>\n      <td>9.3</td>\n      <td>2</td>\n    </tr>\n    <tr>\n      <td>2020-01-10 02:00:00</td>\n      <td>6.7</td>\n      <td>5.7</td>\n      <td>7.6</td>\n      <td>4.7</td>\n      <td>5.2</td>\n      <td>7.0</td>\n      <td>2.8</td>\n      <td>4.1</td>\n      <td>6.8</td>\n      <td>6.4</td>\n      <td>...</td>\n      <td>11.9</td>\n      <td>12.0</td>\n      <td>5.8</td>\n      <td>4.5</td>\n      <td>4.1</td>\n      <td>2.6</td>\n      <td>3.1</td>\n      <td>10.5</td>\n      <td>11.7</td>\n      <td>3</td>\n    </tr>\n    <tr>\n      <td>2020-01-10 03:00:00</td>\n      <td>5.8</td>\n      <td>5.2</td>\n      <td>6.7</td>\n      <td>3.5</td>\n      <td>4.2</td>\n      <td>6.1</td>\n      <td>3.4</td>\n      <td>4.3</td>\n      <td>6.3</td>\n      <td>4.3</td>\n      <td>...</td>\n      <td>11.8</td>\n      <td>12.1</td>\n      <td>3.3</td>\n      <td>2.6</td>\n      <td>4.0</td>\n      <td>9.8</td>\n      <td>10.0</td>\n      <td>10.7</td>\n      <td>11.7</td>\n      <td>4</td>\n    </tr>\n    <tr>\n      <td>2020-01-10 04:00:00</td>\n      <td>3.6</td>\n      <td>4.9</td>\n      <td>6.5</td>\n      <td>2.0</td>\n      <td>4.1</td>\n      <td>6.2</td>\n      <td>3.5</td>\n      <td>3.0</td>\n      <td>6.0</td>\n      <td>3.1</td>\n      <td>...</td>\n      <td>12.1</td>\n      <td>11.6</td>\n      <td>4.3</td>\n      <td>9.0</td>\n      <td>10.5</td>\n      <td>11.9</td>\n      <td>12.1</td>\n      <td>11.9</td>\n      <td>12.2</td>\n      <td>5</td>\n    </tr>\n    <tr>\n      <td>2020-01-10 05:00:00</td>\n      <td>2.1</td>\n      <td>5.8</td>\n      <td>6.2</td>\n      <td>1.2</td>\n      <td>3.4</td>\n      <td>6.3</td>\n      <td>2.2</td>\n      <td>3.1</td>\n      <td>6.1</td>\n      <td>3.0</td>\n      <td>...</td>\n      <td>12.4</td>\n      <td>12.4</td>\n      <td>10.2</td>\n      <td>11.1</td>\n      <td>12.0</td>\n      <td>13.1</td>\n      <td>13.0</td>\n      <td>13.0</td>\n      <td>12.9</td>\n      <td>6</td>\n    </tr>\n    <tr>\n      <td>2020-01-10 06:00:00</td>\n      <td>5.8</td>\n      <td>4.5</td>\n      <td>5.8</td>\n      <td>1.8</td>\n      <td>3.8</td>\n      <td>6.5</td>\n      <td>2.5</td>\n      <td>3.0</td>\n      <td>6.9</td>\n      <td>6.6</td>\n      <td>...</td>\n      <td>12.7</td>\n      <td>13.4</td>\n      <td>12.2</td>\n      <td>12.5</td>\n      <td>12.7</td>\n      <td>12.9</td>\n      <td>13.0</td>\n      <td>13.0</td>\n      <td>13.1</td>\n      <td>7</td>\n    </tr>\n    <tr>\n      <td>2020-01-10 07:00:00</td>\n      <td>6.1</td>\n      <td>4.8</td>\n      <td>6.6</td>\n      <td>3.1</td>\n      <td>4.4</td>\n      <td>6.9</td>\n      <td>3.5</td>\n      <td>3.3</td>\n      <td>7.2</td>\n      <td>6.9</td>\n      <td>...</td>\n      <td>13.7</td>\n      <td>13.9</td>\n      <td>13.0</td>\n      <td>12.9</td>\n      <td>12.8</td>\n      <td>13.1</td>\n      <td>12.9</td>\n      <td>12.9</td>\n      <td>13.2</td>\n      <td>8</td>\n    </tr>\n    <tr>\n      <td>2020-01-10 08:00:00</td>\n      <td>7.0</td>\n      <td>5.7</td>\n      <td>7.5</td>\n      <td>4.2</td>\n      <td>5.0</td>\n      <td>7.2</td>\n      <td>5.3</td>\n      <td>3.7</td>\n      <td>7.1</td>\n      <td>7.1</td>\n      <td>...</td>\n      <td>13.2</td>\n      <td>13.1</td>\n      <td>12.7</td>\n      <td>12.8</td>\n      <td>12.6</td>\n      <td>12.6</td>\n      <td>13.2</td>\n      <td>13.0</td>\n      <td>13.2</td>\n      <td>9</td>\n    </tr>\n    <tr>\n      <td>2020-01-10 09:00:00</td>\n      <td>6.6</td>\n      <td>5.3</td>\n      <td>6.3</td>\n      <td>3.2</td>\n      <td>4.2</td>\n      <td>6.5</td>\n      <td>4.0</td>\n      <td>3.1</td>\n      <td>6.9</td>\n      <td>6.6</td>\n      <td>...</td>\n      <td>12.1</td>\n      <td>12.1</td>\n      <td>12.2</td>\n      <td>12.0</td>\n      <td>12.4</td>\n      <td>12.8</td>\n      <td>12.9</td>\n      <td>12.7</td>\n      <td>12.3</td>\n      <td>10</td>\n    </tr>\n    <tr>\n      <td>2020-01-10 10:00:00</td>\n      <td>6.4</td>\n      <td>4.4</td>\n      <td>6.7</td>\n      <td>3.3</td>\n      <td>3.9</td>\n      <td>7.1</td>\n      <td>2.6</td>\n      <td>1.5</td>\n      <td>6.3</td>\n      <td>6.3</td>\n      <td>...</td>\n      <td>11.1</td>\n      <td>11.2</td>\n      <td>12.0</td>\n      <td>11.8</td>\n      <td>11.9</td>\n      <td>11.8</td>\n      <td>11.9</td>\n      <td>11.7</td>\n      <td>11.4</td>\n      <td>11</td>\n    </tr>\n    <tr>\n      <td>2020-01-10 11:00:00</td>\n      <td>5.9</td>\n      <td>4.2</td>\n      <td>6.4</td>\n      <td>3.1</td>\n      <td>4.5</td>\n      <td>5.5</td>\n      <td>3.1</td>\n      <td>2.7</td>\n      <td>4.1</td>\n      <td>3.8</td>\n      <td>...</td>\n      <td>10.5</td>\n      <td>10.5</td>\n      <td>11.6</td>\n      <td>11.3</td>\n      <td>11.3</td>\n      <td>11.1</td>\n      <td>11.1</td>\n      <td>10.8</td>\n      <td>10.5</td>\n      <td>12</td>\n    </tr>\n    <tr>\n      <td>2020-01-10 12:00:00</td>\n      <td>5.2</td>\n      <td>4.8</td>\n      <td>4.0</td>\n      <td>3.3</td>\n      <td>2.9</td>\n      <td>3.8</td>\n      <td>2.4</td>\n      <td>1.9</td>\n      <td>4.5</td>\n      <td>3.7</td>\n      <td>...</td>\n      <td>9.9</td>\n      <td>9.8</td>\n      <td>12.2</td>\n      <td>12.0</td>\n      <td>11.8</td>\n      <td>11.3</td>\n      <td>11.0</td>\n      <td>10.7</td>\n      <td>10.4</td>\n      <td>13</td>\n    </tr>\n    <tr>\n      <td>2020-01-10 13:00:00</td>\n      <td>3.4</td>\n      <td>3.1</td>\n      <td>4.3</td>\n      <td>1.9</td>\n      <td>2.3</td>\n      <td>4.0</td>\n      <td>2.9</td>\n      <td>1.3</td>\n      <td>4.0</td>\n      <td>4.0</td>\n      <td>...</td>\n      <td>10.3</td>\n      <td>10.4</td>\n      <td>12.4</td>\n      <td>12.2</td>\n      <td>11.9</td>\n      <td>11.4</td>\n      <td>11.2</td>\n      <td>10.9</td>\n      <td>10.7</td>\n      <td>14</td>\n    </tr>\n    <tr>\n      <td>2020-01-10 14:00:00</td>\n      <td>2.9</td>\n      <td>3.3</td>\n      <td>5.4</td>\n      <td>2.7</td>\n      <td>2.6</td>\n      <td>6.3</td>\n      <td>3.3</td>\n      <td>2.4</td>\n      <td>5.5</td>\n      <td>6.1</td>\n      <td>...</td>\n      <td>10.2</td>\n      <td>10.3</td>\n      <td>11.8</td>\n      <td>11.4</td>\n      <td>11.2</td>\n      <td>10.9</td>\n      <td>10.9</td>\n      <td>10.8</td>\n      <td>10.3</td>\n      <td>15</td>\n    </tr>\n    <tr>\n      <td>2020-01-10 15:00:00</td>\n      <td>5.7</td>\n      <td>3.9</td>\n      <td>6.1</td>\n      <td>3.8</td>\n      <td>4.0</td>\n      <td>5.7</td>\n      <td>4.2</td>\n      <td>2.8</td>\n      <td>5.4</td>\n      <td>5.3</td>\n      <td>...</td>\n      <td>9.3</td>\n      <td>9.3</td>\n      <td>10.7</td>\n      <td>10.6</td>\n      <td>10.4</td>\n      <td>10.2</td>\n      <td>10.0</td>\n      <td>9.6</td>\n      <td>9.2</td>\n      <td>16</td>\n    </tr>\n    <tr>\n      <td>2020-01-10 16:00:00</td>\n      <td>5.0</td>\n      <td>5.0</td>\n      <td>5.6</td>\n      <td>3.6</td>\n      <td>3.1</td>\n      <td>5.2</td>\n      <td>3.4</td>\n      <td>2.0</td>\n      <td>6.5</td>\n      <td>5.5</td>\n      <td>...</td>\n      <td>8.3</td>\n      <td>8.3</td>\n      <td>10.0</td>\n      <td>9.7</td>\n      <td>9.5</td>\n      <td>9.2</td>\n      <td>9.1</td>\n      <td>8.8</td>\n      <td>8.5</td>\n      <td>17</td>\n    </tr>\n    <tr>\n      <td>2020-01-10 17:00:00</td>\n      <td>4.7</td>\n      <td>2.8</td>\n      <td>6.2</td>\n      <td>3.0</td>\n      <td>3.5</td>\n      <td>5.5</td>\n      <td>3.4</td>\n      <td>2.1</td>\n      <td>5.6</td>\n      <td>5.3</td>\n      <td>...</td>\n      <td>7.2</td>\n      <td>7.3</td>\n      <td>8.5</td>\n      <td>8.4</td>\n      <td>8.3</td>\n      <td>7.9</td>\n      <td>7.8</td>\n      <td>7.4</td>\n      <td>7.1</td>\n      <td>18</td>\n    </tr>\n    <tr>\n      <td>2020-01-10 18:00:00</td>\n      <td>3.8</td>\n      <td>3.7</td>\n      <td>6.0</td>\n      <td>3.3</td>\n      <td>2.8</td>\n      <td>6.6</td>\n      <td>3.8</td>\n      <td>2.1</td>\n      <td>8.9</td>\n      <td>7.2</td>\n      <td>...</td>\n      <td>6.1</td>\n      <td>6.1</td>\n      <td>7.4</td>\n      <td>7.0</td>\n      <td>6.8</td>\n      <td>6.6</td>\n      <td>6.4</td>\n      <td>6.1</td>\n      <td>5.8</td>\n      <td>19</td>\n    </tr>\n    <tr>\n      <td>2020-01-10 19:00:00</td>\n      <td>3.6</td>\n      <td>4.3</td>\n      <td>6.6</td>\n      <td>2.8</td>\n      <td>3.9</td>\n      <td>6.1</td>\n      <td>3.3</td>\n      <td>1.7</td>\n      <td>8.6</td>\n      <td>7.5</td>\n      <td>...</td>\n      <td>4.8</td>\n      <td>4.7</td>\n      <td>6.3</td>\n      <td>6.1</td>\n      <td>5.8</td>\n      <td>5.5</td>\n      <td>5.3</td>\n      <td>5.0</td>\n      <td>4.7</td>\n      <td>20</td>\n    </tr>\n    <tr>\n      <td>2020-01-10 20:00:00</td>\n      <td>5.2</td>\n      <td>8.9</td>\n      <td>4.8</td>\n      <td>3.3</td>\n      <td>7.0</td>\n      <td>6.6</td>\n      <td>3.5</td>\n      <td>4.4</td>\n      <td>8.4</td>\n      <td>7.3</td>\n      <td>...</td>\n      <td>2.8</td>\n      <td>2.8</td>\n      <td>4.5</td>\n      <td>4.3</td>\n      <td>3.9</td>\n      <td>3.5</td>\n      <td>3.2</td>\n      <td>3.0</td>\n      <td>2.6</td>\n      <td>21</td>\n    </tr>\n    <tr>\n      <td>2020-01-10 21:00:00</td>\n      <td>10.6</td>\n      <td>11.0</td>\n      <td>5.4</td>\n      <td>6.7</td>\n      <td>9.7</td>\n      <td>5.3</td>\n      <td>6.5</td>\n      <td>6.4</td>\n      <td>8.1</td>\n      <td>9.5</td>\n      <td>...</td>\n      <td>1.0</td>\n      <td>0.9</td>\n      <td>4.0</td>\n      <td>3.4</td>\n      <td>3.1</td>\n      <td>2.8</td>\n      <td>2.7</td>\n      <td>2.5</td>\n      <td>2.4</td>\n      <td>22</td>\n    </tr>\n    <tr>\n      <td>2020-01-10 22:00:00</td>\n      <td>10.6</td>\n      <td>10.6</td>\n      <td>8.3</td>\n      <td>6.4</td>\n      <td>9.4</td>\n      <td>7.9</td>\n      <td>6.0</td>\n      <td>6.0</td>\n      <td>10.3</td>\n      <td>9.9</td>\n      <td>...</td>\n      <td>2.9</td>\n      <td>3.1</td>\n      <td>4.7</td>\n      <td>4.3</td>\n      <td>3.9</td>\n      <td>3.7</td>\n      <td>3.5</td>\n      <td>3.5</td>\n      <td>3.2</td>\n      <td>23</td>\n    </tr>\n    <tr>\n      <td>2020-01-10 23:00:00</td>\n      <td>9.4</td>\n      <td>9.8</td>\n      <td>7.9</td>\n      <td>5.8</td>\n      <td>8.6</td>\n      <td>7.7</td>\n      <td>5.2</td>\n      <td>5.4</td>\n      <td>9.0</td>\n      <td>9.3</td>\n      <td>...</td>\n      <td>5.1</td>\n      <td>4.8</td>\n      <td>6.2</td>\n      <td>6.0</td>\n      <td>5.6</td>\n      <td>5.4</td>\n      <td>5.4</td>\n      <td>5.9</td>\n      <td>6.1</td>\n      <td>24</td>\n    </tr>\n    <tr>\n      <td>2020-01-11 00:00:00</td>\n      <td>9.4</td>\n      <td>9.3</td>\n      <td>6.5</td>\n      <td>5.3</td>\n      <td>8.0</td>\n      <td>6.8</td>\n      <td>4.8</td>\n      <td>4.8</td>\n      <td>8.2</td>\n      <td>8.4</td>\n      <td>...</td>\n      <td>6.8</td>\n      <td>7.2</td>\n      <td>7.3</td>\n      <td>7.2</td>\n      <td>7.2</td>\n      <td>7.2</td>\n      <td>6.8</td>\n      <td>6.8</td>\n      <td>6.8</td>\n      <td>25</td>\n    </tr>\n    <tr>\n      <td>2020-01-11 01:00:00</td>\n      <td>9.5</td>\n      <td>9.1</td>\n      <td>6.1</td>\n      <td>4.6</td>\n      <td>7.7</td>\n      <td>7.4</td>\n      <td>4.9</td>\n      <td>4.8</td>\n      <td>8.2</td>\n      <td>8.0</td>\n      <td>...</td>\n      <td>7.5</td>\n      <td>8.1</td>\n      <td>7.7</td>\n      <td>7.6</td>\n      <td>7.7</td>\n      <td>7.8</td>\n      <td>7.9</td>\n      <td>8.0</td>\n      <td>8.1</td>\n      <td>26</td>\n    </tr>\n    <tr>\n      <td>2020-01-11 02:00:00</td>\n      <td>8.5</td>\n      <td>8.4</td>\n      <td>5.8</td>\n      <td>3.4</td>\n      <td>7.1</td>\n      <td>6.5</td>\n      <td>3.9</td>\n      <td>3.9</td>\n      <td>7.0</td>\n      <td>7.2</td>\n      <td>...</td>\n      <td>8.4</td>\n      <td>8.8</td>\n      <td>8.8</td>\n      <td>8.6</td>\n      <td>8.6</td>\n      <td>8.5</td>\n      <td>8.6</td>\n      <td>8.6</td>\n      <td>8.7</td>\n      <td>27</td>\n    </tr>\n    <tr>\n      <td>2020-01-11 03:00:00</td>\n      <td>7.8</td>\n      <td>7.1</td>\n      <td>5.0</td>\n      <td>3.0</td>\n      <td>5.6</td>\n      <td>5.8</td>\n      <td>3.6</td>\n      <td>3.1</td>\n      <td>5.7</td>\n      <td>5.8</td>\n      <td>...</td>\n      <td>9.5</td>\n      <td>9.8</td>\n      <td>10.5</td>\n      <td>10.4</td>\n      <td>10.4</td>\n      <td>10.4</td>\n      <td>10.3</td>\n      <td>10.4</td>\n      <td>10.5</td>\n      <td>28</td>\n    </tr>\n    <tr>\n      <td>2020-01-11 04:00:00</td>\n      <td>5.5</td>\n      <td>6.0</td>\n      <td>4.8</td>\n      <td>2.5</td>\n      <td>4.0</td>\n      <td>5.1</td>\n      <td>3.4</td>\n      <td>2.2</td>\n      <td>5.0</td>\n      <td>5.5</td>\n      <td>...</td>\n      <td>11.4</td>\n      <td>11.7</td>\n      <td>11.9</td>\n      <td>11.9</td>\n      <td>11.9</td>\n      <td>11.9</td>\n      <td>11.9</td>\n      <td>12.0</td>\n      <td>12.2</td>\n      <td>29</td>\n    </tr>\n    <tr>\n      <td>2020-01-11 05:00:00</td>\n      <td>4.1</td>\n      <td>5.3</td>\n      <td>4.6</td>\n      <td>2.4</td>\n      <td>4.1</td>\n      <td>5.1</td>\n      <td>2.8</td>\n      <td>1.7</td>\n      <td>5.4</td>\n      <td>5.4</td>\n      <td>...</td>\n      <td>12.8</td>\n      <td>13.2</td>\n      <td>12.9</td>\n      <td>12.9</td>\n      <td>13.0</td>\n      <td>13.0</td>\n      <td>13.1</td>\n      <td>13.1</td>\n      <td>13.5</td>\n      <td>30</td>\n    </tr>\n    <tr>\n      <td>2020-01-11 06:00:00</td>\n      <td>4.0</td>\n      <td>4.7</td>\n      <td>4.0</td>\n      <td>2.2</td>\n      <td>3.8</td>\n      <td>5.0</td>\n      <td>4.1</td>\n      <td>2.3</td>\n      <td>4.9</td>\n      <td>4.6</td>\n      <td>...</td>\n      <td>14.0</td>\n      <td>14.3</td>\n      <td>14.5</td>\n      <td>14.5</td>\n      <td>14.4</td>\n      <td>14.3</td>\n      <td>14.5</td>\n      <td>14.6</td>\n      <td>14.9</td>\n      <td>31</td>\n    </tr>\n    <tr>\n      <td>2020-01-11 07:00:00</td>\n      <td>3.3</td>\n      <td>4.4</td>\n      <td>5.4</td>\n      <td>2.6</td>\n      <td>3.5</td>\n      <td>5.9</td>\n      <td>4.0</td>\n      <td>2.3</td>\n      <td>5.7</td>\n      <td>5.0</td>\n      <td>...</td>\n      <td>15.1</td>\n      <td>15.5</td>\n      <td>15.3</td>\n      <td>15.3</td>\n      <td>15.3</td>\n      <td>15.3</td>\n      <td>15.4</td>\n      <td>15.5</td>\n      <td>15.7</td>\n      <td>32</td>\n    </tr>\n    <tr>\n      <td>2020-01-11 08:00:00</td>\n      <td>3.8</td>\n      <td>4.9</td>\n      <td>5.7</td>\n      <td>2.1</td>\n      <td>3.2</td>\n      <td>4.9</td>\n      <td>3.8</td>\n      <td>2.5</td>\n      <td>4.8</td>\n      <td>4.7</td>\n      <td>...</td>\n      <td>16.0</td>\n      <td>16.3</td>\n      <td>15.8</td>\n      <td>15.5</td>\n      <td>15.4</td>\n      <td>15.7</td>\n      <td>15.8</td>\n      <td>15.9</td>\n      <td>16.3</td>\n      <td>33</td>\n    </tr>\n    <tr>\n      <td>2020-01-11 09:00:00</td>\n      <td>3.7</td>\n      <td>4.7</td>\n      <td>4.7</td>\n      <td>2.7</td>\n      <td>2.9</td>\n      <td>3.8</td>\n      <td>3.0</td>\n      <td>2.5</td>\n      <td>4.3</td>\n      <td>4.2</td>\n      <td>...</td>\n      <td>16.8</td>\n      <td>17.2</td>\n      <td>15.8</td>\n      <td>15.7</td>\n      <td>15.8</td>\n      <td>15.9</td>\n      <td>16.1</td>\n      <td>16.0</td>\n      <td>16.2</td>\n      <td>34</td>\n    </tr>\n    <tr>\n      <td>2020-01-11 10:00:00</td>\n      <td>5.0</td>\n      <td>3.7</td>\n      <td>4.6</td>\n      <td>3.5</td>\n      <td>3.2</td>\n      <td>5.2</td>\n      <td>4.2</td>\n      <td>3.3</td>\n      <td>5.5</td>\n      <td>6.1</td>\n      <td>...</td>\n      <td>16.7</td>\n      <td>17.3</td>\n      <td>15.9</td>\n      <td>15.8</td>\n      <td>15.8</td>\n      <td>16.0</td>\n      <td>16.2</td>\n      <td>16.2</td>\n      <td>16.6</td>\n      <td>35</td>\n    </tr>\n    <tr>\n      <td>2020-01-11 11:00:00</td>\n      <td>6.3</td>\n      <td>5.5</td>\n      <td>6.6</td>\n      <td>5.4</td>\n      <td>4.9</td>\n      <td>6.5</td>\n      <td>6.1</td>\n      <td>5.5</td>\n      <td>7.0</td>\n      <td>7.2</td>\n      <td>...</td>\n      <td>16.9</td>\n      <td>17.4</td>\n      <td>16.3</td>\n      <td>16.2</td>\n      <td>16.2</td>\n      <td>16.2</td>\n      <td>16.4</td>\n      <td>16.3</td>\n      <td>16.5</td>\n      <td>36</td>\n    </tr>\n    <tr>\n      <td>2020-01-11 12:00:00</td>\n      <td>8.3</td>\n      <td>7.3</td>\n      <td>7.3</td>\n      <td>6.0</td>\n      <td>5.6</td>\n      <td>7.9</td>\n      <td>6.6</td>\n      <td>6.3</td>\n      <td>7.7</td>\n      <td>8.0</td>\n      <td>...</td>\n      <td>17.1</td>\n      <td>17.6</td>\n      <td>16.4</td>\n      <td>16.5</td>\n      <td>16.6</td>\n      <td>16.7</td>\n      <td>16.8</td>\n      <td>16.8</td>\n      <td>16.9</td>\n      <td>37</td>\n    </tr>\n    <tr>\n      <td>2020-01-11 13:00:00</td>\n      <td>9.1</td>\n      <td>8.1</td>\n      <td>8.4</td>\n      <td>7.0</td>\n      <td>6.4</td>\n      <td>8.3</td>\n      <td>7.2</td>\n      <td>7.1</td>\n      <td>8.6</td>\n      <td>9.0</td>\n      <td>...</td>\n      <td>17.0</td>\n      <td>17.6</td>\n      <td>16.7</td>\n      <td>16.8</td>\n      <td>16.8</td>\n      <td>16.7</td>\n      <td>16.7</td>\n      <td>16.5</td>\n      <td>16.6</td>\n      <td>38</td>\n    </tr>\n    <tr>\n      <td>2020-01-11 14:00:00</td>\n      <td>9.9</td>\n      <td>9.0</td>\n      <td>9.7</td>\n      <td>7.4</td>\n      <td>6.8</td>\n      <td>9.3</td>\n      <td>7.8</td>\n      <td>7.8</td>\n      <td>9.1</td>\n      <td>9.5</td>\n      <td>...</td>\n      <td>16.7</td>\n      <td>17.2</td>\n      <td>16.9</td>\n      <td>16.8</td>\n      <td>16.7</td>\n      <td>16.5</td>\n      <td>16.4</td>\n      <td>16.3</td>\n      <td>16.5</td>\n      <td>39</td>\n    </tr>\n    <tr>\n      <td>2020-01-11 15:00:00</td>\n      <td>11.2</td>\n      <td>9.5</td>\n      <td>10.5</td>\n      <td>8.1</td>\n      <td>7.4</td>\n      <td>10.3</td>\n      <td>8.3</td>\n      <td>7.7</td>\n      <td>10.1</td>\n      <td>10.3</td>\n      <td>...</td>\n      <td>16.4</td>\n      <td>16.4</td>\n      <td>16.5</td>\n      <td>16.3</td>\n      <td>16.3</td>\n      <td>16.2</td>\n      <td>16.2</td>\n      <td>15.9</td>\n      <td>16.2</td>\n      <td>40</td>\n    </tr>\n    <tr>\n      <td>2020-01-11 16:00:00</td>\n      <td>11.9</td>\n      <td>10.5</td>\n      <td>11.2</td>\n      <td>8.5</td>\n      <td>8.5</td>\n      <td>11.4</td>\n      <td>9.4</td>\n      <td>8.4</td>\n      <td>10.8</td>\n      <td>10.9</td>\n      <td>...</td>\n      <td>15.9</td>\n      <td>16.3</td>\n      <td>16.4</td>\n      <td>16.2</td>\n      <td>16.0</td>\n      <td>15.9</td>\n      <td>16.0</td>\n      <td>16.1</td>\n      <td>16.2</td>\n      <td>41</td>\n    </tr>\n    <tr>\n      <td>2020-01-11 17:00:00</td>\n      <td>12.6</td>\n      <td>11.6</td>\n      <td>12.1</td>\n      <td>9.6</td>\n      <td>9.5</td>\n      <td>12.0</td>\n      <td>10.1</td>\n      <td>9.5</td>\n      <td>11.9</td>\n      <td>12.0</td>\n      <td>...</td>\n      <td>15.9</td>\n      <td>16.2</td>\n      <td>16.4</td>\n      <td>16.2</td>\n      <td>16.1</td>\n      <td>15.9</td>\n      <td>16.0</td>\n      <td>16.1</td>\n      <td>16.3</td>\n      <td>42</td>\n    </tr>\n    <tr>\n      <td>2020-01-11 18:00:00</td>\n      <td>12.8</td>\n      <td>12.3</td>\n      <td>12.6</td>\n      <td>10.1</td>\n      <td>10.4</td>\n      <td>12.5</td>\n      <td>10.3</td>\n      <td>10.1</td>\n      <td>12.4</td>\n      <td>12.6</td>\n      <td>...</td>\n      <td>16.5</td>\n      <td>16.6</td>\n      <td>16.6</td>\n      <td>16.4</td>\n      <td>16.2</td>\n      <td>16.1</td>\n      <td>16.4</td>\n      <td>16.4</td>\n      <td>16.4</td>\n      <td>43</td>\n    </tr>\n    <tr>\n      <td>2020-01-11 19:00:00</td>\n      <td>13.7</td>\n      <td>12.6</td>\n      <td>12.9</td>\n      <td>10.9</td>\n      <td>10.6</td>\n      <td>12.8</td>\n      <td>10.6</td>\n      <td>10.4</td>\n      <td>12.3</td>\n      <td>12.8</td>\n      <td>...</td>\n      <td>17.0</td>\n      <td>17.2</td>\n      <td>16.6</td>\n      <td>16.5</td>\n      <td>16.6</td>\n      <td>16.6</td>\n      <td>16.9</td>\n      <td>17.2</td>\n      <td>17.4</td>\n      <td>44</td>\n    </tr>\n    <tr>\n      <td>2020-01-11 20:00:00</td>\n      <td>13.9</td>\n      <td>12.2</td>\n      <td>12.9</td>\n      <td>10.9</td>\n      <td>11.2</td>\n      <td>12.5</td>\n      <td>10.5</td>\n      <td>10.3</td>\n      <td>12.8</td>\n      <td>13.2</td>\n      <td>...</td>\n      <td>17.7</td>\n      <td>17.7</td>\n      <td>16.7</td>\n      <td>16.8</td>\n      <td>17.0</td>\n      <td>17.0</td>\n      <td>17.1</td>\n      <td>17.4</td>\n      <td>18.0</td>\n      <td>45</td>\n    </tr>\n    <tr>\n      <td>2020-01-11 21:00:00</td>\n      <td>13.7</td>\n      <td>11.8</td>\n      <td>12.9</td>\n      <td>10.7</td>\n      <td>11.7</td>\n      <td>12.8</td>\n      <td>10.6</td>\n      <td>10.1</td>\n      <td>12.7</td>\n      <td>13.2</td>\n      <td>...</td>\n      <td>17.3</td>\n      <td>17.7</td>\n      <td>16.6</td>\n      <td>16.7</td>\n      <td>16.8</td>\n      <td>16.7</td>\n      <td>17.0</td>\n      <td>17.7</td>\n      <td>17.6</td>\n      <td>46</td>\n    </tr>\n    <tr>\n      <td>2020-01-11 22:00:00</td>\n      <td>14.0</td>\n      <td>11.3</td>\n      <td>13.1</td>\n      <td>10.6</td>\n      <td>12.0</td>\n      <td>13.0</td>\n      <td>10.9</td>\n      <td>10.3</td>\n      <td>12.4</td>\n      <td>12.8</td>\n      <td>...</td>\n      <td>17.3</td>\n      <td>17.7</td>\n      <td>16.5</td>\n      <td>16.5</td>\n      <td>16.7</td>\n      <td>16.8</td>\n      <td>17.1</td>\n      <td>17.3</td>\n      <td>17.5</td>\n      <td>47</td>\n    </tr>\n    <tr>\n      <td>2020-01-11 23:00:00</td>\n      <td>14.2</td>\n      <td>10.9</td>\n      <td>12.8</td>\n      <td>10.3</td>\n      <td>11.5</td>\n      <td>12.7</td>\n      <td>11.4</td>\n      <td>10.8</td>\n      <td>12.3</td>\n      <td>12.8</td>\n      <td>...</td>\n      <td>17.1</td>\n      <td>17.3</td>\n      <td>16.2</td>\n      <td>16.2</td>\n      <td>16.4</td>\n      <td>16.5</td>\n      <td>16.8</td>\n      <td>16.8</td>\n      <td>17.0</td>\n      <td>48</td>\n    </tr>\n    <tr>\n      <td>2020-01-12 00:00:00</td>\n      <td>13.9</td>\n      <td>11.7</td>\n      <td>12.8</td>\n      <td>10.9</td>\n      <td>11.2</td>\n      <td>12.8</td>\n      <td>11.6</td>\n      <td>11.3</td>\n      <td>12.5</td>\n      <td>13.3</td>\n      <td>...</td>\n      <td>15.7</td>\n      <td>16.1</td>\n      <td>15.7</td>\n      <td>15.6</td>\n      <td>15.7</td>\n      <td>15.8</td>\n      <td>16.1</td>\n      <td>16.0</td>\n      <td>16.0</td>\n      <td>49</td>\n    </tr>\n    <tr>\n      <td>2020-01-12 01:00:00</td>\n      <td>14.3</td>\n      <td>11.9</td>\n      <td>13.6</td>\n      <td>11.6</td>\n      <td>11.0</td>\n      <td>13.3</td>\n      <td>11.5</td>\n      <td>11.2</td>\n      <td>13.0</td>\n      <td>13.1</td>\n      <td>...</td>\n      <td>14.0</td>\n      <td>13.8</td>\n      <td>15.2</td>\n      <td>15.0</td>\n      <td>15.1</td>\n      <td>15.1</td>\n      <td>15.1</td>\n      <td>14.8</td>\n      <td>14.5</td>\n      <td>50</td>\n    </tr>\n    <tr>\n      <td>2020-01-12 02:00:00</td>\n      <td>14.9</td>\n      <td>12.6</td>\n      <td>13.9</td>\n      <td>11.8</td>\n      <td>10.9</td>\n      <td>13.2</td>\n      <td>11.7</td>\n      <td>11.0</td>\n      <td>12.9</td>\n      <td>13.3</td>\n      <td>...</td>\n      <td>9.8</td>\n      <td>9.5</td>\n      <td>15.0</td>\n      <td>14.8</td>\n      <td>14.8</td>\n      <td>14.6</td>\n      <td>13.9</td>\n      <td>13.0</td>\n      <td>13.3</td>\n      <td>51</td>\n    </tr>\n    <tr>\n      <td>2020-01-12 03:00:00</td>\n      <td>15.1</td>\n      <td>13.1</td>\n      <td>14.2</td>\n      <td>11.7</td>\n      <td>10.7</td>\n      <td>13.7</td>\n      <td>11.3</td>\n      <td>10.9</td>\n      <td>13.0</td>\n      <td>13.1</td>\n      <td>...</td>\n      <td>9.2</td>\n      <td>10.4</td>\n      <td>14.1</td>\n      <td>13.6</td>\n      <td>13.0</td>\n      <td>12.2</td>\n      <td>9.1</td>\n      <td>8.5</td>\n      <td>9.2</td>\n      <td>52</td>\n    </tr>\n    <tr>\n      <td>2020-01-12 04:00:00</td>\n      <td>14.4</td>\n      <td>13.5</td>\n      <td>14.1</td>\n      <td>11.4</td>\n      <td>10.5</td>\n      <td>13.6</td>\n      <td>11.2</td>\n      <td>10.5</td>\n      <td>12.7</td>\n      <td>13.0</td>\n      <td>...</td>\n      <td>7.8</td>\n      <td>7.7</td>\n      <td>12.6</td>\n      <td>11.0</td>\n      <td>7.1</td>\n      <td>6.2</td>\n      <td>7.2</td>\n      <td>7.5</td>\n      <td>7.3</td>\n      <td>53</td>\n    </tr>\n    <tr>\n      <td>2020-01-12 05:00:00</td>\n      <td>13.9</td>\n      <td>13.1</td>\n      <td>13.9</td>\n      <td>11.1</td>\n      <td>10.4</td>\n      <td>13.2</td>\n      <td>11.2</td>\n      <td>10.4</td>\n      <td>12.6</td>\n      <td>13.2</td>\n      <td>...</td>\n      <td>7.9</td>\n      <td>9.0</td>\n      <td>9.5</td>\n      <td>7.1</td>\n      <td>5.0</td>\n      <td>6.0</td>\n      <td>7.0</td>\n      <td>7.9</td>\n      <td>8.2</td>\n      <td>54</td>\n    </tr>\n    <tr>\n      <td>2020-01-12 06:00:00</td>\n      <td>13.4</td>\n      <td>12.9</td>\n      <td>13.6</td>\n      <td>10.7</td>\n      <td>10.3</td>\n      <td>13.0</td>\n      <td>11.2</td>\n      <td>10.4</td>\n      <td>12.8</td>\n      <td>13.4</td>\n      <td>...</td>\n      <td>7.0</td>\n      <td>7.0</td>\n      <td>5.7</td>\n      <td>6.3</td>\n      <td>5.0</td>\n      <td>4.7</td>\n      <td>6.0</td>\n      <td>5.7</td>\n      <td>6.4</td>\n      <td>55</td>\n    </tr>\n  </tbody>\n</table>\n<p>60 rows × 355 columns</p>\n</div>",
      "text/plain": "                      190   191   231   232   233   273   274   275   314  \\\n2020-01-11 14:00:00  11.5  10.8  11.7   9.1   8.6  11.1   9.2   8.7  10.9   \n2020-01-11 15:00:00  12.3  11.8  12.4   9.9   9.2  12.1   9.8   9.3  11.7   \n2020-01-11 16:00:00  12.9  11.8  13.1  10.7   9.5  12.6  10.1   9.8  11.8   \n2020-01-11 17:00:00  13.5  11.6  13.2  11.0  11.2  13.1  10.3   9.8  12.3   \n2020-01-11 18:00:00  13.6  11.8  13.4  11.5  11.5  13.2  10.5  10.1  12.7   \n2020-01-10 00:00:00   7.9   7.2   9.4   5.6   5.9   8.9   6.5   6.2   8.7   \n2020-01-10 01:00:00   8.2   7.2   8.3   5.3   6.0   7.9   6.1   5.3   7.6   \n2020-01-10 02:00:00   6.7   5.7   7.6   4.7   5.2   7.0   2.8   4.1   6.8   \n2020-01-10 03:00:00   5.8   5.2   6.7   3.5   4.2   6.1   3.4   4.3   6.3   \n2020-01-10 04:00:00   3.6   4.9   6.5   2.0   4.1   6.2   3.5   3.0   6.0   \n2020-01-10 05:00:00   2.1   5.8   6.2   1.2   3.4   6.3   2.2   3.1   6.1   \n2020-01-10 06:00:00   5.8   4.5   5.8   1.8   3.8   6.5   2.5   3.0   6.9   \n2020-01-10 07:00:00   6.1   4.8   6.6   3.1   4.4   6.9   3.5   3.3   7.2   \n2020-01-10 08:00:00   7.0   5.7   7.5   4.2   5.0   7.2   5.3   3.7   7.1   \n2020-01-10 09:00:00   6.6   5.3   6.3   3.2   4.2   6.5   4.0   3.1   6.9   \n2020-01-10 10:00:00   6.4   4.4   6.7   3.3   3.9   7.1   2.6   1.5   6.3   \n2020-01-10 11:00:00   5.9   4.2   6.4   3.1   4.5   5.5   3.1   2.7   4.1   \n2020-01-10 12:00:00   5.2   4.8   4.0   3.3   2.9   3.8   2.4   1.9   4.5   \n2020-01-10 13:00:00   3.4   3.1   4.3   1.9   2.3   4.0   2.9   1.3   4.0   \n2020-01-10 14:00:00   2.9   3.3   5.4   2.7   2.6   6.3   3.3   2.4   5.5   \n2020-01-10 15:00:00   5.7   3.9   6.1   3.8   4.0   5.7   4.2   2.8   5.4   \n2020-01-10 16:00:00   5.0   5.0   5.6   3.6   3.1   5.2   3.4   2.0   6.5   \n2020-01-10 17:00:00   4.7   2.8   6.2   3.0   3.5   5.5   3.4   2.1   5.6   \n2020-01-10 18:00:00   3.8   3.7   6.0   3.3   2.8   6.6   3.8   2.1   8.9   \n2020-01-10 19:00:00   3.6   4.3   6.6   2.8   3.9   6.1   3.3   1.7   8.6   \n2020-01-10 20:00:00   5.2   8.9   4.8   3.3   7.0   6.6   3.5   4.4   8.4   \n2020-01-10 21:00:00  10.6  11.0   5.4   6.7   9.7   5.3   6.5   6.4   8.1   \n2020-01-10 22:00:00  10.6  10.6   8.3   6.4   9.4   7.9   6.0   6.0  10.3   \n2020-01-10 23:00:00   9.4   9.8   7.9   5.8   8.6   7.7   5.2   5.4   9.0   \n2020-01-11 00:00:00   9.4   9.3   6.5   5.3   8.0   6.8   4.8   4.8   8.2   \n2020-01-11 01:00:00   9.5   9.1   6.1   4.6   7.7   7.4   4.9   4.8   8.2   \n2020-01-11 02:00:00   8.5   8.4   5.8   3.4   7.1   6.5   3.9   3.9   7.0   \n2020-01-11 03:00:00   7.8   7.1   5.0   3.0   5.6   5.8   3.6   3.1   5.7   \n2020-01-11 04:00:00   5.5   6.0   4.8   2.5   4.0   5.1   3.4   2.2   5.0   \n2020-01-11 05:00:00   4.1   5.3   4.6   2.4   4.1   5.1   2.8   1.7   5.4   \n2020-01-11 06:00:00   4.0   4.7   4.0   2.2   3.8   5.0   4.1   2.3   4.9   \n2020-01-11 07:00:00   3.3   4.4   5.4   2.6   3.5   5.9   4.0   2.3   5.7   \n2020-01-11 08:00:00   3.8   4.9   5.7   2.1   3.2   4.9   3.8   2.5   4.8   \n2020-01-11 09:00:00   3.7   4.7   4.7   2.7   2.9   3.8   3.0   2.5   4.3   \n2020-01-11 10:00:00   5.0   3.7   4.6   3.5   3.2   5.2   4.2   3.3   5.5   \n2020-01-11 11:00:00   6.3   5.5   6.6   5.4   4.9   6.5   6.1   5.5   7.0   \n2020-01-11 12:00:00   8.3   7.3   7.3   6.0   5.6   7.9   6.6   6.3   7.7   \n2020-01-11 13:00:00   9.1   8.1   8.4   7.0   6.4   8.3   7.2   7.1   8.6   \n2020-01-11 14:00:00   9.9   9.0   9.7   7.4   6.8   9.3   7.8   7.8   9.1   \n2020-01-11 15:00:00  11.2   9.5  10.5   8.1   7.4  10.3   8.3   7.7  10.1   \n2020-01-11 16:00:00  11.9  10.5  11.2   8.5   8.5  11.4   9.4   8.4  10.8   \n2020-01-11 17:00:00  12.6  11.6  12.1   9.6   9.5  12.0  10.1   9.5  11.9   \n2020-01-11 18:00:00  12.8  12.3  12.6  10.1  10.4  12.5  10.3  10.1  12.4   \n2020-01-11 19:00:00  13.7  12.6  12.9  10.9  10.6  12.8  10.6  10.4  12.3   \n2020-01-11 20:00:00  13.9  12.2  12.9  10.9  11.2  12.5  10.5  10.3  12.8   \n2020-01-11 21:00:00  13.7  11.8  12.9  10.7  11.7  12.8  10.6  10.1  12.7   \n2020-01-11 22:00:00  14.0  11.3  13.1  10.6  12.0  13.0  10.9  10.3  12.4   \n2020-01-11 23:00:00  14.2  10.9  12.8  10.3  11.5  12.7  11.4  10.8  12.3   \n2020-01-12 00:00:00  13.9  11.7  12.8  10.9  11.2  12.8  11.6  11.3  12.5   \n2020-01-12 01:00:00  14.3  11.9  13.6  11.6  11.0  13.3  11.5  11.2  13.0   \n2020-01-12 02:00:00  14.9  12.6  13.9  11.8  10.9  13.2  11.7  11.0  12.9   \n2020-01-12 03:00:00  15.1  13.1  14.2  11.7  10.7  13.7  11.3  10.9  13.0   \n2020-01-12 04:00:00  14.4  13.5  14.1  11.4  10.5  13.6  11.2  10.5  12.7   \n2020-01-12 05:00:00  13.9  13.1  13.9  11.1  10.4  13.2  11.2  10.4  12.6   \n2020-01-12 06:00:00  13.4  12.9  13.6  10.7  10.3  13.0  11.2  10.4  12.8   \n\n                      315  ...  1412  1413  1445  1446  1447  1448  1449  \\\n2020-01-11 14:00:00  11.4  ...  15.6  15.7  16.4  16.1  15.6  15.6  15.6   \n2020-01-11 15:00:00  12.2  ...  15.6  15.6  16.2  15.9  15.9  15.5  15.8   \n2020-01-11 16:00:00  12.4  ...  15.3  15.2  16.7  16.3  16.0  15.9  15.8   \n2020-01-11 17:00:00  13.0  ...  14.8  15.0  16.6  16.5  16.5  16.3  16.2   \n2020-01-11 18:00:00  13.3  ...  15.3  15.0  16.7  16.7  16.6  16.5  16.0   \n2020-01-10 00:00:00   9.0  ...  10.2  11.1   8.1   7.1   6.7   6.3   5.1   \n2020-01-10 01:00:00   7.5  ...  12.2  11.9   6.9   6.3   5.3   4.7   4.4   \n2020-01-10 02:00:00   6.4  ...  11.9  12.0   5.8   4.5   4.1   2.6   3.1   \n2020-01-10 03:00:00   4.3  ...  11.8  12.1   3.3   2.6   4.0   9.8  10.0   \n2020-01-10 04:00:00   3.1  ...  12.1  11.6   4.3   9.0  10.5  11.9  12.1   \n2020-01-10 05:00:00   3.0  ...  12.4  12.4  10.2  11.1  12.0  13.1  13.0   \n2020-01-10 06:00:00   6.6  ...  12.7  13.4  12.2  12.5  12.7  12.9  13.0   \n2020-01-10 07:00:00   6.9  ...  13.7  13.9  13.0  12.9  12.8  13.1  12.9   \n2020-01-10 08:00:00   7.1  ...  13.2  13.1  12.7  12.8  12.6  12.6  13.2   \n2020-01-10 09:00:00   6.6  ...  12.1  12.1  12.2  12.0  12.4  12.8  12.9   \n2020-01-10 10:00:00   6.3  ...  11.1  11.2  12.0  11.8  11.9  11.8  11.9   \n2020-01-10 11:00:00   3.8  ...  10.5  10.5  11.6  11.3  11.3  11.1  11.1   \n2020-01-10 12:00:00   3.7  ...   9.9   9.8  12.2  12.0  11.8  11.3  11.0   \n2020-01-10 13:00:00   4.0  ...  10.3  10.4  12.4  12.2  11.9  11.4  11.2   \n2020-01-10 14:00:00   6.1  ...  10.2  10.3  11.8  11.4  11.2  10.9  10.9   \n2020-01-10 15:00:00   5.3  ...   9.3   9.3  10.7  10.6  10.4  10.2  10.0   \n2020-01-10 16:00:00   5.5  ...   8.3   8.3  10.0   9.7   9.5   9.2   9.1   \n2020-01-10 17:00:00   5.3  ...   7.2   7.3   8.5   8.4   8.3   7.9   7.8   \n2020-01-10 18:00:00   7.2  ...   6.1   6.1   7.4   7.0   6.8   6.6   6.4   \n2020-01-10 19:00:00   7.5  ...   4.8   4.7   6.3   6.1   5.8   5.5   5.3   \n2020-01-10 20:00:00   7.3  ...   2.8   2.8   4.5   4.3   3.9   3.5   3.2   \n2020-01-10 21:00:00   9.5  ...   1.0   0.9   4.0   3.4   3.1   2.8   2.7   \n2020-01-10 22:00:00   9.9  ...   2.9   3.1   4.7   4.3   3.9   3.7   3.5   \n2020-01-10 23:00:00   9.3  ...   5.1   4.8   6.2   6.0   5.6   5.4   5.4   \n2020-01-11 00:00:00   8.4  ...   6.8   7.2   7.3   7.2   7.2   7.2   6.8   \n2020-01-11 01:00:00   8.0  ...   7.5   8.1   7.7   7.6   7.7   7.8   7.9   \n2020-01-11 02:00:00   7.2  ...   8.4   8.8   8.8   8.6   8.6   8.5   8.6   \n2020-01-11 03:00:00   5.8  ...   9.5   9.8  10.5  10.4  10.4  10.4  10.3   \n2020-01-11 04:00:00   5.5  ...  11.4  11.7  11.9  11.9  11.9  11.9  11.9   \n2020-01-11 05:00:00   5.4  ...  12.8  13.2  12.9  12.9  13.0  13.0  13.1   \n2020-01-11 06:00:00   4.6  ...  14.0  14.3  14.5  14.5  14.4  14.3  14.5   \n2020-01-11 07:00:00   5.0  ...  15.1  15.5  15.3  15.3  15.3  15.3  15.4   \n2020-01-11 08:00:00   4.7  ...  16.0  16.3  15.8  15.5  15.4  15.7  15.8   \n2020-01-11 09:00:00   4.2  ...  16.8  17.2  15.8  15.7  15.8  15.9  16.1   \n2020-01-11 10:00:00   6.1  ...  16.7  17.3  15.9  15.8  15.8  16.0  16.2   \n2020-01-11 11:00:00   7.2  ...  16.9  17.4  16.3  16.2  16.2  16.2  16.4   \n2020-01-11 12:00:00   8.0  ...  17.1  17.6  16.4  16.5  16.6  16.7  16.8   \n2020-01-11 13:00:00   9.0  ...  17.0  17.6  16.7  16.8  16.8  16.7  16.7   \n2020-01-11 14:00:00   9.5  ...  16.7  17.2  16.9  16.8  16.7  16.5  16.4   \n2020-01-11 15:00:00  10.3  ...  16.4  16.4  16.5  16.3  16.3  16.2  16.2   \n2020-01-11 16:00:00  10.9  ...  15.9  16.3  16.4  16.2  16.0  15.9  16.0   \n2020-01-11 17:00:00  12.0  ...  15.9  16.2  16.4  16.2  16.1  15.9  16.0   \n2020-01-11 18:00:00  12.6  ...  16.5  16.6  16.6  16.4  16.2  16.1  16.4   \n2020-01-11 19:00:00  12.8  ...  17.0  17.2  16.6  16.5  16.6  16.6  16.9   \n2020-01-11 20:00:00  13.2  ...  17.7  17.7  16.7  16.8  17.0  17.0  17.1   \n2020-01-11 21:00:00  13.2  ...  17.3  17.7  16.6  16.7  16.8  16.7  17.0   \n2020-01-11 22:00:00  12.8  ...  17.3  17.7  16.5  16.5  16.7  16.8  17.1   \n2020-01-11 23:00:00  12.8  ...  17.1  17.3  16.2  16.2  16.4  16.5  16.8   \n2020-01-12 00:00:00  13.3  ...  15.7  16.1  15.7  15.6  15.7  15.8  16.1   \n2020-01-12 01:00:00  13.1  ...  14.0  13.8  15.2  15.0  15.1  15.1  15.1   \n2020-01-12 02:00:00  13.3  ...   9.8   9.5  15.0  14.8  14.8  14.6  13.9   \n2020-01-12 03:00:00  13.1  ...   9.2  10.4  14.1  13.6  13.0  12.2   9.1   \n2020-01-12 04:00:00  13.0  ...   7.8   7.7  12.6  11.0   7.1   6.2   7.2   \n2020-01-12 05:00:00  13.2  ...   7.9   9.0   9.5   7.1   5.0   6.0   7.0   \n2020-01-12 06:00:00  13.4  ...   7.0   7.0   5.7   6.3   5.0   4.7   6.0   \n\n                     1450  1451  predicted_ahead  \n2020-01-11 14:00:00  15.5  15.7               51  \n2020-01-11 15:00:00  15.8  15.9               52  \n2020-01-11 16:00:00  15.8  15.9               53  \n2020-01-11 17:00:00  16.0  15.9               54  \n2020-01-11 18:00:00  16.2  16.1               55  \n2020-01-10 00:00:00   4.7   3.6                1  \n2020-01-10 01:00:00   3.6   9.3                2  \n2020-01-10 02:00:00  10.5  11.7                3  \n2020-01-10 03:00:00  10.7  11.7                4  \n2020-01-10 04:00:00  11.9  12.2                5  \n2020-01-10 05:00:00  13.0  12.9                6  \n2020-01-10 06:00:00  13.0  13.1                7  \n2020-01-10 07:00:00  12.9  13.2                8  \n2020-01-10 08:00:00  13.0  13.2                9  \n2020-01-10 09:00:00  12.7  12.3               10  \n2020-01-10 10:00:00  11.7  11.4               11  \n2020-01-10 11:00:00  10.8  10.5               12  \n2020-01-10 12:00:00  10.7  10.4               13  \n2020-01-10 13:00:00  10.9  10.7               14  \n2020-01-10 14:00:00  10.8  10.3               15  \n2020-01-10 15:00:00   9.6   9.2               16  \n2020-01-10 16:00:00   8.8   8.5               17  \n2020-01-10 17:00:00   7.4   7.1               18  \n2020-01-10 18:00:00   6.1   5.8               19  \n2020-01-10 19:00:00   5.0   4.7               20  \n2020-01-10 20:00:00   3.0   2.6               21  \n2020-01-10 21:00:00   2.5   2.4               22  \n2020-01-10 22:00:00   3.5   3.2               23  \n2020-01-10 23:00:00   5.9   6.1               24  \n2020-01-11 00:00:00   6.8   6.8               25  \n2020-01-11 01:00:00   8.0   8.1               26  \n2020-01-11 02:00:00   8.6   8.7               27  \n2020-01-11 03:00:00  10.4  10.5               28  \n2020-01-11 04:00:00  12.0  12.2               29  \n2020-01-11 05:00:00  13.1  13.5               30  \n2020-01-11 06:00:00  14.6  14.9               31  \n2020-01-11 07:00:00  15.5  15.7               32  \n2020-01-11 08:00:00  15.9  16.3               33  \n2020-01-11 09:00:00  16.0  16.2               34  \n2020-01-11 10:00:00  16.2  16.6               35  \n2020-01-11 11:00:00  16.3  16.5               36  \n2020-01-11 12:00:00  16.8  16.9               37  \n2020-01-11 13:00:00  16.5  16.6               38  \n2020-01-11 14:00:00  16.3  16.5               39  \n2020-01-11 15:00:00  15.9  16.2               40  \n2020-01-11 16:00:00  16.1  16.2               41  \n2020-01-11 17:00:00  16.1  16.3               42  \n2020-01-11 18:00:00  16.4  16.4               43  \n2020-01-11 19:00:00  17.2  17.4               44  \n2020-01-11 20:00:00  17.4  18.0               45  \n2020-01-11 21:00:00  17.7  17.6               46  \n2020-01-11 22:00:00  17.3  17.5               47  \n2020-01-11 23:00:00  16.8  17.0               48  \n2020-01-12 00:00:00  16.0  16.0               49  \n2020-01-12 01:00:00  14.8  14.5               50  \n2020-01-12 02:00:00  13.0  13.3               51  \n2020-01-12 03:00:00   8.5   9.2               52  \n2020-01-12 04:00:00   7.5   7.3               53  \n2020-01-12 05:00:00   7.9   8.2               54  \n2020-01-12 06:00:00   5.7   6.4               55  \n\n[60 rows x 355 columns]"
     },
     "execution_count": 27,
     "metadata": {},
     "output_type": "execute_result"
    }
   ],
   "source": [
    "print(wind_speed_10m.shape)\n",
    "wind_speed_10m.tail(60)"
   ]
  },
  {
   "cell_type": "code",
   "execution_count": 9,
   "metadata": {},
   "outputs": [],
   "source": [
    "settlement_2018 = pq.read_table('data/ITU_DATA/settlement/2018.parquet').to_pandas()"
   ]
  },
  {
   "cell_type": "code",
   "execution_count": 17,
   "metadata": {},
   "outputs": [
    {
     "name": "stdout",
     "output_type": "stream",
     "text": "155208851\n"
    },
    {
     "data": {
      "text/html": "<div>\n<style scoped>\n    .dataframe tbody tr th:only-of-type {\n        vertical-align: middle;\n    }\n\n    .dataframe tbody tr th {\n        vertical-align: top;\n    }\n\n    .dataframe thead th {\n        text-align: right;\n    }\n</style>\n<table border=\"1\" class=\"dataframe\">\n  <thead>\n    <tr style=\"text-align: right;\">\n      <th></th>\n      <th>GSRN</th>\n      <th>TS_ID</th>\n      <th>VAERDI</th>\n      <th>TIME_CET</th>\n    </tr>\n  </thead>\n  <tbody>\n    <tr>\n      <th>0</th>\n      <td>570715000000062988</td>\n      <td>1471530</td>\n      <td>0</td>\n      <td>2018-07-01 23:15:00</td>\n    </tr>\n    <tr>\n      <th>1</th>\n      <td>570715000000062988</td>\n      <td>1471530</td>\n      <td>0</td>\n      <td>2018-07-01 23:30:00</td>\n    </tr>\n    <tr>\n      <th>2</th>\n      <td>570715000000062988</td>\n      <td>1471530</td>\n      <td>0</td>\n      <td>2018-07-01 23:45:00</td>\n    </tr>\n    <tr>\n      <th>3</th>\n      <td>570715000000062988</td>\n      <td>1471530</td>\n      <td>0</td>\n      <td>2018-07-02 00:00:00</td>\n    </tr>\n    <tr>\n      <th>4</th>\n      <td>570715000000062988</td>\n      <td>1471530</td>\n      <td>0</td>\n      <td>2018-07-02 00:15:00</td>\n    </tr>\n    <tr>\n      <th>5</th>\n      <td>570715000000062988</td>\n      <td>1471530</td>\n      <td>0</td>\n      <td>2018-07-02 00:30:00</td>\n    </tr>\n    <tr>\n      <th>6</th>\n      <td>570715000000062988</td>\n      <td>1471530</td>\n      <td>0</td>\n      <td>2018-07-02 00:45:00</td>\n    </tr>\n    <tr>\n      <th>7</th>\n      <td>570715000000062988</td>\n      <td>1471530</td>\n      <td>0</td>\n      <td>2018-07-02 01:00:00</td>\n    </tr>\n    <tr>\n      <th>8</th>\n      <td>570715000000062988</td>\n      <td>1471530</td>\n      <td>0</td>\n      <td>2018-07-02 01:15:00</td>\n    </tr>\n    <tr>\n      <th>9</th>\n      <td>570715000000062988</td>\n      <td>1471530</td>\n      <td>0</td>\n      <td>2018-07-02 01:30:00</td>\n    </tr>\n    <tr>\n      <th>10</th>\n      <td>570715000000062988</td>\n      <td>1471530</td>\n      <td>0</td>\n      <td>2018-07-02 01:45:00</td>\n    </tr>\n    <tr>\n      <th>11</th>\n      <td>570715000000062988</td>\n      <td>1471530</td>\n      <td>0</td>\n      <td>2018-07-02 02:00:00</td>\n    </tr>\n    <tr>\n      <th>12</th>\n      <td>570715000000062988</td>\n      <td>1471530</td>\n      <td>0</td>\n      <td>2018-07-02 02:15:00</td>\n    </tr>\n    <tr>\n      <th>13</th>\n      <td>570715000000062988</td>\n      <td>1471530</td>\n      <td>0</td>\n      <td>2018-07-02 02:30:00</td>\n    </tr>\n    <tr>\n      <th>14</th>\n      <td>570715000000062988</td>\n      <td>1471530</td>\n      <td>0</td>\n      <td>2018-07-02 02:45:00</td>\n    </tr>\n    <tr>\n      <th>15</th>\n      <td>570715000000062988</td>\n      <td>1471530</td>\n      <td>0</td>\n      <td>2018-07-02 03:00:00</td>\n    </tr>\n    <tr>\n      <th>16</th>\n      <td>570715000000062988</td>\n      <td>1471530</td>\n      <td>0</td>\n      <td>2018-07-02 03:15:00</td>\n    </tr>\n    <tr>\n      <th>17</th>\n      <td>570715000000062988</td>\n      <td>1471530</td>\n      <td>0</td>\n      <td>2018-07-02 03:30:00</td>\n    </tr>\n    <tr>\n      <th>18</th>\n      <td>570715000000062988</td>\n      <td>1471530</td>\n      <td>0</td>\n      <td>2018-07-02 03:45:00</td>\n    </tr>\n    <tr>\n      <th>19</th>\n      <td>570715000000062988</td>\n      <td>1471530</td>\n      <td>0</td>\n      <td>2018-07-02 04:00:00</td>\n    </tr>\n  </tbody>\n</table>\n</div>",
      "text/plain": "                  GSRN    TS_ID VAERDI             TIME_CET\n0   570715000000062988  1471530      0  2018-07-01 23:15:00\n1   570715000000062988  1471530      0  2018-07-01 23:30:00\n2   570715000000062988  1471530      0  2018-07-01 23:45:00\n3   570715000000062988  1471530      0  2018-07-02 00:00:00\n4   570715000000062988  1471530      0  2018-07-02 00:15:00\n5   570715000000062988  1471530      0  2018-07-02 00:30:00\n6   570715000000062988  1471530      0  2018-07-02 00:45:00\n7   570715000000062988  1471530      0  2018-07-02 01:00:00\n8   570715000000062988  1471530      0  2018-07-02 01:15:00\n9   570715000000062988  1471530      0  2018-07-02 01:30:00\n10  570715000000062988  1471530      0  2018-07-02 01:45:00\n11  570715000000062988  1471530      0  2018-07-02 02:00:00\n12  570715000000062988  1471530      0  2018-07-02 02:15:00\n13  570715000000062988  1471530      0  2018-07-02 02:30:00\n14  570715000000062988  1471530      0  2018-07-02 02:45:00\n15  570715000000062988  1471530      0  2018-07-02 03:00:00\n16  570715000000062988  1471530      0  2018-07-02 03:15:00\n17  570715000000062988  1471530      0  2018-07-02 03:30:00\n18  570715000000062988  1471530      0  2018-07-02 03:45:00\n19  570715000000062988  1471530      0  2018-07-02 04:00:00"
     },
     "execution_count": 17,
     "metadata": {},
     "output_type": "execute_result"
    }
   ],
   "source": [
    "print(len(settlement_2018))\n",
    "settlement_2018.head(20)"
   ]
  },
  {
   "cell_type": "code",
   "execution_count": 21,
   "metadata": {},
   "outputs": [
    {
     "data": {
      "text/html": "<div>\n<style scoped>\n    .dataframe tbody tr th:only-of-type {\n        vertical-align: middle;\n    }\n\n    .dataframe tbody tr th {\n        vertical-align: top;\n    }\n\n    .dataframe thead th {\n        text-align: right;\n    }\n</style>\n<table border=\"1\" class=\"dataframe\">\n  <thead>\n    <tr style=\"text-align: right;\">\n      <th></th>\n      <th>GSRN</th>\n      <th>TS_ID</th>\n      <th>VAERDI</th>\n      <th>TIME_CET</th>\n    </tr>\n  </thead>\n  <tbody>\n    <tr>\n      <th>530090</th>\n      <td>570714700000004766</td>\n      <td>1573189</td>\n      <td>0</td>\n      <td>2018-07-01 00:00:00</td>\n    </tr>\n    <tr>\n      <th>530091</th>\n      <td>570714700000004766</td>\n      <td>1573189</td>\n      <td>0</td>\n      <td>2018-07-01 01:00:00</td>\n    </tr>\n    <tr>\n      <th>530092</th>\n      <td>570714700000004766</td>\n      <td>1573189</td>\n      <td>0</td>\n      <td>2018-07-01 02:00:00</td>\n    </tr>\n    <tr>\n      <th>530093</th>\n      <td>570714700000004766</td>\n      <td>1573189</td>\n      <td>0</td>\n      <td>2018-07-01 03:00:00</td>\n    </tr>\n    <tr>\n      <th>530094</th>\n      <td>570714700000004766</td>\n      <td>1573189</td>\n      <td>0</td>\n      <td>2018-07-01 04:00:00</td>\n    </tr>\n    <tr>\n      <th>530095</th>\n      <td>570714700000004766</td>\n      <td>1573189</td>\n      <td>0</td>\n      <td>2018-07-01 05:00:00</td>\n    </tr>\n    <tr>\n      <th>530096</th>\n      <td>570714700000004766</td>\n      <td>1573189</td>\n      <td>0</td>\n      <td>2018-07-01 06:00:00</td>\n    </tr>\n    <tr>\n      <th>530097</th>\n      <td>570714700000004766</td>\n      <td>1573189</td>\n      <td>0</td>\n      <td>2018-07-01 07:00:00</td>\n    </tr>\n    <tr>\n      <th>530098</th>\n      <td>570714700000004766</td>\n      <td>1573189</td>\n      <td>0</td>\n      <td>2018-07-01 08:00:00</td>\n    </tr>\n    <tr>\n      <th>530099</th>\n      <td>570714700000004766</td>\n      <td>1573189</td>\n      <td>0</td>\n      <td>2018-07-01 09:00:00</td>\n    </tr>\n    <tr>\n      <th>530100</th>\n      <td>570714700000004766</td>\n      <td>1573189</td>\n      <td>0</td>\n      <td>2018-07-01 10:00:00</td>\n    </tr>\n    <tr>\n      <th>530101</th>\n      <td>570714700000004766</td>\n      <td>1573189</td>\n      <td>0</td>\n      <td>2018-07-01 11:00:00</td>\n    </tr>\n    <tr>\n      <th>530102</th>\n      <td>570714700000004766</td>\n      <td>1573189</td>\n      <td>0</td>\n      <td>2018-07-01 12:00:00</td>\n    </tr>\n    <tr>\n      <th>530103</th>\n      <td>570714700000004766</td>\n      <td>1573189</td>\n      <td>.11000000000000000000000</td>\n      <td>2018-07-01 13:00:00</td>\n    </tr>\n    <tr>\n      <th>530104</th>\n      <td>570714700000004766</td>\n      <td>1573189</td>\n      <td>.93000000000000000000000</td>\n      <td>2018-07-01 14:00:00</td>\n    </tr>\n    <tr>\n      <th>530105</th>\n      <td>570714700000004766</td>\n      <td>1573189</td>\n      <td>.84000000000000000000000</td>\n      <td>2018-07-01 15:00:00</td>\n    </tr>\n    <tr>\n      <th>530106</th>\n      <td>570714700000004766</td>\n      <td>1573189</td>\n      <td>1.50000000000000000000000</td>\n      <td>2018-07-01 16:00:00</td>\n    </tr>\n    <tr>\n      <th>530107</th>\n      <td>570714700000004766</td>\n      <td>1573189</td>\n      <td>.40000000000000000000000</td>\n      <td>2018-07-01 17:00:00</td>\n    </tr>\n    <tr>\n      <th>530108</th>\n      <td>570714700000004766</td>\n      <td>1573189</td>\n      <td>.20000000000000000000000</td>\n      <td>2018-07-01 18:00:00</td>\n    </tr>\n    <tr>\n      <th>530109</th>\n      <td>570714700000004766</td>\n      <td>1573189</td>\n      <td>.06000000000000000000000</td>\n      <td>2018-07-01 19:00:00</td>\n    </tr>\n    <tr>\n      <th>530110</th>\n      <td>570714700000004766</td>\n      <td>1573189</td>\n      <td>0</td>\n      <td>2018-07-01 20:00:00</td>\n    </tr>\n    <tr>\n      <th>530111</th>\n      <td>570714700000004766</td>\n      <td>1573189</td>\n      <td>0</td>\n      <td>2018-07-01 21:00:00</td>\n    </tr>\n    <tr>\n      <th>530112</th>\n      <td>570714700000004766</td>\n      <td>1573189</td>\n      <td>0</td>\n      <td>2018-07-01 22:00:00</td>\n    </tr>\n    <tr>\n      <th>892661</th>\n      <td>570714700000004766</td>\n      <td>1573189</td>\n      <td>.79000000000000000000000</td>\n      <td>2018-07-01 23:00:00</td>\n    </tr>\n    <tr>\n      <th>892662</th>\n      <td>570714700000004766</td>\n      <td>1573189</td>\n      <td>1.35000000000000000000000</td>\n      <td>2018-07-02 00:00:00</td>\n    </tr>\n    <tr>\n      <th>892663</th>\n      <td>570714700000004766</td>\n      <td>1573189</td>\n      <td>1.53000000000000000000000</td>\n      <td>2018-07-02 01:00:00</td>\n    </tr>\n    <tr>\n      <th>892664</th>\n      <td>570714700000004766</td>\n      <td>1573189</td>\n      <td>.13000000000000000000000</td>\n      <td>2018-07-02 02:00:00</td>\n    </tr>\n    <tr>\n      <th>892665</th>\n      <td>570714700000004766</td>\n      <td>1573189</td>\n      <td>.37000000000000000000000</td>\n      <td>2018-07-02 03:00:00</td>\n    </tr>\n    <tr>\n      <th>892666</th>\n      <td>570714700000004766</td>\n      <td>1573189</td>\n      <td>.23000000000000000000000</td>\n      <td>2018-07-02 04:00:00</td>\n    </tr>\n    <tr>\n      <th>892667</th>\n      <td>570714700000004766</td>\n      <td>1573189</td>\n      <td>0</td>\n      <td>2018-07-02 05:00:00</td>\n    </tr>\n    <tr>\n      <th>892668</th>\n      <td>570714700000004766</td>\n      <td>1573189</td>\n      <td>0</td>\n      <td>2018-07-02 06:00:00</td>\n    </tr>\n    <tr>\n      <th>892669</th>\n      <td>570714700000004766</td>\n      <td>1573189</td>\n      <td>.04000000000000000000000</td>\n      <td>2018-07-02 07:00:00</td>\n    </tr>\n    <tr>\n      <th>892670</th>\n      <td>570714700000004766</td>\n      <td>1573189</td>\n      <td>.17000000000000000000000</td>\n      <td>2018-07-02 08:00:00</td>\n    </tr>\n    <tr>\n      <th>892671</th>\n      <td>570714700000004766</td>\n      <td>1573189</td>\n      <td>1.12000000000000000000000</td>\n      <td>2018-07-02 09:00:00</td>\n    </tr>\n    <tr>\n      <th>892672</th>\n      <td>570714700000004766</td>\n      <td>1573189</td>\n      <td>.94000000000000000000000</td>\n      <td>2018-07-02 10:00:00</td>\n    </tr>\n    <tr>\n      <th>892673</th>\n      <td>570714700000004766</td>\n      <td>1573189</td>\n      <td>1.53000000000000000000000</td>\n      <td>2018-07-02 11:00:00</td>\n    </tr>\n    <tr>\n      <th>892674</th>\n      <td>570714700000004766</td>\n      <td>1573189</td>\n      <td>1.80000000000000000000000</td>\n      <td>2018-07-02 12:00:00</td>\n    </tr>\n    <tr>\n      <th>892675</th>\n      <td>570714700000004766</td>\n      <td>1573189</td>\n      <td>0</td>\n      <td>2018-07-02 13:00:00</td>\n    </tr>\n    <tr>\n      <th>892676</th>\n      <td>570714700000004766</td>\n      <td>1573189</td>\n      <td>0</td>\n      <td>2018-07-02 14:00:00</td>\n    </tr>\n    <tr>\n      <th>892677</th>\n      <td>570714700000004766</td>\n      <td>1573189</td>\n      <td>0</td>\n      <td>2018-07-02 15:00:00</td>\n    </tr>\n    <tr>\n      <th>892678</th>\n      <td>570714700000004766</td>\n      <td>1573189</td>\n      <td>0</td>\n      <td>2018-07-02 16:00:00</td>\n    </tr>\n    <tr>\n      <th>892679</th>\n      <td>570714700000004766</td>\n      <td>1573189</td>\n      <td>0</td>\n      <td>2018-07-02 17:00:00</td>\n    </tr>\n    <tr>\n      <th>892680</th>\n      <td>570714700000004766</td>\n      <td>1573189</td>\n      <td>0</td>\n      <td>2018-07-02 18:00:00</td>\n    </tr>\n    <tr>\n      <th>892681</th>\n      <td>570714700000004766</td>\n      <td>1573189</td>\n      <td>0</td>\n      <td>2018-07-02 19:00:00</td>\n    </tr>\n    <tr>\n      <th>892682</th>\n      <td>570714700000004766</td>\n      <td>1573189</td>\n      <td>0</td>\n      <td>2018-07-02 20:00:00</td>\n    </tr>\n    <tr>\n      <th>892683</th>\n      <td>570714700000004766</td>\n      <td>1573189</td>\n      <td>0</td>\n      <td>2018-07-02 21:00:00</td>\n    </tr>\n    <tr>\n      <th>892684</th>\n      <td>570714700000004766</td>\n      <td>1573189</td>\n      <td>0</td>\n      <td>2018-07-02 22:00:00</td>\n    </tr>\n    <tr>\n      <th>1186800</th>\n      <td>570714700000004766</td>\n      <td>1573189</td>\n      <td>0</td>\n      <td>2018-07-02 23:00:00</td>\n    </tr>\n    <tr>\n      <th>1186801</th>\n      <td>570714700000004766</td>\n      <td>1573189</td>\n      <td>0</td>\n      <td>2018-07-03 00:00:00</td>\n    </tr>\n    <tr>\n      <th>1186802</th>\n      <td>570714700000004766</td>\n      <td>1573189</td>\n      <td>0</td>\n      <td>2018-07-03 01:00:00</td>\n    </tr>\n  </tbody>\n</table>\n</div>",
      "text/plain": "                       GSRN    TS_ID                     VAERDI  \\\n530090   570714700000004766  1573189                          0   \n530091   570714700000004766  1573189                          0   \n530092   570714700000004766  1573189                          0   \n530093   570714700000004766  1573189                          0   \n530094   570714700000004766  1573189                          0   \n530095   570714700000004766  1573189                          0   \n530096   570714700000004766  1573189                          0   \n530097   570714700000004766  1573189                          0   \n530098   570714700000004766  1573189                          0   \n530099   570714700000004766  1573189                          0   \n530100   570714700000004766  1573189                          0   \n530101   570714700000004766  1573189                          0   \n530102   570714700000004766  1573189                          0   \n530103   570714700000004766  1573189   .11000000000000000000000   \n530104   570714700000004766  1573189   .93000000000000000000000   \n530105   570714700000004766  1573189   .84000000000000000000000   \n530106   570714700000004766  1573189  1.50000000000000000000000   \n530107   570714700000004766  1573189   .40000000000000000000000   \n530108   570714700000004766  1573189   .20000000000000000000000   \n530109   570714700000004766  1573189   .06000000000000000000000   \n530110   570714700000004766  1573189                          0   \n530111   570714700000004766  1573189                          0   \n530112   570714700000004766  1573189                          0   \n892661   570714700000004766  1573189   .79000000000000000000000   \n892662   570714700000004766  1573189  1.35000000000000000000000   \n892663   570714700000004766  1573189  1.53000000000000000000000   \n892664   570714700000004766  1573189   .13000000000000000000000   \n892665   570714700000004766  1573189   .37000000000000000000000   \n892666   570714700000004766  1573189   .23000000000000000000000   \n892667   570714700000004766  1573189                          0   \n892668   570714700000004766  1573189                          0   \n892669   570714700000004766  1573189   .04000000000000000000000   \n892670   570714700000004766  1573189   .17000000000000000000000   \n892671   570714700000004766  1573189  1.12000000000000000000000   \n892672   570714700000004766  1573189   .94000000000000000000000   \n892673   570714700000004766  1573189  1.53000000000000000000000   \n892674   570714700000004766  1573189  1.80000000000000000000000   \n892675   570714700000004766  1573189                          0   \n892676   570714700000004766  1573189                          0   \n892677   570714700000004766  1573189                          0   \n892678   570714700000004766  1573189                          0   \n892679   570714700000004766  1573189                          0   \n892680   570714700000004766  1573189                          0   \n892681   570714700000004766  1573189                          0   \n892682   570714700000004766  1573189                          0   \n892683   570714700000004766  1573189                          0   \n892684   570714700000004766  1573189                          0   \n1186800  570714700000004766  1573189                          0   \n1186801  570714700000004766  1573189                          0   \n1186802  570714700000004766  1573189                          0   \n\n                    TIME_CET  \n530090   2018-07-01 00:00:00  \n530091   2018-07-01 01:00:00  \n530092   2018-07-01 02:00:00  \n530093   2018-07-01 03:00:00  \n530094   2018-07-01 04:00:00  \n530095   2018-07-01 05:00:00  \n530096   2018-07-01 06:00:00  \n530097   2018-07-01 07:00:00  \n530098   2018-07-01 08:00:00  \n530099   2018-07-01 09:00:00  \n530100   2018-07-01 10:00:00  \n530101   2018-07-01 11:00:00  \n530102   2018-07-01 12:00:00  \n530103   2018-07-01 13:00:00  \n530104   2018-07-01 14:00:00  \n530105   2018-07-01 15:00:00  \n530106   2018-07-01 16:00:00  \n530107   2018-07-01 17:00:00  \n530108   2018-07-01 18:00:00  \n530109   2018-07-01 19:00:00  \n530110   2018-07-01 20:00:00  \n530111   2018-07-01 21:00:00  \n530112   2018-07-01 22:00:00  \n892661   2018-07-01 23:00:00  \n892662   2018-07-02 00:00:00  \n892663   2018-07-02 01:00:00  \n892664   2018-07-02 02:00:00  \n892665   2018-07-02 03:00:00  \n892666   2018-07-02 04:00:00  \n892667   2018-07-02 05:00:00  \n892668   2018-07-02 06:00:00  \n892669   2018-07-02 07:00:00  \n892670   2018-07-02 08:00:00  \n892671   2018-07-02 09:00:00  \n892672   2018-07-02 10:00:00  \n892673   2018-07-02 11:00:00  \n892674   2018-07-02 12:00:00  \n892675   2018-07-02 13:00:00  \n892676   2018-07-02 14:00:00  \n892677   2018-07-02 15:00:00  \n892678   2018-07-02 16:00:00  \n892679   2018-07-02 17:00:00  \n892680   2018-07-02 18:00:00  \n892681   2018-07-02 19:00:00  \n892682   2018-07-02 20:00:00  \n892683   2018-07-02 21:00:00  \n892684   2018-07-02 22:00:00  \n1186800  2018-07-02 23:00:00  \n1186801  2018-07-03 00:00:00  \n1186802  2018-07-03 01:00:00  "
     },
     "execution_count": 21,
     "metadata": {},
     "output_type": "execute_result"
    }
   ],
   "source": [
    "settlement_2018[settlement_2018['GSRN'] == '570714700000004766'].head(50)"
   ]
  },
  {
   "cell_type": "code",
   "execution_count": 1,
   "metadata": {},
   "outputs": [
    {
     "ename": "NameError",
     "evalue": "name 'settlement_2018' is not defined",
     "output_type": "error",
     "traceback": [
      "\u001b[0;31m---------------------------------------------------------------------------\u001b[0m",
      "\u001b[0;31mNameError\u001b[0m                                 Traceback (most recent call last)",
      "\u001b[0;32m<ipython-input-1-24e919fe726e>\u001b[0m in \u001b[0;36m<module>\u001b[0;34m\u001b[0m\n\u001b[0;32m----> 1\u001b[0;31m \u001b[0mtest_2018\u001b[0m \u001b[0;34m=\u001b[0m \u001b[0msettlement_2018\u001b[0m\u001b[0;34m.\u001b[0m\u001b[0mtake\u001b[0m\u001b[0;34m(\u001b[0m\u001b[0;36m10\u001b[0m\u001b[0;34m)\u001b[0m\u001b[0;34m\u001b[0m\u001b[0;34m\u001b[0m\u001b[0m\n\u001b[0m",
      "\u001b[0;31mNameError\u001b[0m: name 'settlement_2018' is not defined"
     ]
    }
   ],
   "source": [
    "test_2018 = settlement_2018.take(10)"
   ]
  },
  {
   "cell_type": "code",
   "execution_count": null,
   "metadata": {},
   "outputs": [],
   "source": []
  }
 ]
}
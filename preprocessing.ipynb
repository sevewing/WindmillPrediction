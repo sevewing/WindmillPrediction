{
 "nbformat": 4,
 "nbformat_minor": 2,
 "metadata": {
  "language_info": {
   "name": "python",
   "codemirror_mode": {
    "name": "ipython",
    "version": 3
   },
   "version": "3.7.2-final"
  },
  "orig_nbformat": 2,
  "file_extension": ".py",
  "mimetype": "text/x-python",
  "name": "python",
  "npconvert_exporter": "python",
  "pygments_lexer": "ipython3",
  "version": 3,
  "kernelspec": {
   "name": "python37264bit3a462acd451f4b989328b3d637ce9031",
   "display_name": "Python 3.7.2 64-bit"
  }
 },
 "cells": [
  {
   "cell_type": "code",
   "execution_count": 1,
   "metadata": {},
   "outputs": [],
   "source": [
    "import pandas as pd\n",
    "import pyarrow.parquet as pq\n",
    "from numpy import nan"
   ]
  },
  {
   "cell_type": "markdown",
   "execution_count": null,
   "metadata": {},
   "outputs": [],
   "source": [
    "# CLean\n",
    "## Creat a static dictionary for useful columns"
   ]
  },
  {
   "cell_type": "code",
   "execution_count": 2,
   "metadata": {},
   "outputs": [],
   "source": [
    "# static cols\n",
    "dic = {\n",
    "    'windmills':['GSRN','Turbine_type','Parent_GSRN','BBR_municipal','Placement','UTM_x','UTM_y','Capacity_kw','Rotor_diameter','Navhub_height']\n",
    "}"
   ]
  },
  {
   "cell_type": "markdown",
   "execution_count": null,
   "metadata": {},
   "outputs": [],
   "source": [
    "## Clean and extract windmill data"
   ]
  },
  {
   "cell_type": "code",
   "execution_count": 3,
   "metadata": {},
   "outputs": [
    {
     "data": {
      "text/plain": "(85150, 10)"
     },
     "execution_count": 3,
     "metadata": {},
     "output_type": "execute_result"
    }
   ],
   "source": [
    "windmills = pq.read_table('data/ITU_DATA/masterdatawind.parquet').to_pandas()[dic['windmills']]\n",
    "windmills.shape"
   ]
  },
  {
   "cell_type": "markdown",
   "execution_count": null,
   "metadata": {},
   "outputs": [],
   "source": [
    "Windmills have duplicated data by different reviewers.    \n",
    "Remove duplicated data"
   ]
  },
  {
   "cell_type": "code",
   "execution_count": 4,
   "metadata": {},
   "outputs": [
    {
     "data": {
      "text/plain": "(9853, 10)"
     },
     "execution_count": 4,
     "metadata": {},
     "output_type": "execute_result"
    }
   ],
   "source": [
    "windmills.drop_duplicates(subset =\"GSRN\", keep = 'first', ignore_index = True, inplace = True)\n",
    "windmills.shape"
   ]
  },
  {
   "cell_type": "markdown",
   "execution_count": null,
   "metadata": {},
   "outputs": [],
   "source": [
    "9853 Contains:    \n",
    "- H: Household turbine : No UTM_xy locations \n",
    "- W: Single turbine : full data\n",
    "- P: Turbine park : No UTM_xy locations\n",
    "- M: Turbine in a park : No power record in settlement data\n"
   ]
  },
  {
   "cell_type": "code",
   "execution_count": 5,
   "metadata": {},
   "outputs": [
    {
     "name": "stdout",
     "output_type": "stream",
     "text": "Household:  (2328, 10)\nSingle:  (4195, 10)\nPark:  (444, 10)\nIn a Park:  (2886, 10)\n"
    }
   ],
   "source": [
    "print('Household: ',windmills[windmills['Turbine_type'] == 'H'].shape)\n",
    "print('Single: ',windmills[windmills['Turbine_type'] == 'W'].shape)\n",
    "print('Park: ',windmills[windmills['Turbine_type'] == 'P'].shape)\n",
    "print('In a Park: ',windmills[windmills['Turbine_type'] == 'M'].shape)"
   ]
  },
  {
   "cell_type": "markdown",
   "execution_count": null,
   "metadata": {},
   "outputs": [],
   "source": [
    "Fill Turbine park xy by calculate their CENTRIODs."
   ]
  },
  {
   "cell_type": "code",
   "execution_count": 6,
   "metadata": {},
   "outputs": [
    {
     "data": {
      "text/html": "<div>\n<style scoped>\n    .dataframe tbody tr th:only-of-type {\n        vertical-align: middle;\n    }\n\n    .dataframe tbody tr th {\n        vertical-align: top;\n    }\n\n    .dataframe thead th {\n        text-align: right;\n    }\n</style>\n<table border=\"1\" class=\"dataframe\">\n  <thead>\n    <tr style=\"text-align: right;\">\n      <th></th>\n      <th>GSRN</th>\n      <th>x_c</th>\n      <th>y_c</th>\n    </tr>\n  </thead>\n  <tbody>\n    <tr>\n      <th>0</th>\n      <td>570714700000005640</td>\n      <td>642373.900000</td>\n      <td>6.139972e+06</td>\n    </tr>\n    <tr>\n      <th>1</th>\n      <td>570714700000012037</td>\n      <td>664423.733000</td>\n      <td>6.072868e+06</td>\n    </tr>\n    <tr>\n      <th>2</th>\n      <td>570714700000012051</td>\n      <td>664630.731000</td>\n      <td>6.072840e+06</td>\n    </tr>\n    <tr>\n      <th>3</th>\n      <td>570714700000012105</td>\n      <td>728122.163500</td>\n      <td>6.165601e+06</td>\n    </tr>\n    <tr>\n      <th>4</th>\n      <td>570714700000050008</td>\n      <td>684100.400000</td>\n      <td>6.097951e+06</td>\n    </tr>\n    <tr>\n      <th>...</th>\n      <td>...</td>\n      <td>...</td>\n      <td>...</td>\n    </tr>\n    <tr>\n      <th>573</th>\n      <td>570715000000091803</td>\n      <td>672332.693500</td>\n      <td>6.060594e+06</td>\n    </tr>\n    <tr>\n      <th>574</th>\n      <td>570715000000258107</td>\n      <td>636075.348135</td>\n      <td>6.275118e+06</td>\n    </tr>\n    <tr>\n      <th>575</th>\n      <td>570715000001613493</td>\n      <td>415507.469388</td>\n      <td>6.172906e+06</td>\n    </tr>\n    <tr>\n      <th>576</th>\n      <td>570715000001761682</td>\n      <td>464444.000000</td>\n      <td>6.283758e+06</td>\n    </tr>\n    <tr>\n      <th>577</th>\n      <td>571313134700404281</td>\n      <td>453783.500000</td>\n      <td>6.281010e+06</td>\n    </tr>\n  </tbody>\n</table>\n<p>578 rows × 3 columns</p>\n</div>",
      "text/plain": "                   GSRN            x_c           y_c\n0    570714700000005640  642373.900000  6.139972e+06\n1    570714700000012037  664423.733000  6.072868e+06\n2    570714700000012051  664630.731000  6.072840e+06\n3    570714700000012105  728122.163500  6.165601e+06\n4    570714700000050008  684100.400000  6.097951e+06\n..                  ...            ...           ...\n573  570715000000091803  672332.693500  6.060594e+06\n574  570715000000258107  636075.348135  6.275118e+06\n575  570715000001613493  415507.469388  6.172906e+06\n576  570715000001761682  464444.000000  6.283758e+06\n577  571313134700404281  453783.500000  6.281010e+06\n\n[578 rows x 3 columns]"
     },
     "execution_count": 6,
     "metadata": {},
     "output_type": "execute_result"
    }
   ],
   "source": [
    "aggs = {'UTM_x':lambda x : x.mean(),\n",
    "        'UTM_y':lambda x : x.mean()}\n",
    "w_temp = windmills[windmills['Turbine_type'] == 'M'].groupby(['Parent_GSRN'], as_index = False).agg(aggs).rename(columns={'Parent_GSRN':'GSRN','UTM_x':'x_c','UTM_y':'y_c'})\n",
    "w_temp"
   ]
  },
  {
   "cell_type": "markdown",
   "execution_count": null,
   "metadata": {},
   "outputs": [],
   "source": [
    "578 != 444    \n",
    "Fill some missing turbine parks"
   ]
  },
  {
   "cell_type": "code",
   "execution_count": 7,
   "metadata": {},
   "outputs": [],
   "source": [
    "f = windmills[windmills['Turbine_type'] == 'P']"
   ]
  },
  {
   "cell_type": "code",
   "execution_count": 8,
   "metadata": {},
   "outputs": [
    {
     "data": {
      "text/html": "<div>\n<style scoped>\n    .dataframe tbody tr th:only-of-type {\n        vertical-align: middle;\n    }\n\n    .dataframe tbody tr th {\n        vertical-align: top;\n    }\n\n    .dataframe thead th {\n        text-align: right;\n    }\n</style>\n<table border=\"1\" class=\"dataframe\">\n  <thead>\n    <tr style=\"text-align: right;\">\n      <th></th>\n      <th>GSRN</th>\n      <th>Turbine_type</th>\n      <th>Parent_GSRN</th>\n      <th>BBR_municipal</th>\n      <th>Placement</th>\n      <th>UTM_x</th>\n      <th>UTM_y</th>\n      <th>Capacity_kw</th>\n      <th>Rotor_diameter</th>\n      <th>Navhub_height</th>\n    </tr>\n  </thead>\n  <tbody>\n    <tr>\n      <th>1342</th>\n      <td>570714700000050008</td>\n      <td>P</td>\n      <td>None</td>\n      <td>390</td>\n      <td>LAND</td>\n      <td>NaN</td>\n      <td>NaN</td>\n      <td>3750.0</td>\n      <td>NaN</td>\n      <td>NaN</td>\n    </tr>\n    <tr>\n      <th>1343</th>\n      <td>570714700000050015</td>\n      <td>P</td>\n      <td>None</td>\n      <td>360</td>\n      <td>HAV</td>\n      <td>NaN</td>\n      <td>NaN</td>\n      <td>4950.0</td>\n      <td>NaN</td>\n      <td>NaN</td>\n    </tr>\n    <tr>\n      <th>1344</th>\n      <td>570714700000050022</td>\n      <td>P</td>\n      <td>None</td>\n      <td>250</td>\n      <td>LAND</td>\n      <td>NaN</td>\n      <td>NaN</td>\n      <td>3780.0</td>\n      <td>NaN</td>\n      <td>NaN</td>\n    </tr>\n    <tr>\n      <th>1345</th>\n      <td>570714700000050039</td>\n      <td>P</td>\n      <td>None</td>\n      <td>316</td>\n      <td>LAND</td>\n      <td>NaN</td>\n      <td>NaN</td>\n      <td>600.0</td>\n      <td>NaN</td>\n      <td>NaN</td>\n    </tr>\n    <tr>\n      <th>1346</th>\n      <td>570714700000050046</td>\n      <td>P</td>\n      <td>None</td>\n      <td>316</td>\n      <td>LAND</td>\n      <td>NaN</td>\n      <td>NaN</td>\n      <td>400.0</td>\n      <td>NaN</td>\n      <td>NaN</td>\n    </tr>\n    <tr>\n      <th>...</th>\n      <td>...</td>\n      <td>...</td>\n      <td>...</td>\n      <td>...</td>\n      <td>...</td>\n      <td>...</td>\n      <td>...</td>\n      <td>...</td>\n      <td>...</td>\n      <td>...</td>\n    </tr>\n    <tr>\n      <th>6911</th>\n      <td>570715000000091803</td>\n      <td>P</td>\n      <td>None</td>\n      <td>376</td>\n      <td>LAND</td>\n      <td>NaN</td>\n      <td>NaN</td>\n      <td>0.0</td>\n      <td>NaN</td>\n      <td>NaN</td>\n    </tr>\n    <tr>\n      <th>7423</th>\n      <td>570715000000258107</td>\n      <td>P</td>\n      <td>None</td>\n      <td>707</td>\n      <td>HAV</td>\n      <td>NaN</td>\n      <td>NaN</td>\n      <td>399600.0</td>\n      <td>NaN</td>\n      <td>NaN</td>\n    </tr>\n    <tr>\n      <th>8616</th>\n      <td>570715000001613493</td>\n      <td>P</td>\n      <td>None</td>\n      <td>561</td>\n      <td>HAV</td>\n      <td>NaN</td>\n      <td>NaN</td>\n      <td>406700.0</td>\n      <td>NaN</td>\n      <td>NaN</td>\n    </tr>\n    <tr>\n      <th>8684</th>\n      <td>570715000001761682</td>\n      <td>P</td>\n      <td>None</td>\n      <td>787</td>\n      <td>LAND</td>\n      <td>NaN</td>\n      <td>NaN</td>\n      <td>77.0</td>\n      <td>NaN</td>\n      <td>NaN</td>\n    </tr>\n    <tr>\n      <th>9237</th>\n      <td>571313134700404281</td>\n      <td>P</td>\n      <td>None</td>\n      <td>665</td>\n      <td>HAV</td>\n      <td>NaN</td>\n      <td>NaN</td>\n      <td>28000.0</td>\n      <td>NaN</td>\n      <td>NaN</td>\n    </tr>\n  </tbody>\n</table>\n<p>442 rows × 10 columns</p>\n</div>",
      "text/plain": "                    GSRN Turbine_type Parent_GSRN BBR_municipal Placement  \\\n1342  570714700000050008            P        None           390      LAND   \n1343  570714700000050015            P        None           360       HAV   \n1344  570714700000050022            P        None           250      LAND   \n1345  570714700000050039            P        None           316      LAND   \n1346  570714700000050046            P        None           316      LAND   \n...                  ...          ...         ...           ...       ...   \n6911  570715000000091803            P        None           376      LAND   \n7423  570715000000258107            P        None           707       HAV   \n8616  570715000001613493            P        None           561       HAV   \n8684  570715000001761682            P        None           787      LAND   \n9237  571313134700404281            P        None           665       HAV   \n\n      UTM_x  UTM_y  Capacity_kw  Rotor_diameter  Navhub_height  \n1342    NaN    NaN       3750.0             NaN            NaN  \n1343    NaN    NaN       4950.0             NaN            NaN  \n1344    NaN    NaN       3780.0             NaN            NaN  \n1345    NaN    NaN        600.0             NaN            NaN  \n1346    NaN    NaN        400.0             NaN            NaN  \n...     ...    ...          ...             ...            ...  \n6911    NaN    NaN          0.0             NaN            NaN  \n7423    NaN    NaN     399600.0             NaN            NaN  \n8616    NaN    NaN     406700.0             NaN            NaN  \n8684    NaN    NaN         77.0             NaN            NaN  \n9237    NaN    NaN      28000.0             NaN            NaN  \n\n[442 rows x 10 columns]"
     },
     "execution_count": 8,
     "metadata": {},
     "output_type": "execute_result"
    }
   ],
   "source": [
    "f[f['GSRN'].isin(w_temp['GSRN'])]"
   ]
  },
  {
   "cell_type": "code",
   "execution_count": 9,
   "metadata": {},
   "outputs": [
    {
     "data": {
      "text/html": "<div>\n<style scoped>\n    .dataframe tbody tr th:only-of-type {\n        vertical-align: middle;\n    }\n\n    .dataframe tbody tr th {\n        vertical-align: top;\n    }\n\n    .dataframe thead th {\n        text-align: right;\n    }\n</style>\n<table border=\"1\" class=\"dataframe\">\n  <thead>\n    <tr style=\"text-align: right;\">\n      <th></th>\n      <th>GSRN</th>\n      <th>Turbine_type</th>\n      <th>Parent_GSRN</th>\n      <th>BBR_municipal</th>\n      <th>Placement</th>\n      <th>UTM_x</th>\n      <th>UTM_y</th>\n      <th>Capacity_kw</th>\n      <th>Rotor_diameter</th>\n      <th>Navhub_height</th>\n    </tr>\n  </thead>\n  <tbody>\n    <tr>\n      <th>5248</th>\n      <td>570715000000045837</td>\n      <td>P</td>\n      <td>None</td>\n      <td>550</td>\n      <td>LAND</td>\n      <td>NaN</td>\n      <td>NaN</td>\n      <td>6500.0</td>\n      <td>NaN</td>\n      <td>NaN</td>\n    </tr>\n    <tr>\n      <th>6909</th>\n      <td>570715000000091780</td>\n      <td>P</td>\n      <td>None</td>\n      <td>326</td>\n      <td>LAND</td>\n      <td>NaN</td>\n      <td>NaN</td>\n      <td>0.0</td>\n      <td>NaN</td>\n      <td>NaN</td>\n    </tr>\n  </tbody>\n</table>\n</div>",
      "text/plain": "                    GSRN Turbine_type Parent_GSRN BBR_municipal Placement  \\\n5248  570715000000045837            P        None           550      LAND   \n6909  570715000000091780            P        None           326      LAND   \n\n      UTM_x  UTM_y  Capacity_kw  Rotor_diameter  Navhub_height  \n5248    NaN    NaN       6500.0             NaN            NaN  \n6909    NaN    NaN          0.0             NaN            NaN  "
     },
     "execution_count": 9,
     "metadata": {},
     "output_type": "execute_result"
    }
   ],
   "source": [
    "f[~f['GSRN'].isin(w_temp['GSRN'])]"
   ]
  },
  {
   "cell_type": "code",
   "execution_count": 10,
   "metadata": {},
   "outputs": [
    {
     "data": {
      "text/html": "<div>\n<style scoped>\n    .dataframe tbody tr th:only-of-type {\n        vertical-align: middle;\n    }\n\n    .dataframe tbody tr th {\n        vertical-align: top;\n    }\n\n    .dataframe thead th {\n        text-align: right;\n    }\n</style>\n<table border=\"1\" class=\"dataframe\">\n  <thead>\n    <tr style=\"text-align: right;\">\n      <th></th>\n      <th>GSRN</th>\n      <th>x_c</th>\n      <th>y_c</th>\n    </tr>\n  </thead>\n  <tbody>\n    <tr>\n      <th>0</th>\n      <td>570714700000005640</td>\n      <td>642373.900000</td>\n      <td>6139972.000</td>\n    </tr>\n    <tr>\n      <th>1</th>\n      <td>570714700000012037</td>\n      <td>664423.733000</td>\n      <td>6072868.224</td>\n    </tr>\n    <tr>\n      <th>2</th>\n      <td>570714700000012051</td>\n      <td>664630.731000</td>\n      <td>6072840.224</td>\n    </tr>\n    <tr>\n      <th>3</th>\n      <td>570714700000012105</td>\n      <td>728122.163500</td>\n      <td>6165600.771</td>\n    </tr>\n    <tr>\n      <th>108</th>\n      <td>570715000000000058</td>\n      <td>531655.720000</td>\n      <td>6322597.070</td>\n    </tr>\n    <tr>\n      <th>...</th>\n      <td>...</td>\n      <td>...</td>\n      <td>...</td>\n    </tr>\n    <tr>\n      <th>528</th>\n      <td>570715000000055638</td>\n      <td>504163.000000</td>\n      <td>6277061.000</td>\n    </tr>\n    <tr>\n      <th>530</th>\n      <td>570715000000056017</td>\n      <td>468672.240000</td>\n      <td>6145816.035</td>\n    </tr>\n    <tr>\n      <th>537</th>\n      <td>570715000000056857</td>\n      <td>513111.100000</td>\n      <td>6320199.400</td>\n    </tr>\n    <tr>\n      <th>538</th>\n      <td>570715000000056918</td>\n      <td>514683.070000</td>\n      <td>6320302.490</td>\n    </tr>\n    <tr>\n      <th>540</th>\n      <td>570715000000058486</td>\n      <td>564680.333333</td>\n      <td>6204504.000</td>\n    </tr>\n  </tbody>\n</table>\n<p>136 rows × 3 columns</p>\n</div>",
      "text/plain": "                   GSRN            x_c          y_c\n0    570714700000005640  642373.900000  6139972.000\n1    570714700000012037  664423.733000  6072868.224\n2    570714700000012051  664630.731000  6072840.224\n3    570714700000012105  728122.163500  6165600.771\n108  570715000000000058  531655.720000  6322597.070\n..                  ...            ...          ...\n528  570715000000055638  504163.000000  6277061.000\n530  570715000000056017  468672.240000  6145816.035\n537  570715000000056857  513111.100000  6320199.400\n538  570715000000056918  514683.070000  6320302.490\n540  570715000000058486  564680.333333  6204504.000\n\n[136 rows x 3 columns]"
     },
     "execution_count": 10,
     "metadata": {},
     "output_type": "execute_result"
    }
   ],
   "source": [
    "w_temp[~w_temp['GSRN'].isin(f['GSRN'])]"
   ]
  },
  {
   "cell_type": "markdown",
   "execution_count": null,
   "metadata": {},
   "outputs": [],
   "source": [
    "Fill 136 in to windmills"
   ]
  },
  {
   "cell_type": "code",
   "execution_count": 11,
   "metadata": {},
   "outputs": [
    {
     "data": {
      "text/plain": "(9853, 10)"
     },
     "execution_count": 11,
     "metadata": {},
     "output_type": "execute_result"
    }
   ],
   "source": [
    "windmills.shape"
   ]
  },
  {
   "cell_type": "code",
   "execution_count": 12,
   "metadata": {},
   "outputs": [
    {
     "data": {
      "text/html": "<div>\n<style scoped>\n    .dataframe tbody tr th:only-of-type {\n        vertical-align: middle;\n    }\n\n    .dataframe tbody tr th {\n        vertical-align: top;\n    }\n\n    .dataframe thead th {\n        text-align: right;\n    }\n</style>\n<table border=\"1\" class=\"dataframe\">\n  <thead>\n    <tr style=\"text-align: right;\">\n      <th></th>\n      <th>GSRN</th>\n      <th>Turbine_type</th>\n      <th>Parent_GSRN</th>\n      <th>BBR_municipal</th>\n      <th>Placement</th>\n      <th>UTM_x</th>\n      <th>UTM_y</th>\n      <th>Capacity_kw</th>\n      <th>Rotor_diameter</th>\n      <th>Navhub_height</th>\n    </tr>\n  </thead>\n  <tbody>\n    <tr>\n      <th>0</th>\n      <td>000000000000000000</td>\n      <td>H</td>\n      <td>None</td>\n      <td>760</td>\n      <td>None</td>\n      <td>NaN</td>\n      <td>NaN</td>\n      <td>11.0</td>\n      <td>13.0</td>\n      <td>18.2</td>\n    </tr>\n    <tr>\n      <th>1</th>\n      <td>570714700000000027</td>\n      <td>M</td>\n      <td>570714700000050459</td>\n      <td>101</td>\n      <td>LAND</td>\n      <td>720898.353000</td>\n      <td>6171174.877</td>\n      <td>225.0</td>\n      <td>27.0</td>\n      <td>30.0</td>\n    </tr>\n    <tr>\n      <th>2</th>\n      <td>570714700000000034</td>\n      <td>M</td>\n      <td>570714700000050459</td>\n      <td>101</td>\n      <td>LAND</td>\n      <td>720993.352000</td>\n      <td>6171226.877</td>\n      <td>225.0</td>\n      <td>27.0</td>\n      <td>30.0</td>\n    </tr>\n    <tr>\n      <th>3</th>\n      <td>570714700000000041</td>\n      <td>M</td>\n      <td>570714700000050466</td>\n      <td>101</td>\n      <td>LAND</td>\n      <td>727504.304000</td>\n      <td>6178385.864</td>\n      <td>600.0</td>\n      <td>44.0</td>\n      <td>50.0</td>\n    </tr>\n    <tr>\n      <th>4</th>\n      <td>570714700000000058</td>\n      <td>M</td>\n      <td>570714700000050466</td>\n      <td>101</td>\n      <td>LAND</td>\n      <td>727628.303000</td>\n      <td>6178385.865</td>\n      <td>600.0</td>\n      <td>44.0</td>\n      <td>50.0</td>\n    </tr>\n    <tr>\n      <th>...</th>\n      <td>...</td>\n      <td>...</td>\n      <td>...</td>\n      <td>...</td>\n      <td>...</td>\n      <td>...</td>\n      <td>...</td>\n      <td>...</td>\n      <td>...</td>\n      <td>...</td>\n    </tr>\n    <tr>\n      <th>9978</th>\n      <td>570715000000055638</td>\n      <td>P</td>\n      <td>NaN</td>\n      <td>NaN</td>\n      <td>NaN</td>\n      <td>504163.000000</td>\n      <td>6277061.000</td>\n      <td>NaN</td>\n      <td>NaN</td>\n      <td>NaN</td>\n    </tr>\n    <tr>\n      <th>9979</th>\n      <td>570715000000056017</td>\n      <td>P</td>\n      <td>NaN</td>\n      <td>NaN</td>\n      <td>NaN</td>\n      <td>468672.240000</td>\n      <td>6145816.035</td>\n      <td>NaN</td>\n      <td>NaN</td>\n      <td>NaN</td>\n    </tr>\n    <tr>\n      <th>9980</th>\n      <td>570715000000056857</td>\n      <td>P</td>\n      <td>NaN</td>\n      <td>NaN</td>\n      <td>NaN</td>\n      <td>513111.100000</td>\n      <td>6320199.400</td>\n      <td>NaN</td>\n      <td>NaN</td>\n      <td>NaN</td>\n    </tr>\n    <tr>\n      <th>9981</th>\n      <td>570715000000056918</td>\n      <td>P</td>\n      <td>NaN</td>\n      <td>NaN</td>\n      <td>NaN</td>\n      <td>514683.070000</td>\n      <td>6320302.490</td>\n      <td>NaN</td>\n      <td>NaN</td>\n      <td>NaN</td>\n    </tr>\n    <tr>\n      <th>9982</th>\n      <td>570715000000058486</td>\n      <td>P</td>\n      <td>NaN</td>\n      <td>NaN</td>\n      <td>NaN</td>\n      <td>564680.333333</td>\n      <td>6204504.000</td>\n      <td>NaN</td>\n      <td>NaN</td>\n      <td>NaN</td>\n    </tr>\n  </tbody>\n</table>\n<p>9983 rows × 10 columns</p>\n</div>",
      "text/plain": "                    GSRN Turbine_type         Parent_GSRN BBR_municipal  \\\n0     000000000000000000            H                None           760   \n1     570714700000000027            M  570714700000050459           101   \n2     570714700000000034            M  570714700000050459           101   \n3     570714700000000041            M  570714700000050466           101   \n4     570714700000000058            M  570714700000050466           101   \n...                  ...          ...                 ...           ...   \n9978  570715000000055638            P                 NaN           NaN   \n9979  570715000000056017            P                 NaN           NaN   \n9980  570715000000056857            P                 NaN           NaN   \n9981  570715000000056918            P                 NaN           NaN   \n9982  570715000000058486            P                 NaN           NaN   \n\n     Placement          UTM_x        UTM_y  Capacity_kw  Rotor_diameter  \\\n0         None            NaN          NaN         11.0            13.0   \n1         LAND  720898.353000  6171174.877        225.0            27.0   \n2         LAND  720993.352000  6171226.877        225.0            27.0   \n3         LAND  727504.304000  6178385.864        600.0            44.0   \n4         LAND  727628.303000  6178385.865        600.0            44.0   \n...        ...            ...          ...          ...             ...   \n9978       NaN  504163.000000  6277061.000          NaN             NaN   \n9979       NaN  468672.240000  6145816.035          NaN             NaN   \n9980       NaN  513111.100000  6320199.400          NaN             NaN   \n9981       NaN  514683.070000  6320302.490          NaN             NaN   \n9982       NaN  564680.333333  6204504.000          NaN             NaN   \n\n      Navhub_height  \n0              18.2  \n1              30.0  \n2              30.0  \n3              50.0  \n4              50.0  \n...             ...  \n9978            NaN  \n9979            NaN  \n9980            NaN  \n9981            NaN  \n9982            NaN  \n\n[9983 rows x 10 columns]"
     },
     "execution_count": 12,
     "metadata": {},
     "output_type": "execute_result"
    }
   ],
   "source": [
    "windmills = pd.merge(windmills, w_temp, on='GSRN', how='outer')\n",
    "# location\n",
    "windmills[['UTM_x']] = windmills.apply(lambda x: x[['UTM_x']].fillna(value = x['x_c']), axis=1)[['UTM_x']]\n",
    "windmills[['UTM_y']] = windmills.apply(lambda x: x[['UTM_y']].fillna(value = x['y_c']), axis=1)[['UTM_y']]\n",
    "windmills.drop(columns=['x_c','y_c'], inplace=True)\n",
    "# Turbine type\n",
    "windmills['Turbine_type'].fillna('P', inplace = True)\n",
    "windmills"
   ]
  },
  {
   "cell_type": "markdown",
   "execution_count": null,
   "metadata": {},
   "outputs": [],
   "source": [
    "Cause a bug in ArcGIS file import, we need to add a 'z' at the end of GSRN and Parent_GSRN"
   ]
  },
  {
   "cell_type": "code",
   "execution_count": 13,
   "metadata": {},
   "outputs": [
    {
     "data": {
      "text/html": "<div>\n<style scoped>\n    .dataframe tbody tr th:only-of-type {\n        vertical-align: middle;\n    }\n\n    .dataframe tbody tr th {\n        vertical-align: top;\n    }\n\n    .dataframe thead th {\n        text-align: right;\n    }\n</style>\n<table border=\"1\" class=\"dataframe\">\n  <thead>\n    <tr style=\"text-align: right;\">\n      <th></th>\n      <th>GSRN</th>\n      <th>Turbine_type</th>\n      <th>Parent_GSRN</th>\n      <th>BBR_municipal</th>\n      <th>Placement</th>\n      <th>UTM_x</th>\n      <th>UTM_y</th>\n      <th>Capacity_kw</th>\n      <th>Rotor_diameter</th>\n      <th>Navhub_height</th>\n    </tr>\n  </thead>\n  <tbody>\n    <tr>\n      <th>0</th>\n      <td>000000000000000000z</td>\n      <td>H</td>\n      <td>z</td>\n      <td>760</td>\n      <td>None</td>\n      <td>NaN</td>\n      <td>NaN</td>\n      <td>11.0</td>\n      <td>13.0</td>\n      <td>18.2</td>\n    </tr>\n    <tr>\n      <th>1</th>\n      <td>570714700000000027z</td>\n      <td>M</td>\n      <td>570714700000050459z</td>\n      <td>101</td>\n      <td>LAND</td>\n      <td>720898.353000</td>\n      <td>6171174.877</td>\n      <td>225.0</td>\n      <td>27.0</td>\n      <td>30.0</td>\n    </tr>\n    <tr>\n      <th>2</th>\n      <td>570714700000000034z</td>\n      <td>M</td>\n      <td>570714700000050459z</td>\n      <td>101</td>\n      <td>LAND</td>\n      <td>720993.352000</td>\n      <td>6171226.877</td>\n      <td>225.0</td>\n      <td>27.0</td>\n      <td>30.0</td>\n    </tr>\n    <tr>\n      <th>3</th>\n      <td>570714700000000041z</td>\n      <td>M</td>\n      <td>570714700000050466z</td>\n      <td>101</td>\n      <td>LAND</td>\n      <td>727504.304000</td>\n      <td>6178385.864</td>\n      <td>600.0</td>\n      <td>44.0</td>\n      <td>50.0</td>\n    </tr>\n    <tr>\n      <th>4</th>\n      <td>570714700000000058z</td>\n      <td>M</td>\n      <td>570714700000050466z</td>\n      <td>101</td>\n      <td>LAND</td>\n      <td>727628.303000</td>\n      <td>6178385.865</td>\n      <td>600.0</td>\n      <td>44.0</td>\n      <td>50.0</td>\n    </tr>\n    <tr>\n      <th>...</th>\n      <td>...</td>\n      <td>...</td>\n      <td>...</td>\n      <td>...</td>\n      <td>...</td>\n      <td>...</td>\n      <td>...</td>\n      <td>...</td>\n      <td>...</td>\n      <td>...</td>\n    </tr>\n    <tr>\n      <th>9978</th>\n      <td>570715000000055638z</td>\n      <td>P</td>\n      <td>z</td>\n      <td>NaN</td>\n      <td>NaN</td>\n      <td>504163.000000</td>\n      <td>6277061.000</td>\n      <td>NaN</td>\n      <td>NaN</td>\n      <td>NaN</td>\n    </tr>\n    <tr>\n      <th>9979</th>\n      <td>570715000000056017z</td>\n      <td>P</td>\n      <td>z</td>\n      <td>NaN</td>\n      <td>NaN</td>\n      <td>468672.240000</td>\n      <td>6145816.035</td>\n      <td>NaN</td>\n      <td>NaN</td>\n      <td>NaN</td>\n    </tr>\n    <tr>\n      <th>9980</th>\n      <td>570715000000056857z</td>\n      <td>P</td>\n      <td>z</td>\n      <td>NaN</td>\n      <td>NaN</td>\n      <td>513111.100000</td>\n      <td>6320199.400</td>\n      <td>NaN</td>\n      <td>NaN</td>\n      <td>NaN</td>\n    </tr>\n    <tr>\n      <th>9981</th>\n      <td>570715000000056918z</td>\n      <td>P</td>\n      <td>z</td>\n      <td>NaN</td>\n      <td>NaN</td>\n      <td>514683.070000</td>\n      <td>6320302.490</td>\n      <td>NaN</td>\n      <td>NaN</td>\n      <td>NaN</td>\n    </tr>\n    <tr>\n      <th>9982</th>\n      <td>570715000000058486z</td>\n      <td>P</td>\n      <td>z</td>\n      <td>NaN</td>\n      <td>NaN</td>\n      <td>564680.333333</td>\n      <td>6204504.000</td>\n      <td>NaN</td>\n      <td>NaN</td>\n      <td>NaN</td>\n    </tr>\n  </tbody>\n</table>\n<p>9983 rows × 10 columns</p>\n</div>",
      "text/plain": "                     GSRN Turbine_type          Parent_GSRN BBR_municipal  \\\n0     000000000000000000z            H                    z           760   \n1     570714700000000027z            M  570714700000050459z           101   \n2     570714700000000034z            M  570714700000050459z           101   \n3     570714700000000041z            M  570714700000050466z           101   \n4     570714700000000058z            M  570714700000050466z           101   \n...                   ...          ...                  ...           ...   \n9978  570715000000055638z            P                    z           NaN   \n9979  570715000000056017z            P                    z           NaN   \n9980  570715000000056857z            P                    z           NaN   \n9981  570715000000056918z            P                    z           NaN   \n9982  570715000000058486z            P                    z           NaN   \n\n     Placement          UTM_x        UTM_y  Capacity_kw  Rotor_diameter  \\\n0         None            NaN          NaN         11.0            13.0   \n1         LAND  720898.353000  6171174.877        225.0            27.0   \n2         LAND  720993.352000  6171226.877        225.0            27.0   \n3         LAND  727504.304000  6178385.864        600.0            44.0   \n4         LAND  727628.303000  6178385.865        600.0            44.0   \n...        ...            ...          ...          ...             ...   \n9978       NaN  504163.000000  6277061.000          NaN             NaN   \n9979       NaN  468672.240000  6145816.035          NaN             NaN   \n9980       NaN  513111.100000  6320199.400          NaN             NaN   \n9981       NaN  514683.070000  6320302.490          NaN             NaN   \n9982       NaN  564680.333333  6204504.000          NaN             NaN   \n\n      Navhub_height  \n0              18.2  \n1              30.0  \n2              30.0  \n3              50.0  \n4              50.0  \n...             ...  \n9978            NaN  \n9979            NaN  \n9980            NaN  \n9981            NaN  \n9982            NaN  \n\n[9983 rows x 10 columns]"
     },
     "execution_count": 13,
     "metadata": {},
     "output_type": "execute_result"
    }
   ],
   "source": [
    "windmills['GSRN'] = [x+'z' for x in windmills['GSRN']]\n",
    "windmills['Parent_GSRN'].fillna('',inplace = True)\n",
    "windmills['Parent_GSRN'] = [x+'z' for x in windmills['Parent_GSRN']]\n",
    "windmills"
   ]
  },
  {
   "cell_type": "code",
   "execution_count": 15,
   "metadata": {},
   "outputs": [],
   "source": [
    "windmills.to_csv('data/windmills_gis.csv', index=False)"
   ]
  },
  {
   "cell_type": "markdown",
   "execution_count": null,
   "metadata": {},
   "outputs": [],
   "source": [
    "After ArcGIS    \n",
    "1. Single grid"
   ]
  },
  {
   "cell_type": "code",
   "execution_count": 23,
   "metadata": {},
   "outputs": [
    {
     "data": {
      "text/html": "<div>\n<style scoped>\n    .dataframe tbody tr th:only-of-type {\n        vertical-align: middle;\n    }\n\n    .dataframe tbody tr th {\n        vertical-align: top;\n    }\n\n    .dataframe thead th {\n        text-align: right;\n    }\n</style>\n<table border=\"1\" class=\"dataframe\">\n  <thead>\n    <tr style=\"text-align: right;\">\n      <th></th>\n      <th>GSRN</th>\n      <th>Turbine_type</th>\n      <th>Parent_GSRN</th>\n      <th>BBR_municipal</th>\n      <th>Placement</th>\n      <th>UTM_x</th>\n      <th>UTM_y</th>\n      <th>Capacity_kw</th>\n      <th>Rotor_diameter</th>\n      <th>Navhub_height</th>\n      <th>grid</th>\n    </tr>\n  </thead>\n  <tbody>\n    <tr>\n      <th>0</th>\n      <td>000000000000000000z</td>\n      <td>H</td>\n      <td>z</td>\n      <td>760</td>\n      <td>None</td>\n      <td>NaN</td>\n      <td>NaN</td>\n      <td>11.0</td>\n      <td>13.0</td>\n      <td>18.2</td>\n      <td>0</td>\n    </tr>\n    <tr>\n      <th>1</th>\n      <td>570714700000000027z</td>\n      <td>M</td>\n      <td>570714700000050459z</td>\n      <td>101</td>\n      <td>LAND</td>\n      <td>720898.353000</td>\n      <td>6171174.877</td>\n      <td>225.0</td>\n      <td>27.0</td>\n      <td>30.0</td>\n      <td>653</td>\n    </tr>\n    <tr>\n      <th>2</th>\n      <td>570714700000000034z</td>\n      <td>M</td>\n      <td>570714700000050459z</td>\n      <td>101</td>\n      <td>LAND</td>\n      <td>720993.352000</td>\n      <td>6171226.877</td>\n      <td>225.0</td>\n      <td>27.0</td>\n      <td>30.0</td>\n      <td>653</td>\n    </tr>\n    <tr>\n      <th>3</th>\n      <td>570714700000000041z</td>\n      <td>M</td>\n      <td>570714700000050466z</td>\n      <td>101</td>\n      <td>LAND</td>\n      <td>727504.304000</td>\n      <td>6178385.864</td>\n      <td>600.0</td>\n      <td>44.0</td>\n      <td>50.0</td>\n      <td>653</td>\n    </tr>\n    <tr>\n      <th>4</th>\n      <td>570714700000000058z</td>\n      <td>M</td>\n      <td>570714700000050466z</td>\n      <td>101</td>\n      <td>LAND</td>\n      <td>727628.303000</td>\n      <td>6178385.865</td>\n      <td>600.0</td>\n      <td>44.0</td>\n      <td>50.0</td>\n      <td>653</td>\n    </tr>\n    <tr>\n      <th>...</th>\n      <td>...</td>\n      <td>...</td>\n      <td>...</td>\n      <td>...</td>\n      <td>...</td>\n      <td>...</td>\n      <td>...</td>\n      <td>...</td>\n      <td>...</td>\n      <td>...</td>\n      <td>...</td>\n    </tr>\n    <tr>\n      <th>9978</th>\n      <td>570715000000055638z</td>\n      <td>P</td>\n      <td>z</td>\n      <td>NaN</td>\n      <td>NaN</td>\n      <td>504163.000000</td>\n      <td>6277061.000</td>\n      <td>NaN</td>\n      <td>NaN</td>\n      <td>NaN</td>\n      <td>1243</td>\n    </tr>\n    <tr>\n      <th>9979</th>\n      <td>570715000000056017z</td>\n      <td>P</td>\n      <td>z</td>\n      <td>NaN</td>\n      <td>NaN</td>\n      <td>468672.240000</td>\n      <td>6145816.035</td>\n      <td>NaN</td>\n      <td>NaN</td>\n      <td>NaN</td>\n      <td>1235</td>\n    </tr>\n    <tr>\n      <th>9980</th>\n      <td>570715000000056857z</td>\n      <td>P</td>\n      <td>z</td>\n      <td>NaN</td>\n      <td>NaN</td>\n      <td>513111.100000</td>\n      <td>6320199.400</td>\n      <td>NaN</td>\n      <td>NaN</td>\n      <td>NaN</td>\n      <td>1246</td>\n    </tr>\n    <tr>\n      <th>9981</th>\n      <td>570715000000056918z</td>\n      <td>P</td>\n      <td>z</td>\n      <td>NaN</td>\n      <td>NaN</td>\n      <td>514683.070000</td>\n      <td>6320302.490</td>\n      <td>NaN</td>\n      <td>NaN</td>\n      <td>NaN</td>\n      <td>1246</td>\n    </tr>\n    <tr>\n      <th>9982</th>\n      <td>570715000000058486z</td>\n      <td>P</td>\n      <td>z</td>\n      <td>NaN</td>\n      <td>NaN</td>\n      <td>564680.333333</td>\n      <td>6204504.000</td>\n      <td>NaN</td>\n      <td>NaN</td>\n      <td>NaN</td>\n      <td>1072</td>\n    </tr>\n  </tbody>\n</table>\n<p>9983 rows × 11 columns</p>\n</div>",
      "text/plain": "                     GSRN Turbine_type          Parent_GSRN BBR_municipal  \\\n0     000000000000000000z            H                    z           760   \n1     570714700000000027z            M  570714700000050459z           101   \n2     570714700000000034z            M  570714700000050459z           101   \n3     570714700000000041z            M  570714700000050466z           101   \n4     570714700000000058z            M  570714700000050466z           101   \n...                   ...          ...                  ...           ...   \n9978  570715000000055638z            P                    z           NaN   \n9979  570715000000056017z            P                    z           NaN   \n9980  570715000000056857z            P                    z           NaN   \n9981  570715000000056918z            P                    z           NaN   \n9982  570715000000058486z            P                    z           NaN   \n\n     Placement          UTM_x        UTM_y  Capacity_kw  Rotor_diameter  \\\n0         None            NaN          NaN         11.0            13.0   \n1         LAND  720898.353000  6171174.877        225.0            27.0   \n2         LAND  720993.352000  6171226.877        225.0            27.0   \n3         LAND  727504.304000  6178385.864        600.0            44.0   \n4         LAND  727628.303000  6178385.865        600.0            44.0   \n...        ...            ...          ...          ...             ...   \n9978       NaN  504163.000000  6277061.000          NaN             NaN   \n9979       NaN  468672.240000  6145816.035          NaN             NaN   \n9980       NaN  513111.100000  6320199.400          NaN             NaN   \n9981       NaN  514683.070000  6320302.490          NaN             NaN   \n9982       NaN  564680.333333  6204504.000          NaN             NaN   \n\n      Navhub_height  grid  \n0              18.2     0  \n1              30.0   653  \n2              30.0   653  \n3              50.0   653  \n4              50.0   653  \n...             ...   ...  \n9978            NaN  1243  \n9979            NaN  1235  \n9980            NaN  1246  \n9981            NaN  1246  \n9982            NaN  1072  \n\n[9983 rows x 11 columns]"
     },
     "execution_count": 23,
     "metadata": {},
     "output_type": "execute_result"
    }
   ],
   "source": [
    "windmills_single_grid= pd.read_excel('data/windmills_to_single-grid.xlsx')[['GSRN','grid']]\n",
    "windmills_single_grid['grid'].fillna(value=0, inplace = True)\n",
    "windmills_single_grid['grid'] = windmills_single_grid['grid'].astype(int)\n",
    "windmills_single_grid['grid'] = windmills_single_grid['grid'].astype(str)\n",
    "windmills = pd.merge(windmills, windmills_single_grid, on='GSRN', how='left')\n",
    "windmills"
   ]
  },
  {
   "cell_type": "code",
   "execution_count": 27,
   "metadata": {},
   "outputs": [],
   "source": [
    "windmills_multi_grid = pd.read_excel('data/windmills_to_multi-grid.xlsx')[['GSRN','grid']]\n",
    "windmills_multi_grid['grid'].fillna(value=0, inplace = True)\n",
    "windmills_multi_grid['grid'] = windmills_multi_grid['grid'].astype(int)\n",
    "windmills_multi_grid['grid'] = windmills_multi_grid['grid'].astype(str)"
   ]
  },
  {
   "cell_type": "code",
   "execution_count": 29,
   "metadata": {},
   "outputs": [
    {
     "data": {
      "text/html": "<div>\n<style scoped>\n    .dataframe tbody tr th:only-of-type {\n        vertical-align: middle;\n    }\n\n    .dataframe tbody tr th {\n        vertical-align: top;\n    }\n\n    .dataframe thead th {\n        text-align: right;\n    }\n</style>\n<table border=\"1\" class=\"dataframe\">\n  <thead>\n    <tr style=\"text-align: right;\">\n      <th></th>\n      <th>GSRN</th>\n      <th>Turbine_type</th>\n      <th>Parent_GSRN</th>\n      <th>BBR_municipal</th>\n      <th>Placement</th>\n      <th>UTM_x</th>\n      <th>UTM_y</th>\n      <th>Capacity_kw</th>\n      <th>Rotor_diameter</th>\n      <th>Navhub_height</th>\n      <th>grid</th>\n      <th>grid_in_range</th>\n    </tr>\n  </thead>\n  <tbody>\n    <tr>\n      <th>0</th>\n      <td>000000000000000000z</td>\n      <td>H</td>\n      <td>z</td>\n      <td>760</td>\n      <td>None</td>\n      <td>NaN</td>\n      <td>NaN</td>\n      <td>11.0</td>\n      <td>13.0</td>\n      <td>18.2</td>\n      <td>0</td>\n      <td>NaN</td>\n    </tr>\n    <tr>\n      <th>1</th>\n      <td>570714700000000027z</td>\n      <td>M</td>\n      <td>570714700000050459z</td>\n      <td>101</td>\n      <td>LAND</td>\n      <td>720898.353000</td>\n      <td>6171174.877</td>\n      <td>225.0</td>\n      <td>27.0</td>\n      <td>30.0</td>\n      <td>653</td>\n      <td>651,693,610,736,695,737,611,653,694,654,652,69...</td>\n    </tr>\n    <tr>\n      <th>2</th>\n      <td>570714700000000034z</td>\n      <td>M</td>\n      <td>570714700000050459z</td>\n      <td>101</td>\n      <td>LAND</td>\n      <td>720993.352000</td>\n      <td>6171226.877</td>\n      <td>225.0</td>\n      <td>27.0</td>\n      <td>30.0</td>\n      <td>653</td>\n      <td>651,693,610,736,695,737,611,653,694,654,652,69...</td>\n    </tr>\n    <tr>\n      <th>3</th>\n      <td>570714700000000041z</td>\n      <td>M</td>\n      <td>570714700000050466z</td>\n      <td>101</td>\n      <td>LAND</td>\n      <td>727504.304000</td>\n      <td>6178385.864</td>\n      <td>600.0</td>\n      <td>44.0</td>\n      <td>50.0</td>\n      <td>653</td>\n      <td>651,693,610,695,737,611,653,694,654,652,696,60...</td>\n    </tr>\n    <tr>\n      <th>4</th>\n      <td>570714700000000058z</td>\n      <td>M</td>\n      <td>570714700000050466z</td>\n      <td>101</td>\n      <td>LAND</td>\n      <td>727628.303000</td>\n      <td>6178385.865</td>\n      <td>600.0</td>\n      <td>44.0</td>\n      <td>50.0</td>\n      <td>653</td>\n      <td>651,693,610,695,737,611,653,694,654,652,696,60...</td>\n    </tr>\n    <tr>\n      <th>...</th>\n      <td>...</td>\n      <td>...</td>\n      <td>...</td>\n      <td>...</td>\n      <td>...</td>\n      <td>...</td>\n      <td>...</td>\n      <td>...</td>\n      <td>...</td>\n      <td>...</td>\n      <td>...</td>\n      <td>...</td>\n    </tr>\n    <tr>\n      <th>9978</th>\n      <td>570715000000055638z</td>\n      <td>P</td>\n      <td>z</td>\n      <td>NaN</td>\n      <td>NaN</td>\n      <td>504163.000000</td>\n      <td>6277061.000</td>\n      <td>NaN</td>\n      <td>NaN</td>\n      <td>NaN</td>\n      <td>1243</td>\n      <td>1283,1241,1326,1285,1284,1199,1158,1242,1202,1...</td>\n    </tr>\n    <tr>\n      <th>9979</th>\n      <td>570715000000056017z</td>\n      <td>P</td>\n      <td>z</td>\n      <td>NaN</td>\n      <td>NaN</td>\n      <td>468672.240000</td>\n      <td>6145816.035</td>\n      <td>NaN</td>\n      <td>NaN</td>\n      <td>NaN</td>\n      <td>1235</td>\n      <td>1233,1191,1275,1195,1318,1276,1235,1192,1150,1...</td>\n    </tr>\n    <tr>\n      <th>9980</th>\n      <td>570715000000056857z</td>\n      <td>P</td>\n      <td>z</td>\n      <td>NaN</td>\n      <td>NaN</td>\n      <td>513111.100000</td>\n      <td>6320199.400</td>\n      <td>NaN</td>\n      <td>NaN</td>\n      <td>NaN</td>\n      <td>1246</td>\n      <td>1202,1244,1330,1331,1329,1245,1328,1286,1246,1...</td>\n    </tr>\n    <tr>\n      <th>9981</th>\n      <td>570715000000056918z</td>\n      <td>P</td>\n      <td>z</td>\n      <td>NaN</td>\n      <td>NaN</td>\n      <td>514683.070000</td>\n      <td>6320302.490</td>\n      <td>NaN</td>\n      <td>NaN</td>\n      <td>NaN</td>\n      <td>1246</td>\n      <td>1202,1244,1330,1331,1329,1245,1328,1286,1246,1...</td>\n    </tr>\n    <tr>\n      <th>9982</th>\n      <td>570715000000058486z</td>\n      <td>P</td>\n      <td>z</td>\n      <td>NaN</td>\n      <td>NaN</td>\n      <td>564680.333333</td>\n      <td>6204504.000</td>\n      <td>NaN</td>\n      <td>NaN</td>\n      <td>NaN</td>\n      <td>1072</td>\n      <td>1112,1028,1070,1071,1072,1114,986,1113,1115,10...</td>\n    </tr>\n  </tbody>\n</table>\n<p>9983 rows × 12 columns</p>\n</div>",
      "text/plain": "                     GSRN Turbine_type          Parent_GSRN BBR_municipal  \\\n0     000000000000000000z            H                    z           760   \n1     570714700000000027z            M  570714700000050459z           101   \n2     570714700000000034z            M  570714700000050459z           101   \n3     570714700000000041z            M  570714700000050466z           101   \n4     570714700000000058z            M  570714700000050466z           101   \n...                   ...          ...                  ...           ...   \n9978  570715000000055638z            P                    z           NaN   \n9979  570715000000056017z            P                    z           NaN   \n9980  570715000000056857z            P                    z           NaN   \n9981  570715000000056918z            P                    z           NaN   \n9982  570715000000058486z            P                    z           NaN   \n\n     Placement          UTM_x        UTM_y  Capacity_kw  Rotor_diameter  \\\n0         None            NaN          NaN         11.0            13.0   \n1         LAND  720898.353000  6171174.877        225.0            27.0   \n2         LAND  720993.352000  6171226.877        225.0            27.0   \n3         LAND  727504.304000  6178385.864        600.0            44.0   \n4         LAND  727628.303000  6178385.865        600.0            44.0   \n...        ...            ...          ...          ...             ...   \n9978       NaN  504163.000000  6277061.000          NaN             NaN   \n9979       NaN  468672.240000  6145816.035          NaN             NaN   \n9980       NaN  513111.100000  6320199.400          NaN             NaN   \n9981       NaN  514683.070000  6320302.490          NaN             NaN   \n9982       NaN  564680.333333  6204504.000          NaN             NaN   \n\n      Navhub_height  grid                                      grid_in_range  \n0              18.2     0                                                NaN  \n1              30.0   653  651,693,610,736,695,737,611,653,694,654,652,69...  \n2              30.0   653  651,693,610,736,695,737,611,653,694,654,652,69...  \n3              50.0   653  651,693,610,695,737,611,653,694,654,652,696,60...  \n4              50.0   653  651,693,610,695,737,611,653,694,654,652,696,60...  \n...             ...   ...                                                ...  \n9978            NaN  1243  1283,1241,1326,1285,1284,1199,1158,1242,1202,1...  \n9979            NaN  1235  1233,1191,1275,1195,1318,1276,1235,1192,1150,1...  \n9980            NaN  1246  1202,1244,1330,1331,1329,1245,1328,1286,1246,1...  \n9981            NaN  1246  1202,1244,1330,1331,1329,1245,1328,1286,1246,1...  \n9982            NaN  1072  1112,1028,1070,1071,1072,1114,986,1113,1115,10...  \n\n[9983 rows x 12 columns]"
     },
     "execution_count": 29,
     "metadata": {},
     "output_type": "execute_result"
    }
   ],
   "source": [
    "def ab(df):\n",
    "    return','.join(df.values)\n",
    "    \n",
    "windmills_multi_grid = windmills_multi_grid.groupby('GSRN')['grid'].apply(ab).reset_index().rename(columns={'grid':'grid_in_range'})\n",
    "windmills = pd.merge(windmills, windmills_multi_grid, on='GSRN', how='left')\n",
    "windmills"
   ]
  },
  {
   "cell_type": "code",
   "execution_count": 30,
   "metadata": {},
   "outputs": [],
   "source": [
    "windmills.to_csv('data/windmill_cleaned.csv')"
   ]
  },
  {
   "cell_type": "markdown",
   "execution_count": null,
   "metadata": {},
   "outputs": [],
   "source": [
    "## Weather Grid Observation"
   ]
  },
  {
   "cell_type": "code",
   "execution_count": 5,
   "metadata": {},
   "outputs": [
    {
     "name": "stdout",
     "output_type": "stream",
     "text": "354\n"
    },
    {
     "data": {
      "text/html": "<div>\n<style scoped>\n    .dataframe tbody tr th:only-of-type {\n        vertical-align: middle;\n    }\n\n    .dataframe tbody tr th {\n        vertical-align: top;\n    }\n\n    .dataframe thead th {\n        text-align: right;\n    }\n</style>\n<table border=\"1\" class=\"dataframe\">\n  <thead>\n    <tr style=\"text-align: right;\">\n      <th></th>\n      <th>grid</th>\n      <th>utm_x</th>\n      <th>utm_y</th>\n    </tr>\n  </thead>\n  <tbody>\n    <tr>\n      <th>0</th>\n      <td>190</td>\n      <td>895390</td>\n      <td>6112543</td>\n    </tr>\n    <tr>\n      <th>1</th>\n      <td>191</td>\n      <td>899875</td>\n      <td>6128134</td>\n    </tr>\n    <tr>\n      <th>2</th>\n      <td>231</td>\n      <td>874801</td>\n      <td>6101548</td>\n    </tr>\n    <tr>\n      <th>3</th>\n      <td>232</td>\n      <td>879280</td>\n      <td>6117148</td>\n    </tr>\n    <tr>\n      <th>4</th>\n      <td>233</td>\n      <td>883767</td>\n      <td>6132746</td>\n    </tr>\n    <tr>\n      <th>5</th>\n      <td>273</td>\n      <td>858691</td>\n      <td>6106142</td>\n    </tr>\n    <tr>\n      <th>6</th>\n      <td>274</td>\n      <td>863172</td>\n      <td>6121751</td>\n    </tr>\n    <tr>\n      <th>7</th>\n      <td>275</td>\n      <td>867660</td>\n      <td>6137358</td>\n    </tr>\n    <tr>\n      <th>8</th>\n      <td>314</td>\n      <td>838109</td>\n      <td>6095118</td>\n    </tr>\n    <tr>\n      <th>9</th>\n      <td>315</td>\n      <td>842583</td>\n      <td>6110737</td>\n    </tr>\n  </tbody>\n</table>\n</div>",
      "text/plain": "   grid   utm_x    utm_y\n0   190  895390  6112543\n1   191  899875  6128134\n2   231  874801  6101548\n3   232  879280  6117148\n4   233  883767  6132746\n5   273  858691  6106142\n6   274  863172  6121751\n7   275  867660  6137358\n8   314  838109  6095118\n9   315  842583  6110737"
     },
     "execution_count": 5,
     "metadata": {},
     "output_type": "execute_result"
    }
   ],
   "source": [
    "weather_grids = pd.read_csv('data/ITU_DATA/prognosis/grid_coordinates.csv') \n",
    "print(len(weather_grids))\n",
    "weather_grids.head(10)"
   ]
  },
  {
   "cell_type": "markdown",
   "execution_count": null,
   "metadata": {},
   "outputs": [],
   "source": [
    "## Data in Observations\n",
    "We don't have the join table of municipal names and ids."
   ]
  },
  {
   "cell_type": "code",
   "execution_count": 6,
   "metadata": {},
   "outputs": [],
   "source": [
    "observed_pressure = pq.read_table('data/ITU_DATA/observations/observed_pressure.parquet').to_pandas()"
   ]
  },
  {
   "cell_type": "code",
   "execution_count": 7,
   "metadata": {},
   "outputs": [
    {
     "name": "stdout",
     "output_type": "stream",
     "text": "22890252\n"
    },
    {
     "data": {
      "text/html": "<div>\n<style scoped>\n    .dataframe tbody tr th:only-of-type {\n        vertical-align: middle;\n    }\n\n    .dataframe tbody tr th {\n        vertical-align: top;\n    }\n\n    .dataframe thead th {\n        text-align: right;\n    }\n</style>\n<table border=\"1\" class=\"dataframe\">\n  <thead>\n    <tr style=\"text-align: right;\">\n      <th></th>\n      <th>municipal</th>\n      <th>subtype</th>\n      <th>value</th>\n      <th>unit</th>\n    </tr>\n    <tr>\n      <th>timestamp_utc</th>\n      <th></th>\n      <th></th>\n      <th></th>\n      <th></th>\n    </tr>\n  </thead>\n  <tbody>\n    <tr>\n      <th>2019-06-24 10:00:00</th>\n      <td>Horsens</td>\n      <td>Time atmosfæretryk</td>\n      <td>1027.078491</td>\n      <td>hPa</td>\n    </tr>\n    <tr>\n      <th>2019-06-24 07:00:00</th>\n      <td>Københavns</td>\n      <td>Time atmosfæretryk</td>\n      <td>1027.699951</td>\n      <td>hPa</td>\n    </tr>\n    <tr>\n      <th>2019-06-24 10:00:00</th>\n      <td>Mariagerfjord</td>\n      <td>Time atmosfæretryk</td>\n      <td>1027.682251</td>\n      <td>hPa</td>\n    </tr>\n    <tr>\n      <th>2019-06-24 00:00:00</th>\n      <td>Morsø</td>\n      <td>Time atmosfæretryk</td>\n      <td>1026.642578</td>\n      <td>hPa</td>\n    </tr>\n    <tr>\n      <th>2019-06-23 22:00:00</th>\n      <td>Næstved</td>\n      <td>Time atmosfæretryk</td>\n      <td>1026.166016</td>\n      <td>hPa</td>\n    </tr>\n    <tr>\n      <th>2019-06-24 16:00:00</th>\n      <td>Odsherred</td>\n      <td>Time atmosfæretryk</td>\n      <td>1026.213379</td>\n      <td>hPa</td>\n    </tr>\n    <tr>\n      <th>2019-06-24 21:00:00</th>\n      <td>Odsherred</td>\n      <td>Time atmosfæretryk</td>\n      <td>1025.884277</td>\n      <td>hPa</td>\n    </tr>\n    <tr>\n      <th>2019-06-24 06:00:00</th>\n      <td>Slagelse</td>\n      <td>Time atmosfæretryk</td>\n      <td>1027.182861</td>\n      <td>hPa</td>\n    </tr>\n    <tr>\n      <th>2019-06-24 14:00:00</th>\n      <td>Sorø</td>\n      <td>Time atmosfæretryk</td>\n      <td>1026.566650</td>\n      <td>hPa</td>\n    </tr>\n    <tr>\n      <th>2019-06-24 08:00:00</th>\n      <td>Tønder</td>\n      <td>Time atmosfæretryk</td>\n      <td>1025.446533</td>\n      <td>hPa</td>\n    </tr>\n  </tbody>\n</table>\n</div>",
      "text/plain": "                         municipal             subtype        value unit\ntimestamp_utc                                                           \n2019-06-24 10:00:00        Horsens  Time atmosfæretryk  1027.078491  hPa\n2019-06-24 07:00:00     Københavns  Time atmosfæretryk  1027.699951  hPa\n2019-06-24 10:00:00  Mariagerfjord  Time atmosfæretryk  1027.682251  hPa\n2019-06-24 00:00:00          Morsø  Time atmosfæretryk  1026.642578  hPa\n2019-06-23 22:00:00        Næstved  Time atmosfæretryk  1026.166016  hPa\n2019-06-24 16:00:00      Odsherred  Time atmosfæretryk  1026.213379  hPa\n2019-06-24 21:00:00      Odsherred  Time atmosfæretryk  1025.884277  hPa\n2019-06-24 06:00:00       Slagelse  Time atmosfæretryk  1027.182861  hPa\n2019-06-24 14:00:00           Sorø  Time atmosfæretryk  1026.566650  hPa\n2019-06-24 08:00:00         Tønder  Time atmosfæretryk  1025.446533  hPa"
     },
     "execution_count": 7,
     "metadata": {},
     "output_type": "execute_result"
    }
   ],
   "source": [
    "print(len(observed_pressure))\n",
    "observed_pressure.tail(10)"
   ]
  },
  {
   "cell_type": "code",
   "execution_count": 7,
   "metadata": {},
   "outputs": [],
   "source": [
    "observed_wind_speed_high10 = pq.read_table('data/ITU_DATA/observations/observed_wind_speed_high10.parquet').to_pandas()\n",
    "print(len(observed_wind_speed_high10))\n",
    "observed_wind_speed_high10.tail(10)"
   ]
  },
  {
   "cell_type": "markdown",
   "execution_count": null,
   "metadata": {},
   "outputs": [],
   "source": [
    "## progbisis ENetNEA\n",
    "resolution in 1 hour    \n",
    "data from this model since 2018-02-22."
   ]
  },
  {
   "cell_type": "code",
   "execution_count": 4,
   "metadata": {},
   "outputs": [],
   "source": [
    "wind_speed_10m = pq.read_table('data/ITU_DATA/prognosis/ENetNEA/wind_speed_10m.parquet').to_pandas().reset_index()"
   ]
  },
  {
   "cell_type": "code",
   "execution_count": 5,
   "metadata": {},
   "outputs": [
    {
     "data": {
      "text/html": "<div>\n<style scoped>\n    .dataframe tbody tr th:only-of-type {\n        vertical-align: middle;\n    }\n\n    .dataframe tbody tr th {\n        vertical-align: top;\n    }\n\n    .dataframe thead th {\n        text-align: right;\n    }\n</style>\n<table border=\"1\" class=\"dataframe\">\n  <thead>\n    <tr style=\"text-align: right;\">\n      <th></th>\n      <th>index</th>\n      <th>190</th>\n      <th>191</th>\n      <th>231</th>\n      <th>232</th>\n      <th>233</th>\n      <th>273</th>\n      <th>274</th>\n      <th>275</th>\n      <th>314</th>\n      <th>...</th>\n      <th>1412</th>\n      <th>1413</th>\n      <th>1445</th>\n      <th>1446</th>\n      <th>1447</th>\n      <th>1448</th>\n      <th>1449</th>\n      <th>1450</th>\n      <th>1451</th>\n      <th>predicted_ahead</th>\n    </tr>\n  </thead>\n  <tbody>\n    <tr>\n      <th>0</th>\n      <td>2018-02-22 00:00:00</td>\n      <td>5.3</td>\n      <td>4.5</td>\n      <td>5.9</td>\n      <td>2.7</td>\n      <td>4.3</td>\n      <td>5.5</td>\n      <td>2.3</td>\n      <td>2.8</td>\n      <td>3.5</td>\n      <td>...</td>\n      <td>1.3</td>\n      <td>8.1</td>\n      <td>6.0</td>\n      <td>5.9</td>\n      <td>6.8</td>\n      <td>1.1</td>\n      <td>2.9</td>\n      <td>3.8</td>\n      <td>3.9</td>\n      <td>1</td>\n    </tr>\n    <tr>\n      <th>1</th>\n      <td>2018-02-22 01:00:00</td>\n      <td>5.3</td>\n      <td>3.3</td>\n      <td>6.0</td>\n      <td>2.4</td>\n      <td>4.2</td>\n      <td>5.6</td>\n      <td>2.3</td>\n      <td>2.5</td>\n      <td>4.5</td>\n      <td>...</td>\n      <td>6.8</td>\n      <td>8.7</td>\n      <td>5.8</td>\n      <td>6.3</td>\n      <td>4.5</td>\n      <td>4.2</td>\n      <td>3.7</td>\n      <td>3.4</td>\n      <td>2.1</td>\n      <td>2</td>\n    </tr>\n    <tr>\n      <th>2</th>\n      <td>2018-02-22 02:00:00</td>\n      <td>4.1</td>\n      <td>4.8</td>\n      <td>5.0</td>\n      <td>1.8</td>\n      <td>4.0</td>\n      <td>5.7</td>\n      <td>2.4</td>\n      <td>2.2</td>\n      <td>5.6</td>\n      <td>...</td>\n      <td>7.1</td>\n      <td>8.6</td>\n      <td>5.2</td>\n      <td>5.2</td>\n      <td>3.1</td>\n      <td>3.2</td>\n      <td>3.2</td>\n      <td>2.2</td>\n      <td>1.5</td>\n      <td>3</td>\n    </tr>\n    <tr>\n      <th>3</th>\n      <td>2018-02-22 03:00:00</td>\n      <td>4.5</td>\n      <td>4.2</td>\n      <td>4.2</td>\n      <td>1.7</td>\n      <td>3.7</td>\n      <td>5.2</td>\n      <td>1.9</td>\n      <td>2.4</td>\n      <td>5.6</td>\n      <td>...</td>\n      <td>8.0</td>\n      <td>8.6</td>\n      <td>5.1</td>\n      <td>3.9</td>\n      <td>3.3</td>\n      <td>4.1</td>\n      <td>3.3</td>\n      <td>1.5</td>\n      <td>1.4</td>\n      <td>4</td>\n    </tr>\n    <tr>\n      <th>4</th>\n      <td>2018-02-22 04:00:00</td>\n      <td>4.6</td>\n      <td>4.0</td>\n      <td>4.3</td>\n      <td>2.3</td>\n      <td>3.6</td>\n      <td>4.6</td>\n      <td>2.0</td>\n      <td>2.2</td>\n      <td>4.6</td>\n      <td>...</td>\n      <td>7.6</td>\n      <td>8.7</td>\n      <td>4.4</td>\n      <td>2.7</td>\n      <td>3.9</td>\n      <td>3.1</td>\n      <td>1.5</td>\n      <td>1.6</td>\n      <td>3.7</td>\n      <td>5</td>\n    </tr>\n  </tbody>\n</table>\n<p>5 rows × 356 columns</p>\n</div>",
      "text/plain": "                index  190  191  231  232  233  273  274  275  314  ...  1412  \\\n0 2018-02-22 00:00:00  5.3  4.5  5.9  2.7  4.3  5.5  2.3  2.8  3.5  ...   1.3   \n1 2018-02-22 01:00:00  5.3  3.3  6.0  2.4  4.2  5.6  2.3  2.5  4.5  ...   6.8   \n2 2018-02-22 02:00:00  4.1  4.8  5.0  1.8  4.0  5.7  2.4  2.2  5.6  ...   7.1   \n3 2018-02-22 03:00:00  4.5  4.2  4.2  1.7  3.7  5.2  1.9  2.4  5.6  ...   8.0   \n4 2018-02-22 04:00:00  4.6  4.0  4.3  2.3  3.6  4.6  2.0  2.2  4.6  ...   7.6   \n\n   1413  1445  1446  1447  1448  1449  1450  1451  predicted_ahead  \n0   8.1   6.0   5.9   6.8   1.1   2.9   3.8   3.9                1  \n1   8.7   5.8   6.3   4.5   4.2   3.7   3.4   2.1                2  \n2   8.6   5.2   5.2   3.1   3.2   3.2   2.2   1.5                3  \n3   8.6   5.1   3.9   3.3   4.1   3.3   1.5   1.4                4  \n4   8.7   4.4   2.7   3.9   3.1   1.5   1.6   3.7                5  \n\n[5 rows x 356 columns]"
     },
     "execution_count": 5,
     "metadata": {},
     "output_type": "execute_result"
    }
   ],
   "source": [
    "wind_speed_10m.head()"
   ]
  },
  {
   "cell_type": "code",
   "execution_count": 37,
   "metadata": {},
   "outputs": [
    {
     "name": "stdout",
     "output_type": "stream",
     "text": "(291280, 356)\n"
    },
    {
     "data": {
      "text/html": "<div>\n<style scoped>\n    .dataframe tbody tr th:only-of-type {\n        vertical-align: middle;\n    }\n\n    .dataframe tbody tr th {\n        vertical-align: top;\n    }\n\n    .dataframe thead th {\n        text-align: right;\n    }\n</style>\n<table border=\"1\" class=\"dataframe\">\n  <thead>\n    <tr style=\"text-align: right;\">\n      <th></th>\n      <th>index</th>\n      <th>190</th>\n      <th>191</th>\n      <th>231</th>\n      <th>232</th>\n      <th>233</th>\n      <th>273</th>\n      <th>274</th>\n      <th>275</th>\n      <th>314</th>\n      <th>...</th>\n      <th>1412</th>\n      <th>1413</th>\n      <th>1445</th>\n      <th>1446</th>\n      <th>1447</th>\n      <th>1448</th>\n      <th>1449</th>\n      <th>1450</th>\n      <th>1451</th>\n      <th>predicted_ahead</th>\n    </tr>\n  </thead>\n  <tbody>\n    <tr>\n      <th>291220</th>\n      <td>2020-01-11 14:00:00</td>\n      <td>11.5</td>\n      <td>10.8</td>\n      <td>11.7</td>\n      <td>9.1</td>\n      <td>8.6</td>\n      <td>11.1</td>\n      <td>9.2</td>\n      <td>8.7</td>\n      <td>10.9</td>\n      <td>...</td>\n      <td>15.6</td>\n      <td>15.7</td>\n      <td>16.4</td>\n      <td>16.1</td>\n      <td>15.6</td>\n      <td>15.6</td>\n      <td>15.6</td>\n      <td>15.5</td>\n      <td>15.7</td>\n      <td>51</td>\n    </tr>\n    <tr>\n      <th>291221</th>\n      <td>2020-01-11 15:00:00</td>\n      <td>12.3</td>\n      <td>11.8</td>\n      <td>12.4</td>\n      <td>9.9</td>\n      <td>9.2</td>\n      <td>12.1</td>\n      <td>9.8</td>\n      <td>9.3</td>\n      <td>11.7</td>\n      <td>...</td>\n      <td>15.6</td>\n      <td>15.6</td>\n      <td>16.2</td>\n      <td>15.9</td>\n      <td>15.9</td>\n      <td>15.5</td>\n      <td>15.8</td>\n      <td>15.8</td>\n      <td>15.9</td>\n      <td>52</td>\n    </tr>\n    <tr>\n      <th>291222</th>\n      <td>2020-01-11 16:00:00</td>\n      <td>12.9</td>\n      <td>11.8</td>\n      <td>13.1</td>\n      <td>10.7</td>\n      <td>9.5</td>\n      <td>12.6</td>\n      <td>10.1</td>\n      <td>9.8</td>\n      <td>11.8</td>\n      <td>...</td>\n      <td>15.3</td>\n      <td>15.2</td>\n      <td>16.7</td>\n      <td>16.3</td>\n      <td>16.0</td>\n      <td>15.9</td>\n      <td>15.8</td>\n      <td>15.8</td>\n      <td>15.9</td>\n      <td>53</td>\n    </tr>\n    <tr>\n      <th>291223</th>\n      <td>2020-01-11 17:00:00</td>\n      <td>13.5</td>\n      <td>11.6</td>\n      <td>13.2</td>\n      <td>11.0</td>\n      <td>11.2</td>\n      <td>13.1</td>\n      <td>10.3</td>\n      <td>9.8</td>\n      <td>12.3</td>\n      <td>...</td>\n      <td>14.8</td>\n      <td>15.0</td>\n      <td>16.6</td>\n      <td>16.5</td>\n      <td>16.5</td>\n      <td>16.3</td>\n      <td>16.2</td>\n      <td>16.0</td>\n      <td>15.9</td>\n      <td>54</td>\n    </tr>\n    <tr>\n      <th>291224</th>\n      <td>2020-01-11 18:00:00</td>\n      <td>13.6</td>\n      <td>11.8</td>\n      <td>13.4</td>\n      <td>11.5</td>\n      <td>11.5</td>\n      <td>13.2</td>\n      <td>10.5</td>\n      <td>10.1</td>\n      <td>12.7</td>\n      <td>...</td>\n      <td>15.3</td>\n      <td>15.0</td>\n      <td>16.7</td>\n      <td>16.7</td>\n      <td>16.6</td>\n      <td>16.5</td>\n      <td>16.0</td>\n      <td>16.2</td>\n      <td>16.1</td>\n      <td>55</td>\n    </tr>\n    <tr>\n      <th>291225</th>\n      <td>2020-01-10 00:00:00</td>\n      <td>7.9</td>\n      <td>7.2</td>\n      <td>9.4</td>\n      <td>5.6</td>\n      <td>5.9</td>\n      <td>8.9</td>\n      <td>6.5</td>\n      <td>6.2</td>\n      <td>8.7</td>\n      <td>...</td>\n      <td>10.2</td>\n      <td>11.1</td>\n      <td>8.1</td>\n      <td>7.1</td>\n      <td>6.7</td>\n      <td>6.3</td>\n      <td>5.1</td>\n      <td>4.7</td>\n      <td>3.6</td>\n      <td>1</td>\n    </tr>\n    <tr>\n      <th>291226</th>\n      <td>2020-01-10 01:00:00</td>\n      <td>8.2</td>\n      <td>7.2</td>\n      <td>8.3</td>\n      <td>5.3</td>\n      <td>6.0</td>\n      <td>7.9</td>\n      <td>6.1</td>\n      <td>5.3</td>\n      <td>7.6</td>\n      <td>...</td>\n      <td>12.2</td>\n      <td>11.9</td>\n      <td>6.9</td>\n      <td>6.3</td>\n      <td>5.3</td>\n      <td>4.7</td>\n      <td>4.4</td>\n      <td>3.6</td>\n      <td>9.3</td>\n      <td>2</td>\n    </tr>\n    <tr>\n      <th>291227</th>\n      <td>2020-01-10 02:00:00</td>\n      <td>6.7</td>\n      <td>5.7</td>\n      <td>7.6</td>\n      <td>4.7</td>\n      <td>5.2</td>\n      <td>7.0</td>\n      <td>2.8</td>\n      <td>4.1</td>\n      <td>6.8</td>\n      <td>...</td>\n      <td>11.9</td>\n      <td>12.0</td>\n      <td>5.8</td>\n      <td>4.5</td>\n      <td>4.1</td>\n      <td>2.6</td>\n      <td>3.1</td>\n      <td>10.5</td>\n      <td>11.7</td>\n      <td>3</td>\n    </tr>\n    <tr>\n      <th>291228</th>\n      <td>2020-01-10 03:00:00</td>\n      <td>5.8</td>\n      <td>5.2</td>\n      <td>6.7</td>\n      <td>3.5</td>\n      <td>4.2</td>\n      <td>6.1</td>\n      <td>3.4</td>\n      <td>4.3</td>\n      <td>6.3</td>\n      <td>...</td>\n      <td>11.8</td>\n      <td>12.1</td>\n      <td>3.3</td>\n      <td>2.6</td>\n      <td>4.0</td>\n      <td>9.8</td>\n      <td>10.0</td>\n      <td>10.7</td>\n      <td>11.7</td>\n      <td>4</td>\n    </tr>\n    <tr>\n      <th>291229</th>\n      <td>2020-01-10 04:00:00</td>\n      <td>3.6</td>\n      <td>4.9</td>\n      <td>6.5</td>\n      <td>2.0</td>\n      <td>4.1</td>\n      <td>6.2</td>\n      <td>3.5</td>\n      <td>3.0</td>\n      <td>6.0</td>\n      <td>...</td>\n      <td>12.1</td>\n      <td>11.6</td>\n      <td>4.3</td>\n      <td>9.0</td>\n      <td>10.5</td>\n      <td>11.9</td>\n      <td>12.1</td>\n      <td>11.9</td>\n      <td>12.2</td>\n      <td>5</td>\n    </tr>\n    <tr>\n      <th>291230</th>\n      <td>2020-01-10 05:00:00</td>\n      <td>2.1</td>\n      <td>5.8</td>\n      <td>6.2</td>\n      <td>1.2</td>\n      <td>3.4</td>\n      <td>6.3</td>\n      <td>2.2</td>\n      <td>3.1</td>\n      <td>6.1</td>\n      <td>...</td>\n      <td>12.4</td>\n      <td>12.4</td>\n      <td>10.2</td>\n      <td>11.1</td>\n      <td>12.0</td>\n      <td>13.1</td>\n      <td>13.0</td>\n      <td>13.0</td>\n      <td>12.9</td>\n      <td>6</td>\n    </tr>\n    <tr>\n      <th>291231</th>\n      <td>2020-01-10 06:00:00</td>\n      <td>5.8</td>\n      <td>4.5</td>\n      <td>5.8</td>\n      <td>1.8</td>\n      <td>3.8</td>\n      <td>6.5</td>\n      <td>2.5</td>\n      <td>3.0</td>\n      <td>6.9</td>\n      <td>...</td>\n      <td>12.7</td>\n      <td>13.4</td>\n      <td>12.2</td>\n      <td>12.5</td>\n      <td>12.7</td>\n      <td>12.9</td>\n      <td>13.0</td>\n      <td>13.0</td>\n      <td>13.1</td>\n      <td>7</td>\n    </tr>\n    <tr>\n      <th>291232</th>\n      <td>2020-01-10 07:00:00</td>\n      <td>6.1</td>\n      <td>4.8</td>\n      <td>6.6</td>\n      <td>3.1</td>\n      <td>4.4</td>\n      <td>6.9</td>\n      <td>3.5</td>\n      <td>3.3</td>\n      <td>7.2</td>\n      <td>...</td>\n      <td>13.7</td>\n      <td>13.9</td>\n      <td>13.0</td>\n      <td>12.9</td>\n      <td>12.8</td>\n      <td>13.1</td>\n      <td>12.9</td>\n      <td>12.9</td>\n      <td>13.2</td>\n      <td>8</td>\n    </tr>\n    <tr>\n      <th>291233</th>\n      <td>2020-01-10 08:00:00</td>\n      <td>7.0</td>\n      <td>5.7</td>\n      <td>7.5</td>\n      <td>4.2</td>\n      <td>5.0</td>\n      <td>7.2</td>\n      <td>5.3</td>\n      <td>3.7</td>\n      <td>7.1</td>\n      <td>...</td>\n      <td>13.2</td>\n      <td>13.1</td>\n      <td>12.7</td>\n      <td>12.8</td>\n      <td>12.6</td>\n      <td>12.6</td>\n      <td>13.2</td>\n      <td>13.0</td>\n      <td>13.2</td>\n      <td>9</td>\n    </tr>\n    <tr>\n      <th>291234</th>\n      <td>2020-01-10 09:00:00</td>\n      <td>6.6</td>\n      <td>5.3</td>\n      <td>6.3</td>\n      <td>3.2</td>\n      <td>4.2</td>\n      <td>6.5</td>\n      <td>4.0</td>\n      <td>3.1</td>\n      <td>6.9</td>\n      <td>...</td>\n      <td>12.1</td>\n      <td>12.1</td>\n      <td>12.2</td>\n      <td>12.0</td>\n      <td>12.4</td>\n      <td>12.8</td>\n      <td>12.9</td>\n      <td>12.7</td>\n      <td>12.3</td>\n      <td>10</td>\n    </tr>\n    <tr>\n      <th>291235</th>\n      <td>2020-01-10 10:00:00</td>\n      <td>6.4</td>\n      <td>4.4</td>\n      <td>6.7</td>\n      <td>3.3</td>\n      <td>3.9</td>\n      <td>7.1</td>\n      <td>2.6</td>\n      <td>1.5</td>\n      <td>6.3</td>\n      <td>...</td>\n      <td>11.1</td>\n      <td>11.2</td>\n      <td>12.0</td>\n      <td>11.8</td>\n      <td>11.9</td>\n      <td>11.8</td>\n      <td>11.9</td>\n      <td>11.7</td>\n      <td>11.4</td>\n      <td>11</td>\n    </tr>\n    <tr>\n      <th>291236</th>\n      <td>2020-01-10 11:00:00</td>\n      <td>5.9</td>\n      <td>4.2</td>\n      <td>6.4</td>\n      <td>3.1</td>\n      <td>4.5</td>\n      <td>5.5</td>\n      <td>3.1</td>\n      <td>2.7</td>\n      <td>4.1</td>\n      <td>...</td>\n      <td>10.5</td>\n      <td>10.5</td>\n      <td>11.6</td>\n      <td>11.3</td>\n      <td>11.3</td>\n      <td>11.1</td>\n      <td>11.1</td>\n      <td>10.8</td>\n      <td>10.5</td>\n      <td>12</td>\n    </tr>\n    <tr>\n      <th>291237</th>\n      <td>2020-01-10 12:00:00</td>\n      <td>5.2</td>\n      <td>4.8</td>\n      <td>4.0</td>\n      <td>3.3</td>\n      <td>2.9</td>\n      <td>3.8</td>\n      <td>2.4</td>\n      <td>1.9</td>\n      <td>4.5</td>\n      <td>...</td>\n      <td>9.9</td>\n      <td>9.8</td>\n      <td>12.2</td>\n      <td>12.0</td>\n      <td>11.8</td>\n      <td>11.3</td>\n      <td>11.0</td>\n      <td>10.7</td>\n      <td>10.4</td>\n      <td>13</td>\n    </tr>\n    <tr>\n      <th>291238</th>\n      <td>2020-01-10 13:00:00</td>\n      <td>3.4</td>\n      <td>3.1</td>\n      <td>4.3</td>\n      <td>1.9</td>\n      <td>2.3</td>\n      <td>4.0</td>\n      <td>2.9</td>\n      <td>1.3</td>\n      <td>4.0</td>\n      <td>...</td>\n      <td>10.3</td>\n      <td>10.4</td>\n      <td>12.4</td>\n      <td>12.2</td>\n      <td>11.9</td>\n      <td>11.4</td>\n      <td>11.2</td>\n      <td>10.9</td>\n      <td>10.7</td>\n      <td>14</td>\n    </tr>\n    <tr>\n      <th>291239</th>\n      <td>2020-01-10 14:00:00</td>\n      <td>2.9</td>\n      <td>3.3</td>\n      <td>5.4</td>\n      <td>2.7</td>\n      <td>2.6</td>\n      <td>6.3</td>\n      <td>3.3</td>\n      <td>2.4</td>\n      <td>5.5</td>\n      <td>...</td>\n      <td>10.2</td>\n      <td>10.3</td>\n      <td>11.8</td>\n      <td>11.4</td>\n      <td>11.2</td>\n      <td>10.9</td>\n      <td>10.9</td>\n      <td>10.8</td>\n      <td>10.3</td>\n      <td>15</td>\n    </tr>\n    <tr>\n      <th>291240</th>\n      <td>2020-01-10 15:00:00</td>\n      <td>5.7</td>\n      <td>3.9</td>\n      <td>6.1</td>\n      <td>3.8</td>\n      <td>4.0</td>\n      <td>5.7</td>\n      <td>4.2</td>\n      <td>2.8</td>\n      <td>5.4</td>\n      <td>...</td>\n      <td>9.3</td>\n      <td>9.3</td>\n      <td>10.7</td>\n      <td>10.6</td>\n      <td>10.4</td>\n      <td>10.2</td>\n      <td>10.0</td>\n      <td>9.6</td>\n      <td>9.2</td>\n      <td>16</td>\n    </tr>\n    <tr>\n      <th>291241</th>\n      <td>2020-01-10 16:00:00</td>\n      <td>5.0</td>\n      <td>5.0</td>\n      <td>5.6</td>\n      <td>3.6</td>\n      <td>3.1</td>\n      <td>5.2</td>\n      <td>3.4</td>\n      <td>2.0</td>\n      <td>6.5</td>\n      <td>...</td>\n      <td>8.3</td>\n      <td>8.3</td>\n      <td>10.0</td>\n      <td>9.7</td>\n      <td>9.5</td>\n      <td>9.2</td>\n      <td>9.1</td>\n      <td>8.8</td>\n      <td>8.5</td>\n      <td>17</td>\n    </tr>\n    <tr>\n      <th>291242</th>\n      <td>2020-01-10 17:00:00</td>\n      <td>4.7</td>\n      <td>2.8</td>\n      <td>6.2</td>\n      <td>3.0</td>\n      <td>3.5</td>\n      <td>5.5</td>\n      <td>3.4</td>\n      <td>2.1</td>\n      <td>5.6</td>\n      <td>...</td>\n      <td>7.2</td>\n      <td>7.3</td>\n      <td>8.5</td>\n      <td>8.4</td>\n      <td>8.3</td>\n      <td>7.9</td>\n      <td>7.8</td>\n      <td>7.4</td>\n      <td>7.1</td>\n      <td>18</td>\n    </tr>\n    <tr>\n      <th>291243</th>\n      <td>2020-01-10 18:00:00</td>\n      <td>3.8</td>\n      <td>3.7</td>\n      <td>6.0</td>\n      <td>3.3</td>\n      <td>2.8</td>\n      <td>6.6</td>\n      <td>3.8</td>\n      <td>2.1</td>\n      <td>8.9</td>\n      <td>...</td>\n      <td>6.1</td>\n      <td>6.1</td>\n      <td>7.4</td>\n      <td>7.0</td>\n      <td>6.8</td>\n      <td>6.6</td>\n      <td>6.4</td>\n      <td>6.1</td>\n      <td>5.8</td>\n      <td>19</td>\n    </tr>\n    <tr>\n      <th>291244</th>\n      <td>2020-01-10 19:00:00</td>\n      <td>3.6</td>\n      <td>4.3</td>\n      <td>6.6</td>\n      <td>2.8</td>\n      <td>3.9</td>\n      <td>6.1</td>\n      <td>3.3</td>\n      <td>1.7</td>\n      <td>8.6</td>\n      <td>...</td>\n      <td>4.8</td>\n      <td>4.7</td>\n      <td>6.3</td>\n      <td>6.1</td>\n      <td>5.8</td>\n      <td>5.5</td>\n      <td>5.3</td>\n      <td>5.0</td>\n      <td>4.7</td>\n      <td>20</td>\n    </tr>\n    <tr>\n      <th>291245</th>\n      <td>2020-01-10 20:00:00</td>\n      <td>5.2</td>\n      <td>8.9</td>\n      <td>4.8</td>\n      <td>3.3</td>\n      <td>7.0</td>\n      <td>6.6</td>\n      <td>3.5</td>\n      <td>4.4</td>\n      <td>8.4</td>\n      <td>...</td>\n      <td>2.8</td>\n      <td>2.8</td>\n      <td>4.5</td>\n      <td>4.3</td>\n      <td>3.9</td>\n      <td>3.5</td>\n      <td>3.2</td>\n      <td>3.0</td>\n      <td>2.6</td>\n      <td>21</td>\n    </tr>\n    <tr>\n      <th>291246</th>\n      <td>2020-01-10 21:00:00</td>\n      <td>10.6</td>\n      <td>11.0</td>\n      <td>5.4</td>\n      <td>6.7</td>\n      <td>9.7</td>\n      <td>5.3</td>\n      <td>6.5</td>\n      <td>6.4</td>\n      <td>8.1</td>\n      <td>...</td>\n      <td>1.0</td>\n      <td>0.9</td>\n      <td>4.0</td>\n      <td>3.4</td>\n      <td>3.1</td>\n      <td>2.8</td>\n      <td>2.7</td>\n      <td>2.5</td>\n      <td>2.4</td>\n      <td>22</td>\n    </tr>\n    <tr>\n      <th>291247</th>\n      <td>2020-01-10 22:00:00</td>\n      <td>10.6</td>\n      <td>10.6</td>\n      <td>8.3</td>\n      <td>6.4</td>\n      <td>9.4</td>\n      <td>7.9</td>\n      <td>6.0</td>\n      <td>6.0</td>\n      <td>10.3</td>\n      <td>...</td>\n      <td>2.9</td>\n      <td>3.1</td>\n      <td>4.7</td>\n      <td>4.3</td>\n      <td>3.9</td>\n      <td>3.7</td>\n      <td>3.5</td>\n      <td>3.5</td>\n      <td>3.2</td>\n      <td>23</td>\n    </tr>\n    <tr>\n      <th>291248</th>\n      <td>2020-01-10 23:00:00</td>\n      <td>9.4</td>\n      <td>9.8</td>\n      <td>7.9</td>\n      <td>5.8</td>\n      <td>8.6</td>\n      <td>7.7</td>\n      <td>5.2</td>\n      <td>5.4</td>\n      <td>9.0</td>\n      <td>...</td>\n      <td>5.1</td>\n      <td>4.8</td>\n      <td>6.2</td>\n      <td>6.0</td>\n      <td>5.6</td>\n      <td>5.4</td>\n      <td>5.4</td>\n      <td>5.9</td>\n      <td>6.1</td>\n      <td>24</td>\n    </tr>\n    <tr>\n      <th>291249</th>\n      <td>2020-01-11 00:00:00</td>\n      <td>9.4</td>\n      <td>9.3</td>\n      <td>6.5</td>\n      <td>5.3</td>\n      <td>8.0</td>\n      <td>6.8</td>\n      <td>4.8</td>\n      <td>4.8</td>\n      <td>8.2</td>\n      <td>...</td>\n      <td>6.8</td>\n      <td>7.2</td>\n      <td>7.3</td>\n      <td>7.2</td>\n      <td>7.2</td>\n      <td>7.2</td>\n      <td>6.8</td>\n      <td>6.8</td>\n      <td>6.8</td>\n      <td>25</td>\n    </tr>\n    <tr>\n      <th>291250</th>\n      <td>2020-01-11 01:00:00</td>\n      <td>9.5</td>\n      <td>9.1</td>\n      <td>6.1</td>\n      <td>4.6</td>\n      <td>7.7</td>\n      <td>7.4</td>\n      <td>4.9</td>\n      <td>4.8</td>\n      <td>8.2</td>\n      <td>...</td>\n      <td>7.5</td>\n      <td>8.1</td>\n      <td>7.7</td>\n      <td>7.6</td>\n      <td>7.7</td>\n      <td>7.8</td>\n      <td>7.9</td>\n      <td>8.0</td>\n      <td>8.1</td>\n      <td>26</td>\n    </tr>\n    <tr>\n      <th>291251</th>\n      <td>2020-01-11 02:00:00</td>\n      <td>8.5</td>\n      <td>8.4</td>\n      <td>5.8</td>\n      <td>3.4</td>\n      <td>7.1</td>\n      <td>6.5</td>\n      <td>3.9</td>\n      <td>3.9</td>\n      <td>7.0</td>\n      <td>...</td>\n      <td>8.4</td>\n      <td>8.8</td>\n      <td>8.8</td>\n      <td>8.6</td>\n      <td>8.6</td>\n      <td>8.5</td>\n      <td>8.6</td>\n      <td>8.6</td>\n      <td>8.7</td>\n      <td>27</td>\n    </tr>\n    <tr>\n      <th>291252</th>\n      <td>2020-01-11 03:00:00</td>\n      <td>7.8</td>\n      <td>7.1</td>\n      <td>5.0</td>\n      <td>3.0</td>\n      <td>5.6</td>\n      <td>5.8</td>\n      <td>3.6</td>\n      <td>3.1</td>\n      <td>5.7</td>\n      <td>...</td>\n      <td>9.5</td>\n      <td>9.8</td>\n      <td>10.5</td>\n      <td>10.4</td>\n      <td>10.4</td>\n      <td>10.4</td>\n      <td>10.3</td>\n      <td>10.4</td>\n      <td>10.5</td>\n      <td>28</td>\n    </tr>\n    <tr>\n      <th>291253</th>\n      <td>2020-01-11 04:00:00</td>\n      <td>5.5</td>\n      <td>6.0</td>\n      <td>4.8</td>\n      <td>2.5</td>\n      <td>4.0</td>\n      <td>5.1</td>\n      <td>3.4</td>\n      <td>2.2</td>\n      <td>5.0</td>\n      <td>...</td>\n      <td>11.4</td>\n      <td>11.7</td>\n      <td>11.9</td>\n      <td>11.9</td>\n      <td>11.9</td>\n      <td>11.9</td>\n      <td>11.9</td>\n      <td>12.0</td>\n      <td>12.2</td>\n      <td>29</td>\n    </tr>\n    <tr>\n      <th>291254</th>\n      <td>2020-01-11 05:00:00</td>\n      <td>4.1</td>\n      <td>5.3</td>\n      <td>4.6</td>\n      <td>2.4</td>\n      <td>4.1</td>\n      <td>5.1</td>\n      <td>2.8</td>\n      <td>1.7</td>\n      <td>5.4</td>\n      <td>...</td>\n      <td>12.8</td>\n      <td>13.2</td>\n      <td>12.9</td>\n      <td>12.9</td>\n      <td>13.0</td>\n      <td>13.0</td>\n      <td>13.1</td>\n      <td>13.1</td>\n      <td>13.5</td>\n      <td>30</td>\n    </tr>\n    <tr>\n      <th>291255</th>\n      <td>2020-01-11 06:00:00</td>\n      <td>4.0</td>\n      <td>4.7</td>\n      <td>4.0</td>\n      <td>2.2</td>\n      <td>3.8</td>\n      <td>5.0</td>\n      <td>4.1</td>\n      <td>2.3</td>\n      <td>4.9</td>\n      <td>...</td>\n      <td>14.0</td>\n      <td>14.3</td>\n      <td>14.5</td>\n      <td>14.5</td>\n      <td>14.4</td>\n      <td>14.3</td>\n      <td>14.5</td>\n      <td>14.6</td>\n      <td>14.9</td>\n      <td>31</td>\n    </tr>\n    <tr>\n      <th>291256</th>\n      <td>2020-01-11 07:00:00</td>\n      <td>3.3</td>\n      <td>4.4</td>\n      <td>5.4</td>\n      <td>2.6</td>\n      <td>3.5</td>\n      <td>5.9</td>\n      <td>4.0</td>\n      <td>2.3</td>\n      <td>5.7</td>\n      <td>...</td>\n      <td>15.1</td>\n      <td>15.5</td>\n      <td>15.3</td>\n      <td>15.3</td>\n      <td>15.3</td>\n      <td>15.3</td>\n      <td>15.4</td>\n      <td>15.5</td>\n      <td>15.7</td>\n      <td>32</td>\n    </tr>\n    <tr>\n      <th>291257</th>\n      <td>2020-01-11 08:00:00</td>\n      <td>3.8</td>\n      <td>4.9</td>\n      <td>5.7</td>\n      <td>2.1</td>\n      <td>3.2</td>\n      <td>4.9</td>\n      <td>3.8</td>\n      <td>2.5</td>\n      <td>4.8</td>\n      <td>...</td>\n      <td>16.0</td>\n      <td>16.3</td>\n      <td>15.8</td>\n      <td>15.5</td>\n      <td>15.4</td>\n      <td>15.7</td>\n      <td>15.8</td>\n      <td>15.9</td>\n      <td>16.3</td>\n      <td>33</td>\n    </tr>\n    <tr>\n      <th>291258</th>\n      <td>2020-01-11 09:00:00</td>\n      <td>3.7</td>\n      <td>4.7</td>\n      <td>4.7</td>\n      <td>2.7</td>\n      <td>2.9</td>\n      <td>3.8</td>\n      <td>3.0</td>\n      <td>2.5</td>\n      <td>4.3</td>\n      <td>...</td>\n      <td>16.8</td>\n      <td>17.2</td>\n      <td>15.8</td>\n      <td>15.7</td>\n      <td>15.8</td>\n      <td>15.9</td>\n      <td>16.1</td>\n      <td>16.0</td>\n      <td>16.2</td>\n      <td>34</td>\n    </tr>\n    <tr>\n      <th>291259</th>\n      <td>2020-01-11 10:00:00</td>\n      <td>5.0</td>\n      <td>3.7</td>\n      <td>4.6</td>\n      <td>3.5</td>\n      <td>3.2</td>\n      <td>5.2</td>\n      <td>4.2</td>\n      <td>3.3</td>\n      <td>5.5</td>\n      <td>...</td>\n      <td>16.7</td>\n      <td>17.3</td>\n      <td>15.9</td>\n      <td>15.8</td>\n      <td>15.8</td>\n      <td>16.0</td>\n      <td>16.2</td>\n      <td>16.2</td>\n      <td>16.6</td>\n      <td>35</td>\n    </tr>\n    <tr>\n      <th>291260</th>\n      <td>2020-01-11 11:00:00</td>\n      <td>6.3</td>\n      <td>5.5</td>\n      <td>6.6</td>\n      <td>5.4</td>\n      <td>4.9</td>\n      <td>6.5</td>\n      <td>6.1</td>\n      <td>5.5</td>\n      <td>7.0</td>\n      <td>...</td>\n      <td>16.9</td>\n      <td>17.4</td>\n      <td>16.3</td>\n      <td>16.2</td>\n      <td>16.2</td>\n      <td>16.2</td>\n      <td>16.4</td>\n      <td>16.3</td>\n      <td>16.5</td>\n      <td>36</td>\n    </tr>\n    <tr>\n      <th>291261</th>\n      <td>2020-01-11 12:00:00</td>\n      <td>8.3</td>\n      <td>7.3</td>\n      <td>7.3</td>\n      <td>6.0</td>\n      <td>5.6</td>\n      <td>7.9</td>\n      <td>6.6</td>\n      <td>6.3</td>\n      <td>7.7</td>\n      <td>...</td>\n      <td>17.1</td>\n      <td>17.6</td>\n      <td>16.4</td>\n      <td>16.5</td>\n      <td>16.6</td>\n      <td>16.7</td>\n      <td>16.8</td>\n      <td>16.8</td>\n      <td>16.9</td>\n      <td>37</td>\n    </tr>\n    <tr>\n      <th>291262</th>\n      <td>2020-01-11 13:00:00</td>\n      <td>9.1</td>\n      <td>8.1</td>\n      <td>8.4</td>\n      <td>7.0</td>\n      <td>6.4</td>\n      <td>8.3</td>\n      <td>7.2</td>\n      <td>7.1</td>\n      <td>8.6</td>\n      <td>...</td>\n      <td>17.0</td>\n      <td>17.6</td>\n      <td>16.7</td>\n      <td>16.8</td>\n      <td>16.8</td>\n      <td>16.7</td>\n      <td>16.7</td>\n      <td>16.5</td>\n      <td>16.6</td>\n      <td>38</td>\n    </tr>\n    <tr>\n      <th>291263</th>\n      <td>2020-01-11 14:00:00</td>\n      <td>9.9</td>\n      <td>9.0</td>\n      <td>9.7</td>\n      <td>7.4</td>\n      <td>6.8</td>\n      <td>9.3</td>\n      <td>7.8</td>\n      <td>7.8</td>\n      <td>9.1</td>\n      <td>...</td>\n      <td>16.7</td>\n      <td>17.2</td>\n      <td>16.9</td>\n      <td>16.8</td>\n      <td>16.7</td>\n      <td>16.5</td>\n      <td>16.4</td>\n      <td>16.3</td>\n      <td>16.5</td>\n      <td>39</td>\n    </tr>\n    <tr>\n      <th>291264</th>\n      <td>2020-01-11 15:00:00</td>\n      <td>11.2</td>\n      <td>9.5</td>\n      <td>10.5</td>\n      <td>8.1</td>\n      <td>7.4</td>\n      <td>10.3</td>\n      <td>8.3</td>\n      <td>7.7</td>\n      <td>10.1</td>\n      <td>...</td>\n      <td>16.4</td>\n      <td>16.4</td>\n      <td>16.5</td>\n      <td>16.3</td>\n      <td>16.3</td>\n      <td>16.2</td>\n      <td>16.2</td>\n      <td>15.9</td>\n      <td>16.2</td>\n      <td>40</td>\n    </tr>\n    <tr>\n      <th>291265</th>\n      <td>2020-01-11 16:00:00</td>\n      <td>11.9</td>\n      <td>10.5</td>\n      <td>11.2</td>\n      <td>8.5</td>\n      <td>8.5</td>\n      <td>11.4</td>\n      <td>9.4</td>\n      <td>8.4</td>\n      <td>10.8</td>\n      <td>...</td>\n      <td>15.9</td>\n      <td>16.3</td>\n      <td>16.4</td>\n      <td>16.2</td>\n      <td>16.0</td>\n      <td>15.9</td>\n      <td>16.0</td>\n      <td>16.1</td>\n      <td>16.2</td>\n      <td>41</td>\n    </tr>\n    <tr>\n      <th>291266</th>\n      <td>2020-01-11 17:00:00</td>\n      <td>12.6</td>\n      <td>11.6</td>\n      <td>12.1</td>\n      <td>9.6</td>\n      <td>9.5</td>\n      <td>12.0</td>\n      <td>10.1</td>\n      <td>9.5</td>\n      <td>11.9</td>\n      <td>...</td>\n      <td>15.9</td>\n      <td>16.2</td>\n      <td>16.4</td>\n      <td>16.2</td>\n      <td>16.1</td>\n      <td>15.9</td>\n      <td>16.0</td>\n      <td>16.1</td>\n      <td>16.3</td>\n      <td>42</td>\n    </tr>\n    <tr>\n      <th>291267</th>\n      <td>2020-01-11 18:00:00</td>\n      <td>12.8</td>\n      <td>12.3</td>\n      <td>12.6</td>\n      <td>10.1</td>\n      <td>10.4</td>\n      <td>12.5</td>\n      <td>10.3</td>\n      <td>10.1</td>\n      <td>12.4</td>\n      <td>...</td>\n      <td>16.5</td>\n      <td>16.6</td>\n      <td>16.6</td>\n      <td>16.4</td>\n      <td>16.2</td>\n      <td>16.1</td>\n      <td>16.4</td>\n      <td>16.4</td>\n      <td>16.4</td>\n      <td>43</td>\n    </tr>\n    <tr>\n      <th>291268</th>\n      <td>2020-01-11 19:00:00</td>\n      <td>13.7</td>\n      <td>12.6</td>\n      <td>12.9</td>\n      <td>10.9</td>\n      <td>10.6</td>\n      <td>12.8</td>\n      <td>10.6</td>\n      <td>10.4</td>\n      <td>12.3</td>\n      <td>...</td>\n      <td>17.0</td>\n      <td>17.2</td>\n      <td>16.6</td>\n      <td>16.5</td>\n      <td>16.6</td>\n      <td>16.6</td>\n      <td>16.9</td>\n      <td>17.2</td>\n      <td>17.4</td>\n      <td>44</td>\n    </tr>\n    <tr>\n      <th>291269</th>\n      <td>2020-01-11 20:00:00</td>\n      <td>13.9</td>\n      <td>12.2</td>\n      <td>12.9</td>\n      <td>10.9</td>\n      <td>11.2</td>\n      <td>12.5</td>\n      <td>10.5</td>\n      <td>10.3</td>\n      <td>12.8</td>\n      <td>...</td>\n      <td>17.7</td>\n      <td>17.7</td>\n      <td>16.7</td>\n      <td>16.8</td>\n      <td>17.0</td>\n      <td>17.0</td>\n      <td>17.1</td>\n      <td>17.4</td>\n      <td>18.0</td>\n      <td>45</td>\n    </tr>\n    <tr>\n      <th>291270</th>\n      <td>2020-01-11 21:00:00</td>\n      <td>13.7</td>\n      <td>11.8</td>\n      <td>12.9</td>\n      <td>10.7</td>\n      <td>11.7</td>\n      <td>12.8</td>\n      <td>10.6</td>\n      <td>10.1</td>\n      <td>12.7</td>\n      <td>...</td>\n      <td>17.3</td>\n      <td>17.7</td>\n      <td>16.6</td>\n      <td>16.7</td>\n      <td>16.8</td>\n      <td>16.7</td>\n      <td>17.0</td>\n      <td>17.7</td>\n      <td>17.6</td>\n      <td>46</td>\n    </tr>\n    <tr>\n      <th>291271</th>\n      <td>2020-01-11 22:00:00</td>\n      <td>14.0</td>\n      <td>11.3</td>\n      <td>13.1</td>\n      <td>10.6</td>\n      <td>12.0</td>\n      <td>13.0</td>\n      <td>10.9</td>\n      <td>10.3</td>\n      <td>12.4</td>\n      <td>...</td>\n      <td>17.3</td>\n      <td>17.7</td>\n      <td>16.5</td>\n      <td>16.5</td>\n      <td>16.7</td>\n      <td>16.8</td>\n      <td>17.1</td>\n      <td>17.3</td>\n      <td>17.5</td>\n      <td>47</td>\n    </tr>\n    <tr>\n      <th>291272</th>\n      <td>2020-01-11 23:00:00</td>\n      <td>14.2</td>\n      <td>10.9</td>\n      <td>12.8</td>\n      <td>10.3</td>\n      <td>11.5</td>\n      <td>12.7</td>\n      <td>11.4</td>\n      <td>10.8</td>\n      <td>12.3</td>\n      <td>...</td>\n      <td>17.1</td>\n      <td>17.3</td>\n      <td>16.2</td>\n      <td>16.2</td>\n      <td>16.4</td>\n      <td>16.5</td>\n      <td>16.8</td>\n      <td>16.8</td>\n      <td>17.0</td>\n      <td>48</td>\n    </tr>\n    <tr>\n      <th>291273</th>\n      <td>2020-01-12 00:00:00</td>\n      <td>13.9</td>\n      <td>11.7</td>\n      <td>12.8</td>\n      <td>10.9</td>\n      <td>11.2</td>\n      <td>12.8</td>\n      <td>11.6</td>\n      <td>11.3</td>\n      <td>12.5</td>\n      <td>...</td>\n      <td>15.7</td>\n      <td>16.1</td>\n      <td>15.7</td>\n      <td>15.6</td>\n      <td>15.7</td>\n      <td>15.8</td>\n      <td>16.1</td>\n      <td>16.0</td>\n      <td>16.0</td>\n      <td>49</td>\n    </tr>\n    <tr>\n      <th>291274</th>\n      <td>2020-01-12 01:00:00</td>\n      <td>14.3</td>\n      <td>11.9</td>\n      <td>13.6</td>\n      <td>11.6</td>\n      <td>11.0</td>\n      <td>13.3</td>\n      <td>11.5</td>\n      <td>11.2</td>\n      <td>13.0</td>\n      <td>...</td>\n      <td>14.0</td>\n      <td>13.8</td>\n      <td>15.2</td>\n      <td>15.0</td>\n      <td>15.1</td>\n      <td>15.1</td>\n      <td>15.1</td>\n      <td>14.8</td>\n      <td>14.5</td>\n      <td>50</td>\n    </tr>\n    <tr>\n      <th>291275</th>\n      <td>2020-01-12 02:00:00</td>\n      <td>14.9</td>\n      <td>12.6</td>\n      <td>13.9</td>\n      <td>11.8</td>\n      <td>10.9</td>\n      <td>13.2</td>\n      <td>11.7</td>\n      <td>11.0</td>\n      <td>12.9</td>\n      <td>...</td>\n      <td>9.8</td>\n      <td>9.5</td>\n      <td>15.0</td>\n      <td>14.8</td>\n      <td>14.8</td>\n      <td>14.6</td>\n      <td>13.9</td>\n      <td>13.0</td>\n      <td>13.3</td>\n      <td>51</td>\n    </tr>\n    <tr>\n      <th>291276</th>\n      <td>2020-01-12 03:00:00</td>\n      <td>15.1</td>\n      <td>13.1</td>\n      <td>14.2</td>\n      <td>11.7</td>\n      <td>10.7</td>\n      <td>13.7</td>\n      <td>11.3</td>\n      <td>10.9</td>\n      <td>13.0</td>\n      <td>...</td>\n      <td>9.2</td>\n      <td>10.4</td>\n      <td>14.1</td>\n      <td>13.6</td>\n      <td>13.0</td>\n      <td>12.2</td>\n      <td>9.1</td>\n      <td>8.5</td>\n      <td>9.2</td>\n      <td>52</td>\n    </tr>\n    <tr>\n      <th>291277</th>\n      <td>2020-01-12 04:00:00</td>\n      <td>14.4</td>\n      <td>13.5</td>\n      <td>14.1</td>\n      <td>11.4</td>\n      <td>10.5</td>\n      <td>13.6</td>\n      <td>11.2</td>\n      <td>10.5</td>\n      <td>12.7</td>\n      <td>...</td>\n      <td>7.8</td>\n      <td>7.7</td>\n      <td>12.6</td>\n      <td>11.0</td>\n      <td>7.1</td>\n      <td>6.2</td>\n      <td>7.2</td>\n      <td>7.5</td>\n      <td>7.3</td>\n      <td>53</td>\n    </tr>\n    <tr>\n      <th>291278</th>\n      <td>2020-01-12 05:00:00</td>\n      <td>13.9</td>\n      <td>13.1</td>\n      <td>13.9</td>\n      <td>11.1</td>\n      <td>10.4</td>\n      <td>13.2</td>\n      <td>11.2</td>\n      <td>10.4</td>\n      <td>12.6</td>\n      <td>...</td>\n      <td>7.9</td>\n      <td>9.0</td>\n      <td>9.5</td>\n      <td>7.1</td>\n      <td>5.0</td>\n      <td>6.0</td>\n      <td>7.0</td>\n      <td>7.9</td>\n      <td>8.2</td>\n      <td>54</td>\n    </tr>\n    <tr>\n      <th>291279</th>\n      <td>2020-01-12 06:00:00</td>\n      <td>13.4</td>\n      <td>12.9</td>\n      <td>13.6</td>\n      <td>10.7</td>\n      <td>10.3</td>\n      <td>13.0</td>\n      <td>11.2</td>\n      <td>10.4</td>\n      <td>12.8</td>\n      <td>...</td>\n      <td>7.0</td>\n      <td>7.0</td>\n      <td>5.7</td>\n      <td>6.3</td>\n      <td>5.0</td>\n      <td>4.7</td>\n      <td>6.0</td>\n      <td>5.7</td>\n      <td>6.4</td>\n      <td>55</td>\n    </tr>\n  </tbody>\n</table>\n<p>60 rows × 356 columns</p>\n</div>",
      "text/plain": "                     index   190   191   231   232   233   273   274   275  \\\n291220 2020-01-11 14:00:00  11.5  10.8  11.7   9.1   8.6  11.1   9.2   8.7   \n291221 2020-01-11 15:00:00  12.3  11.8  12.4   9.9   9.2  12.1   9.8   9.3   \n291222 2020-01-11 16:00:00  12.9  11.8  13.1  10.7   9.5  12.6  10.1   9.8   \n291223 2020-01-11 17:00:00  13.5  11.6  13.2  11.0  11.2  13.1  10.3   9.8   \n291224 2020-01-11 18:00:00  13.6  11.8  13.4  11.5  11.5  13.2  10.5  10.1   \n291225 2020-01-10 00:00:00   7.9   7.2   9.4   5.6   5.9   8.9   6.5   6.2   \n291226 2020-01-10 01:00:00   8.2   7.2   8.3   5.3   6.0   7.9   6.1   5.3   \n291227 2020-01-10 02:00:00   6.7   5.7   7.6   4.7   5.2   7.0   2.8   4.1   \n291228 2020-01-10 03:00:00   5.8   5.2   6.7   3.5   4.2   6.1   3.4   4.3   \n291229 2020-01-10 04:00:00   3.6   4.9   6.5   2.0   4.1   6.2   3.5   3.0   \n291230 2020-01-10 05:00:00   2.1   5.8   6.2   1.2   3.4   6.3   2.2   3.1   \n291231 2020-01-10 06:00:00   5.8   4.5   5.8   1.8   3.8   6.5   2.5   3.0   \n291232 2020-01-10 07:00:00   6.1   4.8   6.6   3.1   4.4   6.9   3.5   3.3   \n291233 2020-01-10 08:00:00   7.0   5.7   7.5   4.2   5.0   7.2   5.3   3.7   \n291234 2020-01-10 09:00:00   6.6   5.3   6.3   3.2   4.2   6.5   4.0   3.1   \n291235 2020-01-10 10:00:00   6.4   4.4   6.7   3.3   3.9   7.1   2.6   1.5   \n291236 2020-01-10 11:00:00   5.9   4.2   6.4   3.1   4.5   5.5   3.1   2.7   \n291237 2020-01-10 12:00:00   5.2   4.8   4.0   3.3   2.9   3.8   2.4   1.9   \n291238 2020-01-10 13:00:00   3.4   3.1   4.3   1.9   2.3   4.0   2.9   1.3   \n291239 2020-01-10 14:00:00   2.9   3.3   5.4   2.7   2.6   6.3   3.3   2.4   \n291240 2020-01-10 15:00:00   5.7   3.9   6.1   3.8   4.0   5.7   4.2   2.8   \n291241 2020-01-10 16:00:00   5.0   5.0   5.6   3.6   3.1   5.2   3.4   2.0   \n291242 2020-01-10 17:00:00   4.7   2.8   6.2   3.0   3.5   5.5   3.4   2.1   \n291243 2020-01-10 18:00:00   3.8   3.7   6.0   3.3   2.8   6.6   3.8   2.1   \n291244 2020-01-10 19:00:00   3.6   4.3   6.6   2.8   3.9   6.1   3.3   1.7   \n291245 2020-01-10 20:00:00   5.2   8.9   4.8   3.3   7.0   6.6   3.5   4.4   \n291246 2020-01-10 21:00:00  10.6  11.0   5.4   6.7   9.7   5.3   6.5   6.4   \n291247 2020-01-10 22:00:00  10.6  10.6   8.3   6.4   9.4   7.9   6.0   6.0   \n291248 2020-01-10 23:00:00   9.4   9.8   7.9   5.8   8.6   7.7   5.2   5.4   \n291249 2020-01-11 00:00:00   9.4   9.3   6.5   5.3   8.0   6.8   4.8   4.8   \n291250 2020-01-11 01:00:00   9.5   9.1   6.1   4.6   7.7   7.4   4.9   4.8   \n291251 2020-01-11 02:00:00   8.5   8.4   5.8   3.4   7.1   6.5   3.9   3.9   \n291252 2020-01-11 03:00:00   7.8   7.1   5.0   3.0   5.6   5.8   3.6   3.1   \n291253 2020-01-11 04:00:00   5.5   6.0   4.8   2.5   4.0   5.1   3.4   2.2   \n291254 2020-01-11 05:00:00   4.1   5.3   4.6   2.4   4.1   5.1   2.8   1.7   \n291255 2020-01-11 06:00:00   4.0   4.7   4.0   2.2   3.8   5.0   4.1   2.3   \n291256 2020-01-11 07:00:00   3.3   4.4   5.4   2.6   3.5   5.9   4.0   2.3   \n291257 2020-01-11 08:00:00   3.8   4.9   5.7   2.1   3.2   4.9   3.8   2.5   \n291258 2020-01-11 09:00:00   3.7   4.7   4.7   2.7   2.9   3.8   3.0   2.5   \n291259 2020-01-11 10:00:00   5.0   3.7   4.6   3.5   3.2   5.2   4.2   3.3   \n291260 2020-01-11 11:00:00   6.3   5.5   6.6   5.4   4.9   6.5   6.1   5.5   \n291261 2020-01-11 12:00:00   8.3   7.3   7.3   6.0   5.6   7.9   6.6   6.3   \n291262 2020-01-11 13:00:00   9.1   8.1   8.4   7.0   6.4   8.3   7.2   7.1   \n291263 2020-01-11 14:00:00   9.9   9.0   9.7   7.4   6.8   9.3   7.8   7.8   \n291264 2020-01-11 15:00:00  11.2   9.5  10.5   8.1   7.4  10.3   8.3   7.7   \n291265 2020-01-11 16:00:00  11.9  10.5  11.2   8.5   8.5  11.4   9.4   8.4   \n291266 2020-01-11 17:00:00  12.6  11.6  12.1   9.6   9.5  12.0  10.1   9.5   \n291267 2020-01-11 18:00:00  12.8  12.3  12.6  10.1  10.4  12.5  10.3  10.1   \n291268 2020-01-11 19:00:00  13.7  12.6  12.9  10.9  10.6  12.8  10.6  10.4   \n291269 2020-01-11 20:00:00  13.9  12.2  12.9  10.9  11.2  12.5  10.5  10.3   \n291270 2020-01-11 21:00:00  13.7  11.8  12.9  10.7  11.7  12.8  10.6  10.1   \n291271 2020-01-11 22:00:00  14.0  11.3  13.1  10.6  12.0  13.0  10.9  10.3   \n291272 2020-01-11 23:00:00  14.2  10.9  12.8  10.3  11.5  12.7  11.4  10.8   \n291273 2020-01-12 00:00:00  13.9  11.7  12.8  10.9  11.2  12.8  11.6  11.3   \n291274 2020-01-12 01:00:00  14.3  11.9  13.6  11.6  11.0  13.3  11.5  11.2   \n291275 2020-01-12 02:00:00  14.9  12.6  13.9  11.8  10.9  13.2  11.7  11.0   \n291276 2020-01-12 03:00:00  15.1  13.1  14.2  11.7  10.7  13.7  11.3  10.9   \n291277 2020-01-12 04:00:00  14.4  13.5  14.1  11.4  10.5  13.6  11.2  10.5   \n291278 2020-01-12 05:00:00  13.9  13.1  13.9  11.1  10.4  13.2  11.2  10.4   \n291279 2020-01-12 06:00:00  13.4  12.9  13.6  10.7  10.3  13.0  11.2  10.4   \n\n         314  ...  1412  1413  1445  1446  1447  1448  1449  1450  1451  \\\n291220  10.9  ...  15.6  15.7  16.4  16.1  15.6  15.6  15.6  15.5  15.7   \n291221  11.7  ...  15.6  15.6  16.2  15.9  15.9  15.5  15.8  15.8  15.9   \n291222  11.8  ...  15.3  15.2  16.7  16.3  16.0  15.9  15.8  15.8  15.9   \n291223  12.3  ...  14.8  15.0  16.6  16.5  16.5  16.3  16.2  16.0  15.9   \n291224  12.7  ...  15.3  15.0  16.7  16.7  16.6  16.5  16.0  16.2  16.1   \n291225   8.7  ...  10.2  11.1   8.1   7.1   6.7   6.3   5.1   4.7   3.6   \n291226   7.6  ...  12.2  11.9   6.9   6.3   5.3   4.7   4.4   3.6   9.3   \n291227   6.8  ...  11.9  12.0   5.8   4.5   4.1   2.6   3.1  10.5  11.7   \n291228   6.3  ...  11.8  12.1   3.3   2.6   4.0   9.8  10.0  10.7  11.7   \n291229   6.0  ...  12.1  11.6   4.3   9.0  10.5  11.9  12.1  11.9  12.2   \n291230   6.1  ...  12.4  12.4  10.2  11.1  12.0  13.1  13.0  13.0  12.9   \n291231   6.9  ...  12.7  13.4  12.2  12.5  12.7  12.9  13.0  13.0  13.1   \n291232   7.2  ...  13.7  13.9  13.0  12.9  12.8  13.1  12.9  12.9  13.2   \n291233   7.1  ...  13.2  13.1  12.7  12.8  12.6  12.6  13.2  13.0  13.2   \n291234   6.9  ...  12.1  12.1  12.2  12.0  12.4  12.8  12.9  12.7  12.3   \n291235   6.3  ...  11.1  11.2  12.0  11.8  11.9  11.8  11.9  11.7  11.4   \n291236   4.1  ...  10.5  10.5  11.6  11.3  11.3  11.1  11.1  10.8  10.5   \n291237   4.5  ...   9.9   9.8  12.2  12.0  11.8  11.3  11.0  10.7  10.4   \n291238   4.0  ...  10.3  10.4  12.4  12.2  11.9  11.4  11.2  10.9  10.7   \n291239   5.5  ...  10.2  10.3  11.8  11.4  11.2  10.9  10.9  10.8  10.3   \n291240   5.4  ...   9.3   9.3  10.7  10.6  10.4  10.2  10.0   9.6   9.2   \n291241   6.5  ...   8.3   8.3  10.0   9.7   9.5   9.2   9.1   8.8   8.5   \n291242   5.6  ...   7.2   7.3   8.5   8.4   8.3   7.9   7.8   7.4   7.1   \n291243   8.9  ...   6.1   6.1   7.4   7.0   6.8   6.6   6.4   6.1   5.8   \n291244   8.6  ...   4.8   4.7   6.3   6.1   5.8   5.5   5.3   5.0   4.7   \n291245   8.4  ...   2.8   2.8   4.5   4.3   3.9   3.5   3.2   3.0   2.6   \n291246   8.1  ...   1.0   0.9   4.0   3.4   3.1   2.8   2.7   2.5   2.4   \n291247  10.3  ...   2.9   3.1   4.7   4.3   3.9   3.7   3.5   3.5   3.2   \n291248   9.0  ...   5.1   4.8   6.2   6.0   5.6   5.4   5.4   5.9   6.1   \n291249   8.2  ...   6.8   7.2   7.3   7.2   7.2   7.2   6.8   6.8   6.8   \n291250   8.2  ...   7.5   8.1   7.7   7.6   7.7   7.8   7.9   8.0   8.1   \n291251   7.0  ...   8.4   8.8   8.8   8.6   8.6   8.5   8.6   8.6   8.7   \n291252   5.7  ...   9.5   9.8  10.5  10.4  10.4  10.4  10.3  10.4  10.5   \n291253   5.0  ...  11.4  11.7  11.9  11.9  11.9  11.9  11.9  12.0  12.2   \n291254   5.4  ...  12.8  13.2  12.9  12.9  13.0  13.0  13.1  13.1  13.5   \n291255   4.9  ...  14.0  14.3  14.5  14.5  14.4  14.3  14.5  14.6  14.9   \n291256   5.7  ...  15.1  15.5  15.3  15.3  15.3  15.3  15.4  15.5  15.7   \n291257   4.8  ...  16.0  16.3  15.8  15.5  15.4  15.7  15.8  15.9  16.3   \n291258   4.3  ...  16.8  17.2  15.8  15.7  15.8  15.9  16.1  16.0  16.2   \n291259   5.5  ...  16.7  17.3  15.9  15.8  15.8  16.0  16.2  16.2  16.6   \n291260   7.0  ...  16.9  17.4  16.3  16.2  16.2  16.2  16.4  16.3  16.5   \n291261   7.7  ...  17.1  17.6  16.4  16.5  16.6  16.7  16.8  16.8  16.9   \n291262   8.6  ...  17.0  17.6  16.7  16.8  16.8  16.7  16.7  16.5  16.6   \n291263   9.1  ...  16.7  17.2  16.9  16.8  16.7  16.5  16.4  16.3  16.5   \n291264  10.1  ...  16.4  16.4  16.5  16.3  16.3  16.2  16.2  15.9  16.2   \n291265  10.8  ...  15.9  16.3  16.4  16.2  16.0  15.9  16.0  16.1  16.2   \n291266  11.9  ...  15.9  16.2  16.4  16.2  16.1  15.9  16.0  16.1  16.3   \n291267  12.4  ...  16.5  16.6  16.6  16.4  16.2  16.1  16.4  16.4  16.4   \n291268  12.3  ...  17.0  17.2  16.6  16.5  16.6  16.6  16.9  17.2  17.4   \n291269  12.8  ...  17.7  17.7  16.7  16.8  17.0  17.0  17.1  17.4  18.0   \n291270  12.7  ...  17.3  17.7  16.6  16.7  16.8  16.7  17.0  17.7  17.6   \n291271  12.4  ...  17.3  17.7  16.5  16.5  16.7  16.8  17.1  17.3  17.5   \n291272  12.3  ...  17.1  17.3  16.2  16.2  16.4  16.5  16.8  16.8  17.0   \n291273  12.5  ...  15.7  16.1  15.7  15.6  15.7  15.8  16.1  16.0  16.0   \n291274  13.0  ...  14.0  13.8  15.2  15.0  15.1  15.1  15.1  14.8  14.5   \n291275  12.9  ...   9.8   9.5  15.0  14.8  14.8  14.6  13.9  13.0  13.3   \n291276  13.0  ...   9.2  10.4  14.1  13.6  13.0  12.2   9.1   8.5   9.2   \n291277  12.7  ...   7.8   7.7  12.6  11.0   7.1   6.2   7.2   7.5   7.3   \n291278  12.6  ...   7.9   9.0   9.5   7.1   5.0   6.0   7.0   7.9   8.2   \n291279  12.8  ...   7.0   7.0   5.7   6.3   5.0   4.7   6.0   5.7   6.4   \n\n        predicted_ahead  \n291220               51  \n291221               52  \n291222               53  \n291223               54  \n291224               55  \n291225                1  \n291226                2  \n291227                3  \n291228                4  \n291229                5  \n291230                6  \n291231                7  \n291232                8  \n291233                9  \n291234               10  \n291235               11  \n291236               12  \n291237               13  \n291238               14  \n291239               15  \n291240               16  \n291241               17  \n291242               18  \n291243               19  \n291244               20  \n291245               21  \n291246               22  \n291247               23  \n291248               24  \n291249               25  \n291250               26  \n291251               27  \n291252               28  \n291253               29  \n291254               30  \n291255               31  \n291256               32  \n291257               33  \n291258               34  \n291259               35  \n291260               36  \n291261               37  \n291262               38  \n291263               39  \n291264               40  \n291265               41  \n291266               42  \n291267               43  \n291268               44  \n291269               45  \n291270               46  \n291271               47  \n291272               48  \n291273               49  \n291274               50  \n291275               51  \n291276               52  \n291277               53  \n291278               54  \n291279               55  \n\n[60 rows x 356 columns]"
     },
     "execution_count": 37,
     "metadata": {},
     "output_type": "execute_result"
    }
   ],
   "source": [
    "wind_speed_10m = wind_speed_10m.drop_duplicated(['index'], keep = last)"
   ]
  },
  {
   "cell_type": "code",
   "execution_count": 10,
   "metadata": {},
   "outputs": [],
   "source": [
    "wind_speed_10m['index'] = wind_speed_10m['index'].astype(str)\n",
    "wind_speed_10m[['date','time']] = wind_speed_10m['index'].str.split(' ', expand = True)\n",
    "   "
   ]
  },
  {
   "cell_type": "code",
   "execution_count": 2,
   "metadata": {},
   "outputs": [],
   "source": [
    "wind_direction_10m = pq.read_table('data/ITU_DATA/prognosis/ENetNEA/wind_direction_10m.parquet').to_pandas().reset_index()"
   ]
  },
  {
   "cell_type": "code",
   "execution_count": 6,
   "metadata": {},
   "outputs": [
    {
     "data": {
      "text/html": "<div>\n<style scoped>\n    .dataframe tbody tr th:only-of-type {\n        vertical-align: middle;\n    }\n\n    .dataframe tbody tr th {\n        vertical-align: top;\n    }\n\n    .dataframe thead th {\n        text-align: right;\n    }\n</style>\n<table border=\"1\" class=\"dataframe\">\n  <thead>\n    <tr style=\"text-align: right;\">\n      <th></th>\n      <th>index</th>\n      <th>190</th>\n      <th>191</th>\n      <th>231</th>\n      <th>232</th>\n      <th>233</th>\n      <th>273</th>\n      <th>274</th>\n      <th>275</th>\n      <th>314</th>\n      <th>...</th>\n      <th>1412</th>\n      <th>1413</th>\n      <th>1445</th>\n      <th>1446</th>\n      <th>1447</th>\n      <th>1448</th>\n      <th>1449</th>\n      <th>1450</th>\n      <th>1451</th>\n      <th>predicted_ahead</th>\n    </tr>\n  </thead>\n  <tbody>\n    <tr>\n      <th>0</th>\n      <td>2018-02-22 00:00:00</td>\n      <td>74</td>\n      <td>74</td>\n      <td>72</td>\n      <td>60</td>\n      <td>81</td>\n      <td>75</td>\n      <td>79</td>\n      <td>81</td>\n      <td>16</td>\n      <td>...</td>\n      <td>91</td>\n      <td>80</td>\n      <td>265</td>\n      <td>275</td>\n      <td>305</td>\n      <td>300</td>\n      <td>309</td>\n      <td>332</td>\n      <td>306</td>\n      <td>1</td>\n    </tr>\n    <tr>\n      <th>1</th>\n      <td>2018-02-22 01:00:00</td>\n      <td>70</td>\n      <td>70</td>\n      <td>73</td>\n      <td>56</td>\n      <td>78</td>\n      <td>76</td>\n      <td>86</td>\n      <td>90</td>\n      <td>66</td>\n      <td>...</td>\n      <td>83</td>\n      <td>76</td>\n      <td>276</td>\n      <td>290</td>\n      <td>297</td>\n      <td>335</td>\n      <td>331</td>\n      <td>309</td>\n      <td>293</td>\n      <td>2</td>\n    </tr>\n    <tr>\n      <th>2</th>\n      <td>2018-02-22 02:00:00</td>\n      <td>71</td>\n      <td>79</td>\n      <td>76</td>\n      <td>59</td>\n      <td>83</td>\n      <td>82</td>\n      <td>100</td>\n      <td>88</td>\n      <td>89</td>\n      <td>...</td>\n      <td>76</td>\n      <td>74</td>\n      <td>284</td>\n      <td>292</td>\n      <td>325</td>\n      <td>333</td>\n      <td>324</td>\n      <td>299</td>\n      <td>323</td>\n      <td>3</td>\n    </tr>\n    <tr>\n      <th>3</th>\n      <td>2018-02-22 03:00:00</td>\n      <td>76</td>\n      <td>76</td>\n      <td>81</td>\n      <td>60</td>\n      <td>85</td>\n      <td>92</td>\n      <td>98</td>\n      <td>84</td>\n      <td>86</td>\n      <td>...</td>\n      <td>72</td>\n      <td>72</td>\n      <td>292</td>\n      <td>305</td>\n      <td>343</td>\n      <td>329</td>\n      <td>310</td>\n      <td>303</td>\n      <td>11</td>\n      <td>4</td>\n    </tr>\n    <tr>\n      <th>4</th>\n      <td>2018-02-22 04:00:00</td>\n      <td>75</td>\n      <td>69</td>\n      <td>74</td>\n      <td>50</td>\n      <td>73</td>\n      <td>83</td>\n      <td>69</td>\n      <td>76</td>\n      <td>92</td>\n      <td>...</td>\n      <td>74</td>\n      <td>71</td>\n      <td>298</td>\n      <td>11</td>\n      <td>343</td>\n      <td>325</td>\n      <td>321</td>\n      <td>41</td>\n      <td>61</td>\n      <td>5</td>\n    </tr>\n    <tr>\n      <th>5</th>\n      <td>2018-02-22 05:00:00</td>\n      <td>68</td>\n      <td>62</td>\n      <td>76</td>\n      <td>47</td>\n      <td>68</td>\n      <td>72</td>\n      <td>65</td>\n      <td>68</td>\n      <td>78</td>\n      <td>...</td>\n      <td>79</td>\n      <td>76</td>\n      <td>304</td>\n      <td>9</td>\n      <td>341</td>\n      <td>342</td>\n      <td>82</td>\n      <td>78</td>\n      <td>90</td>\n      <td>6</td>\n    </tr>\n    <tr>\n      <th>6</th>\n      <td>2018-02-22 06:00:00</td>\n      <td>63</td>\n      <td>64</td>\n      <td>63</td>\n      <td>42</td>\n      <td>63</td>\n      <td>66</td>\n      <td>70</td>\n      <td>62</td>\n      <td>60</td>\n      <td>...</td>\n      <td>75</td>\n      <td>74</td>\n      <td>325</td>\n      <td>353</td>\n      <td>344</td>\n      <td>12</td>\n      <td>81</td>\n      <td>91</td>\n      <td>89</td>\n      <td>7</td>\n    </tr>\n    <tr>\n      <th>7</th>\n      <td>2018-02-22 07:00:00</td>\n      <td>69</td>\n      <td>72</td>\n      <td>61</td>\n      <td>45</td>\n      <td>71</td>\n      <td>70</td>\n      <td>72</td>\n      <td>59</td>\n      <td>69</td>\n      <td>...</td>\n      <td>75</td>\n      <td>73</td>\n      <td>14</td>\n      <td>358</td>\n      <td>26</td>\n      <td>100</td>\n      <td>89</td>\n      <td>92</td>\n      <td>84</td>\n      <td>8</td>\n    </tr>\n    <tr>\n      <th>8</th>\n      <td>2018-02-22 08:00:00</td>\n      <td>80</td>\n      <td>62</td>\n      <td>77</td>\n      <td>35</td>\n      <td>68</td>\n      <td>76</td>\n      <td>59</td>\n      <td>71</td>\n      <td>75</td>\n      <td>...</td>\n      <td>77</td>\n      <td>77</td>\n      <td>62</td>\n      <td>44</td>\n      <td>100</td>\n      <td>91</td>\n      <td>92</td>\n      <td>92</td>\n      <td>87</td>\n      <td>9</td>\n    </tr>\n    <tr>\n      <th>9</th>\n      <td>2018-02-22 09:00:00</td>\n      <td>68</td>\n      <td>55</td>\n      <td>79</td>\n      <td>66</td>\n      <td>59</td>\n      <td>48</td>\n      <td>82</td>\n      <td>67</td>\n      <td>71</td>\n      <td>...</td>\n      <td>78</td>\n      <td>82</td>\n      <td>135</td>\n      <td>91</td>\n      <td>104</td>\n      <td>98</td>\n      <td>96</td>\n      <td>92</td>\n      <td>88</td>\n      <td>10</td>\n    </tr>\n    <tr>\n      <th>10</th>\n      <td>2018-02-22 10:00:00</td>\n      <td>58</td>\n      <td>49</td>\n      <td>72</td>\n      <td>59</td>\n      <td>54</td>\n      <td>68</td>\n      <td>64</td>\n      <td>59</td>\n      <td>59</td>\n      <td>...</td>\n      <td>84</td>\n      <td>85</td>\n      <td>148</td>\n      <td>111</td>\n      <td>112</td>\n      <td>104</td>\n      <td>97</td>\n      <td>98</td>\n      <td>91</td>\n      <td>11</td>\n    </tr>\n    <tr>\n      <th>11</th>\n      <td>2018-02-22 11:00:00</td>\n      <td>57</td>\n      <td>56</td>\n      <td>64</td>\n      <td>57</td>\n      <td>50</td>\n      <td>69</td>\n      <td>58</td>\n      <td>55</td>\n      <td>69</td>\n      <td>...</td>\n      <td>84</td>\n      <td>80</td>\n      <td>153</td>\n      <td>112</td>\n      <td>109</td>\n      <td>103</td>\n      <td>95</td>\n      <td>98</td>\n      <td>92</td>\n      <td>12</td>\n    </tr>\n    <tr>\n      <th>12</th>\n      <td>2018-02-22 12:00:00</td>\n      <td>83</td>\n      <td>85</td>\n      <td>69</td>\n      <td>63</td>\n      <td>65</td>\n      <td>73</td>\n      <td>58</td>\n      <td>52</td>\n      <td>78</td>\n      <td>...</td>\n      <td>89</td>\n      <td>82</td>\n      <td>115</td>\n      <td>118</td>\n      <td>110</td>\n      <td>103</td>\n      <td>96</td>\n      <td>99</td>\n      <td>87</td>\n      <td>13</td>\n    </tr>\n    <tr>\n      <th>13</th>\n      <td>2018-02-22 13:00:00</td>\n      <td>115</td>\n      <td>122</td>\n      <td>86</td>\n      <td>79</td>\n      <td>82</td>\n      <td>76</td>\n      <td>62</td>\n      <td>59</td>\n      <td>82</td>\n      <td>...</td>\n      <td>89</td>\n      <td>83</td>\n      <td>124</td>\n      <td>121</td>\n      <td>107</td>\n      <td>102</td>\n      <td>96</td>\n      <td>95</td>\n      <td>83</td>\n      <td>14</td>\n    </tr>\n    <tr>\n      <th>14</th>\n      <td>2018-02-22 14:00:00</td>\n      <td>111</td>\n      <td>119</td>\n      <td>105</td>\n      <td>109</td>\n      <td>126</td>\n      <td>77</td>\n      <td>72</td>\n      <td>63</td>\n      <td>75</td>\n      <td>...</td>\n      <td>90</td>\n      <td>90</td>\n      <td>131</td>\n      <td>123</td>\n      <td>108</td>\n      <td>102</td>\n      <td>91</td>\n      <td>88</td>\n      <td>80</td>\n      <td>15</td>\n    </tr>\n    <tr>\n      <th>15</th>\n      <td>2018-02-22 15:00:00</td>\n      <td>101</td>\n      <td>112</td>\n      <td>101</td>\n      <td>102</td>\n      <td>124</td>\n      <td>97</td>\n      <td>117</td>\n      <td>123</td>\n      <td>74</td>\n      <td>...</td>\n      <td>83</td>\n      <td>88</td>\n      <td>137</td>\n      <td>127</td>\n      <td>111</td>\n      <td>104</td>\n      <td>87</td>\n      <td>90</td>\n      <td>90</td>\n      <td>16</td>\n    </tr>\n    <tr>\n      <th>16</th>\n      <td>2018-02-22 16:00:00</td>\n      <td>98</td>\n      <td>109</td>\n      <td>96</td>\n      <td>99</td>\n      <td>119</td>\n      <td>100</td>\n      <td>115</td>\n      <td>117</td>\n      <td>90</td>\n      <td>...</td>\n      <td>98</td>\n      <td>89</td>\n      <td>144</td>\n      <td>135</td>\n      <td>109</td>\n      <td>107</td>\n      <td>93</td>\n      <td>96</td>\n      <td>97</td>\n      <td>17</td>\n    </tr>\n    <tr>\n      <th>17</th>\n      <td>2018-02-22 17:00:00</td>\n      <td>95</td>\n      <td>102</td>\n      <td>97</td>\n      <td>84</td>\n      <td>119</td>\n      <td>103</td>\n      <td>96</td>\n      <td>117</td>\n      <td>98</td>\n      <td>...</td>\n      <td>92</td>\n      <td>108</td>\n      <td>140</td>\n      <td>131</td>\n      <td>105</td>\n      <td>103</td>\n      <td>103</td>\n      <td>101</td>\n      <td>94</td>\n      <td>18</td>\n    </tr>\n    <tr>\n      <th>18</th>\n      <td>2018-02-22 18:00:00</td>\n      <td>94</td>\n      <td>98</td>\n      <td>95</td>\n      <td>83</td>\n      <td>109</td>\n      <td>100</td>\n      <td>100</td>\n      <td>118</td>\n      <td>100</td>\n      <td>...</td>\n      <td>93</td>\n      <td>104</td>\n      <td>136</td>\n      <td>123</td>\n      <td>112</td>\n      <td>102</td>\n      <td>106</td>\n      <td>104</td>\n      <td>96</td>\n      <td>19</td>\n    </tr>\n    <tr>\n      <th>19</th>\n      <td>2018-02-22 19:00:00</td>\n      <td>94</td>\n      <td>92</td>\n      <td>96</td>\n      <td>82</td>\n      <td>100</td>\n      <td>102</td>\n      <td>84</td>\n      <td>116</td>\n      <td>102</td>\n      <td>...</td>\n      <td>94</td>\n      <td>116</td>\n      <td>119</td>\n      <td>117</td>\n      <td>115</td>\n      <td>112</td>\n      <td>110</td>\n      <td>108</td>\n      <td>105</td>\n      <td>20</td>\n    </tr>\n    <tr>\n      <th>20</th>\n      <td>2018-02-22 20:00:00</td>\n      <td>92</td>\n      <td>90</td>\n      <td>95</td>\n      <td>77</td>\n      <td>101</td>\n      <td>99</td>\n      <td>95</td>\n      <td>120</td>\n      <td>102</td>\n      <td>...</td>\n      <td>103</td>\n      <td>117</td>\n      <td>117</td>\n      <td>119</td>\n      <td>120</td>\n      <td>119</td>\n      <td>116</td>\n      <td>110</td>\n      <td>109</td>\n      <td>21</td>\n    </tr>\n    <tr>\n      <th>21</th>\n      <td>2018-02-22 21:00:00</td>\n      <td>93</td>\n      <td>92</td>\n      <td>98</td>\n      <td>80</td>\n      <td>106</td>\n      <td>100</td>\n      <td>102</td>\n      <td>129</td>\n      <td>102</td>\n      <td>...</td>\n      <td>100</td>\n      <td>118</td>\n      <td>120</td>\n      <td>123</td>\n      <td>122</td>\n      <td>121</td>\n      <td>120</td>\n      <td>116</td>\n      <td>112</td>\n      <td>22</td>\n    </tr>\n    <tr>\n      <th>22</th>\n      <td>2018-02-22 22:00:00</td>\n      <td>92</td>\n      <td>92</td>\n      <td>97</td>\n      <td>77</td>\n      <td>108</td>\n      <td>102</td>\n      <td>102</td>\n      <td>139</td>\n      <td>106</td>\n      <td>...</td>\n      <td>103</td>\n      <td>121</td>\n      <td>122</td>\n      <td>124</td>\n      <td>124</td>\n      <td>124</td>\n      <td>125</td>\n      <td>123</td>\n      <td>114</td>\n      <td>23</td>\n    </tr>\n    <tr>\n      <th>23</th>\n      <td>2018-02-22 23:00:00</td>\n      <td>85</td>\n      <td>85</td>\n      <td>92</td>\n      <td>53</td>\n      <td>98</td>\n      <td>98</td>\n      <td>92</td>\n      <td>145</td>\n      <td>106</td>\n      <td>...</td>\n      <td>111</td>\n      <td>120</td>\n      <td>126</td>\n      <td>127</td>\n      <td>126</td>\n      <td>126</td>\n      <td>127</td>\n      <td>128</td>\n      <td>125</td>\n      <td>24</td>\n    </tr>\n    <tr>\n      <th>24</th>\n      <td>2018-02-23 00:00:00</td>\n      <td>83</td>\n      <td>83</td>\n      <td>85</td>\n      <td>40</td>\n      <td>92</td>\n      <td>88</td>\n      <td>80</td>\n      <td>146</td>\n      <td>103</td>\n      <td>...</td>\n      <td>124</td>\n      <td>130</td>\n      <td>130</td>\n      <td>133</td>\n      <td>134</td>\n      <td>132</td>\n      <td>131</td>\n      <td>138</td>\n      <td>137</td>\n      <td>25</td>\n    </tr>\n    <tr>\n      <th>25</th>\n      <td>2018-02-23 01:00:00</td>\n      <td>79</td>\n      <td>76</td>\n      <td>81</td>\n      <td>38</td>\n      <td>86</td>\n      <td>70</td>\n      <td>85</td>\n      <td>147</td>\n      <td>89</td>\n      <td>...</td>\n      <td>144</td>\n      <td>145</td>\n      <td>137</td>\n      <td>140</td>\n      <td>142</td>\n      <td>138</td>\n      <td>141</td>\n      <td>144</td>\n      <td>147</td>\n      <td>26</td>\n    </tr>\n    <tr>\n      <th>26</th>\n      <td>2018-02-23 02:00:00</td>\n      <td>73</td>\n      <td>71</td>\n      <td>72</td>\n      <td>36</td>\n      <td>87</td>\n      <td>69</td>\n      <td>94</td>\n      <td>152</td>\n      <td>79</td>\n      <td>...</td>\n      <td>152</td>\n      <td>159</td>\n      <td>150</td>\n      <td>150</td>\n      <td>148</td>\n      <td>147</td>\n      <td>143</td>\n      <td>147</td>\n      <td>151</td>\n      <td>27</td>\n    </tr>\n    <tr>\n      <th>27</th>\n      <td>2018-02-23 03:00:00</td>\n      <td>75</td>\n      <td>71</td>\n      <td>71</td>\n      <td>37</td>\n      <td>82</td>\n      <td>78</td>\n      <td>88</td>\n      <td>167</td>\n      <td>78</td>\n      <td>...</td>\n      <td>147</td>\n      <td>168</td>\n      <td>157</td>\n      <td>156</td>\n      <td>154</td>\n      <td>163</td>\n      <td>158</td>\n      <td>154</td>\n      <td>155</td>\n      <td>28</td>\n    </tr>\n    <tr>\n      <th>28</th>\n      <td>2018-02-23 04:00:00</td>\n      <td>80</td>\n      <td>76</td>\n      <td>75</td>\n      <td>37</td>\n      <td>89</td>\n      <td>79</td>\n      <td>86</td>\n      <td>178</td>\n      <td>80</td>\n      <td>...</td>\n      <td>155</td>\n      <td>169</td>\n      <td>152</td>\n      <td>147</td>\n      <td>156</td>\n      <td>170</td>\n      <td>154</td>\n      <td>163</td>\n      <td>159</td>\n      <td>29</td>\n    </tr>\n    <tr>\n      <th>29</th>\n      <td>2018-02-23 05:00:00</td>\n      <td>85</td>\n      <td>86</td>\n      <td>77</td>\n      <td>35</td>\n      <td>102</td>\n      <td>75</td>\n      <td>80</td>\n      <td>155</td>\n      <td>76</td>\n      <td>...</td>\n      <td>168</td>\n      <td>173</td>\n      <td>153</td>\n      <td>151</td>\n      <td>152</td>\n      <td>165</td>\n      <td>173</td>\n      <td>140</td>\n      <td>149</td>\n      <td>30</td>\n    </tr>\n  </tbody>\n</table>\n<p>30 rows × 356 columns</p>\n</div>",
      "text/plain": "                 index  190  191  231  232  233  273  274  275  314  ...  \\\n0  2018-02-22 00:00:00   74   74   72   60   81   75   79   81   16  ...   \n1  2018-02-22 01:00:00   70   70   73   56   78   76   86   90   66  ...   \n2  2018-02-22 02:00:00   71   79   76   59   83   82  100   88   89  ...   \n3  2018-02-22 03:00:00   76   76   81   60   85   92   98   84   86  ...   \n4  2018-02-22 04:00:00   75   69   74   50   73   83   69   76   92  ...   \n5  2018-02-22 05:00:00   68   62   76   47   68   72   65   68   78  ...   \n6  2018-02-22 06:00:00   63   64   63   42   63   66   70   62   60  ...   \n7  2018-02-22 07:00:00   69   72   61   45   71   70   72   59   69  ...   \n8  2018-02-22 08:00:00   80   62   77   35   68   76   59   71   75  ...   \n9  2018-02-22 09:00:00   68   55   79   66   59   48   82   67   71  ...   \n10 2018-02-22 10:00:00   58   49   72   59   54   68   64   59   59  ...   \n11 2018-02-22 11:00:00   57   56   64   57   50   69   58   55   69  ...   \n12 2018-02-22 12:00:00   83   85   69   63   65   73   58   52   78  ...   \n13 2018-02-22 13:00:00  115  122   86   79   82   76   62   59   82  ...   \n14 2018-02-22 14:00:00  111  119  105  109  126   77   72   63   75  ...   \n15 2018-02-22 15:00:00  101  112  101  102  124   97  117  123   74  ...   \n16 2018-02-22 16:00:00   98  109   96   99  119  100  115  117   90  ...   \n17 2018-02-22 17:00:00   95  102   97   84  119  103   96  117   98  ...   \n18 2018-02-22 18:00:00   94   98   95   83  109  100  100  118  100  ...   \n19 2018-02-22 19:00:00   94   92   96   82  100  102   84  116  102  ...   \n20 2018-02-22 20:00:00   92   90   95   77  101   99   95  120  102  ...   \n21 2018-02-22 21:00:00   93   92   98   80  106  100  102  129  102  ...   \n22 2018-02-22 22:00:00   92   92   97   77  108  102  102  139  106  ...   \n23 2018-02-22 23:00:00   85   85   92   53   98   98   92  145  106  ...   \n24 2018-02-23 00:00:00   83   83   85   40   92   88   80  146  103  ...   \n25 2018-02-23 01:00:00   79   76   81   38   86   70   85  147   89  ...   \n26 2018-02-23 02:00:00   73   71   72   36   87   69   94  152   79  ...   \n27 2018-02-23 03:00:00   75   71   71   37   82   78   88  167   78  ...   \n28 2018-02-23 04:00:00   80   76   75   37   89   79   86  178   80  ...   \n29 2018-02-23 05:00:00   85   86   77   35  102   75   80  155   76  ...   \n\n    1412  1413  1445  1446  1447  1448  1449  1450  1451  predicted_ahead  \n0     91    80   265   275   305   300   309   332   306                1  \n1     83    76   276   290   297   335   331   309   293                2  \n2     76    74   284   292   325   333   324   299   323                3  \n3     72    72   292   305   343   329   310   303    11                4  \n4     74    71   298    11   343   325   321    41    61                5  \n5     79    76   304     9   341   342    82    78    90                6  \n6     75    74   325   353   344    12    81    91    89                7  \n7     75    73    14   358    26   100    89    92    84                8  \n8     77    77    62    44   100    91    92    92    87                9  \n9     78    82   135    91   104    98    96    92    88               10  \n10    84    85   148   111   112   104    97    98    91               11  \n11    84    80   153   112   109   103    95    98    92               12  \n12    89    82   115   118   110   103    96    99    87               13  \n13    89    83   124   121   107   102    96    95    83               14  \n14    90    90   131   123   108   102    91    88    80               15  \n15    83    88   137   127   111   104    87    90    90               16  \n16    98    89   144   135   109   107    93    96    97               17  \n17    92   108   140   131   105   103   103   101    94               18  \n18    93   104   136   123   112   102   106   104    96               19  \n19    94   116   119   117   115   112   110   108   105               20  \n20   103   117   117   119   120   119   116   110   109               21  \n21   100   118   120   123   122   121   120   116   112               22  \n22   103   121   122   124   124   124   125   123   114               23  \n23   111   120   126   127   126   126   127   128   125               24  \n24   124   130   130   133   134   132   131   138   137               25  \n25   144   145   137   140   142   138   141   144   147               26  \n26   152   159   150   150   148   147   143   147   151               27  \n27   147   168   157   156   154   163   158   154   155               28  \n28   155   169   152   147   156   170   154   163   159               29  \n29   168   173   153   151   152   165   173   140   149               30  \n\n[30 rows x 356 columns]"
     },
     "execution_count": 6,
     "metadata": {},
     "output_type": "execute_result"
    }
   ],
   "source": [
    "wind_direction_10m.head(30)"
   ]
  },
  {
   "cell_type": "markdown",
   "execution_count": null,
   "metadata": {},
   "outputs": [],
   "source": [
    "## Settlement\n",
    "resolution in 15 mins"
   ]
  },
  {
   "cell_type": "code",
   "execution_count": 31,
   "metadata": {},
   "outputs": [],
   "source": [
    "import pyspark"
   ]
  },
  {
   "cell_type": "code",
   "execution_count": 32,
   "metadata": {},
   "outputs": [
    {
     "ename": "AttributeError",
     "evalue": "module 'spark' has no attribute 'read'",
     "output_type": "error",
     "traceback": [
      "\u001b[0;31m---------------------------------------------------------------------------\u001b[0m",
      "\u001b[0;31mAttributeError\u001b[0m                            Traceback (most recent call last)",
      "\u001b[0;32m<ipython-input-32-059664c5cd7c>\u001b[0m in \u001b[0;36m<module>\u001b[0;34m\u001b[0m\n\u001b[0;32m----> 1\u001b[0;31m \u001b[0msettlement_2018\u001b[0m \u001b[0;34m=\u001b[0m \u001b[0mspark\u001b[0m\u001b[0;34m.\u001b[0m\u001b[0mread\u001b[0m\u001b[0;34m.\u001b[0m\u001b[0mparquet\u001b[0m\u001b[0;34m(\u001b[0m\u001b[0;34m'data/ITU_DATA/settlement/2018.parquet'\u001b[0m\u001b[0;34m)\u001b[0m\u001b[0;34m\u001b[0m\u001b[0;34m\u001b[0m\u001b[0m\n\u001b[0m",
      "\u001b[0;31mAttributeError\u001b[0m: module 'spark' has no attribute 'read'"
     ]
    }
   ],
   "source": [
    "settlement_2018 = spark.read.parquet('data/ITU_DATA/settlement/2018.parquet')"
   ]
  },
  {
   "cell_type": "code",
   "execution_count": 22,
   "metadata": {},
   "outputs": [],
   "source": [
    "settlement_2018 = pq.read_table('data/ITU_DATA/settlement/2018.parquet').to_pandas()"
   ]
  },
  {
   "cell_type": "code",
   "execution_count": 23,
   "metadata": {},
   "outputs": [],
   "source": [
    "settlement_2018 = settlement_2018[settlement_2018.TIME_CET.str.contains(':00:')].reset_index()"
   ]
  },
  {
   "cell_type": "code",
   "execution_count": 24,
   "metadata": {},
   "outputs": [
    {
     "data": {
      "text/html": "<div>\n<style scoped>\n    .dataframe tbody tr th:only-of-type {\n        vertical-align: middle;\n    }\n\n    .dataframe tbody tr th {\n        vertical-align: top;\n    }\n\n    .dataframe thead th {\n        text-align: right;\n    }\n</style>\n<table border=\"1\" class=\"dataframe\">\n  <thead>\n    <tr style=\"text-align: right;\">\n      <th></th>\n      <th>index</th>\n      <th>GSRN</th>\n      <th>TS_ID</th>\n      <th>VAERDI</th>\n      <th>TIME_CET</th>\n    </tr>\n  </thead>\n  <tbody>\n    <tr>\n      <th>0</th>\n      <td>3</td>\n      <td>570715000000062988</td>\n      <td>1471530</td>\n      <td>0</td>\n      <td>2018-07-02 00:00:00</td>\n    </tr>\n    <tr>\n      <th>1</th>\n      <td>7</td>\n      <td>570715000000062988</td>\n      <td>1471530</td>\n      <td>0</td>\n      <td>2018-07-02 01:00:00</td>\n    </tr>\n    <tr>\n      <th>2</th>\n      <td>11</td>\n      <td>570715000000062988</td>\n      <td>1471530</td>\n      <td>0</td>\n      <td>2018-07-02 02:00:00</td>\n    </tr>\n    <tr>\n      <th>3</th>\n      <td>15</td>\n      <td>570715000000062988</td>\n      <td>1471530</td>\n      <td>0</td>\n      <td>2018-07-02 03:00:00</td>\n    </tr>\n    <tr>\n      <th>4</th>\n      <td>19</td>\n      <td>570715000000062988</td>\n      <td>1471530</td>\n      <td>0</td>\n      <td>2018-07-02 04:00:00</td>\n    </tr>\n  </tbody>\n</table>\n</div>",
      "text/plain": "   index                GSRN    TS_ID VAERDI             TIME_CET\n0      3  570715000000062988  1471530      0  2018-07-02 00:00:00\n1      7  570715000000062988  1471530      0  2018-07-02 01:00:00\n2     11  570715000000062988  1471530      0  2018-07-02 02:00:00\n3     15  570715000000062988  1471530      0  2018-07-02 03:00:00\n4     19  570715000000062988  1471530      0  2018-07-02 04:00:00"
     },
     "execution_count": 24,
     "metadata": {},
     "output_type": "execute_result"
    }
   ],
   "source": [
    "settlement_2018.head()"
   ]
  },
  {
   "cell_type": "code",
   "execution_count": 25,
   "metadata": {},
   "outputs": [],
   "source": [
    "settlement_2018.to_csv('data/ITU_DATA/settlement/2018.csv')"
   ]
  },
  {
   "cell_type": "code",
   "execution_count": 1,
   "metadata": {},
   "outputs": [
    {
     "ename": "NameError",
     "evalue": "name 'settlement_2018' is not defined",
     "output_type": "error",
     "traceback": [
      "\u001b[0;31m---------------------------------------------------------------------------\u001b[0m",
      "\u001b[0;31mNameError\u001b[0m                                 Traceback (most recent call last)",
      "\u001b[0;32m<ipython-input-1-24e919fe726e>\u001b[0m in \u001b[0;36m<module>\u001b[0;34m\u001b[0m\n\u001b[0;32m----> 1\u001b[0;31m \u001b[0mtest_2018\u001b[0m \u001b[0;34m=\u001b[0m \u001b[0msettlement_2018\u001b[0m\u001b[0;34m.\u001b[0m\u001b[0mtake\u001b[0m\u001b[0;34m(\u001b[0m\u001b[0;36m10\u001b[0m\u001b[0;34m)\u001b[0m\u001b[0;34m\u001b[0m\u001b[0;34m\u001b[0m\u001b[0m\n\u001b[0m",
      "\u001b[0;31mNameError\u001b[0m: name 'settlement_2018' is not defined"
     ]
    }
   ],
   "source": [
    "test_2018 = settlement_2018.take(10)"
   ]
  },
  {
   "cell_type": "code",
   "execution_count": null,
   "metadata": {},
   "outputs": [],
   "source": []
  },
  {
   "cell_type": "code",
   "execution_count": null,
   "metadata": {},
   "outputs": [],
   "source": [
    "from pyspark.ml.linalg import Vectors\n",
    "from pyspark.ml.feature import VectorAssembler"
   ]
  },
  {
   "cell_type": "code",
   "execution_count": null,
   "metadata": {},
   "outputs": [],
   "source": [
    "feat_cols = [\"1\",\"2\",\"3\"]\n",
    "vec_assembler = VectorAssembler(inputCols=feat_cols, outputCol='features')\n",
    "final_data = vec_assembler.transform(dataset)"
   ]
  },
  {
   "cell_type": "code",
   "execution_count": null,
   "metadata": {},
   "outputs": [],
   "source": [
    "from pyspark.ml.feature import StandardScaler\n",
    "from pyspark.ml.clustering import KMeans"
   ]
  },
  {
   "cell_type": "code",
   "execution_count": null,
   "metadata": {},
   "outputs": [],
   "source": [
    "scaler = StandardScaler(inputCol=\"features\", outputCol=\"scaledFeatures\", withStd=True, withMean=False)"
   ]
  },
  {
   "cell_type": "code",
   "execution_count": null,
   "metadata": {},
   "outputs": [],
   "source": [
    "scalerModel = scaler.fit(final_data)"
   ]
  },
  {
   "cell_type": "code",
   "execution_count": null,
   "metadata": {},
   "outputs": [],
   "source": [
    "cluster_final_data = scalerModel.transform(final_data)"
   ]
  },
  {
   "cell_type": "code",
   "execution_count": null,
   "metadata": {},
   "outputs": [],
   "source": [
    "kmean3 = KMeans(featuresCol='scaledFeatures',k=3)\n",
    "kmean2 = KMeans(featuresCol='scaledFeatures',k=2)"
   ]
  },
  {
   "cell_type": "code",
   "execution_count": null,
   "metadata": {},
   "outputs": [],
   "source": [
    "model_k3 = kmean3.fit(cluster_final_data)\n",
    "model_k2 = kmean2.fit(cluster_final_data)"
   ]
  },
  {
   "cell_type": "code",
   "execution_count": null,
   "metadata": {},
   "outputs": [],
   "source": [
    "wssse_k3 = model_k3.computeCost(cluster_final_data)\n",
    "wssse_k2 = model_k2.computeCost(cluster_final_data)"
   ]
  }
 ]
}
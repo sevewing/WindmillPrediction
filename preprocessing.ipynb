{
 "nbformat": 4,
 "nbformat_minor": 2,
 "metadata": {
  "language_info": {
   "name": "python",
   "codemirror_mode": {
    "name": "ipython",
    "version": 3
   },
   "version": "3.7.2-final"
  },
  "orig_nbformat": 2,
  "file_extension": ".py",
  "mimetype": "text/x-python",
  "name": "python",
  "npconvert_exporter": "python",
  "pygments_lexer": "ipython3",
  "version": 3,
  "kernelspec": {
   "name": "python37264bit3a462acd451f4b989328b3d637ce9031",
   "display_name": "Python 3.7.2 64-bit"
  }
 },
 "cells": [
  {
   "cell_type": "code",
   "execution_count": null,
   "metadata": {},
   "outputs": [],
   "source": [
    "import pandas as pd\n",
    "import pyarrow.parquet as pq\n",
    "from numpy import nan"
   ]
  },
  {
   "cell_type": "markdown",
   "execution_count": null,
   "metadata": {},
   "outputs": [],
   "source": [
    "# CLean\n",
    "## Creat a static dictionary for useful columns"
   ]
  },
  {
   "cell_type": "markdown",
   "execution_count": null,
   "metadata": {},
   "outputs": [],
   "source": [
    "## Clean and extract windmill data"
   ]
  },
  {
   "cell_type": "code",
   "execution_count": null,
   "metadata": {},
   "outputs": [],
   "source": [
    "# static cols\n",
    "cols = ['GSRN','Turbine_type','Parent_GSRN','BBR_municipal','Placement','UTM_x','UTM_y','Capacity_kw','Rotor_diameter','Navhub_height']"
   ]
  },
  {
   "cell_type": "code",
   "execution_count": null,
   "metadata": {},
   "outputs": [],
   "source": [
    "windmills = pq.read_table('data/ITU_DATA/masterdatawind.parquet').to_pandas()[cols]\n",
    "windmills.shape"
   ]
  },
  {
   "cell_type": "markdown",
   "execution_count": null,
   "metadata": {},
   "outputs": [],
   "source": [
    "Windmills have duplicated data by different reviewers.    \n",
    "Remove duplicated data"
   ]
  },
  {
   "cell_type": "code",
   "execution_count": null,
   "metadata": {},
   "outputs": [],
   "source": [
    "windmills.drop_duplicates(subset = \"GSRN\", keep = 'first', ignore_index = True, inplace = True)\n",
    "windmills.shape"
   ]
  },
  {
   "cell_type": "markdown",
   "execution_count": null,
   "metadata": {},
   "outputs": [],
   "source": [
    "9853 Contains:    \n",
    "- H: Household turbine : No UTM_xy locations \n",
    "- W: Single turbine : full data\n",
    "- P: Turbine park : No UTM_xy locations\n",
    "- M: Turbine in a park : No power record in settlement data\n"
   ]
  },
  {
   "cell_type": "code",
   "execution_count": null,
   "metadata": {},
   "outputs": [],
   "source": [
    "print('Household: ',windmills[windmills['Turbine_type'] == 'H'].shape)\n",
    "print('Single: ',windmills[windmills['Turbine_type'] == 'W'].shape)\n",
    "print('Park: ',windmills[windmills['Turbine_type'] == 'P'].shape)\n",
    "print('In a Park: ',windmills[windmills['Turbine_type'] == 'M'].shape)"
   ]
  },
  {
   "cell_type": "markdown",
   "execution_count": null,
   "metadata": {},
   "outputs": [],
   "source": [
    "Fill Turbine park xy by calculate their CENTRIODs."
   ]
  },
  {
   "cell_type": "code",
   "execution_count": null,
   "metadata": {},
   "outputs": [],
   "source": [
    "aggs = {'UTM_x':lambda x : x.mean(),\n",
    "        'UTM_y':lambda x : x.mean()}\n",
    "w_temp = windmills[windmills['Turbine_type'] == 'M'].groupby(['Parent_GSRN'], as_index = False).agg(aggs).rename(columns={'Parent_GSRN':'GSRN','UTM_x':'x_c','UTM_y':'y_c'})\n",
    "w_temp"
   ]
  },
  {
   "cell_type": "markdown",
   "execution_count": null,
   "metadata": {},
   "outputs": [],
   "source": [
    "578 != 444    \n",
    "Fill some missing turbine parks"
   ]
  },
  {
   "cell_type": "code",
   "execution_count": null,
   "metadata": {},
   "outputs": [],
   "source": [
    "f = windmills[windmills['Turbine_type'] == 'P']"
   ]
  },
  {
   "cell_type": "code",
   "execution_count": null,
   "metadata": {},
   "outputs": [],
   "source": [
    "f[f['GSRN'].isin(w_temp['GSRN'])]"
   ]
  },
  {
   "cell_type": "code",
   "execution_count": null,
   "metadata": {},
   "outputs": [],
   "source": [
    "f[~f['GSRN'].isin(w_temp['GSRN'])]"
   ]
  },
  {
   "cell_type": "code",
   "execution_count": null,
   "metadata": {},
   "outputs": [],
   "source": [
    "w_temp[~w_temp['GSRN'].isin(f['GSRN'])]"
   ]
  },
  {
   "cell_type": "markdown",
   "execution_count": null,
   "metadata": {},
   "outputs": [],
   "source": [
    "Fill 136 in to windmills"
   ]
  },
  {
   "cell_type": "code",
   "execution_count": null,
   "metadata": {},
   "outputs": [],
   "source": [
    "windmills.shape"
   ]
  },
  {
   "cell_type": "code",
   "execution_count": null,
   "metadata": {},
   "outputs": [],
   "source": [
    "windmills = pd.merge(windmills, w_temp, on='GSRN', how='outer')\n",
    "# location\n",
    "windmills[['UTM_x']] = windmills.apply(lambda x: x[['UTM_x']].fillna(value = x['x_c']), axis=1)[['UTM_x']]\n",
    "windmills[['UTM_y']] = windmills.apply(lambda x: x[['UTM_y']].fillna(value = x['y_c']), axis=1)[['UTM_y']]\n",
    "windmills.drop(columns=['x_c','y_c'], inplace=True)\n",
    "# Turbine type\n",
    "windmills['Turbine_type'].fillna('P', inplace = True)\n",
    "windmills"
   ]
  },
  {
   "cell_type": "markdown",
   "execution_count": null,
   "metadata": {},
   "outputs": [],
   "source": [
    "Cause a bug in ArcGIS file import, we need to add a 'z' at the end of GSRN and Parent_GSRN"
   ]
  },
  {
   "cell_type": "code",
   "execution_count": null,
   "metadata": {},
   "outputs": [],
   "source": [
    "windmills['GSRN'] = [x+'z' for x in windmills['GSRN']]\n",
    "windmills['Parent_GSRN'].fillna('',inplace = True)\n",
    "windmills['Parent_GSRN'] = [x+'z' for x in windmills['Parent_GSRN']]\n",
    "windmills"
   ]
  },
  {
   "cell_type": "code",
   "execution_count": null,
   "metadata": {},
   "outputs": [],
   "source": [
    "windmills.to_csv('data/windmills_gis.csv', index=False)"
   ]
  },
  {
   "cell_type": "markdown",
   "execution_count": null,
   "metadata": {},
   "outputs": [],
   "source": [
    "After ArcGIS    \n",
    "1. Single grid"
   ]
  },
  {
   "cell_type": "code",
   "execution_count": null,
   "metadata": {},
   "outputs": [],
   "source": [
    "windmills_single_grid= pd.read_excel('data/windmills_to_single-grid.xlsx')[['GSRN','grid']]\n",
    "windmills_single_grid['grid'].fillna(value=0, inplace = True)\n",
    "windmills_single_grid['grid'] = windmills_single_grid['grid'].astype(int)\n",
    "windmills_single_grid['grid'] = windmills_single_grid['grid'].astype(str)\n",
    "windmills = pd.merge(windmills, windmills_single_grid, on='GSRN', how='left')\n",
    "windmills"
   ]
  },
  {
   "cell_type": "code",
   "execution_count": null,
   "metadata": {},
   "outputs": [],
   "source": [
    "windmills_multi_grid = pd.read_excel('data/windmills_to_multi-grid.xlsx')[['GSRN','grid']]\n",
    "windmills_multi_grid['grid'].fillna(value=0, inplace = True)\n",
    "windmills_multi_grid['grid'] = windmills_multi_grid['grid'].astype(int)\n",
    "windmills_multi_grid['grid'] = windmills_multi_grid['grid'].astype(str)"
   ]
  },
  {
   "cell_type": "code",
   "execution_count": null,
   "metadata": {},
   "outputs": [],
   "source": [
    "def ab(df):\n",
    "    return','.join(df.values)\n",
    "    \n",
    "windmills_multi_grid = windmills_multi_grid.groupby('GSRN')['grid'].apply(ab).reset_index().rename(columns={'grid':'grid_in_range'})\n",
    "windmills = pd.merge(windmills, windmills_multi_grid, on='GSRN', how='left')\n",
    "windmills"
   ]
  },
  {
   "cell_type": "code",
   "execution_count": null,
   "metadata": {},
   "outputs": [],
   "source": [
    "windmills.to_csv('data/windmill_cleaned.csv')"
   ]
  },
  {
   "cell_type": "code",
   "execution_count": null,
   "metadata": {},
   "outputs": [],
   "source": [
    "windmills = pd.read_csv('data/windmill_cleaned.csv',sep=';')\n",
    "windmills_lc_slope = pd.read_excel('data/windmills_lc_slope.xlsx')"
   ]
  },
  {
   "cell_type": "code",
   "execution_count": null,
   "metadata": {},
   "outputs": [],
   "source": [
    "windmills_lc_slope['Land_cover'].fillna(value=-1, inplace = True)\n",
    "windmills_lc_slope['Slope'].fillna(value=-1, inplace = True)"
   ]
  },
  {
   "cell_type": "code",
   "execution_count": null,
   "metadata": {},
   "outputs": [],
   "source": [
    "roughness_dic = {210:0.0, 220:0.004, 200:0.005, 202:0.005, 140:0.03, 150:0.05, 11:0.1, 14:0.1, 130:0.1, 180:11, 10:0.1, 20:0.3, 30:0.3, 160:0.5, 120:0.5, 170:0.6, 190:1.0, 40:1.5, 50:1.5, 60:1.5, 70:1.5, 90:1.5, 100:1.5, 110:1.5, -1:0.0}\n",
    "\n",
    "windmills_lc_slope['roughness'] = windmills_lc_slope['Land_cover'].apply(lambda x: roughness_dic[x])"
   ]
  },
  {
   "cell_type": "code",
   "execution_count": null,
   "metadata": {},
   "outputs": [],
   "source": [
    "windmills_lc_slope"
   ]
  },
  {
   "cell_type": "code",
   "execution_count": null,
   "metadata": {},
   "outputs": [],
   "source": [
    "windmills_lc_slope"
   ]
  },
  {
   "cell_type": "code",
   "execution_count": null,
   "metadata": {},
   "outputs": [],
   "source": [
    "windmills = pd.merge(windmills, windmills_lc_slope, on='GSRN', how='left')"
   ]
  },
  {
   "cell_type": "code",
   "execution_count": null,
   "metadata": {},
   "outputs": [],
   "source": [
    "windmills = windmills.drop(index=0)"
   ]
  },
  {
   "cell_type": "code",
   "execution_count": null,
   "metadata": {},
   "outputs": [],
   "source": [
    "windmills"
   ]
  },
  {
   "cell_type": "code",
   "execution_count": null,
   "metadata": {},
   "outputs": [],
   "source": [
    "windmills.to_csv('data/windmill_cleaned.csv',index=False)"
   ]
  },
  {
   "cell_type": "markdown",
   "execution_count": null,
   "metadata": {},
   "outputs": [],
   "source": [
    "## Weather Grid Observation"
   ]
  },
  {
   "cell_type": "code",
   "execution_count": null,
   "metadata": {},
   "outputs": [],
   "source": [
    "weather_grids = pd.read_csv('data/ITU_DATA/prognosis/grid_coordinates.csv') \n",
    "print(len(weather_grids))\n",
    "weather_grids.head(10)"
   ]
  },
  {
   "cell_type": "markdown",
   "execution_count": null,
   "metadata": {},
   "outputs": [],
   "source": [
    "## Data in Observations\n",
    "We don't have the join table of municipal names and ids."
   ]
  },
  {
   "cell_type": "code",
   "execution_count": null,
   "metadata": {},
   "outputs": [],
   "source": [
    "observed_pressure = pq.read_table('data/ITU_DATA/observations/observed_pressure.parquet').to_pandas()"
   ]
  },
  {
   "cell_type": "code",
   "execution_count": null,
   "metadata": {},
   "outputs": [],
   "source": [
    "print(len(observed_pressure))\n",
    "observed_pressure.tail(10)"
   ]
  },
  {
   "cell_type": "code",
   "execution_count": null,
   "metadata": {},
   "outputs": [],
   "source": [
    "observed_wind_speed_high10 = pq.read_table('data/ITU_DATA/observations/observed_wind_speed_high10.parquet').to_pandas()\n",
    "print(len(observed_wind_speed_high10))\n",
    "observed_wind_speed_high10.tail(10)"
   ]
  },
  {
   "cell_type": "markdown",
   "execution_count": null,
   "metadata": {},
   "outputs": [],
   "source": [
    "## progbisis ENetNEA\n",
    "resolution in 1 hour    \n",
    "data from this model since 2018-02-22."
   ]
  },
  {
   "cell_type": "code",
   "execution_count": null,
   "metadata": {},
   "outputs": [],
   "source": [
    "wind_speed_10m = pq.read_table('data/ITU_DATA/prognosis/ENetNEA/wind_speed_10m.parquet').to_pandas().reset_index()"
   ]
  },
  {
   "cell_type": "code",
   "execution_count": null,
   "metadata": {},
   "outputs": [],
   "source": [
    "wind_speed_10m.head()"
   ]
  },
  {
   "cell_type": "code",
   "execution_count": null,
   "metadata": {},
   "outputs": [],
   "source": [
    "wind_speed_10m = wind_speed_10m.drop_duplicated(['index'], keep = last)"
   ]
  },
  {
   "cell_type": "code",
   "execution_count": null,
   "metadata": {},
   "outputs": [],
   "source": [
    "wind_speed_10m['index'] = wind_speed_10m['index'].astype(str)\n",
    "wind_speed_10m[['date','time']] = wind_speed_10m['index'].str.split(' ', expand = True)\n",
    "   "
   ]
  },
  {
   "cell_type": "code",
   "execution_count": null,
   "metadata": {},
   "outputs": [],
   "source": [
    "wind_direction_10m = pq.read_table('data/ITU_DATA/prognosis/ENetNEA/wind_direction_10m.parquet').to_pandas().reset_index()"
   ]
  },
  {
   "cell_type": "code",
   "execution_count": null,
   "metadata": {},
   "outputs": [],
   "source": [
    "wind_direction_10m.head(30)"
   ]
  },
  {
   "cell_type": "markdown",
   "execution_count": null,
   "metadata": {},
   "outputs": [],
   "source": [
    "## Settlement\n",
    "resolution in 15 mins"
   ]
  },
  {
   "cell_type": "code",
   "execution_count": null,
   "metadata": {},
   "outputs": [],
   "source": [
    "import pyspark"
   ]
  },
  {
   "cell_type": "code",
   "execution_count": null,
   "metadata": {},
   "outputs": [],
   "source": [
    "settlement_2018 = spark.read.parquet('data/ITU_DATA/settlement/2018.parquet')"
   ]
  },
  {
   "cell_type": "code",
   "execution_count": null,
   "metadata": {},
   "outputs": [],
   "source": [
    "settlement_2018 = pq.read_table('data/ITU_DATA/settlement/2018.parquet').to_pandas()"
   ]
  },
  {
   "cell_type": "code",
   "execution_count": null,
   "metadata": {},
   "outputs": [],
   "source": [
    "settlement_2018 = settlement_2018[settlement_2018.TIME_CET.str.contains(':00:')].reset_index()"
   ]
  },
  {
   "cell_type": "code",
   "execution_count": null,
   "metadata": {},
   "outputs": [],
   "source": [
    "settlement_2018.head()"
   ]
  },
  {
   "cell_type": "markdown",
   "metadata": {},
   "source": [
    "# A single windmill"
   ]
  },
  {
   "cell_type": "code",
   "execution_count": 1,
   "metadata": {},
   "outputs": [],
   "source": [
    "import pandas as pd\n",
    "import pyarrow.parquet as pq\n",
    "from numpy import nan"
   ]
  },
  {
   "cell_type": "code",
   "execution_count": 3,
   "metadata": {},
   "outputs": [],
   "source": [
    "windmills = pd.read_csv('data/windmill_cleaned.csv')"
   ]
  },
  {
   "cell_type": "code",
   "execution_count": 7,
   "metadata": {},
   "outputs": [
    {
     "output_type": "execute_result",
     "data": {
      "text/plain": "                    GSRN Turbine_type   Parent_GSRN  BBR_municipal Placement  \\\n0     570714700000000027            M  5.707147e+17          101.0      LAND   \n1     570714700000000034            M  5.707147e+17          101.0      LAND   \n2     570714700000000041            M  5.707147e+17          101.0      LAND   \n3     570714700000000058            M  5.707147e+17          101.0      LAND   \n4     570714700000000065            M  5.707147e+17          101.0      LAND   \n...                  ...          ...           ...            ...       ...   \n9977  570715000000055638            P           NaN            NaN       NaN   \n9978  570715000000056017            P           NaN            NaN       NaN   \n9979  570715000000056857            P           NaN            NaN       NaN   \n9980  570715000000056918            P           NaN            NaN       NaN   \n9981  570715000000058486            P           NaN            NaN       NaN   \n\n              UTM_x        UTM_y  Capacity_kw  Rotor_diameter  Navhub_height  \\\n0     720898.353000  6171174.877        225.0            27.0           30.0   \n1     720993.352000  6171226.877        225.0            27.0           30.0   \n2     727504.304000  6178385.864        600.0            44.0           50.0   \n3     727628.303000  6178385.865        600.0            44.0           50.0   \n4     727817.302000  6178365.866        600.0            44.0           50.0   \n...             ...          ...          ...             ...            ...   \n9977  504163.000000  6277061.000          NaN             NaN            NaN   \n9978  468672.240000  6145816.035          NaN             NaN            NaN   \n9979  513111.100000  6320199.400          NaN             NaN            NaN   \n9980  514683.070000  6320302.490          NaN             NaN            NaN   \n9981  564680.333333  6204504.000          NaN             NaN            NaN   \n\n      grid                                      grid_in_range  Land_cover  \\\n0      653  651,693,610,736,695,737,611,653,694,654,652,69...       210.0   \n1      653  651,693,610,736,695,737,611,653,694,654,652,69...       100.0   \n2      653  651,693,610,695,737,611,653,694,654,652,696,60...       210.0   \n3      653  651,693,610,695,737,611,653,694,654,652,696,60...       210.0   \n4      653  651,693,610,695,611,653,694,654,652,696,609,65...       210.0   \n...    ...                                                ...         ...   \n9977  1243  1283,1241,1326,1285,1284,1199,1158,1242,1202,1...        70.0   \n9978  1235  1233,1191,1275,1195,1318,1276,1235,1192,1150,1...        10.0   \n9979  1246  1202,1244,1330,1331,1329,1245,1328,1286,1246,1...       130.0   \n9980  1246  1202,1244,1330,1331,1329,1245,1328,1286,1246,1...       130.0   \n9981  1072  1112,1028,1070,1071,1072,1114,986,1113,1115,10...        11.0   \n\n         Slope  roughness  \n0     3.646971        0.0  \n1     1.012750        1.5  \n2     8.111279        0.0  \n3     5.051153        0.0  \n4     5.885129        0.0  \n...        ...        ...  \n9977  2.263636        1.5  \n9978  0.000000        0.1  \n9979  1.432096        0.1  \n9980  0.000000        0.1  \n9981  2.024868        0.1  \n\n[9982 rows x 15 columns]",
      "text/html": "<div>\n<style scoped>\n    .dataframe tbody tr th:only-of-type {\n        vertical-align: middle;\n    }\n\n    .dataframe tbody tr th {\n        vertical-align: top;\n    }\n\n    .dataframe thead th {\n        text-align: right;\n    }\n</style>\n<table border=\"1\" class=\"dataframe\">\n  <thead>\n    <tr style=\"text-align: right;\">\n      <th></th>\n      <th>GSRN</th>\n      <th>Turbine_type</th>\n      <th>Parent_GSRN</th>\n      <th>BBR_municipal</th>\n      <th>Placement</th>\n      <th>UTM_x</th>\n      <th>UTM_y</th>\n      <th>Capacity_kw</th>\n      <th>Rotor_diameter</th>\n      <th>Navhub_height</th>\n      <th>grid</th>\n      <th>grid_in_range</th>\n      <th>Land_cover</th>\n      <th>Slope</th>\n      <th>roughness</th>\n    </tr>\n  </thead>\n  <tbody>\n    <tr>\n      <th>0</th>\n      <td>570714700000000027</td>\n      <td>M</td>\n      <td>5.707147e+17</td>\n      <td>101.0</td>\n      <td>LAND</td>\n      <td>720898.353000</td>\n      <td>6171174.877</td>\n      <td>225.0</td>\n      <td>27.0</td>\n      <td>30.0</td>\n      <td>653</td>\n      <td>651,693,610,736,695,737,611,653,694,654,652,69...</td>\n      <td>210.0</td>\n      <td>3.646971</td>\n      <td>0.0</td>\n    </tr>\n    <tr>\n      <th>1</th>\n      <td>570714700000000034</td>\n      <td>M</td>\n      <td>5.707147e+17</td>\n      <td>101.0</td>\n      <td>LAND</td>\n      <td>720993.352000</td>\n      <td>6171226.877</td>\n      <td>225.0</td>\n      <td>27.0</td>\n      <td>30.0</td>\n      <td>653</td>\n      <td>651,693,610,736,695,737,611,653,694,654,652,69...</td>\n      <td>100.0</td>\n      <td>1.012750</td>\n      <td>1.5</td>\n    </tr>\n    <tr>\n      <th>2</th>\n      <td>570714700000000041</td>\n      <td>M</td>\n      <td>5.707147e+17</td>\n      <td>101.0</td>\n      <td>LAND</td>\n      <td>727504.304000</td>\n      <td>6178385.864</td>\n      <td>600.0</td>\n      <td>44.0</td>\n      <td>50.0</td>\n      <td>653</td>\n      <td>651,693,610,695,737,611,653,694,654,652,696,60...</td>\n      <td>210.0</td>\n      <td>8.111279</td>\n      <td>0.0</td>\n    </tr>\n    <tr>\n      <th>3</th>\n      <td>570714700000000058</td>\n      <td>M</td>\n      <td>5.707147e+17</td>\n      <td>101.0</td>\n      <td>LAND</td>\n      <td>727628.303000</td>\n      <td>6178385.865</td>\n      <td>600.0</td>\n      <td>44.0</td>\n      <td>50.0</td>\n      <td>653</td>\n      <td>651,693,610,695,737,611,653,694,654,652,696,60...</td>\n      <td>210.0</td>\n      <td>5.051153</td>\n      <td>0.0</td>\n    </tr>\n    <tr>\n      <th>4</th>\n      <td>570714700000000065</td>\n      <td>M</td>\n      <td>5.707147e+17</td>\n      <td>101.0</td>\n      <td>LAND</td>\n      <td>727817.302000</td>\n      <td>6178365.866</td>\n      <td>600.0</td>\n      <td>44.0</td>\n      <td>50.0</td>\n      <td>653</td>\n      <td>651,693,610,695,611,653,694,654,652,696,609,65...</td>\n      <td>210.0</td>\n      <td>5.885129</td>\n      <td>0.0</td>\n    </tr>\n    <tr>\n      <th>...</th>\n      <td>...</td>\n      <td>...</td>\n      <td>...</td>\n      <td>...</td>\n      <td>...</td>\n      <td>...</td>\n      <td>...</td>\n      <td>...</td>\n      <td>...</td>\n      <td>...</td>\n      <td>...</td>\n      <td>...</td>\n      <td>...</td>\n      <td>...</td>\n      <td>...</td>\n    </tr>\n    <tr>\n      <th>9977</th>\n      <td>570715000000055638</td>\n      <td>P</td>\n      <td>NaN</td>\n      <td>NaN</td>\n      <td>NaN</td>\n      <td>504163.000000</td>\n      <td>6277061.000</td>\n      <td>NaN</td>\n      <td>NaN</td>\n      <td>NaN</td>\n      <td>1243</td>\n      <td>1283,1241,1326,1285,1284,1199,1158,1242,1202,1...</td>\n      <td>70.0</td>\n      <td>2.263636</td>\n      <td>1.5</td>\n    </tr>\n    <tr>\n      <th>9978</th>\n      <td>570715000000056017</td>\n      <td>P</td>\n      <td>NaN</td>\n      <td>NaN</td>\n      <td>NaN</td>\n      <td>468672.240000</td>\n      <td>6145816.035</td>\n      <td>NaN</td>\n      <td>NaN</td>\n      <td>NaN</td>\n      <td>1235</td>\n      <td>1233,1191,1275,1195,1318,1276,1235,1192,1150,1...</td>\n      <td>10.0</td>\n      <td>0.000000</td>\n      <td>0.1</td>\n    </tr>\n    <tr>\n      <th>9979</th>\n      <td>570715000000056857</td>\n      <td>P</td>\n      <td>NaN</td>\n      <td>NaN</td>\n      <td>NaN</td>\n      <td>513111.100000</td>\n      <td>6320199.400</td>\n      <td>NaN</td>\n      <td>NaN</td>\n      <td>NaN</td>\n      <td>1246</td>\n      <td>1202,1244,1330,1331,1329,1245,1328,1286,1246,1...</td>\n      <td>130.0</td>\n      <td>1.432096</td>\n      <td>0.1</td>\n    </tr>\n    <tr>\n      <th>9980</th>\n      <td>570715000000056918</td>\n      <td>P</td>\n      <td>NaN</td>\n      <td>NaN</td>\n      <td>NaN</td>\n      <td>514683.070000</td>\n      <td>6320302.490</td>\n      <td>NaN</td>\n      <td>NaN</td>\n      <td>NaN</td>\n      <td>1246</td>\n      <td>1202,1244,1330,1331,1329,1245,1328,1286,1246,1...</td>\n      <td>130.0</td>\n      <td>0.000000</td>\n      <td>0.1</td>\n    </tr>\n    <tr>\n      <th>9981</th>\n      <td>570715000000058486</td>\n      <td>P</td>\n      <td>NaN</td>\n      <td>NaN</td>\n      <td>NaN</td>\n      <td>564680.333333</td>\n      <td>6204504.000</td>\n      <td>NaN</td>\n      <td>NaN</td>\n      <td>NaN</td>\n      <td>1072</td>\n      <td>1112,1028,1070,1071,1072,1114,986,1113,1115,10...</td>\n      <td>11.0</td>\n      <td>2.024868</td>\n      <td>0.1</td>\n    </tr>\n  </tbody>\n</table>\n<p>9982 rows × 15 columns</p>\n</div>"
     },
     "metadata": {},
     "execution_count": 7
    }
   ],
   "source": [
    "windmills"
   ]
  },
  {
   "cell_type": "code",
   "execution_count": 9,
   "metadata": {},
   "outputs": [
    {
     "output_type": "execute_result",
     "data": {
      "text/plain": "                    GSRN Turbine_type  Parent_GSRN  BBR_municipal Placement  \\\n8     570714700000000102            W          NaN          167.0      LAND   \n11    570714700000000133            W          NaN          167.0      LAND   \n12    570714700000000140            W          NaN          167.0      LAND   \n13    570714700000000157            W          NaN          167.0      LAND   \n14    570714700000000164            W          NaN          169.0      LAND   \n...                  ...          ...          ...            ...       ...   \n9806  571313174001699894            W          NaN          360.0      LAND   \n9807  571313174001699900            W          NaN          360.0      LAND   \n9811  571313174001764448            W          NaN          320.0      LAND   \n9841  571313174116253585            W          NaN          265.0      LAND   \n9849  571313179100196008            W          NaN          265.0      LAND   \n\n         UTM_x      UTM_y  Capacity_kw  Rotor_diameter  Navhub_height  grid  \\\n8     717690.0  6167403.0        300.0            31.0           30.0   652   \n11    719902.0  6167171.0       1000.0            50.0           55.0   652   \n12    719970.0  6167337.0        660.0            47.0           40.0   652   \n13    720031.0  6167484.0        660.0            47.0           40.0   652   \n14    702314.0  6169097.0        250.0            24.0           30.0   694   \n...        ...        ...          ...             ...            ...   ...   \n9806  644459.0  6073175.0       3600.0           126.0           87.0   771   \n9807  644136.0  6073257.0       3600.0           126.0           87.0   771   \n9811  702483.0  6132921.0        225.0            29.0           31.5   650   \n9841  694932.0  6175477.0        850.0            52.0           44.0   736   \n9849  694663.0  6175328.0       1200.0            29.0           59.5   736   \n\n                                          grid_in_range  Land_cover     Slope  \\\n8     735,650,692,651,693,610,736,695,737,611,653,69...        11.0  5.885129   \n11    735,608,650,651,693,610,736,695,737,611,653,69...       190.0  1.432096   \n12    735,650,651,693,610,736,695,737,611,653,694,65...       210.0  0.000000   \n13    735,650,651,693,610,736,695,737,611,653,694,65...        70.0  0.000000   \n14    735,650,692,651,693,610,778,736,777,734,695,77...        11.0  2.024868   \n...                                                 ...         ...       ...   \n9806  855,813,770,771,812,856,687,729,686,730,814,72...        11.0  0.000000   \n9807  855,813,770,771,812,856,687,729,686,730,814,72...        11.0  1.432096   \n9811  690,691,735,733,732,606,648,649,608,650,692,60...        11.0  0.000000   \n9841  735,692,651,693,778,736,777,780,734,695,779,73...        11.0  1.432096   \n9849  735,692,651,693,778,736,777,780,734,695,779,73...        10.0  2.263636   \n\n      roughness  \n8           0.1  \n11          1.0  \n12          0.0  \n13          1.5  \n14          0.1  \n...         ...  \n9806        0.1  \n9807        0.1  \n9811        0.1  \n9841        0.1  \n9849        0.1  \n\n[4195 rows x 15 columns]",
      "text/html": "<div>\n<style scoped>\n    .dataframe tbody tr th:only-of-type {\n        vertical-align: middle;\n    }\n\n    .dataframe tbody tr th {\n        vertical-align: top;\n    }\n\n    .dataframe thead th {\n        text-align: right;\n    }\n</style>\n<table border=\"1\" class=\"dataframe\">\n  <thead>\n    <tr style=\"text-align: right;\">\n      <th></th>\n      <th>GSRN</th>\n      <th>Turbine_type</th>\n      <th>Parent_GSRN</th>\n      <th>BBR_municipal</th>\n      <th>Placement</th>\n      <th>UTM_x</th>\n      <th>UTM_y</th>\n      <th>Capacity_kw</th>\n      <th>Rotor_diameter</th>\n      <th>Navhub_height</th>\n      <th>grid</th>\n      <th>grid_in_range</th>\n      <th>Land_cover</th>\n      <th>Slope</th>\n      <th>roughness</th>\n    </tr>\n  </thead>\n  <tbody>\n    <tr>\n      <th>8</th>\n      <td>570714700000000102</td>\n      <td>W</td>\n      <td>NaN</td>\n      <td>167.0</td>\n      <td>LAND</td>\n      <td>717690.0</td>\n      <td>6167403.0</td>\n      <td>300.0</td>\n      <td>31.0</td>\n      <td>30.0</td>\n      <td>652</td>\n      <td>735,650,692,651,693,610,736,695,737,611,653,69...</td>\n      <td>11.0</td>\n      <td>5.885129</td>\n      <td>0.1</td>\n    </tr>\n    <tr>\n      <th>11</th>\n      <td>570714700000000133</td>\n      <td>W</td>\n      <td>NaN</td>\n      <td>167.0</td>\n      <td>LAND</td>\n      <td>719902.0</td>\n      <td>6167171.0</td>\n      <td>1000.0</td>\n      <td>50.0</td>\n      <td>55.0</td>\n      <td>652</td>\n      <td>735,608,650,651,693,610,736,695,737,611,653,69...</td>\n      <td>190.0</td>\n      <td>1.432096</td>\n      <td>1.0</td>\n    </tr>\n    <tr>\n      <th>12</th>\n      <td>570714700000000140</td>\n      <td>W</td>\n      <td>NaN</td>\n      <td>167.0</td>\n      <td>LAND</td>\n      <td>719970.0</td>\n      <td>6167337.0</td>\n      <td>660.0</td>\n      <td>47.0</td>\n      <td>40.0</td>\n      <td>652</td>\n      <td>735,650,651,693,610,736,695,737,611,653,694,65...</td>\n      <td>210.0</td>\n      <td>0.000000</td>\n      <td>0.0</td>\n    </tr>\n    <tr>\n      <th>13</th>\n      <td>570714700000000157</td>\n      <td>W</td>\n      <td>NaN</td>\n      <td>167.0</td>\n      <td>LAND</td>\n      <td>720031.0</td>\n      <td>6167484.0</td>\n      <td>660.0</td>\n      <td>47.0</td>\n      <td>40.0</td>\n      <td>652</td>\n      <td>735,650,651,693,610,736,695,737,611,653,694,65...</td>\n      <td>70.0</td>\n      <td>0.000000</td>\n      <td>1.5</td>\n    </tr>\n    <tr>\n      <th>14</th>\n      <td>570714700000000164</td>\n      <td>W</td>\n      <td>NaN</td>\n      <td>169.0</td>\n      <td>LAND</td>\n      <td>702314.0</td>\n      <td>6169097.0</td>\n      <td>250.0</td>\n      <td>24.0</td>\n      <td>30.0</td>\n      <td>694</td>\n      <td>735,650,692,651,693,610,778,736,777,734,695,77...</td>\n      <td>11.0</td>\n      <td>2.024868</td>\n      <td>0.1</td>\n    </tr>\n    <tr>\n      <th>...</th>\n      <td>...</td>\n      <td>...</td>\n      <td>...</td>\n      <td>...</td>\n      <td>...</td>\n      <td>...</td>\n      <td>...</td>\n      <td>...</td>\n      <td>...</td>\n      <td>...</td>\n      <td>...</td>\n      <td>...</td>\n      <td>...</td>\n      <td>...</td>\n      <td>...</td>\n    </tr>\n    <tr>\n      <th>9806</th>\n      <td>571313174001699894</td>\n      <td>W</td>\n      <td>NaN</td>\n      <td>360.0</td>\n      <td>LAND</td>\n      <td>644459.0</td>\n      <td>6073175.0</td>\n      <td>3600.0</td>\n      <td>126.0</td>\n      <td>87.0</td>\n      <td>771</td>\n      <td>855,813,770,771,812,856,687,729,686,730,814,72...</td>\n      <td>11.0</td>\n      <td>0.000000</td>\n      <td>0.1</td>\n    </tr>\n    <tr>\n      <th>9807</th>\n      <td>571313174001699900</td>\n      <td>W</td>\n      <td>NaN</td>\n      <td>360.0</td>\n      <td>LAND</td>\n      <td>644136.0</td>\n      <td>6073257.0</td>\n      <td>3600.0</td>\n      <td>126.0</td>\n      <td>87.0</td>\n      <td>771</td>\n      <td>855,813,770,771,812,856,687,729,686,730,814,72...</td>\n      <td>11.0</td>\n      <td>1.432096</td>\n      <td>0.1</td>\n    </tr>\n    <tr>\n      <th>9811</th>\n      <td>571313174001764448</td>\n      <td>W</td>\n      <td>NaN</td>\n      <td>320.0</td>\n      <td>LAND</td>\n      <td>702483.0</td>\n      <td>6132921.0</td>\n      <td>225.0</td>\n      <td>29.0</td>\n      <td>31.5</td>\n      <td>650</td>\n      <td>690,691,735,733,732,606,648,649,608,650,692,60...</td>\n      <td>11.0</td>\n      <td>0.000000</td>\n      <td>0.1</td>\n    </tr>\n    <tr>\n      <th>9841</th>\n      <td>571313174116253585</td>\n      <td>W</td>\n      <td>NaN</td>\n      <td>265.0</td>\n      <td>LAND</td>\n      <td>694932.0</td>\n      <td>6175477.0</td>\n      <td>850.0</td>\n      <td>52.0</td>\n      <td>44.0</td>\n      <td>736</td>\n      <td>735,692,651,693,778,736,777,780,734,695,779,73...</td>\n      <td>11.0</td>\n      <td>1.432096</td>\n      <td>0.1</td>\n    </tr>\n    <tr>\n      <th>9849</th>\n      <td>571313179100196008</td>\n      <td>W</td>\n      <td>NaN</td>\n      <td>265.0</td>\n      <td>LAND</td>\n      <td>694663.0</td>\n      <td>6175328.0</td>\n      <td>1200.0</td>\n      <td>29.0</td>\n      <td>59.5</td>\n      <td>736</td>\n      <td>735,692,651,693,778,736,777,780,734,695,779,73...</td>\n      <td>10.0</td>\n      <td>2.263636</td>\n      <td>0.1</td>\n    </tr>\n  </tbody>\n</table>\n<p>4195 rows × 15 columns</p>\n</div>"
     },
     "metadata": {},
     "execution_count": 9
    }
   ],
   "source": [
    "windmills[windmills['Turbine_type']=='W']"
   ]
  },
  {
   "cell_type": "code",
   "execution_count": 90,
   "metadata": {},
   "outputs": [],
   "source": [
    "settlement = pq.read_table('data/ITU_DATA/settlement/2019.parquet')"
   ]
  },
  {
   "cell_type": "code",
   "execution_count": 94,
   "metadata": {},
   "outputs": [],
   "source": [
    "settlement = settlement.to_pandas()"
   ]
  },
  {
   "cell_type": "code",
   "execution_count": 122,
   "metadata": {},
   "outputs": [],
   "source": [
    "single_windmill = settlement[settlement[\"GSRN\"] == \"571313174001764448\"]"
   ]
  },
  {
   "cell_type": "code",
   "execution_count": 124,
   "metadata": {},
   "outputs": [],
   "source": [
    "single_windmill = single_windmill[single_windmill['TIME_CET'].str[5:7] == '12']"
   ]
  },
  {
   "cell_type": "code",
   "execution_count": 125,
   "metadata": {},
   "outputs": [
    {
     "output_type": "execute_result",
     "data": {
      "text/plain": "                         GSRN     TS_ID VAERDI             TIME_CET\n142379785  571313174001764448  50200502      0  2019-12-01 00:00:00\n142379786  571313174001764448  50200502      0  2019-12-01 01:00:00\n142379787  571313174001764448  50200502      0  2019-12-01 02:00:00\n142379788  571313174001764448  50200502      0  2019-12-01 03:00:00\n142379789  571313174001764448  50200502      0  2019-12-01 04:00:00\n...                       ...       ...    ...                  ...\n154124102  571313174001764448  50200502      0  2019-12-30 20:00:00\n154124103  571313174001764448  50200502      0  2019-12-30 21:00:00\n154124104  571313174001764448  50200502      0  2019-12-30 22:00:00\n154124105  571313174001764448  50200502      0  2019-12-30 23:00:00\n154224044  571313174001764448  50200502      0  2019-12-31 00:00:00\n\n[721 rows x 4 columns]",
      "text/html": "<div>\n<style scoped>\n    .dataframe tbody tr th:only-of-type {\n        vertical-align: middle;\n    }\n\n    .dataframe tbody tr th {\n        vertical-align: top;\n    }\n\n    .dataframe thead th {\n        text-align: right;\n    }\n</style>\n<table border=\"1\" class=\"dataframe\">\n  <thead>\n    <tr style=\"text-align: right;\">\n      <th></th>\n      <th>GSRN</th>\n      <th>TS_ID</th>\n      <th>VAERDI</th>\n      <th>TIME_CET</th>\n    </tr>\n  </thead>\n  <tbody>\n    <tr>\n      <th>142379785</th>\n      <td>571313174001764448</td>\n      <td>50200502</td>\n      <td>0</td>\n      <td>2019-12-01 00:00:00</td>\n    </tr>\n    <tr>\n      <th>142379786</th>\n      <td>571313174001764448</td>\n      <td>50200502</td>\n      <td>0</td>\n      <td>2019-12-01 01:00:00</td>\n    </tr>\n    <tr>\n      <th>142379787</th>\n      <td>571313174001764448</td>\n      <td>50200502</td>\n      <td>0</td>\n      <td>2019-12-01 02:00:00</td>\n    </tr>\n    <tr>\n      <th>142379788</th>\n      <td>571313174001764448</td>\n      <td>50200502</td>\n      <td>0</td>\n      <td>2019-12-01 03:00:00</td>\n    </tr>\n    <tr>\n      <th>142379789</th>\n      <td>571313174001764448</td>\n      <td>50200502</td>\n      <td>0</td>\n      <td>2019-12-01 04:00:00</td>\n    </tr>\n    <tr>\n      <th>...</th>\n      <td>...</td>\n      <td>...</td>\n      <td>...</td>\n      <td>...</td>\n    </tr>\n    <tr>\n      <th>154124102</th>\n      <td>571313174001764448</td>\n      <td>50200502</td>\n      <td>0</td>\n      <td>2019-12-30 20:00:00</td>\n    </tr>\n    <tr>\n      <th>154124103</th>\n      <td>571313174001764448</td>\n      <td>50200502</td>\n      <td>0</td>\n      <td>2019-12-30 21:00:00</td>\n    </tr>\n    <tr>\n      <th>154124104</th>\n      <td>571313174001764448</td>\n      <td>50200502</td>\n      <td>0</td>\n      <td>2019-12-30 22:00:00</td>\n    </tr>\n    <tr>\n      <th>154124105</th>\n      <td>571313174001764448</td>\n      <td>50200502</td>\n      <td>0</td>\n      <td>2019-12-30 23:00:00</td>\n    </tr>\n    <tr>\n      <th>154224044</th>\n      <td>571313174001764448</td>\n      <td>50200502</td>\n      <td>0</td>\n      <td>2019-12-31 00:00:00</td>\n    </tr>\n  </tbody>\n</table>\n<p>721 rows × 4 columns</p>\n</div>"
     },
     "metadata": {},
     "execution_count": 125
    }
   ],
   "source": [
    "single_windmill"
   ]
  },
  {
   "cell_type": "code",
   "execution_count": 131,
   "metadata": {},
   "outputs": [],
   "source": [
    "test = single_windmill[[\"VAERDI\", \"TIME_CET\"]]"
   ]
  },
  {
   "cell_type": "code",
   "execution_count": 132,
   "metadata": {},
   "outputs": [],
   "source": [
    "test[\"VAERDI\"] = test[\"VAERDI\"].astype(float)"
   ]
  },
  {
   "cell_type": "code",
   "execution_count": 129,
   "metadata": {},
   "outputs": [],
   "source": [
    "test = test[test[\"TIME_CET\"].str[5:10]==\"12-01\"]"
   ]
  },
  {
   "cell_type": "code",
   "execution_count": 133,
   "metadata": {},
   "outputs": [
    {
     "output_type": "execute_result",
     "data": {
      "text/plain": "           VAERDI             TIME_CET\n142379785     0.0  2019-12-01 00:00:00\n142379786     0.0  2019-12-01 01:00:00\n142379787     0.0  2019-12-01 02:00:00\n142379788     0.0  2019-12-01 03:00:00\n142379789     0.0  2019-12-01 04:00:00\n...           ...                  ...\n154124102     0.0  2019-12-30 20:00:00\n154124103     0.0  2019-12-30 21:00:00\n154124104     0.0  2019-12-30 22:00:00\n154124105     0.0  2019-12-30 23:00:00\n154224044     0.0  2019-12-31 00:00:00\n\n[721 rows x 2 columns]",
      "text/html": "<div>\n<style scoped>\n    .dataframe tbody tr th:only-of-type {\n        vertical-align: middle;\n    }\n\n    .dataframe tbody tr th {\n        vertical-align: top;\n    }\n\n    .dataframe thead th {\n        text-align: right;\n    }\n</style>\n<table border=\"1\" class=\"dataframe\">\n  <thead>\n    <tr style=\"text-align: right;\">\n      <th></th>\n      <th>VAERDI</th>\n      <th>TIME_CET</th>\n    </tr>\n  </thead>\n  <tbody>\n    <tr>\n      <th>142379785</th>\n      <td>0.0</td>\n      <td>2019-12-01 00:00:00</td>\n    </tr>\n    <tr>\n      <th>142379786</th>\n      <td>0.0</td>\n      <td>2019-12-01 01:00:00</td>\n    </tr>\n    <tr>\n      <th>142379787</th>\n      <td>0.0</td>\n      <td>2019-12-01 02:00:00</td>\n    </tr>\n    <tr>\n      <th>142379788</th>\n      <td>0.0</td>\n      <td>2019-12-01 03:00:00</td>\n    </tr>\n    <tr>\n      <th>142379789</th>\n      <td>0.0</td>\n      <td>2019-12-01 04:00:00</td>\n    </tr>\n    <tr>\n      <th>...</th>\n      <td>...</td>\n      <td>...</td>\n    </tr>\n    <tr>\n      <th>154124102</th>\n      <td>0.0</td>\n      <td>2019-12-30 20:00:00</td>\n    </tr>\n    <tr>\n      <th>154124103</th>\n      <td>0.0</td>\n      <td>2019-12-30 21:00:00</td>\n    </tr>\n    <tr>\n      <th>154124104</th>\n      <td>0.0</td>\n      <td>2019-12-30 22:00:00</td>\n    </tr>\n    <tr>\n      <th>154124105</th>\n      <td>0.0</td>\n      <td>2019-12-30 23:00:00</td>\n    </tr>\n    <tr>\n      <th>154224044</th>\n      <td>0.0</td>\n      <td>2019-12-31 00:00:00</td>\n    </tr>\n  </tbody>\n</table>\n<p>721 rows × 2 columns</p>\n</div>"
     },
     "metadata": {},
     "execution_count": 133
    }
   ],
   "source": [
    "test"
   ]
  },
  {
   "cell_type": "code",
   "execution_count": 77,
   "metadata": {},
   "outputs": [],
   "source": [
    "import matplotlib.pyplot as plt"
   ]
  },
  {
   "cell_type": "code",
   "execution_count": 137,
   "metadata": {},
   "outputs": [
    {
     "output_type": "execute_result",
     "data": {
      "text/plain": "[<matplotlib.lines.Line2D at 0x757a4a080>]"
     },
     "metadata": {},
     "execution_count": 137
    },
    {
     "output_type": "stream",
     "name": "stdout",
     "text": "Error in callback <function flush_figures at 0x86fae4f28> (for post_execute):\n"
    },
    {
     "output_type": "error",
     "ename": "KeyboardInterrupt",
     "evalue": "",
     "traceback": [
      "\u001b[0;31m---------------------------------------------------------------------------\u001b[0m",
      "\u001b[0;31mKeyboardInterrupt\u001b[0m                         Traceback (most recent call last)",
      "\u001b[0;32m~/Library/Python/3.7/lib/python/site-packages/ipykernel/pylab/backend_inline.py\u001b[0m in \u001b[0;36mflush_figures\u001b[0;34m()\u001b[0m\n\u001b[1;32m    119\u001b[0m         \u001b[0;31m# ignore the tracking, just draw and close all figures\u001b[0m\u001b[0;34m\u001b[0m\u001b[0;34m\u001b[0m\u001b[0;34m\u001b[0m\u001b[0m\n\u001b[1;32m    120\u001b[0m         \u001b[0;32mtry\u001b[0m\u001b[0;34m:\u001b[0m\u001b[0;34m\u001b[0m\u001b[0;34m\u001b[0m\u001b[0m\n\u001b[0;32m--> 121\u001b[0;31m             \u001b[0;32mreturn\u001b[0m \u001b[0mshow\u001b[0m\u001b[0;34m(\u001b[0m\u001b[0;32mTrue\u001b[0m\u001b[0;34m)\u001b[0m\u001b[0;34m\u001b[0m\u001b[0;34m\u001b[0m\u001b[0m\n\u001b[0m\u001b[1;32m    122\u001b[0m         \u001b[0;32mexcept\u001b[0m \u001b[0mException\u001b[0m \u001b[0;32mas\u001b[0m \u001b[0me\u001b[0m\u001b[0;34m:\u001b[0m\u001b[0;34m\u001b[0m\u001b[0;34m\u001b[0m\u001b[0m\n\u001b[1;32m    123\u001b[0m             \u001b[0;31m# safely show traceback if in IPython, else raise\u001b[0m\u001b[0;34m\u001b[0m\u001b[0;34m\u001b[0m\u001b[0;34m\u001b[0m\u001b[0m\n",
      "\u001b[0;32m~/Library/Python/3.7/lib/python/site-packages/ipykernel/pylab/backend_inline.py\u001b[0m in \u001b[0;36mshow\u001b[0;34m(close, block)\u001b[0m\n\u001b[1;32m     41\u001b[0m             display(\n\u001b[1;32m     42\u001b[0m                 \u001b[0mfigure_manager\u001b[0m\u001b[0;34m.\u001b[0m\u001b[0mcanvas\u001b[0m\u001b[0;34m.\u001b[0m\u001b[0mfigure\u001b[0m\u001b[0;34m,\u001b[0m\u001b[0;34m\u001b[0m\u001b[0;34m\u001b[0m\u001b[0m\n\u001b[0;32m---> 43\u001b[0;31m                 \u001b[0mmetadata\u001b[0m\u001b[0;34m=\u001b[0m\u001b[0m_fetch_figure_metadata\u001b[0m\u001b[0;34m(\u001b[0m\u001b[0mfigure_manager\u001b[0m\u001b[0;34m.\u001b[0m\u001b[0mcanvas\u001b[0m\u001b[0;34m.\u001b[0m\u001b[0mfigure\u001b[0m\u001b[0;34m)\u001b[0m\u001b[0;34m\u001b[0m\u001b[0;34m\u001b[0m\u001b[0m\n\u001b[0m\u001b[1;32m     44\u001b[0m             )\n\u001b[1;32m     45\u001b[0m     \u001b[0;32mfinally\u001b[0m\u001b[0;34m:\u001b[0m\u001b[0;34m\u001b[0m\u001b[0;34m\u001b[0m\u001b[0m\n",
      "\u001b[0;32m~/Library/Python/3.7/lib/python/site-packages/IPython/core/display.py\u001b[0m in \u001b[0;36mdisplay\u001b[0;34m(include, exclude, metadata, transient, display_id, *objs, **kwargs)\u001b[0m\n\u001b[1;32m    311\u001b[0m             \u001b[0mpublish_display_data\u001b[0m\u001b[0;34m(\u001b[0m\u001b[0mdata\u001b[0m\u001b[0;34m=\u001b[0m\u001b[0mobj\u001b[0m\u001b[0;34m,\u001b[0m \u001b[0mmetadata\u001b[0m\u001b[0;34m=\u001b[0m\u001b[0mmetadata\u001b[0m\u001b[0;34m,\u001b[0m \u001b[0;34m**\u001b[0m\u001b[0mkwargs\u001b[0m\u001b[0;34m)\u001b[0m\u001b[0;34m\u001b[0m\u001b[0;34m\u001b[0m\u001b[0m\n\u001b[1;32m    312\u001b[0m         \u001b[0;32melse\u001b[0m\u001b[0;34m:\u001b[0m\u001b[0;34m\u001b[0m\u001b[0;34m\u001b[0m\u001b[0m\n\u001b[0;32m--> 313\u001b[0;31m             \u001b[0mformat_dict\u001b[0m\u001b[0;34m,\u001b[0m \u001b[0mmd_dict\u001b[0m \u001b[0;34m=\u001b[0m \u001b[0mformat\u001b[0m\u001b[0;34m(\u001b[0m\u001b[0mobj\u001b[0m\u001b[0;34m,\u001b[0m \u001b[0minclude\u001b[0m\u001b[0;34m=\u001b[0m\u001b[0minclude\u001b[0m\u001b[0;34m,\u001b[0m \u001b[0mexclude\u001b[0m\u001b[0;34m=\u001b[0m\u001b[0mexclude\u001b[0m\u001b[0;34m)\u001b[0m\u001b[0;34m\u001b[0m\u001b[0;34m\u001b[0m\u001b[0m\n\u001b[0m\u001b[1;32m    314\u001b[0m             \u001b[0;32mif\u001b[0m \u001b[0;32mnot\u001b[0m \u001b[0mformat_dict\u001b[0m\u001b[0;34m:\u001b[0m\u001b[0;34m\u001b[0m\u001b[0;34m\u001b[0m\u001b[0m\n\u001b[1;32m    315\u001b[0m                 \u001b[0;31m# nothing to display (e.g. _ipython_display_ took over)\u001b[0m\u001b[0;34m\u001b[0m\u001b[0;34m\u001b[0m\u001b[0;34m\u001b[0m\u001b[0m\n",
      "\u001b[0;32m~/Library/Python/3.7/lib/python/site-packages/IPython/core/formatters.py\u001b[0m in \u001b[0;36mformat\u001b[0;34m(self, obj, include, exclude)\u001b[0m\n\u001b[1;32m    178\u001b[0m             \u001b[0mmd\u001b[0m \u001b[0;34m=\u001b[0m \u001b[0;32mNone\u001b[0m\u001b[0;34m\u001b[0m\u001b[0;34m\u001b[0m\u001b[0m\n\u001b[1;32m    179\u001b[0m             \u001b[0;32mtry\u001b[0m\u001b[0;34m:\u001b[0m\u001b[0;34m\u001b[0m\u001b[0;34m\u001b[0m\u001b[0m\n\u001b[0;32m--> 180\u001b[0;31m                 \u001b[0mdata\u001b[0m \u001b[0;34m=\u001b[0m \u001b[0mformatter\u001b[0m\u001b[0;34m(\u001b[0m\u001b[0mobj\u001b[0m\u001b[0;34m)\u001b[0m\u001b[0;34m\u001b[0m\u001b[0;34m\u001b[0m\u001b[0m\n\u001b[0m\u001b[1;32m    181\u001b[0m             \u001b[0;32mexcept\u001b[0m\u001b[0;34m:\u001b[0m\u001b[0;34m\u001b[0m\u001b[0;34m\u001b[0m\u001b[0m\n\u001b[1;32m    182\u001b[0m                 \u001b[0;31m# FIXME: log the exception\u001b[0m\u001b[0;34m\u001b[0m\u001b[0;34m\u001b[0m\u001b[0;34m\u001b[0m\u001b[0m\n",
      "\u001b[0;32m</Users/Levis/Library/Python/3.7/lib/python/site-packages/decorator.py:decorator-gen-9>\u001b[0m in \u001b[0;36m__call__\u001b[0;34m(self, obj)\u001b[0m\n",
      "\u001b[0;32m~/Library/Python/3.7/lib/python/site-packages/IPython/core/formatters.py\u001b[0m in \u001b[0;36mcatch_format_error\u001b[0;34m(method, self, *args, **kwargs)\u001b[0m\n\u001b[1;32m    222\u001b[0m     \u001b[0;34m\"\"\"show traceback on failed format call\"\"\"\u001b[0m\u001b[0;34m\u001b[0m\u001b[0;34m\u001b[0m\u001b[0m\n\u001b[1;32m    223\u001b[0m     \u001b[0;32mtry\u001b[0m\u001b[0;34m:\u001b[0m\u001b[0;34m\u001b[0m\u001b[0;34m\u001b[0m\u001b[0m\n\u001b[0;32m--> 224\u001b[0;31m         \u001b[0mr\u001b[0m \u001b[0;34m=\u001b[0m \u001b[0mmethod\u001b[0m\u001b[0;34m(\u001b[0m\u001b[0mself\u001b[0m\u001b[0;34m,\u001b[0m \u001b[0;34m*\u001b[0m\u001b[0margs\u001b[0m\u001b[0;34m,\u001b[0m \u001b[0;34m**\u001b[0m\u001b[0mkwargs\u001b[0m\u001b[0;34m)\u001b[0m\u001b[0;34m\u001b[0m\u001b[0;34m\u001b[0m\u001b[0m\n\u001b[0m\u001b[1;32m    225\u001b[0m     \u001b[0;32mexcept\u001b[0m \u001b[0mNotImplementedError\u001b[0m\u001b[0;34m:\u001b[0m\u001b[0;34m\u001b[0m\u001b[0;34m\u001b[0m\u001b[0m\n\u001b[1;32m    226\u001b[0m         \u001b[0;31m# don't warn on NotImplementedErrors\u001b[0m\u001b[0;34m\u001b[0m\u001b[0;34m\u001b[0m\u001b[0;34m\u001b[0m\u001b[0m\n",
      "\u001b[0;32m~/Library/Python/3.7/lib/python/site-packages/IPython/core/formatters.py\u001b[0m in \u001b[0;36m__call__\u001b[0;34m(self, obj)\u001b[0m\n\u001b[1;32m    339\u001b[0m                 \u001b[0;32mpass\u001b[0m\u001b[0;34m\u001b[0m\u001b[0;34m\u001b[0m\u001b[0m\n\u001b[1;32m    340\u001b[0m             \u001b[0;32melse\u001b[0m\u001b[0;34m:\u001b[0m\u001b[0;34m\u001b[0m\u001b[0;34m\u001b[0m\u001b[0m\n\u001b[0;32m--> 341\u001b[0;31m                 \u001b[0;32mreturn\u001b[0m \u001b[0mprinter\u001b[0m\u001b[0;34m(\u001b[0m\u001b[0mobj\u001b[0m\u001b[0;34m)\u001b[0m\u001b[0;34m\u001b[0m\u001b[0;34m\u001b[0m\u001b[0m\n\u001b[0m\u001b[1;32m    342\u001b[0m             \u001b[0;31m# Finally look for special method names\u001b[0m\u001b[0;34m\u001b[0m\u001b[0;34m\u001b[0m\u001b[0;34m\u001b[0m\u001b[0m\n\u001b[1;32m    343\u001b[0m             \u001b[0mmethod\u001b[0m \u001b[0;34m=\u001b[0m \u001b[0mget_real_method\u001b[0m\u001b[0;34m(\u001b[0m\u001b[0mobj\u001b[0m\u001b[0;34m,\u001b[0m \u001b[0mself\u001b[0m\u001b[0;34m.\u001b[0m\u001b[0mprint_method\u001b[0m\u001b[0;34m)\u001b[0m\u001b[0;34m\u001b[0m\u001b[0;34m\u001b[0m\u001b[0m\n",
      "\u001b[0;32m~/Library/Python/3.7/lib/python/site-packages/IPython/core/pylabtools.py\u001b[0m in \u001b[0;36m<lambda>\u001b[0;34m(fig)\u001b[0m\n\u001b[1;32m    252\u001b[0m         \u001b[0mjpg_formatter\u001b[0m\u001b[0;34m.\u001b[0m\u001b[0mfor_type\u001b[0m\u001b[0;34m(\u001b[0m\u001b[0mFigure\u001b[0m\u001b[0;34m,\u001b[0m \u001b[0;32mlambda\u001b[0m \u001b[0mfig\u001b[0m\u001b[0;34m:\u001b[0m \u001b[0mprint_figure\u001b[0m\u001b[0;34m(\u001b[0m\u001b[0mfig\u001b[0m\u001b[0;34m,\u001b[0m \u001b[0;34m'jpg'\u001b[0m\u001b[0;34m,\u001b[0m \u001b[0;34m**\u001b[0m\u001b[0mkwargs\u001b[0m\u001b[0;34m)\u001b[0m\u001b[0;34m)\u001b[0m\u001b[0;34m\u001b[0m\u001b[0;34m\u001b[0m\u001b[0m\n\u001b[1;32m    253\u001b[0m     \u001b[0;32mif\u001b[0m \u001b[0;34m'svg'\u001b[0m \u001b[0;32min\u001b[0m \u001b[0mformats\u001b[0m\u001b[0;34m:\u001b[0m\u001b[0;34m\u001b[0m\u001b[0;34m\u001b[0m\u001b[0m\n\u001b[0;32m--> 254\u001b[0;31m         \u001b[0msvg_formatter\u001b[0m\u001b[0;34m.\u001b[0m\u001b[0mfor_type\u001b[0m\u001b[0;34m(\u001b[0m\u001b[0mFigure\u001b[0m\u001b[0;34m,\u001b[0m \u001b[0;32mlambda\u001b[0m \u001b[0mfig\u001b[0m\u001b[0;34m:\u001b[0m \u001b[0mprint_figure\u001b[0m\u001b[0;34m(\u001b[0m\u001b[0mfig\u001b[0m\u001b[0;34m,\u001b[0m \u001b[0;34m'svg'\u001b[0m\u001b[0;34m,\u001b[0m \u001b[0;34m**\u001b[0m\u001b[0mkwargs\u001b[0m\u001b[0;34m)\u001b[0m\u001b[0;34m)\u001b[0m\u001b[0;34m\u001b[0m\u001b[0;34m\u001b[0m\u001b[0m\n\u001b[0m\u001b[1;32m    255\u001b[0m     \u001b[0;32mif\u001b[0m \u001b[0;34m'pdf'\u001b[0m \u001b[0;32min\u001b[0m \u001b[0mformats\u001b[0m\u001b[0;34m:\u001b[0m\u001b[0;34m\u001b[0m\u001b[0;34m\u001b[0m\u001b[0m\n\u001b[1;32m    256\u001b[0m         \u001b[0mpdf_formatter\u001b[0m\u001b[0;34m.\u001b[0m\u001b[0mfor_type\u001b[0m\u001b[0;34m(\u001b[0m\u001b[0mFigure\u001b[0m\u001b[0;34m,\u001b[0m \u001b[0;32mlambda\u001b[0m \u001b[0mfig\u001b[0m\u001b[0;34m:\u001b[0m \u001b[0mprint_figure\u001b[0m\u001b[0;34m(\u001b[0m\u001b[0mfig\u001b[0m\u001b[0;34m,\u001b[0m \u001b[0;34m'pdf'\u001b[0m\u001b[0;34m,\u001b[0m \u001b[0;34m**\u001b[0m\u001b[0mkwargs\u001b[0m\u001b[0;34m)\u001b[0m\u001b[0;34m)\u001b[0m\u001b[0;34m\u001b[0m\u001b[0;34m\u001b[0m\u001b[0m\n",
      "\u001b[0;32m~/Library/Python/3.7/lib/python/site-packages/IPython/core/pylabtools.py\u001b[0m in \u001b[0;36mprint_figure\u001b[0;34m(fig, fmt, bbox_inches, **kwargs)\u001b[0m\n\u001b[1;32m    130\u001b[0m         \u001b[0mFigureCanvasBase\u001b[0m\u001b[0;34m(\u001b[0m\u001b[0mfig\u001b[0m\u001b[0;34m)\u001b[0m\u001b[0;34m\u001b[0m\u001b[0;34m\u001b[0m\u001b[0m\n\u001b[1;32m    131\u001b[0m \u001b[0;34m\u001b[0m\u001b[0m\n\u001b[0;32m--> 132\u001b[0;31m     \u001b[0mfig\u001b[0m\u001b[0;34m.\u001b[0m\u001b[0mcanvas\u001b[0m\u001b[0;34m.\u001b[0m\u001b[0mprint_figure\u001b[0m\u001b[0;34m(\u001b[0m\u001b[0mbytes_io\u001b[0m\u001b[0;34m,\u001b[0m \u001b[0;34m**\u001b[0m\u001b[0mkw\u001b[0m\u001b[0;34m)\u001b[0m\u001b[0;34m\u001b[0m\u001b[0;34m\u001b[0m\u001b[0m\n\u001b[0m\u001b[1;32m    133\u001b[0m     \u001b[0mdata\u001b[0m \u001b[0;34m=\u001b[0m \u001b[0mbytes_io\u001b[0m\u001b[0;34m.\u001b[0m\u001b[0mgetvalue\u001b[0m\u001b[0;34m(\u001b[0m\u001b[0;34m)\u001b[0m\u001b[0;34m\u001b[0m\u001b[0;34m\u001b[0m\u001b[0m\n\u001b[1;32m    134\u001b[0m     \u001b[0;32mif\u001b[0m \u001b[0mfmt\u001b[0m \u001b[0;34m==\u001b[0m \u001b[0;34m'svg'\u001b[0m\u001b[0;34m:\u001b[0m\u001b[0;34m\u001b[0m\u001b[0;34m\u001b[0m\u001b[0m\n",
      "\u001b[0;32m/usr/local/lib/python3.7/site-packages/matplotlib/backend_bases.py\u001b[0m in \u001b[0;36mprint_figure\u001b[0;34m(self, filename, dpi, facecolor, edgecolor, orientation, format, bbox_inches, **kwargs)\u001b[0m\n\u001b[1;32m   2058\u001b[0m                     \u001b[0mbbox_artists\u001b[0m \u001b[0;34m=\u001b[0m \u001b[0mkwargs\u001b[0m\u001b[0;34m.\u001b[0m\u001b[0mpop\u001b[0m\u001b[0;34m(\u001b[0m\u001b[0;34m\"bbox_extra_artists\"\u001b[0m\u001b[0;34m,\u001b[0m \u001b[0;32mNone\u001b[0m\u001b[0;34m)\u001b[0m\u001b[0;34m\u001b[0m\u001b[0;34m\u001b[0m\u001b[0m\n\u001b[1;32m   2059\u001b[0m                     bbox_inches = self.figure.get_tightbbox(renderer,\n\u001b[0;32m-> 2060\u001b[0;31m                             bbox_extra_artists=bbox_artists)\n\u001b[0m\u001b[1;32m   2061\u001b[0m                     \u001b[0mpad\u001b[0m \u001b[0;34m=\u001b[0m \u001b[0mkwargs\u001b[0m\u001b[0;34m.\u001b[0m\u001b[0mpop\u001b[0m\u001b[0;34m(\u001b[0m\u001b[0;34m\"pad_inches\"\u001b[0m\u001b[0;34m,\u001b[0m \u001b[0;32mNone\u001b[0m\u001b[0;34m)\u001b[0m\u001b[0;34m\u001b[0m\u001b[0;34m\u001b[0m\u001b[0m\n\u001b[1;32m   2062\u001b[0m                     \u001b[0;32mif\u001b[0m \u001b[0mpad\u001b[0m \u001b[0;32mis\u001b[0m \u001b[0;32mNone\u001b[0m\u001b[0;34m:\u001b[0m\u001b[0;34m\u001b[0m\u001b[0;34m\u001b[0m\u001b[0m\n",
      "\u001b[0;32m/usr/local/lib/python3.7/site-packages/matplotlib/figure.py\u001b[0m in \u001b[0;36mget_tightbbox\u001b[0;34m(self, renderer, bbox_extra_artists)\u001b[0m\n\u001b[1;32m   2375\u001b[0m                 \u001b[0;32mtry\u001b[0m\u001b[0;34m:\u001b[0m\u001b[0;34m\u001b[0m\u001b[0;34m\u001b[0m\u001b[0m\n\u001b[1;32m   2376\u001b[0m                     bbox = ax.get_tightbbox(renderer,\n\u001b[0;32m-> 2377\u001b[0;31m                             bbox_extra_artists=bbox_extra_artists)\n\u001b[0m\u001b[1;32m   2378\u001b[0m                 \u001b[0;32mexcept\u001b[0m \u001b[0mTypeError\u001b[0m\u001b[0;34m:\u001b[0m\u001b[0;34m\u001b[0m\u001b[0;34m\u001b[0m\u001b[0m\n\u001b[1;32m   2379\u001b[0m                     \u001b[0mbbox\u001b[0m \u001b[0;34m=\u001b[0m \u001b[0max\u001b[0m\u001b[0;34m.\u001b[0m\u001b[0mget_tightbbox\u001b[0m\u001b[0;34m(\u001b[0m\u001b[0mrenderer\u001b[0m\u001b[0;34m)\u001b[0m\u001b[0;34m\u001b[0m\u001b[0;34m\u001b[0m\u001b[0m\n",
      "\u001b[0;32m/usr/local/lib/python3.7/site-packages/matplotlib/axes/_base.py\u001b[0m in \u001b[0;36mget_tightbbox\u001b[0;34m(self, renderer, call_axes_locator, bbox_extra_artists)\u001b[0m\n\u001b[1;32m   4361\u001b[0m                 \u001b[0mbb\u001b[0m\u001b[0;34m.\u001b[0m\u001b[0mappend\u001b[0m\u001b[0;34m(\u001b[0m\u001b[0mbb_yaxis\u001b[0m\u001b[0;34m)\u001b[0m\u001b[0;34m\u001b[0m\u001b[0;34m\u001b[0m\u001b[0m\n\u001b[1;32m   4362\u001b[0m \u001b[0;34m\u001b[0m\u001b[0m\n\u001b[0;32m-> 4363\u001b[0;31m         \u001b[0mself\u001b[0m\u001b[0;34m.\u001b[0m\u001b[0m_update_title_position\u001b[0m\u001b[0;34m(\u001b[0m\u001b[0mrenderer\u001b[0m\u001b[0;34m)\u001b[0m\u001b[0;34m\u001b[0m\u001b[0;34m\u001b[0m\u001b[0m\n\u001b[0m\u001b[1;32m   4364\u001b[0m         \u001b[0maxbbox\u001b[0m \u001b[0;34m=\u001b[0m \u001b[0mself\u001b[0m\u001b[0;34m.\u001b[0m\u001b[0mget_window_extent\u001b[0m\u001b[0;34m(\u001b[0m\u001b[0mrenderer\u001b[0m\u001b[0;34m)\u001b[0m\u001b[0;34m\u001b[0m\u001b[0;34m\u001b[0m\u001b[0m\n\u001b[1;32m   4365\u001b[0m         \u001b[0mbb\u001b[0m\u001b[0;34m.\u001b[0m\u001b[0mappend\u001b[0m\u001b[0;34m(\u001b[0m\u001b[0maxbbox\u001b[0m\u001b[0;34m)\u001b[0m\u001b[0;34m\u001b[0m\u001b[0;34m\u001b[0m\u001b[0m\n",
      "\u001b[0;32m/usr/local/lib/python3.7/site-packages/matplotlib/axes/_base.py\u001b[0m in \u001b[0;36m_update_title_position\u001b[0;34m(self, renderer)\u001b[0m\n\u001b[1;32m   2547\u001b[0m                     if (ax.xaxis.get_label_position() == 'top' or\n\u001b[1;32m   2548\u001b[0m                             ax.xaxis.get_ticks_position() in choices):\n\u001b[0;32m-> 2549\u001b[0;31m                         \u001b[0mbb\u001b[0m \u001b[0;34m=\u001b[0m \u001b[0max\u001b[0m\u001b[0;34m.\u001b[0m\u001b[0mxaxis\u001b[0m\u001b[0;34m.\u001b[0m\u001b[0mget_tightbbox\u001b[0m\u001b[0;34m(\u001b[0m\u001b[0mrenderer\u001b[0m\u001b[0;34m)\u001b[0m\u001b[0;34m\u001b[0m\u001b[0;34m\u001b[0m\u001b[0m\n\u001b[0m\u001b[1;32m   2550\u001b[0m                     \u001b[0;32melse\u001b[0m\u001b[0;34m:\u001b[0m\u001b[0;34m\u001b[0m\u001b[0;34m\u001b[0m\u001b[0m\n\u001b[1;32m   2551\u001b[0m                         \u001b[0mbb\u001b[0m \u001b[0;34m=\u001b[0m \u001b[0max\u001b[0m\u001b[0;34m.\u001b[0m\u001b[0mget_window_extent\u001b[0m\u001b[0;34m(\u001b[0m\u001b[0mrenderer\u001b[0m\u001b[0;34m)\u001b[0m\u001b[0;34m\u001b[0m\u001b[0;34m\u001b[0m\u001b[0m\n",
      "\u001b[0;32m/usr/local/lib/python3.7/site-packages/matplotlib/axis.py\u001b[0m in \u001b[0;36mget_tightbbox\u001b[0;34m(self, renderer)\u001b[0m\n\u001b[1;32m   1166\u001b[0m         \u001b[0;31m# go back to just this axis's tick labels\u001b[0m\u001b[0;34m\u001b[0m\u001b[0;34m\u001b[0m\u001b[0;34m\u001b[0m\u001b[0m\n\u001b[1;32m   1167\u001b[0m         ticklabelBoxes, ticklabelBoxes2 = self._get_tick_bboxes(\n\u001b[0;32m-> 1168\u001b[0;31m                     ticks_to_draw, renderer)\n\u001b[0m\u001b[1;32m   1169\u001b[0m \u001b[0;34m\u001b[0m\u001b[0m\n\u001b[1;32m   1170\u001b[0m         \u001b[0mself\u001b[0m\u001b[0;34m.\u001b[0m\u001b[0m_update_offset_text_position\u001b[0m\u001b[0;34m(\u001b[0m\u001b[0mticklabelBoxes\u001b[0m\u001b[0;34m,\u001b[0m \u001b[0mticklabelBoxes2\u001b[0m\u001b[0;34m)\u001b[0m\u001b[0;34m\u001b[0m\u001b[0;34m\u001b[0m\u001b[0m\n",
      "\u001b[0;32m/usr/local/lib/python3.7/site-packages/matplotlib/axis.py\u001b[0m in \u001b[0;36m_get_tick_bboxes\u001b[0;34m(self, ticks, renderer)\u001b[0m\n\u001b[1;32m   1148\u001b[0m         \u001b[0;34m\"\"\"Return lists of bboxes for ticks' label1's and label2's.\"\"\"\u001b[0m\u001b[0;34m\u001b[0m\u001b[0;34m\u001b[0m\u001b[0m\n\u001b[1;32m   1149\u001b[0m         return ([tick.label1.get_window_extent(renderer)\n\u001b[0;32m-> 1150\u001b[0;31m                  for tick in ticks if tick.label1.get_visible()],\n\u001b[0m\u001b[1;32m   1151\u001b[0m                 [tick.label2.get_window_extent(renderer)\n\u001b[1;32m   1152\u001b[0m                  for tick in ticks if tick.label2.get_visible()])\n",
      "\u001b[0;32m/usr/local/lib/python3.7/site-packages/matplotlib/axis.py\u001b[0m in \u001b[0;36m<listcomp>\u001b[0;34m(.0)\u001b[0m\n\u001b[1;32m   1148\u001b[0m         \u001b[0;34m\"\"\"Return lists of bboxes for ticks' label1's and label2's.\"\"\"\u001b[0m\u001b[0;34m\u001b[0m\u001b[0;34m\u001b[0m\u001b[0m\n\u001b[1;32m   1149\u001b[0m         return ([tick.label1.get_window_extent(renderer)\n\u001b[0;32m-> 1150\u001b[0;31m                  for tick in ticks if tick.label1.get_visible()],\n\u001b[0m\u001b[1;32m   1151\u001b[0m                 [tick.label2.get_window_extent(renderer)\n\u001b[1;32m   1152\u001b[0m                  for tick in ticks if tick.label2.get_visible()])\n",
      "\u001b[0;32m/usr/local/lib/python3.7/site-packages/matplotlib/text.py\u001b[0m in \u001b[0;36mget_window_extent\u001b[0;34m(self, renderer, dpi)\u001b[0m\n\u001b[1;32m    888\u001b[0m             \u001b[0;32mraise\u001b[0m \u001b[0mRuntimeError\u001b[0m\u001b[0;34m(\u001b[0m\u001b[0;34m'Cannot get window extent w/o renderer'\u001b[0m\u001b[0;34m)\u001b[0m\u001b[0;34m\u001b[0m\u001b[0;34m\u001b[0m\u001b[0m\n\u001b[1;32m    889\u001b[0m \u001b[0;34m\u001b[0m\u001b[0m\n\u001b[0;32m--> 890\u001b[0;31m         \u001b[0mbbox\u001b[0m\u001b[0;34m,\u001b[0m \u001b[0minfo\u001b[0m\u001b[0;34m,\u001b[0m \u001b[0mdescent\u001b[0m \u001b[0;34m=\u001b[0m \u001b[0mself\u001b[0m\u001b[0;34m.\u001b[0m\u001b[0m_get_layout\u001b[0m\u001b[0;34m(\u001b[0m\u001b[0mself\u001b[0m\u001b[0;34m.\u001b[0m\u001b[0m_renderer\u001b[0m\u001b[0;34m)\u001b[0m\u001b[0;34m\u001b[0m\u001b[0;34m\u001b[0m\u001b[0m\n\u001b[0m\u001b[1;32m    891\u001b[0m         \u001b[0mx\u001b[0m\u001b[0;34m,\u001b[0m \u001b[0my\u001b[0m \u001b[0;34m=\u001b[0m \u001b[0mself\u001b[0m\u001b[0;34m.\u001b[0m\u001b[0mget_unitless_position\u001b[0m\u001b[0;34m(\u001b[0m\u001b[0;34m)\u001b[0m\u001b[0;34m\u001b[0m\u001b[0;34m\u001b[0m\u001b[0m\n\u001b[1;32m    892\u001b[0m         \u001b[0mx\u001b[0m\u001b[0;34m,\u001b[0m \u001b[0my\u001b[0m \u001b[0;34m=\u001b[0m \u001b[0mself\u001b[0m\u001b[0;34m.\u001b[0m\u001b[0mget_transform\u001b[0m\u001b[0;34m(\u001b[0m\u001b[0;34m)\u001b[0m\u001b[0;34m.\u001b[0m\u001b[0mtransform_point\u001b[0m\u001b[0;34m(\u001b[0m\u001b[0;34m(\u001b[0m\u001b[0mx\u001b[0m\u001b[0;34m,\u001b[0m \u001b[0my\u001b[0m\u001b[0;34m)\u001b[0m\u001b[0;34m)\u001b[0m\u001b[0;34m\u001b[0m\u001b[0;34m\u001b[0m\u001b[0m\n",
      "\u001b[0;32m/usr/local/lib/python3.7/site-packages/matplotlib/text.py\u001b[0m in \u001b[0;36m_get_layout\u001b[0;34m(self, renderer)\u001b[0m\n\u001b[1;32m    274\u001b[0m         \u001b[0mof\u001b[0m \u001b[0ma\u001b[0m \u001b[0mrotated\u001b[0m \u001b[0mtext\u001b[0m \u001b[0mwhen\u001b[0m \u001b[0mnecessary\u001b[0m\u001b[0;34m.\u001b[0m\u001b[0;34m\u001b[0m\u001b[0;34m\u001b[0m\u001b[0m\n\u001b[1;32m    275\u001b[0m         \"\"\"\n\u001b[0;32m--> 276\u001b[0;31m         \u001b[0mkey\u001b[0m \u001b[0;34m=\u001b[0m \u001b[0mself\u001b[0m\u001b[0;34m.\u001b[0m\u001b[0mget_prop_tup\u001b[0m\u001b[0;34m(\u001b[0m\u001b[0mrenderer\u001b[0m\u001b[0;34m=\u001b[0m\u001b[0mrenderer\u001b[0m\u001b[0;34m)\u001b[0m\u001b[0;34m\u001b[0m\u001b[0;34m\u001b[0m\u001b[0m\n\u001b[0m\u001b[1;32m    277\u001b[0m         \u001b[0;32mif\u001b[0m \u001b[0mkey\u001b[0m \u001b[0;32min\u001b[0m \u001b[0mself\u001b[0m\u001b[0;34m.\u001b[0m\u001b[0m_cached\u001b[0m\u001b[0;34m:\u001b[0m\u001b[0;34m\u001b[0m\u001b[0;34m\u001b[0m\u001b[0m\n\u001b[1;32m    278\u001b[0m             \u001b[0;32mreturn\u001b[0m \u001b[0mself\u001b[0m\u001b[0;34m.\u001b[0m\u001b[0m_cached\u001b[0m\u001b[0;34m[\u001b[0m\u001b[0mkey\u001b[0m\u001b[0;34m]\u001b[0m\u001b[0;34m\u001b[0m\u001b[0;34m\u001b[0m\u001b[0m\n",
      "\u001b[0;32m/usr/local/lib/python3.7/site-packages/matplotlib/text.py\u001b[0m in \u001b[0;36mget_prop_tup\u001b[0;34m(self, renderer)\u001b[0m\n\u001b[1;32m    833\u001b[0m         return (x, y, self.get_text(), self._color,\n\u001b[1;32m    834\u001b[0m                 \u001b[0mself\u001b[0m\u001b[0;34m.\u001b[0m\u001b[0m_verticalalignment\u001b[0m\u001b[0;34m,\u001b[0m \u001b[0mself\u001b[0m\u001b[0;34m.\u001b[0m\u001b[0m_horizontalalignment\u001b[0m\u001b[0;34m,\u001b[0m\u001b[0;34m\u001b[0m\u001b[0;34m\u001b[0m\u001b[0m\n\u001b[0;32m--> 835\u001b[0;31m                 \u001b[0mhash\u001b[0m\u001b[0;34m(\u001b[0m\u001b[0mself\u001b[0m\u001b[0;34m.\u001b[0m\u001b[0m_fontproperties\u001b[0m\u001b[0;34m)\u001b[0m\u001b[0;34m,\u001b[0m\u001b[0;34m\u001b[0m\u001b[0;34m\u001b[0m\u001b[0m\n\u001b[0m\u001b[1;32m    836\u001b[0m                 \u001b[0mself\u001b[0m\u001b[0;34m.\u001b[0m\u001b[0m_rotation\u001b[0m\u001b[0;34m,\u001b[0m \u001b[0mself\u001b[0m\u001b[0;34m.\u001b[0m\u001b[0m_rotation_mode\u001b[0m\u001b[0;34m,\u001b[0m\u001b[0;34m\u001b[0m\u001b[0;34m\u001b[0m\u001b[0m\n\u001b[1;32m    837\u001b[0m                 \u001b[0mself\u001b[0m\u001b[0;34m.\u001b[0m\u001b[0mfigure\u001b[0m\u001b[0;34m.\u001b[0m\u001b[0mdpi\u001b[0m\u001b[0;34m,\u001b[0m \u001b[0mweakref\u001b[0m\u001b[0;34m.\u001b[0m\u001b[0mref\u001b[0m\u001b[0;34m(\u001b[0m\u001b[0mrenderer\u001b[0m\u001b[0;34m)\u001b[0m\u001b[0;34m,\u001b[0m\u001b[0;34m\u001b[0m\u001b[0;34m\u001b[0m\u001b[0m\n",
      "\u001b[0;32m/usr/local/lib/python3.7/site-packages/matplotlib/font_manager.py\u001b[0m in \u001b[0;36m__hash__\u001b[0;34m(self)\u001b[0m\n\u001b[1;32m    658\u001b[0m         \u001b[0;32mreturn\u001b[0m \u001b[0mparse_fontconfig_pattern\u001b[0m\u001b[0;34m(\u001b[0m\u001b[0mpattern\u001b[0m\u001b[0;34m)\u001b[0m\u001b[0;34m\u001b[0m\u001b[0;34m\u001b[0m\u001b[0m\n\u001b[1;32m    659\u001b[0m \u001b[0;34m\u001b[0m\u001b[0m\n\u001b[0;32m--> 660\u001b[0;31m     \u001b[0;32mdef\u001b[0m \u001b[0m__hash__\u001b[0m\u001b[0;34m(\u001b[0m\u001b[0mself\u001b[0m\u001b[0;34m)\u001b[0m\u001b[0;34m:\u001b[0m\u001b[0;34m\u001b[0m\u001b[0;34m\u001b[0m\u001b[0m\n\u001b[0m\u001b[1;32m    661\u001b[0m         l = (tuple(self.get_family()),\n\u001b[1;32m    662\u001b[0m              \u001b[0mself\u001b[0m\u001b[0;34m.\u001b[0m\u001b[0mget_slant\u001b[0m\u001b[0;34m(\u001b[0m\u001b[0;34m)\u001b[0m\u001b[0;34m,\u001b[0m\u001b[0;34m\u001b[0m\u001b[0;34m\u001b[0m\u001b[0m\n",
      "\u001b[0;31mKeyboardInterrupt\u001b[0m: "
     ]
    }
   ],
   "source": [
    "plt.figure(figsize=(30,6))\n",
    "plt.plot(test[\"TIME_CET\"], test[\"VAERDI\"])"
   ]
  },
  {
   "cell_type": "code",
   "execution_count": 134,
   "metadata": {},
   "outputs": [
    {
     "output_type": "execute_result",
     "data": {
      "text/plain": "VAERDI      486\nTIME_CET    486\ndtype: int64"
     },
     "metadata": {},
     "execution_count": 134
    }
   ],
   "source": [
    "test[test[\"VAERDI\"] == 0].count()"
   ]
  },
  {
   "cell_type": "code",
   "execution_count": 135,
   "metadata": {},
   "outputs": [
    {
     "output_type": "execute_result",
     "data": {
      "text/plain": "VAERDI      235\nTIME_CET    235\ndtype: int64"
     },
     "metadata": {},
     "execution_count": 135
    }
   ],
   "source": [
    "test[test[\"VAERDI\"] != 0].count()"
   ]
  },
  {
   "cell_type": "code",
   "execution_count": 139,
   "metadata": {},
   "outputs": [
    {
     "output_type": "execute_result",
     "data": {
      "text/plain": "VAERDI      67.40638\nTIME_CET    67.40638\ndtype: float64"
     },
     "metadata": {},
     "execution_count": 139
    }
   ],
   "source": [
    "test[test[\"VAERDI\"] == 0].count() / test.count() * 100"
   ]
  },
  {
   "cell_type": "code",
   "execution_count": null,
   "metadata": {},
   "outputs": [],
   "source": []
  }
 ]
}
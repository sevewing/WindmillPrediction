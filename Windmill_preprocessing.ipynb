{
 "cells": [
  {
   "cell_type": "code",
   "execution_count": 1,
   "metadata": {},
   "outputs": [],
   "source": [
    "import pandas as pd\n",
    "import pyarrow.parquet as pq\n",
    "from numpy import nan\n",
    "import numpy as np"
   ]
  },
  {
   "cell_type": "markdown",
   "metadata": {},
   "source": [
    "# Windmill Preprocessing\n",
    "## Clean and extract windmill data"
   ]
  },
  {
   "cell_type": "code",
   "execution_count": 2,
   "metadata": {},
   "outputs": [],
   "source": [
    "# static cols\n",
    "cols = ['GSRN','Turbine_type','Parent_GSRN','BBR_municipal','Placement','UTM_x','UTM_y','Capacity_kw','Rotor_diameter','Navhub_height','Out_service']"
   ]
  },
  {
   "cell_type": "code",
   "execution_count": 3,
   "metadata": {},
   "outputs": [],
   "source": [
    "windmills = pq.read_table('data/ITU_DATA/masterdatawind.parquet', columns=cols).to_pandas()"
   ]
  },
  {
   "cell_type": "code",
   "execution_count": 4,
   "metadata": {},
   "outputs": [
    {
     "output_type": "execute_result",
     "data": {
      "text/plain": "                     GSRN Turbine_type         Parent_GSRN BBR_municipal  \\\n0      000000000000000000            H                None           760   \n1      570714700000000027            M  570714700000050459           101   \n2      570714700000000027            M  570714700000050459           101   \n3      570714700000000034            M  570714700000050459           101   \n4      570714700000000034            M  570714700000050459           101   \n...                   ...          ...                 ...           ...   \n85145  571313186000124581            H                None           751   \n85146  571313186000124581            H                None           751   \n85147  571313186000124581            H                None           751   \n85148  571313186000124581            H                None           751   \n85149  571313186000124581            H                None           751   \n\n      Placement       UTM_x        UTM_y  Capacity_kw  Rotor_diameter  \\\n0          None         NaN          NaN         11.0            13.0   \n1          LAND  720898.353  6171174.877        225.0            27.0   \n2          LAND  720898.353  6171174.877        225.0            27.0   \n3          LAND  720993.352  6171226.877        225.0            27.0   \n4          LAND  720993.352  6171226.877        225.0            27.0   \n...         ...         ...          ...          ...             ...   \n85145      None         NaN          NaN         20.0             8.0   \n85146      None         NaN          NaN         20.0             8.0   \n85147      None         NaN          NaN         20.0             8.0   \n85148      None         NaN          NaN         20.0             8.0   \n85149      None         NaN          NaN         20.0             8.0   \n\n       Navhub_height Out_service  \n0               18.2  2014-10-01  \n1               30.0         NaT  \n2               30.0         NaT  \n3               30.0         NaT  \n4               30.0         NaT  \n...              ...         ...  \n85145           13.0         NaT  \n85146           13.0         NaT  \n85147           13.0         NaT  \n85148           13.0         NaT  \n85149           13.0         NaT  \n\n[85150 rows x 11 columns]",
      "text/html": "<div>\n<style scoped>\n    .dataframe tbody tr th:only-of-type {\n        vertical-align: middle;\n    }\n\n    .dataframe tbody tr th {\n        vertical-align: top;\n    }\n\n    .dataframe thead th {\n        text-align: right;\n    }\n</style>\n<table border=\"1\" class=\"dataframe\">\n  <thead>\n    <tr style=\"text-align: right;\">\n      <th></th>\n      <th>GSRN</th>\n      <th>Turbine_type</th>\n      <th>Parent_GSRN</th>\n      <th>BBR_municipal</th>\n      <th>Placement</th>\n      <th>UTM_x</th>\n      <th>UTM_y</th>\n      <th>Capacity_kw</th>\n      <th>Rotor_diameter</th>\n      <th>Navhub_height</th>\n      <th>Out_service</th>\n    </tr>\n  </thead>\n  <tbody>\n    <tr>\n      <th>0</th>\n      <td>000000000000000000</td>\n      <td>H</td>\n      <td>None</td>\n      <td>760</td>\n      <td>None</td>\n      <td>NaN</td>\n      <td>NaN</td>\n      <td>11.0</td>\n      <td>13.0</td>\n      <td>18.2</td>\n      <td>2014-10-01</td>\n    </tr>\n    <tr>\n      <th>1</th>\n      <td>570714700000000027</td>\n      <td>M</td>\n      <td>570714700000050459</td>\n      <td>101</td>\n      <td>LAND</td>\n      <td>720898.353</td>\n      <td>6171174.877</td>\n      <td>225.0</td>\n      <td>27.0</td>\n      <td>30.0</td>\n      <td>NaT</td>\n    </tr>\n    <tr>\n      <th>2</th>\n      <td>570714700000000027</td>\n      <td>M</td>\n      <td>570714700000050459</td>\n      <td>101</td>\n      <td>LAND</td>\n      <td>720898.353</td>\n      <td>6171174.877</td>\n      <td>225.0</td>\n      <td>27.0</td>\n      <td>30.0</td>\n      <td>NaT</td>\n    </tr>\n    <tr>\n      <th>3</th>\n      <td>570714700000000034</td>\n      <td>M</td>\n      <td>570714700000050459</td>\n      <td>101</td>\n      <td>LAND</td>\n      <td>720993.352</td>\n      <td>6171226.877</td>\n      <td>225.0</td>\n      <td>27.0</td>\n      <td>30.0</td>\n      <td>NaT</td>\n    </tr>\n    <tr>\n      <th>4</th>\n      <td>570714700000000034</td>\n      <td>M</td>\n      <td>570714700000050459</td>\n      <td>101</td>\n      <td>LAND</td>\n      <td>720993.352</td>\n      <td>6171226.877</td>\n      <td>225.0</td>\n      <td>27.0</td>\n      <td>30.0</td>\n      <td>NaT</td>\n    </tr>\n    <tr>\n      <th>...</th>\n      <td>...</td>\n      <td>...</td>\n      <td>...</td>\n      <td>...</td>\n      <td>...</td>\n      <td>...</td>\n      <td>...</td>\n      <td>...</td>\n      <td>...</td>\n      <td>...</td>\n      <td>...</td>\n    </tr>\n    <tr>\n      <th>85145</th>\n      <td>571313186000124581</td>\n      <td>H</td>\n      <td>None</td>\n      <td>751</td>\n      <td>None</td>\n      <td>NaN</td>\n      <td>NaN</td>\n      <td>20.0</td>\n      <td>8.0</td>\n      <td>13.0</td>\n      <td>NaT</td>\n    </tr>\n    <tr>\n      <th>85146</th>\n      <td>571313186000124581</td>\n      <td>H</td>\n      <td>None</td>\n      <td>751</td>\n      <td>None</td>\n      <td>NaN</td>\n      <td>NaN</td>\n      <td>20.0</td>\n      <td>8.0</td>\n      <td>13.0</td>\n      <td>NaT</td>\n    </tr>\n    <tr>\n      <th>85147</th>\n      <td>571313186000124581</td>\n      <td>H</td>\n      <td>None</td>\n      <td>751</td>\n      <td>None</td>\n      <td>NaN</td>\n      <td>NaN</td>\n      <td>20.0</td>\n      <td>8.0</td>\n      <td>13.0</td>\n      <td>NaT</td>\n    </tr>\n    <tr>\n      <th>85148</th>\n      <td>571313186000124581</td>\n      <td>H</td>\n      <td>None</td>\n      <td>751</td>\n      <td>None</td>\n      <td>NaN</td>\n      <td>NaN</td>\n      <td>20.0</td>\n      <td>8.0</td>\n      <td>13.0</td>\n      <td>NaT</td>\n    </tr>\n    <tr>\n      <th>85149</th>\n      <td>571313186000124581</td>\n      <td>H</td>\n      <td>None</td>\n      <td>751</td>\n      <td>None</td>\n      <td>NaN</td>\n      <td>NaN</td>\n      <td>20.0</td>\n      <td>8.0</td>\n      <td>13.0</td>\n      <td>NaT</td>\n    </tr>\n  </tbody>\n</table>\n<p>85150 rows × 11 columns</p>\n</div>"
     },
     "metadata": {},
     "execution_count": 4
    }
   ],
   "source": [
    "windmills"
   ]
  },
  {
   "cell_type": "markdown",
   "metadata": {},
   "source": [
    "### Filter In_service from 2017 till now"
   ]
  },
  {
   "cell_type": "code",
   "execution_count": 5,
   "metadata": {},
   "outputs": [],
   "source": [
    "windmills = windmills[windmills['Out_service'] > '2017-01-01'].append(windmills[windmills['Out_service'].isna()])"
   ]
  },
  {
   "cell_type": "code",
   "execution_count": 6,
   "metadata": {},
   "outputs": [
    {
     "output_type": "execute_result",
     "data": {
      "text/plain": "                     GSRN Turbine_type         Parent_GSRN BBR_municipal  \\\n413    570714700000001659            M  570714700000050015           360   \n416    570714700000001666            M  570714700000050015           360   \n418    570714700000001673            M  570714700000050015           360   \n421    570714700000001680            M  570714700000050015           360   \n425    570714700000001697            M  570714700000050015           360   \n...                   ...          ...                 ...           ...   \n85145  571313186000124581            H                None           751   \n85146  571313186000124581            H                None           751   \n85147  571313186000124581            H                None           751   \n85148  571313186000124581            H                None           751   \n85149  571313186000124581            H                None           751   \n\n      Placement      UTM_x       UTM_y  Capacity_kw  Rotor_diameter  \\\n413         HAV  635831.57  6093877.23        450.0            35.0   \n416         HAV  636028.76  6093650.72        450.0            35.0   \n418         HAV  636226.42  6093426.62        450.0            35.0   \n421         HAV  636423.93  6093200.36        450.0            35.0   \n425         HAV  636620.72  6092973.61        450.0            35.0   \n...         ...        ...         ...          ...             ...   \n85145      None        NaN         NaN         20.0             8.0   \n85146      None        NaN         NaN         20.0             8.0   \n85147      None        NaN         NaN         20.0             8.0   \n85148      None        NaN         NaN         20.0             8.0   \n85149      None        NaN         NaN         20.0             8.0   \n\n       Navhub_height Out_service  \n413             37.5  2017-02-20  \n416             37.5  2017-02-20  \n418             37.5  2017-02-20  \n421             37.5  2017-02-20  \n425             37.5  2017-02-20  \n...              ...         ...  \n85145           13.0         NaT  \n85146           13.0         NaT  \n85147           13.0         NaT  \n85148           13.0         NaT  \n85149           13.0         NaT  \n\n[80562 rows x 11 columns]",
      "text/html": "<div>\n<style scoped>\n    .dataframe tbody tr th:only-of-type {\n        vertical-align: middle;\n    }\n\n    .dataframe tbody tr th {\n        vertical-align: top;\n    }\n\n    .dataframe thead th {\n        text-align: right;\n    }\n</style>\n<table border=\"1\" class=\"dataframe\">\n  <thead>\n    <tr style=\"text-align: right;\">\n      <th></th>\n      <th>GSRN</th>\n      <th>Turbine_type</th>\n      <th>Parent_GSRN</th>\n      <th>BBR_municipal</th>\n      <th>Placement</th>\n      <th>UTM_x</th>\n      <th>UTM_y</th>\n      <th>Capacity_kw</th>\n      <th>Rotor_diameter</th>\n      <th>Navhub_height</th>\n      <th>Out_service</th>\n    </tr>\n  </thead>\n  <tbody>\n    <tr>\n      <th>413</th>\n      <td>570714700000001659</td>\n      <td>M</td>\n      <td>570714700000050015</td>\n      <td>360</td>\n      <td>HAV</td>\n      <td>635831.57</td>\n      <td>6093877.23</td>\n      <td>450.0</td>\n      <td>35.0</td>\n      <td>37.5</td>\n      <td>2017-02-20</td>\n    </tr>\n    <tr>\n      <th>416</th>\n      <td>570714700000001666</td>\n      <td>M</td>\n      <td>570714700000050015</td>\n      <td>360</td>\n      <td>HAV</td>\n      <td>636028.76</td>\n      <td>6093650.72</td>\n      <td>450.0</td>\n      <td>35.0</td>\n      <td>37.5</td>\n      <td>2017-02-20</td>\n    </tr>\n    <tr>\n      <th>418</th>\n      <td>570714700000001673</td>\n      <td>M</td>\n      <td>570714700000050015</td>\n      <td>360</td>\n      <td>HAV</td>\n      <td>636226.42</td>\n      <td>6093426.62</td>\n      <td>450.0</td>\n      <td>35.0</td>\n      <td>37.5</td>\n      <td>2017-02-20</td>\n    </tr>\n    <tr>\n      <th>421</th>\n      <td>570714700000001680</td>\n      <td>M</td>\n      <td>570714700000050015</td>\n      <td>360</td>\n      <td>HAV</td>\n      <td>636423.93</td>\n      <td>6093200.36</td>\n      <td>450.0</td>\n      <td>35.0</td>\n      <td>37.5</td>\n      <td>2017-02-20</td>\n    </tr>\n    <tr>\n      <th>425</th>\n      <td>570714700000001697</td>\n      <td>M</td>\n      <td>570714700000050015</td>\n      <td>360</td>\n      <td>HAV</td>\n      <td>636620.72</td>\n      <td>6092973.61</td>\n      <td>450.0</td>\n      <td>35.0</td>\n      <td>37.5</td>\n      <td>2017-02-20</td>\n    </tr>\n    <tr>\n      <th>...</th>\n      <td>...</td>\n      <td>...</td>\n      <td>...</td>\n      <td>...</td>\n      <td>...</td>\n      <td>...</td>\n      <td>...</td>\n      <td>...</td>\n      <td>...</td>\n      <td>...</td>\n      <td>...</td>\n    </tr>\n    <tr>\n      <th>85145</th>\n      <td>571313186000124581</td>\n      <td>H</td>\n      <td>None</td>\n      <td>751</td>\n      <td>None</td>\n      <td>NaN</td>\n      <td>NaN</td>\n      <td>20.0</td>\n      <td>8.0</td>\n      <td>13.0</td>\n      <td>NaT</td>\n    </tr>\n    <tr>\n      <th>85146</th>\n      <td>571313186000124581</td>\n      <td>H</td>\n      <td>None</td>\n      <td>751</td>\n      <td>None</td>\n      <td>NaN</td>\n      <td>NaN</td>\n      <td>20.0</td>\n      <td>8.0</td>\n      <td>13.0</td>\n      <td>NaT</td>\n    </tr>\n    <tr>\n      <th>85147</th>\n      <td>571313186000124581</td>\n      <td>H</td>\n      <td>None</td>\n      <td>751</td>\n      <td>None</td>\n      <td>NaN</td>\n      <td>NaN</td>\n      <td>20.0</td>\n      <td>8.0</td>\n      <td>13.0</td>\n      <td>NaT</td>\n    </tr>\n    <tr>\n      <th>85148</th>\n      <td>571313186000124581</td>\n      <td>H</td>\n      <td>None</td>\n      <td>751</td>\n      <td>None</td>\n      <td>NaN</td>\n      <td>NaN</td>\n      <td>20.0</td>\n      <td>8.0</td>\n      <td>13.0</td>\n      <td>NaT</td>\n    </tr>\n    <tr>\n      <th>85149</th>\n      <td>571313186000124581</td>\n      <td>H</td>\n      <td>None</td>\n      <td>751</td>\n      <td>None</td>\n      <td>NaN</td>\n      <td>NaN</td>\n      <td>20.0</td>\n      <td>8.0</td>\n      <td>13.0</td>\n      <td>NaT</td>\n    </tr>\n  </tbody>\n</table>\n<p>80562 rows × 11 columns</p>\n</div>"
     },
     "metadata": {},
     "execution_count": 6
    }
   ],
   "source": [
    "windmills"
   ]
  },
  {
   "cell_type": "markdown",
   "metadata": {},
   "source": [
    "### Remove duplicated data\n",
    "Windmills have duplicated data by different reviewers.    "
   ]
  },
  {
   "cell_type": "code",
   "execution_count": 7,
   "metadata": {},
   "outputs": [
    {
     "output_type": "execute_result",
     "data": {
      "text/plain": "(9208, 11)"
     },
     "metadata": {},
     "execution_count": 7
    }
   ],
   "source": [
    "windmills.drop_duplicates(subset = \"GSRN\", keep = 'first', ignore_index = True, inplace = True)\n",
    "windmills.shape"
   ]
  },
  {
   "cell_type": "markdown",
   "metadata": {},
   "source": [
    "9208 Contains:    \n",
    "- H: Household turbine : No UTM_xy locations \n",
    "- W: Single turbine : full data\n",
    "- P: Turbine park : No UTM_xy locations\n",
    "- M: Turbine in a park : No power record in settlement data\n"
   ]
  },
  {
   "cell_type": "code",
   "execution_count": 8,
   "metadata": {},
   "outputs": [
    {
     "output_type": "stream",
     "name": "stdout",
     "text": "Household:  (2283, 11)\nSingle:  (3942, 11)\nPark:  (441, 11)\nIn a Park:  (2542, 11)\n"
    }
   ],
   "source": [
    "print('Household: ',windmills[windmills['Turbine_type'] == 'H'].shape)\n",
    "print('Single: ',windmills[windmills['Turbine_type'] == 'W'].shape)\n",
    "print('Park: ',windmills[windmills['Turbine_type'] == 'P'].shape)\n",
    "print('In a Park: ',windmills[windmills['Turbine_type'] == 'M'].shape)"
   ]
  },
  {
   "cell_type": "markdown",
   "metadata": {},
   "source": [
    "### Fill Turbine park xy by calculate their CENTRIODs."
   ]
  },
  {
   "cell_type": "code",
   "execution_count": 9,
   "metadata": {},
   "outputs": [
    {
     "output_type": "execute_result",
     "data": {
      "text/plain": "                   GSRN            x_c           y_c\n0    570714700000005640  642373.900000  6.139972e+06\n1    570714700000012037  664423.733000  6.072868e+06\n2    570714700000012051  664630.731000  6.072840e+06\n3    570714700000050008  684100.400000  6.097951e+06\n4    570714700000050015  636349.972727  6.093533e+06\n..                  ...            ...           ...\n501  570715000000089299  664492.611111  6.048460e+06\n502  570715000000258107  636075.348135  6.275118e+06\n503  570715000001613493  415507.469388  6.172906e+06\n504  570715000001761682  464444.000000  6.283758e+06\n505  571313134700404281  453783.500000  6.281010e+06\n\n[506 rows x 3 columns]",
      "text/html": "<div>\n<style scoped>\n    .dataframe tbody tr th:only-of-type {\n        vertical-align: middle;\n    }\n\n    .dataframe tbody tr th {\n        vertical-align: top;\n    }\n\n    .dataframe thead th {\n        text-align: right;\n    }\n</style>\n<table border=\"1\" class=\"dataframe\">\n  <thead>\n    <tr style=\"text-align: right;\">\n      <th></th>\n      <th>GSRN</th>\n      <th>x_c</th>\n      <th>y_c</th>\n    </tr>\n  </thead>\n  <tbody>\n    <tr>\n      <th>0</th>\n      <td>570714700000005640</td>\n      <td>642373.900000</td>\n      <td>6.139972e+06</td>\n    </tr>\n    <tr>\n      <th>1</th>\n      <td>570714700000012037</td>\n      <td>664423.733000</td>\n      <td>6.072868e+06</td>\n    </tr>\n    <tr>\n      <th>2</th>\n      <td>570714700000012051</td>\n      <td>664630.731000</td>\n      <td>6.072840e+06</td>\n    </tr>\n    <tr>\n      <th>3</th>\n      <td>570714700000050008</td>\n      <td>684100.400000</td>\n      <td>6.097951e+06</td>\n    </tr>\n    <tr>\n      <th>4</th>\n      <td>570714700000050015</td>\n      <td>636349.972727</td>\n      <td>6.093533e+06</td>\n    </tr>\n    <tr>\n      <th>...</th>\n      <td>...</td>\n      <td>...</td>\n      <td>...</td>\n    </tr>\n    <tr>\n      <th>501</th>\n      <td>570715000000089299</td>\n      <td>664492.611111</td>\n      <td>6.048460e+06</td>\n    </tr>\n    <tr>\n      <th>502</th>\n      <td>570715000000258107</td>\n      <td>636075.348135</td>\n      <td>6.275118e+06</td>\n    </tr>\n    <tr>\n      <th>503</th>\n      <td>570715000001613493</td>\n      <td>415507.469388</td>\n      <td>6.172906e+06</td>\n    </tr>\n    <tr>\n      <th>504</th>\n      <td>570715000001761682</td>\n      <td>464444.000000</td>\n      <td>6.283758e+06</td>\n    </tr>\n    <tr>\n      <th>505</th>\n      <td>571313134700404281</td>\n      <td>453783.500000</td>\n      <td>6.281010e+06</td>\n    </tr>\n  </tbody>\n</table>\n<p>506 rows × 3 columns</p>\n</div>"
     },
     "metadata": {},
     "execution_count": 9
    }
   ],
   "source": [
    "aggs = {'UTM_x':lambda x : x.mean(),\n",
    "        'UTM_y':lambda x : x.mean()}\n",
    "w_temp = windmills[windmills['Turbine_type'] == 'M'].groupby(['Parent_GSRN'], as_index = False).agg(aggs).rename(columns={'Parent_GSRN':'GSRN','UTM_x':'x_c','UTM_y':'y_c'})\n",
    "w_temp"
   ]
  },
  {
   "cell_type": "markdown",
   "metadata": {},
   "source": [
    "#### (Option) Fill some missing turbine parks\n",
    "506 != 441   \n"
   ]
  },
  {
   "cell_type": "code",
   "execution_count": null,
   "metadata": {},
   "outputs": [],
   "source": [
    "f = windmills[windmills['Turbine_type'] == 'P']"
   ]
  },
  {
   "cell_type": "code",
   "execution_count": null,
   "metadata": {},
   "outputs": [],
   "source": [
    "f[f['GSRN'].isin(w_temp['GSRN'])]"
   ]
  },
  {
   "cell_type": "code",
   "execution_count": null,
   "metadata": {},
   "outputs": [],
   "source": [
    "f[~f['GSRN'].isin(w_temp['GSRN'])]"
   ]
  },
  {
   "cell_type": "code",
   "execution_count": null,
   "metadata": {},
   "outputs": [],
   "source": [
    "w_temp[~w_temp['GSRN'].isin(f['GSRN'])]"
   ]
  },
  {
   "cell_type": "markdown",
   "metadata": {},
   "source": [
    "Fill 136 in to windmills"
   ]
  },
  {
   "cell_type": "code",
   "execution_count": null,
   "metadata": {},
   "outputs": [],
   "source": [
    "windmills.shape"
   ]
  },
  {
   "cell_type": "markdown",
   "metadata": {},
   "source": [
    "#### Fill "
   ]
  },
  {
   "cell_type": "code",
   "execution_count": 10,
   "metadata": {},
   "outputs": [
    {
     "output_type": "execute_result",
     "data": {
      "text/plain": "                    GSRN Turbine_type         Parent_GSRN BBR_municipal  \\\n0     570714700000001659            M  570714700000050015           360   \n1     570714700000001666            M  570714700000050015           360   \n2     570714700000001673            M  570714700000050015           360   \n3     570714700000001680            M  570714700000050015           360   \n4     570714700000001697            M  570714700000050015           360   \n...                  ...          ...                 ...           ...   \n9203  571313174116645946            H                None           350   \n9204  571313179100075143            H                None           219   \n9205  571313179100118352            H                None           260   \n9206  571313179100992129            H                None           250   \n9207  571313186000124581            H                None           751   \n\n     Placement      UTM_x       UTM_y  Capacity_kw  Rotor_diameter  \\\n0          HAV  635831.57  6093877.23        450.0            35.0   \n1          HAV  636028.76  6093650.72        450.0            35.0   \n2          HAV  636226.42  6093426.62        450.0            35.0   \n3          HAV  636423.93  6093200.36        450.0            35.0   \n4          HAV  636620.72  6092973.61        450.0            35.0   \n...        ...        ...         ...          ...             ...   \n9203      None        NaN         NaN         10.0             7.1   \n9204      None        NaN         NaN         10.0            13.0   \n9205      None        NaN         NaN         10.0             7.0   \n9206      None        NaN         NaN         25.0            11.0   \n9207      None        NaN         NaN         20.0             8.0   \n\n      Navhub_height Out_service  \n0              37.5  2017-02-20  \n1              37.5  2017-02-20  \n2              37.5  2017-02-20  \n3              37.5  2017-02-20  \n4              37.5  2017-02-20  \n...             ...         ...  \n9203           21.3         NaT  \n9204           18.2         NaT  \n9205           18.0         NaT  \n9206           23.5         NaT  \n9207           13.0         NaT  \n\n[9208 rows x 11 columns]",
      "text/html": "<div>\n<style scoped>\n    .dataframe tbody tr th:only-of-type {\n        vertical-align: middle;\n    }\n\n    .dataframe tbody tr th {\n        vertical-align: top;\n    }\n\n    .dataframe thead th {\n        text-align: right;\n    }\n</style>\n<table border=\"1\" class=\"dataframe\">\n  <thead>\n    <tr style=\"text-align: right;\">\n      <th></th>\n      <th>GSRN</th>\n      <th>Turbine_type</th>\n      <th>Parent_GSRN</th>\n      <th>BBR_municipal</th>\n      <th>Placement</th>\n      <th>UTM_x</th>\n      <th>UTM_y</th>\n      <th>Capacity_kw</th>\n      <th>Rotor_diameter</th>\n      <th>Navhub_height</th>\n      <th>Out_service</th>\n    </tr>\n  </thead>\n  <tbody>\n    <tr>\n      <th>0</th>\n      <td>570714700000001659</td>\n      <td>M</td>\n      <td>570714700000050015</td>\n      <td>360</td>\n      <td>HAV</td>\n      <td>635831.57</td>\n      <td>6093877.23</td>\n      <td>450.0</td>\n      <td>35.0</td>\n      <td>37.5</td>\n      <td>2017-02-20</td>\n    </tr>\n    <tr>\n      <th>1</th>\n      <td>570714700000001666</td>\n      <td>M</td>\n      <td>570714700000050015</td>\n      <td>360</td>\n      <td>HAV</td>\n      <td>636028.76</td>\n      <td>6093650.72</td>\n      <td>450.0</td>\n      <td>35.0</td>\n      <td>37.5</td>\n      <td>2017-02-20</td>\n    </tr>\n    <tr>\n      <th>2</th>\n      <td>570714700000001673</td>\n      <td>M</td>\n      <td>570714700000050015</td>\n      <td>360</td>\n      <td>HAV</td>\n      <td>636226.42</td>\n      <td>6093426.62</td>\n      <td>450.0</td>\n      <td>35.0</td>\n      <td>37.5</td>\n      <td>2017-02-20</td>\n    </tr>\n    <tr>\n      <th>3</th>\n      <td>570714700000001680</td>\n      <td>M</td>\n      <td>570714700000050015</td>\n      <td>360</td>\n      <td>HAV</td>\n      <td>636423.93</td>\n      <td>6093200.36</td>\n      <td>450.0</td>\n      <td>35.0</td>\n      <td>37.5</td>\n      <td>2017-02-20</td>\n    </tr>\n    <tr>\n      <th>4</th>\n      <td>570714700000001697</td>\n      <td>M</td>\n      <td>570714700000050015</td>\n      <td>360</td>\n      <td>HAV</td>\n      <td>636620.72</td>\n      <td>6092973.61</td>\n      <td>450.0</td>\n      <td>35.0</td>\n      <td>37.5</td>\n      <td>2017-02-20</td>\n    </tr>\n    <tr>\n      <th>...</th>\n      <td>...</td>\n      <td>...</td>\n      <td>...</td>\n      <td>...</td>\n      <td>...</td>\n      <td>...</td>\n      <td>...</td>\n      <td>...</td>\n      <td>...</td>\n      <td>...</td>\n      <td>...</td>\n    </tr>\n    <tr>\n      <th>9203</th>\n      <td>571313174116645946</td>\n      <td>H</td>\n      <td>None</td>\n      <td>350</td>\n      <td>None</td>\n      <td>NaN</td>\n      <td>NaN</td>\n      <td>10.0</td>\n      <td>7.1</td>\n      <td>21.3</td>\n      <td>NaT</td>\n    </tr>\n    <tr>\n      <th>9204</th>\n      <td>571313179100075143</td>\n      <td>H</td>\n      <td>None</td>\n      <td>219</td>\n      <td>None</td>\n      <td>NaN</td>\n      <td>NaN</td>\n      <td>10.0</td>\n      <td>13.0</td>\n      <td>18.2</td>\n      <td>NaT</td>\n    </tr>\n    <tr>\n      <th>9205</th>\n      <td>571313179100118352</td>\n      <td>H</td>\n      <td>None</td>\n      <td>260</td>\n      <td>None</td>\n      <td>NaN</td>\n      <td>NaN</td>\n      <td>10.0</td>\n      <td>7.0</td>\n      <td>18.0</td>\n      <td>NaT</td>\n    </tr>\n    <tr>\n      <th>9206</th>\n      <td>571313179100992129</td>\n      <td>H</td>\n      <td>None</td>\n      <td>250</td>\n      <td>None</td>\n      <td>NaN</td>\n      <td>NaN</td>\n      <td>25.0</td>\n      <td>11.0</td>\n      <td>23.5</td>\n      <td>NaT</td>\n    </tr>\n    <tr>\n      <th>9207</th>\n      <td>571313186000124581</td>\n      <td>H</td>\n      <td>None</td>\n      <td>751</td>\n      <td>None</td>\n      <td>NaN</td>\n      <td>NaN</td>\n      <td>20.0</td>\n      <td>8.0</td>\n      <td>13.0</td>\n      <td>NaT</td>\n    </tr>\n  </tbody>\n</table>\n<p>9208 rows × 11 columns</p>\n</div>"
     },
     "metadata": {},
     "execution_count": 10
    }
   ],
   "source": [
    "windmills = pd.merge(windmills, w_temp, on='GSRN', how='left')\n",
    "# location\n",
    "windmills[['UTM_x']] = windmills.apply(lambda x: x[['UTM_x']].fillna(value = x['x_c']), axis=1)[['UTM_x']]\n",
    "windmills[['UTM_y']] = windmills.apply(lambda x: x[['UTM_y']].fillna(value = x['y_c']), axis=1)[['UTM_y']]\n",
    "windmills = windmills.drop(columns=['x_c','y_c'])\n",
    "windmills"
   ]
  },
  {
   "cell_type": "markdown",
   "metadata": {},
   "source": [
    "Cause a bug in ArcGIS file import, we need to add a 'z' at the end of GSRN and Parent_GSRN"
   ]
  },
  {
   "cell_type": "code",
   "execution_count": 11,
   "metadata": {},
   "outputs": [],
   "source": [
    "windmills['GSRN'] = [x+'z' for x in windmills['GSRN']]\n",
    "windmills['Parent_GSRN'].fillna('',inplace = True)\n",
    "windmills['Parent_GSRN'] = [x+'z' for x in windmills['Parent_GSRN']]"
   ]
  },
  {
   "cell_type": "code",
   "execution_count": 12,
   "metadata": {},
   "outputs": [],
   "source": [
    "windmills.to_csv('data/windmills_gis.csv', index=False)"
   ]
  },
  {
   "cell_type": "markdown",
   "metadata": {},
   "source": [
    "### After ArcGIS    \n",
    "Merge"
   ]
  },
  {
   "cell_type": "code",
   "execution_count": 14,
   "metadata": {},
   "outputs": [
    {
     "output_type": "execute_result",
     "data": {
      "text/plain": "                     GSRN Turbine_type          Parent_GSRN BBR_municipal  \\\n0     570714700000001659z            M  570714700000050015z           360   \n1     570714700000001666z            M  570714700000050015z           360   \n2     570714700000001673z            M  570714700000050015z           360   \n3     570714700000001680z            M  570714700000050015z           360   \n4     570714700000001697z            M  570714700000050015z           360   \n...                   ...          ...                  ...           ...   \n9203  571313174116645946z            H                    z           350   \n9204  571313179100075143z            H                    z           219   \n9205  571313179100118352z            H                    z           260   \n9206  571313179100992129z            H                    z           250   \n9207  571313186000124581z            H                    z           751   \n\n     Placement      UTM_x       UTM_y  Capacity_kw  Rotor_diameter  \\\n0          HAV  635831.57  6093877.23        450.0            35.0   \n1          HAV  636028.76  6093650.72        450.0            35.0   \n2          HAV  636226.42  6093426.62        450.0            35.0   \n3          HAV  636423.93  6093200.36        450.0            35.0   \n4          HAV  636620.72  6092973.61        450.0            35.0   \n...        ...        ...         ...          ...             ...   \n9203      None        NaN         NaN         10.0             7.1   \n9204      None        NaN         NaN         10.0            13.0   \n9205      None        NaN         NaN         10.0             7.0   \n9206      None        NaN         NaN         25.0            11.0   \n9207      None        NaN         NaN         20.0             8.0   \n\n      Navhub_height Out_service grid  \n0              37.5  2017-02-20  815  \n1              37.5  2017-02-20  815  \n2              37.5  2017-02-20  815  \n3              37.5  2017-02-20  815  \n4              37.5  2017-02-20  814  \n...             ...         ...  ...  \n9203           21.3         NaT    0  \n9204           18.2         NaT    0  \n9205           18.0         NaT    0  \n9206           23.5         NaT    0  \n9207           13.0         NaT    0  \n\n[9208 rows x 12 columns]",
      "text/html": "<div>\n<style scoped>\n    .dataframe tbody tr th:only-of-type {\n        vertical-align: middle;\n    }\n\n    .dataframe tbody tr th {\n        vertical-align: top;\n    }\n\n    .dataframe thead th {\n        text-align: right;\n    }\n</style>\n<table border=\"1\" class=\"dataframe\">\n  <thead>\n    <tr style=\"text-align: right;\">\n      <th></th>\n      <th>GSRN</th>\n      <th>Turbine_type</th>\n      <th>Parent_GSRN</th>\n      <th>BBR_municipal</th>\n      <th>Placement</th>\n      <th>UTM_x</th>\n      <th>UTM_y</th>\n      <th>Capacity_kw</th>\n      <th>Rotor_diameter</th>\n      <th>Navhub_height</th>\n      <th>Out_service</th>\n      <th>grid</th>\n    </tr>\n  </thead>\n  <tbody>\n    <tr>\n      <th>0</th>\n      <td>570714700000001659z</td>\n      <td>M</td>\n      <td>570714700000050015z</td>\n      <td>360</td>\n      <td>HAV</td>\n      <td>635831.57</td>\n      <td>6093877.23</td>\n      <td>450.0</td>\n      <td>35.0</td>\n      <td>37.5</td>\n      <td>2017-02-20</td>\n      <td>815</td>\n    </tr>\n    <tr>\n      <th>1</th>\n      <td>570714700000001666z</td>\n      <td>M</td>\n      <td>570714700000050015z</td>\n      <td>360</td>\n      <td>HAV</td>\n      <td>636028.76</td>\n      <td>6093650.72</td>\n      <td>450.0</td>\n      <td>35.0</td>\n      <td>37.5</td>\n      <td>2017-02-20</td>\n      <td>815</td>\n    </tr>\n    <tr>\n      <th>2</th>\n      <td>570714700000001673z</td>\n      <td>M</td>\n      <td>570714700000050015z</td>\n      <td>360</td>\n      <td>HAV</td>\n      <td>636226.42</td>\n      <td>6093426.62</td>\n      <td>450.0</td>\n      <td>35.0</td>\n      <td>37.5</td>\n      <td>2017-02-20</td>\n      <td>815</td>\n    </tr>\n    <tr>\n      <th>3</th>\n      <td>570714700000001680z</td>\n      <td>M</td>\n      <td>570714700000050015z</td>\n      <td>360</td>\n      <td>HAV</td>\n      <td>636423.93</td>\n      <td>6093200.36</td>\n      <td>450.0</td>\n      <td>35.0</td>\n      <td>37.5</td>\n      <td>2017-02-20</td>\n      <td>815</td>\n    </tr>\n    <tr>\n      <th>4</th>\n      <td>570714700000001697z</td>\n      <td>M</td>\n      <td>570714700000050015z</td>\n      <td>360</td>\n      <td>HAV</td>\n      <td>636620.72</td>\n      <td>6092973.61</td>\n      <td>450.0</td>\n      <td>35.0</td>\n      <td>37.5</td>\n      <td>2017-02-20</td>\n      <td>814</td>\n    </tr>\n    <tr>\n      <th>...</th>\n      <td>...</td>\n      <td>...</td>\n      <td>...</td>\n      <td>...</td>\n      <td>...</td>\n      <td>...</td>\n      <td>...</td>\n      <td>...</td>\n      <td>...</td>\n      <td>...</td>\n      <td>...</td>\n      <td>...</td>\n    </tr>\n    <tr>\n      <th>9203</th>\n      <td>571313174116645946z</td>\n      <td>H</td>\n      <td>z</td>\n      <td>350</td>\n      <td>None</td>\n      <td>NaN</td>\n      <td>NaN</td>\n      <td>10.0</td>\n      <td>7.1</td>\n      <td>21.3</td>\n      <td>NaT</td>\n      <td>0</td>\n    </tr>\n    <tr>\n      <th>9204</th>\n      <td>571313179100075143z</td>\n      <td>H</td>\n      <td>z</td>\n      <td>219</td>\n      <td>None</td>\n      <td>NaN</td>\n      <td>NaN</td>\n      <td>10.0</td>\n      <td>13.0</td>\n      <td>18.2</td>\n      <td>NaT</td>\n      <td>0</td>\n    </tr>\n    <tr>\n      <th>9205</th>\n      <td>571313179100118352z</td>\n      <td>H</td>\n      <td>z</td>\n      <td>260</td>\n      <td>None</td>\n      <td>NaN</td>\n      <td>NaN</td>\n      <td>10.0</td>\n      <td>7.0</td>\n      <td>18.0</td>\n      <td>NaT</td>\n      <td>0</td>\n    </tr>\n    <tr>\n      <th>9206</th>\n      <td>571313179100992129z</td>\n      <td>H</td>\n      <td>z</td>\n      <td>250</td>\n      <td>None</td>\n      <td>NaN</td>\n      <td>NaN</td>\n      <td>25.0</td>\n      <td>11.0</td>\n      <td>23.5</td>\n      <td>NaT</td>\n      <td>0</td>\n    </tr>\n    <tr>\n      <th>9207</th>\n      <td>571313186000124581z</td>\n      <td>H</td>\n      <td>z</td>\n      <td>751</td>\n      <td>None</td>\n      <td>NaN</td>\n      <td>NaN</td>\n      <td>20.0</td>\n      <td>8.0</td>\n      <td>13.0</td>\n      <td>NaT</td>\n      <td>0</td>\n    </tr>\n  </tbody>\n</table>\n<p>9208 rows × 12 columns</p>\n</div>"
     },
     "metadata": {},
     "execution_count": 14
    }
   ],
   "source": [
    "cols = ['GSRN','grid']\n",
    "windmills_single_grid= pd.read_excel('data/windmills_to_single-grid.xlsx')[cols]\n",
    "windmills_single_grid['grid'].fillna(value=0, inplace = True)\n",
    "windmills_single_grid['grid'] = windmills_single_grid['grid'].astype(int)\n",
    "windmills_single_grid['grid'] = windmills_single_grid['grid'].astype(str)\n",
    "windmills = pd.merge(windmills, windmills_single_grid, on='GSRN', how='left')\n",
    "windmills"
   ]
  },
  {
   "cell_type": "code",
   "execution_count": 16,
   "metadata": {},
   "outputs": [],
   "source": [
    "cols = ['GSRN','grid']\n",
    "windmills_multi_grid = pd.read_excel('data/windmills_to_multi-grid.xlsx')[cols]\n",
    "windmills_multi_grid['grid'].fillna(value=0, inplace = True)\n",
    "windmills_multi_grid['grid'] = windmills_multi_grid['grid'].astype(int)\n",
    "windmills_multi_grid['grid'] = windmills_multi_grid['grid'].astype(str)"
   ]
  },
  {
   "cell_type": "code",
   "execution_count": 17,
   "metadata": {},
   "outputs": [
    {
     "output_type": "execute_result",
     "data": {
      "text/plain": "                     GSRN Turbine_type          Parent_GSRN BBR_municipal  \\\n0     570714700000001659z            M  570714700000050015z           360   \n1     570714700000001666z            M  570714700000050015z           360   \n2     570714700000001673z            M  570714700000050015z           360   \n3     570714700000001680z            M  570714700000050015z           360   \n4     570714700000001697z            M  570714700000050015z           360   \n...                   ...          ...                  ...           ...   \n9203  571313174116645946z            H                    z           350   \n9204  571313179100075143z            H                    z           219   \n9205  571313179100118352z            H                    z           260   \n9206  571313179100992129z            H                    z           250   \n9207  571313186000124581z            H                    z           751   \n\n     Placement      UTM_x       UTM_y  Capacity_kw  Rotor_diameter  \\\n0          HAV  635831.57  6093877.23        450.0            35.0   \n1          HAV  636028.76  6093650.72        450.0            35.0   \n2          HAV  636226.42  6093426.62        450.0            35.0   \n3          HAV  636423.93  6093200.36        450.0            35.0   \n4          HAV  636620.72  6092973.61        450.0            35.0   \n...        ...        ...         ...          ...             ...   \n9203      None        NaN         NaN         10.0             7.1   \n9204      None        NaN         NaN         10.0            13.0   \n9205      None        NaN         NaN         10.0             7.0   \n9206      None        NaN         NaN         25.0            11.0   \n9207      None        NaN         NaN         20.0             8.0   \n\n      Navhub_height Out_service grid  \\\n0              37.5  2017-02-20  815   \n1              37.5  2017-02-20  815   \n2              37.5  2017-02-20  815   \n3              37.5  2017-02-20  815   \n4              37.5  2017-02-20  814   \n...             ...         ...  ...   \n9203           21.3         NaT    0   \n9204           18.2         NaT    0   \n9205           18.0         NaT    0   \n9206           23.5         NaT    0   \n9207           13.0         NaT    0   \n\n                                          grid_in_range  \n0     855,813,771,856,729,730,814,731,773,815,857,85...  \n1     855,813,771,856,729,730,814,731,773,815,857,85...  \n2     855,813,771,856,729,730,814,731,773,815,857,85...  \n3     855,813,771,856,729,730,814,731,773,815,857,85...  \n4     855,813,771,856,729,730,814,731,773,815,857,85...  \n...                                                 ...  \n9203                                                NaN  \n9204                                                NaN  \n9205                                                NaN  \n9206                                                NaN  \n9207                                                NaN  \n\n[9208 rows x 13 columns]",
      "text/html": "<div>\n<style scoped>\n    .dataframe tbody tr th:only-of-type {\n        vertical-align: middle;\n    }\n\n    .dataframe tbody tr th {\n        vertical-align: top;\n    }\n\n    .dataframe thead th {\n        text-align: right;\n    }\n</style>\n<table border=\"1\" class=\"dataframe\">\n  <thead>\n    <tr style=\"text-align: right;\">\n      <th></th>\n      <th>GSRN</th>\n      <th>Turbine_type</th>\n      <th>Parent_GSRN</th>\n      <th>BBR_municipal</th>\n      <th>Placement</th>\n      <th>UTM_x</th>\n      <th>UTM_y</th>\n      <th>Capacity_kw</th>\n      <th>Rotor_diameter</th>\n      <th>Navhub_height</th>\n      <th>Out_service</th>\n      <th>grid</th>\n      <th>grid_in_range</th>\n    </tr>\n  </thead>\n  <tbody>\n    <tr>\n      <th>0</th>\n      <td>570714700000001659z</td>\n      <td>M</td>\n      <td>570714700000050015z</td>\n      <td>360</td>\n      <td>HAV</td>\n      <td>635831.57</td>\n      <td>6093877.23</td>\n      <td>450.0</td>\n      <td>35.0</td>\n      <td>37.5</td>\n      <td>2017-02-20</td>\n      <td>815</td>\n      <td>855,813,771,856,729,730,814,731,773,815,857,85...</td>\n    </tr>\n    <tr>\n      <th>1</th>\n      <td>570714700000001666z</td>\n      <td>M</td>\n      <td>570714700000050015z</td>\n      <td>360</td>\n      <td>HAV</td>\n      <td>636028.76</td>\n      <td>6093650.72</td>\n      <td>450.0</td>\n      <td>35.0</td>\n      <td>37.5</td>\n      <td>2017-02-20</td>\n      <td>815</td>\n      <td>855,813,771,856,729,730,814,731,773,815,857,85...</td>\n    </tr>\n    <tr>\n      <th>2</th>\n      <td>570714700000001673z</td>\n      <td>M</td>\n      <td>570714700000050015z</td>\n      <td>360</td>\n      <td>HAV</td>\n      <td>636226.42</td>\n      <td>6093426.62</td>\n      <td>450.0</td>\n      <td>35.0</td>\n      <td>37.5</td>\n      <td>2017-02-20</td>\n      <td>815</td>\n      <td>855,813,771,856,729,730,814,731,773,815,857,85...</td>\n    </tr>\n    <tr>\n      <th>3</th>\n      <td>570714700000001680z</td>\n      <td>M</td>\n      <td>570714700000050015z</td>\n      <td>360</td>\n      <td>HAV</td>\n      <td>636423.93</td>\n      <td>6093200.36</td>\n      <td>450.0</td>\n      <td>35.0</td>\n      <td>37.5</td>\n      <td>2017-02-20</td>\n      <td>815</td>\n      <td>855,813,771,856,729,730,814,731,773,815,857,85...</td>\n    </tr>\n    <tr>\n      <th>4</th>\n      <td>570714700000001697z</td>\n      <td>M</td>\n      <td>570714700000050015z</td>\n      <td>360</td>\n      <td>HAV</td>\n      <td>636620.72</td>\n      <td>6092973.61</td>\n      <td>450.0</td>\n      <td>35.0</td>\n      <td>37.5</td>\n      <td>2017-02-20</td>\n      <td>814</td>\n      <td>855,813,771,856,729,730,814,731,773,815,857,85...</td>\n    </tr>\n    <tr>\n      <th>...</th>\n      <td>...</td>\n      <td>...</td>\n      <td>...</td>\n      <td>...</td>\n      <td>...</td>\n      <td>...</td>\n      <td>...</td>\n      <td>...</td>\n      <td>...</td>\n      <td>...</td>\n      <td>...</td>\n      <td>...</td>\n      <td>...</td>\n    </tr>\n    <tr>\n      <th>9203</th>\n      <td>571313174116645946z</td>\n      <td>H</td>\n      <td>z</td>\n      <td>350</td>\n      <td>None</td>\n      <td>NaN</td>\n      <td>NaN</td>\n      <td>10.0</td>\n      <td>7.1</td>\n      <td>21.3</td>\n      <td>NaT</td>\n      <td>0</td>\n      <td>NaN</td>\n    </tr>\n    <tr>\n      <th>9204</th>\n      <td>571313179100075143z</td>\n      <td>H</td>\n      <td>z</td>\n      <td>219</td>\n      <td>None</td>\n      <td>NaN</td>\n      <td>NaN</td>\n      <td>10.0</td>\n      <td>13.0</td>\n      <td>18.2</td>\n      <td>NaT</td>\n      <td>0</td>\n      <td>NaN</td>\n    </tr>\n    <tr>\n      <th>9205</th>\n      <td>571313179100118352z</td>\n      <td>H</td>\n      <td>z</td>\n      <td>260</td>\n      <td>None</td>\n      <td>NaN</td>\n      <td>NaN</td>\n      <td>10.0</td>\n      <td>7.0</td>\n      <td>18.0</td>\n      <td>NaT</td>\n      <td>0</td>\n      <td>NaN</td>\n    </tr>\n    <tr>\n      <th>9206</th>\n      <td>571313179100992129z</td>\n      <td>H</td>\n      <td>z</td>\n      <td>250</td>\n      <td>None</td>\n      <td>NaN</td>\n      <td>NaN</td>\n      <td>25.0</td>\n      <td>11.0</td>\n      <td>23.5</td>\n      <td>NaT</td>\n      <td>0</td>\n      <td>NaN</td>\n    </tr>\n    <tr>\n      <th>9207</th>\n      <td>571313186000124581z</td>\n      <td>H</td>\n      <td>z</td>\n      <td>751</td>\n      <td>None</td>\n      <td>NaN</td>\n      <td>NaN</td>\n      <td>20.0</td>\n      <td>8.0</td>\n      <td>13.0</td>\n      <td>NaT</td>\n      <td>0</td>\n      <td>NaN</td>\n    </tr>\n  </tbody>\n</table>\n<p>9208 rows × 13 columns</p>\n</div>"
     },
     "metadata": {},
     "execution_count": 17
    }
   ],
   "source": [
    "def ab(df):\n",
    "    return','.join(df.values)\n",
    "    \n",
    "windmills_multi_grid = windmills_multi_grid.groupby('GSRN')['grid'].apply(ab).reset_index().rename(columns={'grid':'grid_in_range'})\n",
    "windmills = pd.merge(windmills, windmills_multi_grid, on='GSRN', how='left')\n",
    "windmills"
   ]
  },
  {
   "cell_type": "code",
   "execution_count": 18,
   "metadata": {},
   "outputs": [],
   "source": [
    "cols = ['GSRN', 'Land_cover', 'Slope', 'Elevation']\n",
    "windmills_gis_ext = pd.read_excel('data/windmills_lc_slope_ele.xlsx')[cols]\n",
    "windmills_gis_ext['Land_cover'].fillna(value=-1, inplace = True)\n",
    "windmills_gis_ext['Slope'].fillna(value=-1, inplace = True)\n",
    "windmills_gis_ext['Elevation'].fillna(value=-1, inplace = True)"
   ]
  },
  {
   "cell_type": "code",
   "execution_count": 19,
   "metadata": {},
   "outputs": [
    {
     "output_type": "execute_result",
     "data": {
      "text/plain": "                     GSRN  Land_cover     Slope  Elevation  Roughness\n0     570714700000004094z          11  0.000000       0.00        0.1\n1     570714700000002885z          11  0.000000       0.00        0.1\n2     570714700000002892z          11  0.000000       1.63        0.1\n3     570714700000002908z          11  1.432096       0.91        0.1\n4     570714700000002915z          11  1.012750       0.90        0.1\n...                   ...         ...       ...        ...        ...\n7405  570715000000003547z          11  2.263636      27.00        0.1\n7406  570715000000002779z          11  0.000000       4.00        0.1\n7407  570715000000002601z         130  0.000000       3.00        0.1\n7408  570715000000056956z         110  0.000000       4.00        1.5\n7409  570715000000056963z         190  1.432096       4.90        1.0\n\n[7410 rows x 5 columns]",
      "text/html": "<div>\n<style scoped>\n    .dataframe tbody tr th:only-of-type {\n        vertical-align: middle;\n    }\n\n    .dataframe tbody tr th {\n        vertical-align: top;\n    }\n\n    .dataframe thead th {\n        text-align: right;\n    }\n</style>\n<table border=\"1\" class=\"dataframe\">\n  <thead>\n    <tr style=\"text-align: right;\">\n      <th></th>\n      <th>GSRN</th>\n      <th>Land_cover</th>\n      <th>Slope</th>\n      <th>Elevation</th>\n      <th>Roughness</th>\n    </tr>\n  </thead>\n  <tbody>\n    <tr>\n      <th>0</th>\n      <td>570714700000004094z</td>\n      <td>11</td>\n      <td>0.000000</td>\n      <td>0.00</td>\n      <td>0.1</td>\n    </tr>\n    <tr>\n      <th>1</th>\n      <td>570714700000002885z</td>\n      <td>11</td>\n      <td>0.000000</td>\n      <td>0.00</td>\n      <td>0.1</td>\n    </tr>\n    <tr>\n      <th>2</th>\n      <td>570714700000002892z</td>\n      <td>11</td>\n      <td>0.000000</td>\n      <td>1.63</td>\n      <td>0.1</td>\n    </tr>\n    <tr>\n      <th>3</th>\n      <td>570714700000002908z</td>\n      <td>11</td>\n      <td>1.432096</td>\n      <td>0.91</td>\n      <td>0.1</td>\n    </tr>\n    <tr>\n      <th>4</th>\n      <td>570714700000002915z</td>\n      <td>11</td>\n      <td>1.012750</td>\n      <td>0.90</td>\n      <td>0.1</td>\n    </tr>\n    <tr>\n      <th>...</th>\n      <td>...</td>\n      <td>...</td>\n      <td>...</td>\n      <td>...</td>\n      <td>...</td>\n    </tr>\n    <tr>\n      <th>7405</th>\n      <td>570715000000003547z</td>\n      <td>11</td>\n      <td>2.263636</td>\n      <td>27.00</td>\n      <td>0.1</td>\n    </tr>\n    <tr>\n      <th>7406</th>\n      <td>570715000000002779z</td>\n      <td>11</td>\n      <td>0.000000</td>\n      <td>4.00</td>\n      <td>0.1</td>\n    </tr>\n    <tr>\n      <th>7407</th>\n      <td>570715000000002601z</td>\n      <td>130</td>\n      <td>0.000000</td>\n      <td>3.00</td>\n      <td>0.1</td>\n    </tr>\n    <tr>\n      <th>7408</th>\n      <td>570715000000056956z</td>\n      <td>110</td>\n      <td>0.000000</td>\n      <td>4.00</td>\n      <td>1.5</td>\n    </tr>\n    <tr>\n      <th>7409</th>\n      <td>570715000000056963z</td>\n      <td>190</td>\n      <td>1.432096</td>\n      <td>4.90</td>\n      <td>1.0</td>\n    </tr>\n  </tbody>\n</table>\n<p>7410 rows × 5 columns</p>\n</div>"
     },
     "metadata": {},
     "execution_count": 19
    }
   ],
   "source": [
    "roughness_dic = {210:0.0, 220:0.004, 200:0.005, 202:0.005, 140:0.03, 150:0.05, 11:0.1, 14:0.1, 130:0.1, 180:11, 10:0.1, 20:0.3, 30:0.3, 160:0.5, 120:0.5, 170:0.6, 190:1.0, 40:1.5, 50:1.5, 60:1.5, 70:1.5, 90:1.5, 100:1.5, 110:1.5, -1:0.0}\n",
    "windmills_gis_ext['Roughness'] = windmills_gis_ext['Land_cover'].apply(lambda x: roughness_dic[x])\n",
    "windmills_gis_ext"
   ]
  },
  {
   "cell_type": "code",
   "execution_count": 20,
   "metadata": {},
   "outputs": [
    {
     "output_type": "execute_result",
     "data": {
      "text/plain": "                     GSRN Turbine_type          Parent_GSRN BBR_municipal  \\\n0     570714700000001659z            M  570714700000050015z           360   \n1     570714700000001666z            M  570714700000050015z           360   \n2     570714700000001673z            M  570714700000050015z           360   \n3     570714700000001680z            M  570714700000050015z           360   \n4     570714700000001697z            M  570714700000050015z           360   \n...                   ...          ...                  ...           ...   \n9203  571313174116645946z            H                    z           350   \n9204  571313179100075143z            H                    z           219   \n9205  571313179100118352z            H                    z           260   \n9206  571313179100992129z            H                    z           250   \n9207  571313186000124581z            H                    z           751   \n\n     Placement      UTM_x       UTM_y  Capacity_kw  Rotor_diameter  \\\n0          HAV  635831.57  6093877.23        450.0            35.0   \n1          HAV  636028.76  6093650.72        450.0            35.0   \n2          HAV  636226.42  6093426.62        450.0            35.0   \n3          HAV  636423.93  6093200.36        450.0            35.0   \n4          HAV  636620.72  6092973.61        450.0            35.0   \n...        ...        ...         ...          ...             ...   \n9203      None        NaN         NaN         10.0             7.1   \n9204      None        NaN         NaN         10.0            13.0   \n9205      None        NaN         NaN         10.0             7.0   \n9206      None        NaN         NaN         25.0            11.0   \n9207      None        NaN         NaN         20.0             8.0   \n\n      Navhub_height Out_service grid  \\\n0              37.5  2017-02-20  815   \n1              37.5  2017-02-20  815   \n2              37.5  2017-02-20  815   \n3              37.5  2017-02-20  815   \n4              37.5  2017-02-20  814   \n...             ...         ...  ...   \n9203           21.3         NaT    0   \n9204           18.2         NaT    0   \n9205           18.0         NaT    0   \n9206           23.5         NaT    0   \n9207           13.0         NaT    0   \n\n                                          grid_in_range  Land_cover  Slope  \\\n0     855,813,771,856,729,730,814,731,773,815,857,85...       210.0   -1.0   \n1     855,813,771,856,729,730,814,731,773,815,857,85...       210.0   -1.0   \n2     855,813,771,856,729,730,814,731,773,815,857,85...       210.0   -1.0   \n3     855,813,771,856,729,730,814,731,773,815,857,85...       210.0   -1.0   \n4     855,813,771,856,729,730,814,731,773,815,857,85...       210.0   -1.0   \n...                                                 ...         ...    ...   \n9203                                                NaN         NaN    NaN   \n9204                                                NaN         NaN    NaN   \n9205                                                NaN         NaN    NaN   \n9206                                                NaN         NaN    NaN   \n9207                                                NaN         NaN    NaN   \n\n      Elevation  Roughness  \n0          -1.0        0.0  \n1          -1.0        0.0  \n2          -1.0        0.0  \n3          -1.0        0.0  \n4          -1.0        0.0  \n...         ...        ...  \n9203        NaN        NaN  \n9204        NaN        NaN  \n9205        NaN        NaN  \n9206        NaN        NaN  \n9207        NaN        NaN  \n\n[9208 rows x 17 columns]",
      "text/html": "<div>\n<style scoped>\n    .dataframe tbody tr th:only-of-type {\n        vertical-align: middle;\n    }\n\n    .dataframe tbody tr th {\n        vertical-align: top;\n    }\n\n    .dataframe thead th {\n        text-align: right;\n    }\n</style>\n<table border=\"1\" class=\"dataframe\">\n  <thead>\n    <tr style=\"text-align: right;\">\n      <th></th>\n      <th>GSRN</th>\n      <th>Turbine_type</th>\n      <th>Parent_GSRN</th>\n      <th>BBR_municipal</th>\n      <th>Placement</th>\n      <th>UTM_x</th>\n      <th>UTM_y</th>\n      <th>Capacity_kw</th>\n      <th>Rotor_diameter</th>\n      <th>Navhub_height</th>\n      <th>Out_service</th>\n      <th>grid</th>\n      <th>grid_in_range</th>\n      <th>Land_cover</th>\n      <th>Slope</th>\n      <th>Elevation</th>\n      <th>Roughness</th>\n    </tr>\n  </thead>\n  <tbody>\n    <tr>\n      <th>0</th>\n      <td>570714700000001659z</td>\n      <td>M</td>\n      <td>570714700000050015z</td>\n      <td>360</td>\n      <td>HAV</td>\n      <td>635831.57</td>\n      <td>6093877.23</td>\n      <td>450.0</td>\n      <td>35.0</td>\n      <td>37.5</td>\n      <td>2017-02-20</td>\n      <td>815</td>\n      <td>855,813,771,856,729,730,814,731,773,815,857,85...</td>\n      <td>210.0</td>\n      <td>-1.0</td>\n      <td>-1.0</td>\n      <td>0.0</td>\n    </tr>\n    <tr>\n      <th>1</th>\n      <td>570714700000001666z</td>\n      <td>M</td>\n      <td>570714700000050015z</td>\n      <td>360</td>\n      <td>HAV</td>\n      <td>636028.76</td>\n      <td>6093650.72</td>\n      <td>450.0</td>\n      <td>35.0</td>\n      <td>37.5</td>\n      <td>2017-02-20</td>\n      <td>815</td>\n      <td>855,813,771,856,729,730,814,731,773,815,857,85...</td>\n      <td>210.0</td>\n      <td>-1.0</td>\n      <td>-1.0</td>\n      <td>0.0</td>\n    </tr>\n    <tr>\n      <th>2</th>\n      <td>570714700000001673z</td>\n      <td>M</td>\n      <td>570714700000050015z</td>\n      <td>360</td>\n      <td>HAV</td>\n      <td>636226.42</td>\n      <td>6093426.62</td>\n      <td>450.0</td>\n      <td>35.0</td>\n      <td>37.5</td>\n      <td>2017-02-20</td>\n      <td>815</td>\n      <td>855,813,771,856,729,730,814,731,773,815,857,85...</td>\n      <td>210.0</td>\n      <td>-1.0</td>\n      <td>-1.0</td>\n      <td>0.0</td>\n    </tr>\n    <tr>\n      <th>3</th>\n      <td>570714700000001680z</td>\n      <td>M</td>\n      <td>570714700000050015z</td>\n      <td>360</td>\n      <td>HAV</td>\n      <td>636423.93</td>\n      <td>6093200.36</td>\n      <td>450.0</td>\n      <td>35.0</td>\n      <td>37.5</td>\n      <td>2017-02-20</td>\n      <td>815</td>\n      <td>855,813,771,856,729,730,814,731,773,815,857,85...</td>\n      <td>210.0</td>\n      <td>-1.0</td>\n      <td>-1.0</td>\n      <td>0.0</td>\n    </tr>\n    <tr>\n      <th>4</th>\n      <td>570714700000001697z</td>\n      <td>M</td>\n      <td>570714700000050015z</td>\n      <td>360</td>\n      <td>HAV</td>\n      <td>636620.72</td>\n      <td>6092973.61</td>\n      <td>450.0</td>\n      <td>35.0</td>\n      <td>37.5</td>\n      <td>2017-02-20</td>\n      <td>814</td>\n      <td>855,813,771,856,729,730,814,731,773,815,857,85...</td>\n      <td>210.0</td>\n      <td>-1.0</td>\n      <td>-1.0</td>\n      <td>0.0</td>\n    </tr>\n    <tr>\n      <th>...</th>\n      <td>...</td>\n      <td>...</td>\n      <td>...</td>\n      <td>...</td>\n      <td>...</td>\n      <td>...</td>\n      <td>...</td>\n      <td>...</td>\n      <td>...</td>\n      <td>...</td>\n      <td>...</td>\n      <td>...</td>\n      <td>...</td>\n      <td>...</td>\n      <td>...</td>\n      <td>...</td>\n      <td>...</td>\n    </tr>\n    <tr>\n      <th>9203</th>\n      <td>571313174116645946z</td>\n      <td>H</td>\n      <td>z</td>\n      <td>350</td>\n      <td>None</td>\n      <td>NaN</td>\n      <td>NaN</td>\n      <td>10.0</td>\n      <td>7.1</td>\n      <td>21.3</td>\n      <td>NaT</td>\n      <td>0</td>\n      <td>NaN</td>\n      <td>NaN</td>\n      <td>NaN</td>\n      <td>NaN</td>\n      <td>NaN</td>\n    </tr>\n    <tr>\n      <th>9204</th>\n      <td>571313179100075143z</td>\n      <td>H</td>\n      <td>z</td>\n      <td>219</td>\n      <td>None</td>\n      <td>NaN</td>\n      <td>NaN</td>\n      <td>10.0</td>\n      <td>13.0</td>\n      <td>18.2</td>\n      <td>NaT</td>\n      <td>0</td>\n      <td>NaN</td>\n      <td>NaN</td>\n      <td>NaN</td>\n      <td>NaN</td>\n      <td>NaN</td>\n    </tr>\n    <tr>\n      <th>9205</th>\n      <td>571313179100118352z</td>\n      <td>H</td>\n      <td>z</td>\n      <td>260</td>\n      <td>None</td>\n      <td>NaN</td>\n      <td>NaN</td>\n      <td>10.0</td>\n      <td>7.0</td>\n      <td>18.0</td>\n      <td>NaT</td>\n      <td>0</td>\n      <td>NaN</td>\n      <td>NaN</td>\n      <td>NaN</td>\n      <td>NaN</td>\n      <td>NaN</td>\n    </tr>\n    <tr>\n      <th>9206</th>\n      <td>571313179100992129z</td>\n      <td>H</td>\n      <td>z</td>\n      <td>250</td>\n      <td>None</td>\n      <td>NaN</td>\n      <td>NaN</td>\n      <td>25.0</td>\n      <td>11.0</td>\n      <td>23.5</td>\n      <td>NaT</td>\n      <td>0</td>\n      <td>NaN</td>\n      <td>NaN</td>\n      <td>NaN</td>\n      <td>NaN</td>\n      <td>NaN</td>\n    </tr>\n    <tr>\n      <th>9207</th>\n      <td>571313186000124581z</td>\n      <td>H</td>\n      <td>z</td>\n      <td>751</td>\n      <td>None</td>\n      <td>NaN</td>\n      <td>NaN</td>\n      <td>20.0</td>\n      <td>8.0</td>\n      <td>13.0</td>\n      <td>NaT</td>\n      <td>0</td>\n      <td>NaN</td>\n      <td>NaN</td>\n      <td>NaN</td>\n      <td>NaN</td>\n      <td>NaN</td>\n    </tr>\n  </tbody>\n</table>\n<p>9208 rows × 17 columns</p>\n</div>"
     },
     "metadata": {},
     "execution_count": 20
    }
   ],
   "source": [
    "windmills_gis_ext = windmills_gis_ext.astype({'GSRN':'str'})\n",
    "windmills = pd.merge(windmills, windmills_gis_ext, on='GSRN', how='left')\n",
    "windmills"
   ]
  },
  {
   "cell_type": "markdown",
   "metadata": {},
   "source": [
    "### Save"
   ]
  },
  {
   "cell_type": "code",
   "execution_count": 21,
   "metadata": {},
   "outputs": [],
   "source": [
    "windmills['GSRN'] = windmills['GSRN'].apply(lambda x: x[0:len(x)-1])\n",
    "windmills['Parent_GSRN'] = windmills['Parent_GSRN'].apply(lambda x: x[0:len(x)-1])"
   ]
  },
  {
   "cell_type": "code",
   "execution_count": 22,
   "metadata": {},
   "outputs": [],
   "source": [
    "windmills.to_csv('data/windmill_cleaned.csv',index=False)"
   ]
  }
 ],
 "metadata": {
  "language_info": {
   "name": "python",
   "codemirror_mode": {
    "name": "ipython",
    "version": 3
   },
   "version": "3.7.7-final"
  },
  "orig_nbformat": 2,
  "file_extension": ".py",
  "mimetype": "text/x-python",
  "name": "python",
  "npconvert_exporter": "python",
  "pygments_lexer": "ipython3",
  "version": 3,
  "kernelspec": {
   "name": "python37264bit3a462acd451f4b989328b3d637ce9031",
   "display_name": "Python 3.7.2 64-bit"
  }
 },
 "nbformat": 4,
 "nbformat_minor": 2
}
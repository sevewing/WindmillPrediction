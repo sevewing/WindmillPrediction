{
 "cells": [
  {
   "cell_type": "code",
   "execution_count": null,
   "metadata": {},
   "outputs": [],
   "source": [
    "import pandas as pd\n",
    "import numpy as np\n",
    "import warnings\n",
    "warnings.filterwarnings(\"ignore\")\n",
    "\n",
    "import torch\n",
    "\n",
    "import constant\n",
    "import myplot\n",
    "from models import model_evaluation, model_improvement"
   ]
  },
  {
   "cell_type": "code",
   "execution_count": null,
   "metadata": {},
   "outputs": [],
   "source": [
    "%load_ext autoreload"
   ]
  },
  {
   "cell_type": "markdown",
   "metadata": {},
   "source": [
    "# Evaluation\n",
    "## load evaluation data, models, features"
   ]
  },
  {
   "cell_type": "code",
   "execution_count": null,
   "metadata": {},
   "outputs": [],
   "source": [
    "path = \"SL_SC_1/\""
   ]
  },
  {
   "cell_type": "code",
   "execution_count": null,
   "metadata": {},
   "outputs": [],
   "source": [
    "df_evl = pd.read_csv(constant.SL_SC_EVL_path)\n",
    "df_evl[\"TIME_CET\"] = pd.to_datetime(df_evl[\"TIME_CET\"])"
   ]
  },
  {
   "cell_type": "code",
   "execution_count": null,
   "metadata": {},
   "outputs": [],
   "source": [
    "model_original = torch.load(constant.model_path + path + \"original_model.pth\")\n",
    "model_wsr = torch.load(constant.model_path + path + \"wsr_model.pth\")\n",
    "model_geo = torch.load(constant.model_path + path + \"geo_model.pth\")\n",
    "model_semigeo = torch.load(constant.model_path + path + \"semigeo_model.pth\")"
   ]
  },
  {
   "cell_type": "code",
   "execution_count": null,
   "metadata": {},
   "outputs": [],
   "source": [
    "org_cols = ['Capacity_kw', 'Navhub_height', 'Rotor_diameter', 'wu10', 'wv10', 'wu100', 'wv100', 'tmp2', 'tmp100',\n",
    "'m1', 'm2', 'm3', 'm4', 'm5', 'm6', 'm7', 'm8', 'm9', 'm10', 'm11', 'm12',\n",
    "'h0', 'h1', 'h2', 'h3', 'h4', 'h5', 'h6', 'h7', 'h8', 'h9', 'h10', 'h11', 'h12', 'h13', 'h14', 'h15', 'h16', 'h17', 'h18', 'h19', 'h20', 'h21', 'h22', 'h23']\n",
    "wsr_cols = ['Capacity_kw','Navhub_height','Rotor_diameter','hws_u_wsr','hws_v_wsr','hws_uv_wsr','hws_uv_wsr^2','hws_uv_wsr^3','htmp_exp',\n",
    "'hws_uv_wsr_q0.1','hws_uv_wsr_q0.5','hws_uv_wsr_q0.9',\n",
    "'m1', 'm2', 'm3', 'm4', 'm5', 'm6', 'm7', 'm8', 'm9', 'm10', 'm11', 'm12',\n",
    "'h0', 'h1', 'h2', 'h3', 'h4', 'h5', 'h6', 'h7', 'h8', 'h9', 'h10', 'h11', 'h12', 'h13', 'h14', 'h15', 'h16', 'h17', 'h18', 'h19', 'h20', 'h21', 'h22', 'h23']\n",
    "geo_cols = ['Capacity_kw', 'Navhub_height', 'Rotor_diameter',\n",
    "'Slope', 'Aspect', \n",
    "'hws_u_rn','hws_v_rn','hws_uv_rn','hws_uv_rn^2','hws_uv_rn^3','htmp_exp', \n",
    "'hws_uv_rn_q0.1','hws_uv_rn_q0.5','hws_uv_rn_q0.9',\n",
    "'m1', 'm2', 'm3', 'm4', 'm5', 'm6', 'm7', 'm8', 'm9', 'm10', 'm11', 'm12',\n",
    "'h0', 'h1', 'h2', 'h3', 'h4', 'h5', 'h6', 'h7', 'h8', 'h9', 'h10', 'h11', 'h12', 'h13', 'h14', 'h15', 'h16', 'h17', 'h18', 'h19', 'h20', 'h21', 'h22', 'h23']\n",
    "semigeo_cols = ['Capacity_kw','Navhub_height', 'Rotor_diameter',\n",
    "'Slope', 'Aspect', 'Roughness',\n",
    "'hws_u_wsr','hws_v_wsr','hws_uv_wsr','hws_uv_wsr^2','hws_uv_wsr^3','htmp_exp', \n",
    "'hws_uv_wsr_q0.1','hws_uv_wsr_q0.5','hws_uv_wsr_q0.9',\n",
    "'m1', 'm2', 'm3', 'm4', 'm5', 'm6', 'm7', 'm8', 'm9', 'm10', 'm11', 'm12',\n",
    "'h0', 'h1', 'h2', 'h3', 'h4', 'h5', 'h6', 'h7', 'h8', 'h9', 'h10', 'h11', 'h12', 'h13', 'h14', 'h15', 'h16', 'h17', 'h18', 'h19', 'h20', 'h21', 'h22', 'h23']"
   ]
  },
  {
   "cell_type": "markdown",
   "metadata": {},
   "source": [
    "## 1d, 24hours"
   ]
  },
  {
   "cell_type": "code",
   "execution_count": null,
   "metadata": {},
   "outputs": [],
   "source": [
    "date_s = pd.to_datetime(\"2019-03-01\")\n",
    "date_e = pd.to_datetime(\"2019-03-02\")\n",
    "df_evl_1d = df_evl[df_evl[\"TIME_CET\"] >= date_s][df_evl[\"TIME_CET\"] < date_e].sort_values([\"TIME_CET\"]).reset_index(drop=True)"
   ]
  },
  {
   "cell_type": "markdown",
   "metadata": {},
   "source": [
    "### 4 Models evaluation"
   ]
  },
  {
   "cell_type": "code",
   "execution_count": null,
   "metadata": {},
   "outputs": [],
   "source": [
    "original_err = model_evaluation(df_evl_1d, org_cols, model_original, save_name=path+\"original_error_1d.csv\")\n",
    "wsr_err = model_evaluation(df_evl_1d, wsr_cols, model_wsr, save_name=path+\"wsr_error_1d.csv\")\n",
    "geo_err = model_evaluation(df_evl_1d, geo_cols, model_geo, save_name=path+\"geo_error_1d.csv\")\n",
    "semigeo_err = model_evaluation(df_evl_1d, semigeo_cols, model_semigeo, save_name=path+\"semigeo_error_1d.csv\")"
   ]
  },
  {
   "cell_type": "markdown",
   "metadata": {},
   "source": [
    "#### Model Comparement"
   ]
  },
  {
   "cell_type": "code",
   "execution_count": null,
   "metadata": {},
   "outputs": [],
   "source": [
    "imp, r2 = model_improvement({\"Original\": original_err, \"Windshear\": wsr_err, \"Geo\": geo_err, \"Semigeo\": semigeo_err})\n",
    "r2"
   ]
  },
  {
   "cell_type": "markdown",
   "metadata": {},
   "source": [
    "### Plot Error"
   ]
  },
  {
   "cell_type": "code",
   "execution_count": null,
   "metadata": {},
   "outputs": [],
   "source": [
    "myplot.timelines(original_err[\"TIME_CET\"], {\"Original\" : original_err[\"NMAE\"], \"WindShear\" : wsr_err[\"NMAE\"], \"Geo\" : geo_err[\"NMAE\"], \"SemiGeo\" : semigeo_err[\"NMAE\"],}, save_name=path+\"Model_compare_NMAE_1d.png\")"
   ]
  },
  {
   "cell_type": "code",
   "execution_count": null,
   "metadata": {},
   "outputs": [],
   "source": [
    "myplot.timelines(original_err[\"TIME_CET\"], {\"Original\" : original_err[\"NMSE\"], \"WindShear\" : wsr_err[\"NMSE\"], \"Geo\" : geo_err[\"NMSE\"], \"SemiGeo\" : semigeo_err[\"NMSE\"],}, save_name=path+\"Model_compare_NMSE_1d.png\")"
   ]
  },
  {
   "cell_type": "code",
   "execution_count": null,
   "metadata": {},
   "outputs": [],
   "source": [
    "myplot.timelines(original_err[\"TIME_CET\"], {\"Original\" : original_err[\"NRMSE\"], \"WindShear\" : wsr_err[\"NRMSE\"], \"Geo\" : geo_err[\"NRMSE\"], \"SemiGeo\" : semigeo_err[\"NRMSE\"],}, save_name=path+\"Model_compare_NRMSE_1d.png\")"
   ]
  },
  {
   "cell_type": "markdown",
   "metadata": {},
   "source": [
    "### Plot Prediction"
   ]
  },
  {
   "cell_type": "code",
   "execution_count": null,
   "metadata": {},
   "outputs": [],
   "source": [
    "timelines(original_err[\"TIME_CET\"], {\"True Power\" : original_err[\"VAERDI\"], \"Original model\" : original_err[\"pred\"], \"Windshear model\" : wsr_err[\"pred\"], \"Geo model\" : geo_err[\"pred\"], \"Semigeo model\" : semigeo_err[\"pred\"]}, save_name=path+\"Model_predict_1d.png\")"
   ]
  },
  {
   "cell_type": "markdown",
   "metadata": {},
   "source": [
    "## 2ds, 48hours"
   ]
  },
  {
   "cell_type": "code",
   "execution_count": null,
   "metadata": {},
   "outputs": [],
   "source": [
    "date_s = pd.to_datetime(\"2019-03-01\")\n",
    "date_e = pd.to_datetime(\"2019-03-03\")\n",
    "df_evl_2d = df_evl[df_evl[\"TIME_CET\"] >= date_s][df_evl[\"TIME_CET\"] < date_e].sort_values([\"TIME_CET\"]).reset_index(drop=True)"
   ]
  },
  {
   "cell_type": "markdown",
   "metadata": {},
   "source": [
    "### 4 Models evaluation"
   ]
  },
  {
   "cell_type": "code",
   "execution_count": null,
   "metadata": {},
   "outputs": [],
   "source": [
    "original_err = model_evaluation(df_evl_2d, org_cols, model_original, save_name=path+\"original_error_2d.csv\")\n",
    "wsr_err = model_evaluation(df_evl_2d, wsr_cols, model_wsr, save_name=path+\"wsr_error_2d.csv\")\n",
    "geo_err = model_evaluation(df_evl_2d, geo_cols, model_geo, save_name=path+\"geo_error_2d.csv\")\n",
    "semigeo_err = model_evaluation(df_evl_2d, semigeo_cols, model_semigeo, save_name=path+\"semigeo_error_2d.csv\")"
   ]
  },
  {
   "cell_type": "markdown",
   "metadata": {},
   "source": [
    "#### Model Comparement"
   ]
  },
  {
   "cell_type": "code",
   "execution_count": null,
   "metadata": {},
   "outputs": [],
   "source": [
    "imp, r2 = model_improvement({\"Original\": original_err, \"Windshear\": wsr_err, \"Geo\": geo_err, \"Semigeo\": semigeo_err})\n",
    "r2"
   ]
  },
  {
   "cell_type": "markdown",
   "metadata": {},
   "source": [
    "### Plot Error"
   ]
  },
  {
   "cell_type": "code",
   "execution_count": null,
   "metadata": {},
   "outputs": [],
   "source": [
    "myplot.timelines(original_err[\"TIME_CET\"], {\"Original\" : original_err[\"NMAE\"], \"WindShear\" : wsr_err[\"NMAE\"], \"Geo\" : geo_err[\"NMAE\"], \"SemiGeo\" : semigeo_err[\"NMAE\"]}, save_name=path+\"Model_compare_NMAE_2d.png\")"
   ]
  },
  {
   "cell_type": "code",
   "execution_count": null,
   "metadata": {},
   "outputs": [],
   "source": [
    "myplot.timelines(original_err[\"TIME_CET\"], {\"Original\" : original_err[\"NMSE\"], \"WindShear\" : wsr_err[\"NMSE\"], \"Geo\" : geo_err[\"NMSE\"], \"SemiGeo\" : semigeo_err[\"NMSE\"]}, save_name=path+\"Model_compare_NMSE_2d.png\")"
   ]
  },
  {
   "cell_type": "code",
   "execution_count": null,
   "metadata": {},
   "outputs": [],
   "source": [
    "myplot.timelines(original_err[\"TIME_CET\"], {\"Original\" : original_err[\"NRMSE\"], \"WindShear\" : wsr_err[\"NRMSE\"], \"Geo\" : geo_err[\"NRMSE\"], \"SemiGeo\" : semigeo_err[\"NRMSE\"]}, save_name=path+\"Model_compare_RNMSE_2d.png\")"
   ]
  },
  {
   "cell_type": "markdown",
   "metadata": {},
   "source": [
    "### Plot Prediction"
   ]
  },
  {
   "cell_type": "code",
   "execution_count": null,
   "metadata": {},
   "outputs": [],
   "source": [
    "timelines(original_err[\"TIME_CET\"], {\"True Power\" : original_err[\"VAERDI\"], \"Original model\" : original_err[\"pred\"], \"Windshear model\" : wsr_err[\"pred\"], \"Geo model\" : geo_err[\"pred\"], \"Semigeo model\" : semigeo_err[\"pred\"]}, save_name=path+\"Model_predict_2d.png\")"
   ]
  },
  {
   "cell_type": "markdown",
   "metadata": {},
   "source": [
    "## 5ds, 120hours"
   ]
  },
  {
   "cell_type": "code",
   "execution_count": null,
   "metadata": {},
   "outputs": [],
   "source": [
    "date_s = pd.to_datetime(\"2019-03-01\")\n",
    "date_e = pd.to_datetime(\"2019-03-05\")\n",
    "df_evl_5d = df_evl[df_evl[\"TIME_CET\"] >= date_s][df_evl[\"TIME_CET\"] < date_e].sort_values([\"TIME_CET\"]).reset_index(drop=True)"
   ]
  },
  {
   "cell_type": "markdown",
   "metadata": {},
   "source": [
    "### 4 Models evaluation"
   ]
  },
  {
   "cell_type": "code",
   "execution_count": null,
   "metadata": {},
   "outputs": [],
   "source": [
    "original_err = model_evaluation(df_evl_5d, org_cols, model_original, save_name=path+\"original_error_5d.csv\")\n",
    "wsr_err = model_evaluation(df_evl_5d, wsr_cols, model_wsr, save_name=path+\"wsr_error_5d.csv\")\n",
    "geo_err = model_evaluation(df_evl_5d, geo_cols, model_geo, save_name=path+\"geo_error_5d.csv\")\n",
    "semigeo_err = model_evaluation(df_evl_5d, semigeo_cols, model_semigeo, save_name=path+\"semigeo_error_5d.csv\")"
   ]
  },
  {
   "cell_type": "markdown",
   "metadata": {},
   "source": [
    "#### Model Comparement"
   ]
  },
  {
   "cell_type": "code",
   "execution_count": null,
   "metadata": {},
   "outputs": [],
   "source": [
    "imp, r2 = model_improvement({\"Original\": original_err, \"Windshear\": wsr_err, \"Geo\": geo_err, \"Semigeo\": semigeo_err})\n",
    "r2"
   ]
  },
  {
   "cell_type": "markdown",
   "metadata": {},
   "source": [
    "### Plot Error"
   ]
  },
  {
   "cell_type": "code",
   "execution_count": null,
   "metadata": {},
   "outputs": [],
   "source": [
    "myplot.timelines(original_err[\"TIME_CET\"], {\"Original\" : original_err[\"NMAE\"], \"WindShear\" : wsr_err[\"NMAE\"], \"Geo\" : geo_err[\"NMAE\"], \"SemiGeo\" : semigeo_err[\"NMAE\"]}, save_name=path+\"Model_compare_NMAE_5d.png\")"
   ]
  },
  {
   "cell_type": "code",
   "execution_count": null,
   "metadata": {},
   "outputs": [],
   "source": [
    "myplot.timelines(original_err[\"TIME_CET\"], {\"Original\" : original_err[\"NMSE\"], \"WindShear\" : wsr_err[\"NMSE\"], \"Geo\" : geo_err[\"NMSE\"], \"SemiGeo\" : semigeo_err[\"NMSE\"]}, save_name=path+\"Model_compare_NMSE_5d.png\")"
   ]
  },
  {
   "cell_type": "code",
   "execution_count": null,
   "metadata": {},
   "outputs": [],
   "source": [
    "myplot.timelines(original_err[\"TIME_CET\"], {\"Original\" : original_err[\"NRMSE\"], \"WindShear\" : wsr_err[\"NRMSE\"], \"Geo\" : geo_err[\"NRMSE\"], \"SemiGeo\" : semigeo_err[\"NRMSE\"]}, save_name=path+\"Model_compare_RNMSE_5d.png\")"
   ]
  },
  {
   "cell_type": "markdown",
   "metadata": {},
   "source": [
    "### Plot Prediction"
   ]
  },
  {
   "cell_type": "code",
   "execution_count": null,
   "metadata": {},
   "outputs": [],
   "source": [
    "timelines(original_err[\"TIME_CET\"], {\"True Power\" : original_err[\"VAERDI\"], \"Original model\" : original_err[\"pred\"], \"Windshear model\" : wsr_err[\"pred\"], \"Geo model\" : geo_err[\"pred\"], \"Semigeo model\" : semigeo_err[\"pred\"]}, save_name=path+\"Model_predict_5d.png\")"
   ]
  },
  {
   "cell_type": "code",
   "execution_count": null,
   "metadata": {},
   "outputs": [],
   "source": []
  }
 ],
 "metadata": {
  "language_info": {
   "name": "python",
   "codemirror_mode": {
    "name": "ipython",
    "version": 3
   },
   "version": "3.7.7-final"
  },
  "orig_nbformat": 2,
  "file_extension": ".py",
  "mimetype": "text/x-python",
  "name": "python",
  "npconvert_exporter": "python",
  "pygments_lexer": "ipython3",
  "version": 3,
  "kernelspec": {
   "name": "python37264bit3a462acd451f4b989328b3d637ce9031",
   "display_name": "Python 3.7.2 64-bit"
  }
 },
 "nbformat": 4,
 "nbformat_minor": 2
}
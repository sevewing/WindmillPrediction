{
 "cells": [
  {
   "cell_type": "code",
   "execution_count": 1,
   "metadata": {},
   "outputs": [],
   "source": [
    "import pandas as pd\n",
    "import numpy as np\n",
    "\n",
    "import warnings\n",
    "warnings.filterwarnings(\"ignore\")\n",
    "\n",
    "# from sparktorch import serialize_torch_obj, SparkTorch, PysparkPipelineWrapper\n",
    "import torch\n",
    "import torch.nn as nn\n",
    "import torch.nn.functional as F\n",
    "import torch.optim as optim\n",
    "from pyspark.conf import SparkConf\n",
    "from pyspark.sql import SparkSession, SQLContext\n",
    "import pyspark.sql.functions as func\n",
    "from pyspark.sql.types import *\n",
    "# from pyspark.ml.pipeline import Pipeline, PipelineModel\n",
    "from pyspark.ml.linalg import Vectors\n",
    "from pyspark.ml.feature import VectorAssembler, StandardScaler\n",
    "import seaborn as sns\n",
    "import matplotlib.pyplot as plt\n",
    "\n",
    "import constant\n",
    "import tools"
   ]
  },
  {
   "cell_type": "markdown",
   "metadata": {},
   "source": [
    "# 1.Methods\n",
    "## load"
   ]
  },
  {
   "cell_type": "code",
   "execution_count": 2,
   "metadata": {},
   "outputs": [],
   "source": [
    "def _load_parquet(path, schema:StructType = None):\n",
    "    \"\"\"\n",
    "    load apache parquet file\n",
    "    \"\"\"\n",
    "    return sqlContext.read.schema(schema).parquet(path) if schema is not None else sqlContext.read.parquet(path)\n",
    "\n",
    "def _load_weather_toPandas(path):\n",
    "    \"\"\"\n",
    "    load apache parquet file\n",
    "    \"\"\"\n",
    "    return _load_parquet(path).toPandas()\n",
    "\n",
    "def _load_csv(path, schema:StructType = None):\n",
    "    \"\"\"\n",
    "    load csv file\n",
    "    \"\"\"\n",
    "    if schema == None:\n",
    "        return sqlContext.read.csv(path, sep=\",\", header=True, inferSchema=\"true\")\n",
    "    return sqlContext.read.csv(path, sep=\",\", header=True, schema=schema)\n",
    "\n",
    "\n",
    "def load_files():\n",
    "# to read parquet file\n",
    "    settlement = _load_parquet(constant.settlement_201912_path, constant.settlement_schema_2)\n",
    "    settlement = settlement.dropna(subset =[\"VAERDI\"])\n",
    "                # .withColumn(\"VAERDI\", settlement[\"VAERDI\"].cast(\"double\"))\n",
    "    \n",
    "    # windmill = _load_csv(constant.windmill_test_path, constant.windmills_schema)\n",
    "    windmill = _load_csv(constant.windmill_LW_600_path, constant.windmills_schema_2)\n",
    "   \n",
    "    wu10_dic = _load_weather_toPandas(constant.wu10_path)\n",
    "    wv10_dic = _load_weather_toPandas(constant.wv10_path)\n",
    "    wu100_dic = _load_weather_toPandas(constant.wu100_path)\n",
    "    wv100_dic = _load_weather_toPandas(constant.wv100_path)\n",
    "    tmp2_dic = _load_weather_toPandas(constant.tmp2_c_path)\n",
    "    tmp100_dic = _load_weather_toPandas(constant.tmp100_c_path)\n",
    "    tools.get_udf(wu10_dic, wv10_dic, wu100_dic, wv100_dic, tmp2_dic, tmp100_dic)\n",
    "\n",
    "    return settlement, windmill"
   ]
  },
  {
   "cell_type": "code",
   "execution_count": 3,
   "metadata": {},
   "outputs": [],
   "source": [
    "class NN(nn.Module):\n",
    "\n",
    "  def __init__(self, input_size, hidden_size, output_size):\n",
    "    super(NN, self).__init__()\n",
    "    self.fc1 = nn.Linear(input_size, hidden_size)\n",
    "    self.fc2 = nn.Linear(hidden_size, hidden_size)\n",
    "    self.fc3 = nn.Linear(hidden_size, output_size)\n",
    "    self.d = nn.Dropout(p=0.3)\n",
    "\n",
    "  def forward(self, x):\n",
    "    x = F.relu(self.fc1(x))\n",
    "    # x = self.d(x)\n",
    "    # x = F.relu(self.fc2(x))\n",
    "    # x = self.d(x)\n",
    "    x = self.fc3(x)\n",
    "\n",
    "    return x"
   ]
  },
  {
   "cell_type": "code",
   "execution_count": 4,
   "metadata": {},
   "outputs": [],
   "source": [
    "class RNN(nn.Module):\n",
    "  def __init__(self, input_size, hidden_size, output_size):\n",
    "    super().__init__()\n",
    "\n",
    "    self.hidden_size = hidden_size\n",
    "    self.i2h = nn.Linear(input_size + hidden_size, hidden_size)  # 128 + (26*2+3) = 183\n",
    "    self.i20 = nn.Linear(input_size + hidden_size, output_size)\n",
    "    # self.tanh = nn.Tanh(dim=1)\n",
    "\n",
    "  def forward(self, input, hidden):\n",
    "    combined = torch.cat((input, hidden), 1) # Concatenates\n",
    "    hidden = self.i2h(combined)\n",
    "    output = self.i20(combined)\n",
    "    # output = self.tanh(output)\n",
    "    return output, hidden\n",
    "\n",
    "  def initHidden(self):\n",
    "    return torch.zeros(1, self.hidden_size)"
   ]
  },
  {
   "cell_type": "code",
   "execution_count": 5,
   "metadata": {},
   "outputs": [],
   "source": [
    "class LSTM_Regression(nn.Module):\n",
    "\n",
    "  def __init__(self, n_features, n_hidden, seq_len, n_layers=2):\n",
    "    super(LSTM_Regression, self).__init__()\n",
    "\n",
    "    self.n_hidden = n_hidden\n",
    "    self.seq_len = seq_len\n",
    "    self.n_layers = n_layers\n",
    "\n",
    "    self.lstm = nn.LSTM(\n",
    "      input_size=n_features,\n",
    "      hidden_size=n_hidden,\n",
    "      num_layers=n_layers,\n",
    "      dropout=0.5\n",
    "    )\n",
    "\n",
    "    self.linear = nn.Linear(in_features=n_hidden, out_features=1)\n",
    "\n",
    "  def reset_hidden_state(self):\n",
    "    self.hidden = (\n",
    "        torch.zeros(self.n_layers, self.seq_len, self.n_hidden),\n",
    "        torch.zeros(self.n_layers, self.seq_len, self.n_hidden)\n",
    "    )\n",
    "\n",
    "  def forward(self, sequences):\n",
    "    lstm_out, self.hidden = self.lstm(\n",
    "      sequences.view(len(sequences), self.seq_len, -1),\n",
    "      self.hidden\n",
    "    )\n",
    "    last_time_step = \\\n",
    "      lstm_out.view(self.seq_len, len(sequences), self.n_hidden)[-1]\n",
    "    y_pred = self.linear(last_time_step)\n",
    "    return y_pred"
   ]
  },
  {
   "cell_type": "code",
   "execution_count": 6,
   "metadata": {},
   "outputs": [],
   "source": [
    "def create_sequences(data, seq_length):\n",
    "    xs = []\n",
    "    ys = []\n",
    "\n",
    "    for i in range(len(data)-seq_length-1):\n",
    "        x = data[i:(i+seq_length)]\n",
    "        y = data[i+seq_length]\n",
    "        xs.append(x)\n",
    "        ys.append(y)\n",
    "\n",
    "    return np.array(xs), np.array(ys)"
   ]
  },
  {
   "cell_type": "code",
   "execution_count": 7,
   "metadata": {},
   "outputs": [],
   "source": [
    "def train_model(\n",
    "  model, \n",
    "  lr,\n",
    "  num_epochs,\n",
    "  X_train, \n",
    "  y_train, \n",
    "  X_test=None, \n",
    "  y_test=None\n",
    "):\n",
    "  loss_fn = torch.nn.MSELoss()\n",
    "\n",
    "  optimiser = torch.optim.Adam(model.parameters(), lr=lr)\n",
    "  num_epochs = num_epochs\n",
    "\n",
    "  train_hist = np.zeros(num_epochs)\n",
    "  test_hist = np.zeros(num_epochs)\n",
    "\n",
    "  for t in range(num_epochs):\n",
    "    # model.reset_hidden_state()\n",
    "\n",
    "    y_pred = model(X_train)\n",
    "\n",
    "    loss = loss_fn(y_pred.float(), y_train)\n",
    "\n",
    "    if X_test is not None:\n",
    "      with torch.no_grad():\n",
    "        y_test_pred = model(X_test)\n",
    "        test_loss = loss_fn(y_test_pred.float(), y_test)\n",
    "      test_hist[t] = test_loss.item()\n",
    "\n",
    "      if t % 10 == 0 or t == num_epochs-1:  \n",
    "        print(f'Epoch {t} train loss: {loss.item()} test loss: {test_loss.item()}')\n",
    "\n",
    "    elif t % 10 == 0:\n",
    "      print(f'Epoch {t} train loss: {loss.item()}')\n",
    "\n",
    "    train_hist[t] = loss.item()\n",
    "    \n",
    "    optimiser.zero_grad()\n",
    "    loss.backward()\n",
    "    optimiser.step()\n",
    "  \n",
    "  return model.eval(), train_hist, test_hist"
   ]
  },
  {
   "cell_type": "markdown",
   "metadata": {},
   "source": [
    "# 2.Analysis"
   ]
  },
  {
   "cell_type": "code",
   "execution_count": 8,
   "metadata": {},
   "outputs": [],
   "source": [
    "# initialise sparkContext\\\n",
    "spark = SparkSession.builder \\\n",
    "        .master(\"local[4]\") \\\n",
    "        .appName(\"WindTurbine_ws\") \\\n",
    "        .config(\"spark.driver.memory\",\"15g\") \\\n",
    "        .config(\"spark.executor.memory\",\"15g\") \\\n",
    "        .getOrCreate()\n",
    "\n",
    "sc = spark.sparkContext\n",
    "sqlContext = SQLContext(sc)"
   ]
  },
  {
   "cell_type": "code",
   "execution_count": 9,
   "metadata": {},
   "outputs": [
    {
     "output_type": "execute_result",
     "data": {
      "text/plain": "DataFrame[GSRN: string, Turbine_type: string, Placement: string, UTM_x: string, UTM_y: string, Capacity_kw: double, Rotor_diameter: double, Navhub_height: double, grid: string, Slope: double, Elevation: double, Roughness: double]"
     },
     "metadata": {},
     "execution_count": 9
    }
   ],
   "source": [
    "settlement, windmill = load_files()\n",
    "settlement.persist()\n",
    "windmill.persist()"
   ]
  },
  {
   "cell_type": "markdown",
   "metadata": {},
   "source": [
    "### Windmill Train and Test"
   ]
  },
  {
   "cell_type": "code",
   "execution_count": null,
   "metadata": {},
   "outputs": [],
   "source": [
    "# windmill = windmill.sample(fraction=0.5, seed=1)"
   ]
  },
  {
   "cell_type": "code",
   "execution_count": null,
   "metadata": {},
   "outputs": [],
   "source": [
    "timelist = settlement.select(\"TIME_CET\")"
   ]
  },
  {
   "cell_type": "code",
   "execution_count": null,
   "metadata": {},
   "outputs": [],
   "source": [
    "timelist = timelist.drop_duplicates()"
   ]
  },
  {
   "cell_type": "code",
   "execution_count": null,
   "metadata": {},
   "outputs": [],
   "source": [
    "timelist = timelist.sample(fraction=0.05, seed=3)"
   ]
  },
  {
   "cell_type": "code",
   "execution_count": null,
   "metadata": {},
   "outputs": [],
   "source": [
    "train = settlement.join(timelist, on=\"TIME_CET\")"
   ]
  },
  {
   "cell_type": "code",
   "execution_count": 12,
   "metadata": {},
   "outputs": [
    {
     "output_type": "stream",
     "name": "stdout",
     "text": "+------------------+------------+---------+-----------------+-----------------+-----------+--------------+-------------+----+-----+---------+---------+\n|              GSRN|Turbine_type|Placement|            UTM_x|            UTM_y|Capacity_kw|Rotor_diameter|Navhub_height|grid|Slope|Elevation|Roughness|\n+------------------+------------+---------+-----------------+-----------------+-----------+--------------+-------------+----+-----+---------+---------+\n|570714700000002786|           W|     LAND|         683346.0|        6136722.0|      600.0|          44.0|         45.0| 734|1.013|    25.03|      0.1|\n|570714700000010361|           W|     LAND|       696808.488|       6077316.21|      600.0|          44.0|         45.0| 647|  0.0|     22.0|      0.1|\n|570714700000010378|           W|     LAND|696813.2609999999|      6077122.971|      600.0|          44.0|         45.0| 647|1.013|     23.0|      0.1|\n|570714700000010422|           W|     LAND|       642676.918|6092060.022999999|      600.0|          44.0|         45.0| 773|  0.0|      2.0|      0.1|\n|570714700000011009|           W|     LAND|       646896.899|      6068304.246|      600.0|          44.0|         45.0| 771|  0.0|      0.0|      0.1|\n|570714700000011016|           W|     LAND|646867.8979999999|      6068832.241|      600.0|          44.0|         45.0| 771|  0.0|      0.0|      0.1|\n|570714700000011023|           W|     LAND|         646736.9|      6068370.246|      600.0|          44.0|         45.0| 771|  0.0|      0.0|      0.1|\n|570714700000011047|           W|     LAND|       632622.996|      6086512.089|      600.0|          44.0|         45.0| 814|  0.0|      9.0|      0.1|\n|570714700000011054|           W|     LAND|       632665.996|      6086676.087|      600.0|          44.0|         45.0| 814|  0.0|      8.0|      0.1|\n|570714700000011061|           W|     LAND|       632434.997|      6086714.087|      600.0|          44.0|         45.0| 814|  0.0|      8.0|      0.1|\n+------------------+------------+---------+-----------------+-----------------+-----------+--------------+-------------+----+-----+---------+---------+\nonly showing top 10 rows\n\n"
    }
   ],
   "source": [
    "windmill.show(10)"
   ]
  },
  {
   "cell_type": "code",
   "execution_count": 27,
   "metadata": {},
   "outputs": [],
   "source": [
    "windmill_train = windmill.where(\"GSRN != 570714700000010361\")"
   ]
  },
  {
   "cell_type": "code",
   "execution_count": 28,
   "metadata": {},
   "outputs": [],
   "source": [
    "# train = settlement.where(\"TIME_CET not like '2019-03-31 02%'\").where(\"TIME_CET not like '2019-12-30%'\").sample(fraction=0.001, seed=3)\n",
    "train = settlement.where(\"TIME_CET not like '2019-12-30%'\")\n",
    "train = tools.interp_pow(train, windmill_train)"
   ]
  },
  {
   "cell_type": "code",
   "execution_count": 29,
   "metadata": {},
   "outputs": [
    {
     "output_type": "execute_result",
     "data": {
      "text/plain": "50373"
     },
     "metadata": {},
     "execution_count": 29
    }
   ],
   "source": [
    "train.count()"
   ]
  },
  {
   "cell_type": "code",
   "execution_count": 30,
   "metadata": {},
   "outputs": [],
   "source": [
    "train.coalesce(1).write.save(\"data/single_train_interp.parquet\", format=\"parquet\")"
   ]
  },
  {
   "cell_type": "code",
   "execution_count": null,
   "metadata": {},
   "outputs": [],
   "source": [
    "windmill.show(5)"
   ]
  },
  {
   "cell_type": "code",
   "execution_count": 22,
   "metadata": {},
   "outputs": [],
   "source": [
    "windmill_LW_test =  windmill.where(\"GSRN == 570714700000010361\")"
   ]
  },
  {
   "cell_type": "code",
   "execution_count": 23,
   "metadata": {},
   "outputs": [],
   "source": [
    "test = settlement.where(\"TIME_CET like '2019-12-30%'\")"
   ]
  },
  {
   "cell_type": "code",
   "execution_count": 24,
   "metadata": {},
   "outputs": [],
   "source": [
    "test = tools.interp_pow(test, windmill_LW_test)"
   ]
  },
  {
   "cell_type": "code",
   "execution_count": 25,
   "metadata": {},
   "outputs": [
    {
     "output_type": "execute_result",
     "data": {
      "text/plain": "24"
     },
     "metadata": {},
     "execution_count": 25
    }
   ],
   "source": [
    "test.count()"
   ]
  },
  {
   "cell_type": "code",
   "execution_count": 26,
   "metadata": {},
   "outputs": [],
   "source": [
    "test.coalesce(1).write.save(\"data/single_test_interp.parquet\", format=\"parquet\")"
   ]
  },
  {
   "cell_type": "code",
   "execution_count": 35,
   "metadata": {},
   "outputs": [],
   "source": [
    "spark.stop()"
   ]
  },
  {
   "cell_type": "markdown",
   "metadata": {},
   "source": [
    "# Train"
   ]
  },
  {
   "cell_type": "code",
   "execution_count": 50,
   "metadata": {
    "tags": [
     "outputPrepend",
     "outputPrepend",
     "outputPrepend",
     "outputPrepend",
     "outputPrepend",
     "outputPrepend",
     "outputPrepend",
     "outputPrepend",
     "outputPrepend",
     "outputPrepend",
     "outputPrepend",
     "outputPrepend",
     "outputPrepend",
     "outputPrepend",
     "outputPrepend",
     "outputPrepend",
     "outputPrepend",
     "outputPrepend",
     "outputPrepend",
     "outputPrepend",
     "outputPrepend",
     "outputPrepend",
     "outputPrepend",
     "outputPrepend",
     "outputPrepend",
     "outputPrepend",
     "outputPrepend",
     "outputPrepend",
     "outputPrepend",
     "outputPrepend",
     "outputPrepend",
     "outputPrepend",
     "outputPrepend",
     "outputPrepend",
     "outputPrepend",
     "outputPrepend",
     "outputPrepend",
     "outputPrepend",
     "outputPrepend",
     "outputPrepend",
     "outputPrepend",
     "outputPrepend",
     "outputPrepend",
     "outputPrepend",
     "outputPrepend",
     "outputPrepend",
     "outputPrepend",
     "outputPrepend",
     "outputPrepend",
     "outputPrepend",
     "outputPrepend",
     "outputPrepend",
     "outputPrepend",
     "outputPrepend",
     "outputPrepend",
     "outputPrepend",
     "outputPrepend",
     "outputPrepend",
     "outputPrepend",
     "outputPrepend",
     "outputPrepend",
     "outputPrepend",
     "outputPrepend",
     "outputPrepend",
     "outputPrepend",
     "outputPrepend",
     "outputPrepend",
     "outputPrepend",
     "outputPrepend",
     "outputPrepend",
     "outputPrepend",
     "outputPrepend",
     "outputPrepend",
     "outputPrepend",
     "outputPrepend",
     "outputPrepend",
     "outputPrepend",
     "outputPrepend",
     "outputPrepend",
     "outputPrepend",
     "outputPrepend",
     "outputPrepend",
     "outputPrepend",
     "outputPrepend",
     "outputPrepend",
     "outputPrepend",
     "outputPrepend",
     "outputPrepend",
     "outputPrepend",
     "outputPrepend",
     "outputPrepend",
     "outputPrepend",
     "outputPrepend",
     "outputPrepend",
     "outputPrepend",
     "outputPrepend",
     "outputPrepend",
     "outputPrepend",
     "outputPrepend",
     "outputPrepend",
     "outputPrepend",
     "outputPrepend",
     "outputPrepend",
     "outputPrepend",
     "outputPrepend",
     "outputPrepend",
     "outputPrepend",
     "outputPrepend",
     "outputPrepend",
     "outputPrepend",
     "outputPrepend",
     "outputPrepend",
     "outputPrepend",
     "outputPrepend",
     "outputPrepend",
     "outputPrepend",
     "outputPrepend",
     "outputPrepend",
     "outputPrepend",
     "outputPrepend",
     "outputPrepend",
     "outputPrepend",
     "outputPrepend",
     "outputPrepend",
     "outputPrepend",
     "outputPrepend",
     "outputPrepend",
     "outputPrepend",
     "outputPrepend",
     "outputPrepend",
     "outputPrepend",
     "outputPrepend",
     "outputPrepend",
     "outputPrepend",
     "outputPrepend",
     "outputPrepend",
     "outputPrepend",
     "outputPrepend",
     "outputPrepend",
     "outputPrepend",
     "outputPrepend",
     "outputPrepend",
     "outputPrepend",
     "outputPrepend",
     "outputPrepend",
     "outputPrepend",
     "outputPrepend",
     "outputPrepend",
     "outputPrepend",
     "outputPrepend",
     "outputPrepend",
     "outputPrepend",
     "outputPrepend",
     "outputPrepend",
     "outputPrepend",
     "outputPrepend",
     "outputPrepend",
     "outputPrepend",
     "outputPrepend",
     "outputPrepend",
     "outputPrepend",
     "outputPrepend",
     "outputPrepend",
     "outputPrepend",
     "outputPrepend",
     "outputPrepend",
     "outputPrepend",
     "outputPrepend",
     "outputPrepend",
     "outputPrepend",
     "outputPrepend",
     "outputPrepend",
     "outputPrepend",
     "outputPrepend",
     "outputPrepend",
     "outputPrepend",
     "outputPrepend",
     "outputPrepend",
     "outputPrepend",
     "outputPrepend",
     "outputPrepend",
     "outputPrepend",
     "outputPrepend",
     "outputPrepend",
     "outputPrepend",
     "outputPrepend",
     "outputPrepend",
     "outputPrepend",
     "outputPrepend",
     "outputPrepend",
     "outputPrepend",
     "outputPrepend",
     "outputPrepend",
     "outputPrepend",
     "outputPrepend",
     "outputPrepend",
     "outputPrepend",
     "outputPrepend",
     "outputPrepend",
     "outputPrepend",
     "outputPrepend",
     "outputPrepend",
     "outputPrepend",
     "outputPrepend",
     "outputPrepend",
     "outputPrepend",
     "outputPrepend",
     "outputPrepend",
     "outputPrepend",
     "outputPrepend",
     "outputPrepend",
     "outputPrepend",
     "outputPrepend",
     "outputPrepend",
     "outputPrepend",
     "outputPrepend",
     "outputPrepend",
     "outputPrepend",
     "outputPrepend",
     "outputPrepend",
     "outputPrepend",
     "outputPrepend",
     "outputPrepend",
     "outputPrepend",
     "outputPrepend",
     "outputPrepend",
     "outputPrepend",
     "outputPrepend",
     "outputPrepend",
     "outputPrepend",
     "outputPrepend",
     "outputPrepend",
     "outputPrepend",
     "outputPrepend",
     "outputPrepend",
     "outputPrepend",
     "outputPrepend",
     "outputPrepend",
     "outputPrepend",
     "outputPrepend",
     "outputPrepend",
     "outputPrepend",
     "outputPrepend",
     "outputPrepend",
     "outputPrepend",
     "outputPrepend",
     "outputPrepend",
     "outputPrepend",
     "outputPrepend",
     "outputPrepend",
     "outputPrepend",
     "outputPrepend",
     "outputPrepend",
     "outputPrepend",
     "outputPrepend",
     "outputPrepend",
     "outputPrepend",
     "outputPrepend",
     "outputPrepend",
     "outputPrepend",
     "outputPrepend",
     "outputPrepend",
     "outputPrepend",
     "outputPrepend",
     "outputPrepend",
     "outputPrepend",
     "outputPrepend",
     "outputPrepend",
     "outputPrepend",
     "outputPrepend",
     "outputPrepend",
     "outputPrepend",
     "outputPrepend",
     "outputPrepend",
     "outputPrepend",
     "outputPrepend",
     "outputPrepend",
     "outputPrepend",
     "outputPrepend",
     "outputPrepend",
     "outputPrepend",
     "outputPrepend",
     "outputPrepend",
     "outputPrepend",
     "outputPrepend",
     "outputPrepend",
     "outputPrepend",
     "outputPrepend",
     "outputPrepend",
     "outputPrepend",
     "outputPrepend",
     "outputPrepend",
     "outputPrepend",
     "outputPrepend",
     "outputPrepend",
     "outputPrepend",
     "outputPrepend",
     "outputPrepend",
     "outputPrepend",
     "outputPrepend",
     "outputPrepend",
     "outputPrepend",
     "outputPrepend",
     "outputPrepend",
     "outputPrepend",
     "outputPrepend",
     "outputPrepend",
     "outputPrepend",
     "outputPrepend",
     "outputPrepend",
     "outputPrepend",
     "outputPrepend",
     "outputPrepend",
     "outputPrepend",
     "outputPrepend",
     "outputPrepend",
     "outputPrepend",
     "outputPrepend",
     "outputPrepend",
     "outputPrepend",
     "outputPrepend",
     "outputPrepend",
     "outputPrepend",
     "outputPrepend",
     "outputPrepend",
     "outputPrepend",
     "outputPrepend",
     "outputPrepend",
     "outputPrepend",
     "outputPrepend",
     "outputPrepend",
     "outputPrepend",
     "outputPrepend",
     "outputPrepend",
     "outputPrepend",
     "outputPrepend",
     "outputPrepend",
     "outputPrepend",
     "outputPrepend",
     "outputPrepend",
     "outputPrepend",
     "outputPrepend",
     "outputPrepend",
     "outputPrepend",
     "outputPrepend",
     "outputPrepend",
     "outputPrepend",
     "outputPrepend",
     "outputPrepend",
     "outputPrepend",
     "outputPrepend",
     "outputPrepend",
     "outputPrepend",
     "outputPrepend",
     "outputPrepend",
     "outputPrepend",
     "outputPrepend",
     "outputPrepend",
     "outputPrepend",
     "outputPrepend",
     "outputPrepend",
     "outputPrepend",
     "outputPrepend"
    ]
   },
   "outputs": [],
   "source": [
    "train_pd = pd.read_parquet(\"data/single_train_interp.parquet\")"
   ]
  },
  {
   "cell_type": "code",
   "execution_count": 51,
   "metadata": {},
   "outputs": [],
   "source": [
    "train_pd = train_pd[train_pd[\"VAERDI\"] > 100]"
   ]
  },
  {
   "cell_type": "code",
   "execution_count": 52,
   "metadata": {},
   "outputs": [
    {
     "output_type": "execute_result",
     "data": {
      "text/plain": "11372"
     },
     "metadata": {},
     "execution_count": 52
    }
   ],
   "source": [
    "len(train_pd)"
   ]
  },
  {
   "cell_type": "code",
   "execution_count": 53,
   "metadata": {},
   "outputs": [],
   "source": [
    "test_pd = pd.read_parquet(\"data/single_test_interp.parquet\")"
   ]
  },
  {
   "cell_type": "code",
   "execution_count": 54,
   "metadata": {},
   "outputs": [],
   "source": [
    "test_pd = test_pd[test_pd[\"TIME_CET\"].str.contains(\":00:\")]"
   ]
  },
  {
   "cell_type": "code",
   "execution_count": 55,
   "metadata": {},
   "outputs": [],
   "source": [
    "# test_pd = test_pd[test_pd['TIME_CET'].str.contains(':00:')].sort_values(by='TIME_CET')\n",
    "test_pd = test_pd.sort_values(by='TIME_CET')"
   ]
  },
  {
   "cell_type": "markdown",
   "metadata": {},
   "source": [
    "## NN"
   ]
  },
  {
   "cell_type": "code",
   "execution_count": 56,
   "metadata": {},
   "outputs": [],
   "source": [
    "feat_cols = [\"u_interp\", \"v_interp\", \"tmp_interp\",\"Rotor_diameter\",\"Navhub_height\",\"Slope\",\"Elevation\",\"Roughness\"] \n",
    "# feat_cols = [\"month\", \"hour\", \"Placement\",\"Turbine_type\", \"Roughness\", \"Capacity_kw\", \"Rotor_diameter\", \"Navhub_height\", \"ws10\", \"ws100\", \"wd10\", \"wd100\", \"tmp2\", \"tmp100\"]\n",
    "x_train = train_pd[feat_cols]\n",
    "y_train = train_pd[[\"VAERDI\"]]\n",
    "x_test = test_pd[feat_cols]\n",
    "y_test = test_pd[[\"VAERDI\"]]\n",
    "timeline = test_pd[[\"TIME_CET\"]]"
   ]
  },
  {
   "cell_type": "code",
   "execution_count": 57,
   "metadata": {},
   "outputs": [],
   "source": [
    "from sklearn.preprocessing import MinMaxScaler\n",
    "scaler = MinMaxScaler().fit(x_train)\n",
    "x_train = scaler.transform(x_train)\n",
    "x_test = scaler.transform(x_test)"
   ]
  },
  {
   "cell_type": "code",
   "execution_count": 58,
   "metadata": {},
   "outputs": [],
   "source": [
    "dtype = torch.float\n",
    "x_train_tensor = torch.tensor(x_train, dtype = dtype)\n",
    "x_test_tensor = torch.tensor(x_test, dtype = dtype)\n",
    "y_train_tensor = torch.tensor(y_train.values, dtype = dtype)\n",
    "y_test_tensor = torch.tensor(y_test.values, dtype = dtype)"
   ]
  },
  {
   "cell_type": "code",
   "execution_count": 59,
   "metadata": {},
   "outputs": [
    {
     "output_type": "stream",
     "name": "stdout",
     "text": "Epoch 0 train loss: 61697.6875 test loss: 185503.078125\nEpoch 10 train loss: 21567.296875 test loss: 86361.4296875\nEpoch 20 train loss: 19044.865234375 test loss: 37764.5390625\nEpoch 30 train loss: 16940.87890625 test loss: 46898.37890625\nEpoch 40 train loss: 16812.51171875 test loss: 54551.046875\nEpoch 50 train loss: 16321.2841796875 test loss: 49448.72265625\nEpoch 60 train loss: 15959.4990234375 test loss: 44098.92578125\nEpoch 70 train loss: 15708.69921875 test loss: 40815.06640625\nEpoch 80 train loss: 15498.90234375 test loss: 38394.91015625\nEpoch 90 train loss: 15333.865234375 test loss: 36403.44921875\nEpoch 99 train loss: 15220.216796875 test loss: 34839.73828125\n"
    }
   ],
   "source": [
    "model = NN(\n",
    "  input_size=8,\n",
    "  hidden_size=1000,\n",
    "  output_size=1\n",
    ")\n",
    "model, train_hist, test_hist = train_model(\n",
    "  model, \n",
    "  0.1,\n",
    "  100,\n",
    "  x_train_tensor, \n",
    "  y_train_tensor, \n",
    "  x_test_tensor, \n",
    "  y_test_tensor\n",
    ")"
   ]
  },
  {
   "cell_type": "code",
   "execution_count": 60,
   "metadata": {},
   "outputs": [
    {
     "output_type": "execute_result",
     "data": {
      "text/plain": "<matplotlib.legend.Legend at 0x13544f390>"
     },
     "metadata": {},
     "execution_count": 60
    },
    {
     "output_type": "display_data",
     "data": {
      "text/plain": "<Figure size 432x288 with 1 Axes>",
      "image/svg+xml": "<?xml version=\"1.0\" encoding=\"utf-8\" standalone=\"no\"?>\n<!DOCTYPE svg PUBLIC \"-//W3C//DTD SVG 1.1//EN\"\n  \"http://www.w3.org/Graphics/SVG/1.1/DTD/svg11.dtd\">\n<!-- Created with matplotlib (https://matplotlib.org/) -->\n<svg height=\"251.399844pt\" version=\"1.1\" viewBox=\"0 0 395.402187 251.399844\" width=\"395.402187pt\" xmlns=\"http://www.w3.org/2000/svg\" xmlns:xlink=\"http://www.w3.org/1999/xlink\">\n <defs>\n  <style type=\"text/css\">\n*{stroke-linecap:butt;stroke-linejoin:round;}\n  </style>\n </defs>\n <g id=\"figure_1\">\n  <g id=\"patch_1\">\n   <path d=\"M 0 251.399844 \nL 395.402187 251.399844 \nL 395.402187 0 \nL 0 0 \nz\n\" style=\"fill:#ffffff;\"/>\n  </g>\n  <g id=\"axes_1\">\n   <g id=\"patch_2\">\n    <path d=\"M 53.402188 224.64 \nL 388.202188 224.64 \nL 388.202188 7.2 \nL 53.402188 7.2 \nz\n\" style=\"fill:#ffffff;\"/>\n   </g>\n   <g id=\"matplotlib.axis_1\">\n    <g id=\"xtick_1\">\n     <g id=\"line2d_1\">\n      <path clip-path=\"url(#p55f671c6f4)\" d=\"M 68.620369 224.64 \nL 68.620369 7.2 \n\" style=\"fill:none;stroke:#cccccc;stroke-linecap:round;\"/>\n     </g>\n     <g id=\"text_1\">\n      <!-- 0 -->\n      <defs>\n       <path d=\"M 4.15625 35.296875 \nQ 4.15625 48 6.765625 55.734375 \nQ 9.375 63.484375 14.515625 67.671875 \nQ 19.671875 71.875 27.484375 71.875 \nQ 33.25 71.875 37.59375 69.546875 \nQ 41.9375 67.234375 44.765625 62.859375 \nQ 47.609375 58.5 49.21875 52.21875 \nQ 50.828125 45.953125 50.828125 35.296875 \nQ 50.828125 22.703125 48.234375 14.96875 \nQ 45.65625 7.234375 40.5 3 \nQ 35.359375 -1.21875 27.484375 -1.21875 \nQ 17.140625 -1.21875 11.234375 6.203125 \nQ 4.15625 15.140625 4.15625 35.296875 \nz\nM 13.1875 35.296875 \nQ 13.1875 17.671875 17.3125 11.828125 \nQ 21.4375 6 27.484375 6 \nQ 33.546875 6 37.671875 11.859375 \nQ 41.796875 17.71875 41.796875 35.296875 \nQ 41.796875 52.984375 37.671875 58.78125 \nQ 33.546875 64.59375 27.390625 64.59375 \nQ 21.34375 64.59375 17.71875 59.46875 \nQ 13.1875 52.9375 13.1875 35.296875 \nz\n\" id=\"ArialMT-48\"/>\n      </defs>\n      <g style=\"fill:#262626;\" transform=\"translate(65.561854 242.013594)scale(0.11 -0.11)\">\n       <use xlink:href=\"#ArialMT-48\"/>\n      </g>\n     </g>\n    </g>\n    <g id=\"xtick_2\">\n     <g id=\"line2d_2\">\n      <path clip-path=\"url(#p55f671c6f4)\" d=\"M 130.107973 224.64 \nL 130.107973 7.2 \n\" style=\"fill:none;stroke:#cccccc;stroke-linecap:round;\"/>\n     </g>\n     <g id=\"text_2\">\n      <!-- 20 -->\n      <defs>\n       <path d=\"M 50.34375 8.453125 \nL 50.34375 0 \nL 3.03125 0 \nQ 2.9375 3.171875 4.046875 6.109375 \nQ 5.859375 10.9375 9.828125 15.625 \nQ 13.8125 20.3125 21.34375 26.46875 \nQ 33.015625 36.03125 37.109375 41.625 \nQ 41.21875 47.21875 41.21875 52.203125 \nQ 41.21875 57.421875 37.46875 61 \nQ 33.734375 64.59375 27.734375 64.59375 \nQ 21.390625 64.59375 17.578125 60.78125 \nQ 13.765625 56.984375 13.71875 50.25 \nL 4.6875 51.171875 \nQ 5.609375 61.28125 11.65625 66.578125 \nQ 17.71875 71.875 27.9375 71.875 \nQ 38.234375 71.875 44.234375 66.15625 \nQ 50.25 60.453125 50.25 52 \nQ 50.25 47.703125 48.484375 43.546875 \nQ 46.734375 39.40625 42.65625 34.8125 \nQ 38.578125 30.21875 29.109375 22.21875 \nQ 21.1875 15.578125 18.9375 13.203125 \nQ 16.703125 10.84375 15.234375 8.453125 \nz\n\" id=\"ArialMT-50\"/>\n      </defs>\n      <g style=\"fill:#262626;\" transform=\"translate(123.990941 242.013594)scale(0.11 -0.11)\">\n       <use xlink:href=\"#ArialMT-50\"/>\n       <use x=\"55.615234\" xlink:href=\"#ArialMT-48\"/>\n      </g>\n     </g>\n    </g>\n    <g id=\"xtick_3\">\n     <g id=\"line2d_3\">\n      <path clip-path=\"url(#p55f671c6f4)\" d=\"M 191.595576 224.64 \nL 191.595576 7.2 \n\" style=\"fill:none;stroke:#cccccc;stroke-linecap:round;\"/>\n     </g>\n     <g id=\"text_3\">\n      <!-- 40 -->\n      <defs>\n       <path d=\"M 32.328125 0 \nL 32.328125 17.140625 \nL 1.265625 17.140625 \nL 1.265625 25.203125 \nL 33.9375 71.578125 \nL 41.109375 71.578125 \nL 41.109375 25.203125 \nL 50.78125 25.203125 \nL 50.78125 17.140625 \nL 41.109375 17.140625 \nL 41.109375 0 \nz\nM 32.328125 25.203125 \nL 32.328125 57.46875 \nL 9.90625 25.203125 \nz\n\" id=\"ArialMT-52\"/>\n      </defs>\n      <g style=\"fill:#262626;\" transform=\"translate(185.478545 242.013594)scale(0.11 -0.11)\">\n       <use xlink:href=\"#ArialMT-52\"/>\n       <use x=\"55.615234\" xlink:href=\"#ArialMT-48\"/>\n      </g>\n     </g>\n    </g>\n    <g id=\"xtick_4\">\n     <g id=\"line2d_4\">\n      <path clip-path=\"url(#p55f671c6f4)\" d=\"M 253.083179 224.64 \nL 253.083179 7.2 \n\" style=\"fill:none;stroke:#cccccc;stroke-linecap:round;\"/>\n     </g>\n     <g id=\"text_4\">\n      <!-- 60 -->\n      <defs>\n       <path d=\"M 49.75 54.046875 \nL 41.015625 53.375 \nQ 39.84375 58.546875 37.703125 60.890625 \nQ 34.125 64.65625 28.90625 64.65625 \nQ 24.703125 64.65625 21.53125 62.3125 \nQ 17.390625 59.28125 14.984375 53.46875 \nQ 12.59375 47.65625 12.5 36.921875 \nQ 15.671875 41.75 20.265625 44.09375 \nQ 24.859375 46.4375 29.890625 46.4375 \nQ 38.671875 46.4375 44.84375 39.96875 \nQ 51.03125 33.5 51.03125 23.25 \nQ 51.03125 16.5 48.125 10.71875 \nQ 45.21875 4.9375 40.140625 1.859375 \nQ 35.0625 -1.21875 28.609375 -1.21875 \nQ 17.625 -1.21875 10.6875 6.859375 \nQ 3.765625 14.9375 3.765625 33.5 \nQ 3.765625 54.25 11.421875 63.671875 \nQ 18.109375 71.875 29.4375 71.875 \nQ 37.890625 71.875 43.28125 67.140625 \nQ 48.6875 62.40625 49.75 54.046875 \nz\nM 13.875 23.1875 \nQ 13.875 18.65625 15.796875 14.5 \nQ 17.71875 10.359375 21.1875 8.171875 \nQ 24.65625 6 28.46875 6 \nQ 34.03125 6 38.03125 10.484375 \nQ 42.046875 14.984375 42.046875 22.703125 \nQ 42.046875 30.125 38.078125 34.390625 \nQ 34.125 38.671875 28.125 38.671875 \nQ 22.171875 38.671875 18.015625 34.390625 \nQ 13.875 30.125 13.875 23.1875 \nz\n\" id=\"ArialMT-54\"/>\n      </defs>\n      <g style=\"fill:#262626;\" transform=\"translate(246.966148 242.013594)scale(0.11 -0.11)\">\n       <use xlink:href=\"#ArialMT-54\"/>\n       <use x=\"55.615234\" xlink:href=\"#ArialMT-48\"/>\n      </g>\n     </g>\n    </g>\n    <g id=\"xtick_5\">\n     <g id=\"line2d_5\">\n      <path clip-path=\"url(#p55f671c6f4)\" d=\"M 314.570783 224.64 \nL 314.570783 7.2 \n\" style=\"fill:none;stroke:#cccccc;stroke-linecap:round;\"/>\n     </g>\n     <g id=\"text_5\">\n      <!-- 80 -->\n      <defs>\n       <path d=\"M 17.671875 38.8125 \nQ 12.203125 40.828125 9.5625 44.53125 \nQ 6.9375 48.25 6.9375 53.421875 \nQ 6.9375 61.234375 12.546875 66.546875 \nQ 18.171875 71.875 27.484375 71.875 \nQ 36.859375 71.875 42.578125 66.421875 \nQ 48.296875 60.984375 48.296875 53.171875 \nQ 48.296875 48.1875 45.671875 44.5 \nQ 43.0625 40.828125 37.75 38.8125 \nQ 44.34375 36.671875 47.78125 31.875 \nQ 51.21875 27.09375 51.21875 20.453125 \nQ 51.21875 11.28125 44.71875 5.03125 \nQ 38.234375 -1.21875 27.640625 -1.21875 \nQ 17.046875 -1.21875 10.546875 5.046875 \nQ 4.046875 11.328125 4.046875 20.703125 \nQ 4.046875 27.6875 7.59375 32.390625 \nQ 11.140625 37.109375 17.671875 38.8125 \nz\nM 15.921875 53.71875 \nQ 15.921875 48.640625 19.1875 45.40625 \nQ 22.46875 42.1875 27.6875 42.1875 \nQ 32.765625 42.1875 36.015625 45.375 \nQ 39.265625 48.578125 39.265625 53.21875 \nQ 39.265625 58.0625 35.90625 61.359375 \nQ 32.5625 64.65625 27.59375 64.65625 \nQ 22.5625 64.65625 19.234375 61.421875 \nQ 15.921875 58.203125 15.921875 53.71875 \nz\nM 13.09375 20.65625 \nQ 13.09375 16.890625 14.875 13.375 \nQ 16.65625 9.859375 20.171875 7.921875 \nQ 23.6875 6 27.734375 6 \nQ 34.03125 6 38.125 10.046875 \nQ 42.234375 14.109375 42.234375 20.359375 \nQ 42.234375 26.703125 38.015625 30.859375 \nQ 33.796875 35.015625 27.4375 35.015625 \nQ 21.234375 35.015625 17.15625 30.90625 \nQ 13.09375 26.8125 13.09375 20.65625 \nz\n\" id=\"ArialMT-56\"/>\n      </defs>\n      <g style=\"fill:#262626;\" transform=\"translate(308.453751 242.013594)scale(0.11 -0.11)\">\n       <use xlink:href=\"#ArialMT-56\"/>\n       <use x=\"55.615234\" xlink:href=\"#ArialMT-48\"/>\n      </g>\n     </g>\n    </g>\n    <g id=\"xtick_6\">\n     <g id=\"line2d_6\">\n      <path clip-path=\"url(#p55f671c6f4)\" d=\"M 376.058386 224.64 \nL 376.058386 7.2 \n\" style=\"fill:none;stroke:#cccccc;stroke-linecap:round;\"/>\n     </g>\n     <g id=\"text_6\">\n      <!-- 100 -->\n      <defs>\n       <path d=\"M 37.25 0 \nL 28.46875 0 \nL 28.46875 56 \nQ 25.296875 52.984375 20.140625 49.953125 \nQ 14.984375 46.921875 10.890625 45.40625 \nL 10.890625 53.90625 \nQ 18.265625 57.375 23.78125 62.296875 \nQ 29.296875 67.234375 31.59375 71.875 \nL 37.25 71.875 \nz\n\" id=\"ArialMT-49\"/>\n      </defs>\n      <g style=\"fill:#262626;\" transform=\"translate(366.882839 242.013594)scale(0.11 -0.11)\">\n       <use xlink:href=\"#ArialMT-49\"/>\n       <use x=\"55.615234\" xlink:href=\"#ArialMT-48\"/>\n       <use x=\"111.230469\" xlink:href=\"#ArialMT-48\"/>\n      </g>\n     </g>\n    </g>\n   </g>\n   <g id=\"matplotlib.axis_2\">\n    <g id=\"ytick_1\">\n     <g id=\"line2d_7\">\n      <path clip-path=\"url(#p55f671c6f4)\" d=\"M 53.402188 203.40351 \nL 388.202188 203.40351 \n\" style=\"fill:none;stroke:#cccccc;stroke-linecap:round;\"/>\n     </g>\n     <g id=\"text_7\">\n      <!-- 25000 -->\n      <defs>\n       <path d=\"M 4.15625 18.75 \nL 13.375 19.53125 \nQ 14.40625 12.796875 18.140625 9.390625 \nQ 21.875 6 27.15625 6 \nQ 33.5 6 37.890625 10.78125 \nQ 42.28125 15.578125 42.28125 23.484375 \nQ 42.28125 31 38.0625 35.34375 \nQ 33.84375 39.703125 27 39.703125 \nQ 22.75 39.703125 19.328125 37.765625 \nQ 15.921875 35.84375 13.96875 32.765625 \nL 5.71875 33.84375 \nL 12.640625 70.609375 \nL 48.25 70.609375 \nL 48.25 62.203125 \nL 19.671875 62.203125 \nL 15.828125 42.96875 \nQ 22.265625 47.46875 29.34375 47.46875 \nQ 38.71875 47.46875 45.15625 40.96875 \nQ 51.609375 34.46875 51.609375 24.265625 \nQ 51.609375 14.546875 45.953125 7.46875 \nQ 39.0625 -1.21875 27.15625 -1.21875 \nQ 17.390625 -1.21875 11.203125 4.25 \nQ 5.03125 9.71875 4.15625 18.75 \nz\n\" id=\"ArialMT-53\"/>\n      </defs>\n      <g style=\"fill:#262626;\" transform=\"translate(13.317031 207.340307)scale(0.11 -0.11)\">\n       <use xlink:href=\"#ArialMT-50\"/>\n       <use x=\"55.615234\" xlink:href=\"#ArialMT-53\"/>\n       <use x=\"111.230469\" xlink:href=\"#ArialMT-48\"/>\n       <use x=\"166.845703\" xlink:href=\"#ArialMT-48\"/>\n       <use x=\"222.460938\" xlink:href=\"#ArialMT-48\"/>\n      </g>\n     </g>\n    </g>\n    <g id=\"ytick_2\">\n     <g id=\"line2d_8\">\n      <path clip-path=\"url(#p55f671c6f4)\" d=\"M 53.402188 174.382279 \nL 388.202188 174.382279 \n\" style=\"fill:none;stroke:#cccccc;stroke-linecap:round;\"/>\n     </g>\n     <g id=\"text_8\">\n      <!-- 50000 -->\n      <g style=\"fill:#262626;\" transform=\"translate(13.317031 178.319076)scale(0.11 -0.11)\">\n       <use xlink:href=\"#ArialMT-53\"/>\n       <use x=\"55.615234\" xlink:href=\"#ArialMT-48\"/>\n       <use x=\"111.230469\" xlink:href=\"#ArialMT-48\"/>\n       <use x=\"166.845703\" xlink:href=\"#ArialMT-48\"/>\n       <use x=\"222.460938\" xlink:href=\"#ArialMT-48\"/>\n      </g>\n     </g>\n    </g>\n    <g id=\"ytick_3\">\n     <g id=\"line2d_9\">\n      <path clip-path=\"url(#p55f671c6f4)\" d=\"M 53.402188 145.361049 \nL 388.202188 145.361049 \n\" style=\"fill:none;stroke:#cccccc;stroke-linecap:round;\"/>\n     </g>\n     <g id=\"text_9\">\n      <!-- 75000 -->\n      <defs>\n       <path d=\"M 4.734375 62.203125 \nL 4.734375 70.65625 \nL 51.078125 70.65625 \nL 51.078125 63.8125 \nQ 44.234375 56.546875 37.515625 44.484375 \nQ 30.8125 32.421875 27.15625 19.671875 \nQ 24.515625 10.6875 23.78125 0 \nL 14.75 0 \nQ 14.890625 8.453125 18.0625 20.40625 \nQ 21.234375 32.375 27.171875 43.484375 \nQ 33.109375 54.59375 39.796875 62.203125 \nz\n\" id=\"ArialMT-55\"/>\n      </defs>\n      <g style=\"fill:#262626;\" transform=\"translate(13.317031 149.297846)scale(0.11 -0.11)\">\n       <use xlink:href=\"#ArialMT-55\"/>\n       <use x=\"55.615234\" xlink:href=\"#ArialMT-53\"/>\n       <use x=\"111.230469\" xlink:href=\"#ArialMT-48\"/>\n       <use x=\"166.845703\" xlink:href=\"#ArialMT-48\"/>\n       <use x=\"222.460938\" xlink:href=\"#ArialMT-48\"/>\n      </g>\n     </g>\n    </g>\n    <g id=\"ytick_4\">\n     <g id=\"line2d_10\">\n      <path clip-path=\"url(#p55f671c6f4)\" d=\"M 53.402188 116.339818 \nL 388.202188 116.339818 \n\" style=\"fill:none;stroke:#cccccc;stroke-linecap:round;\"/>\n     </g>\n     <g id=\"text_10\">\n      <!-- 100000 -->\n      <g style=\"fill:#262626;\" transform=\"translate(7.2 120.276615)scale(0.11 -0.11)\">\n       <use xlink:href=\"#ArialMT-49\"/>\n       <use x=\"55.615234\" xlink:href=\"#ArialMT-48\"/>\n       <use x=\"111.230469\" xlink:href=\"#ArialMT-48\"/>\n       <use x=\"166.845703\" xlink:href=\"#ArialMT-48\"/>\n       <use x=\"222.460938\" xlink:href=\"#ArialMT-48\"/>\n       <use x=\"278.076172\" xlink:href=\"#ArialMT-48\"/>\n      </g>\n     </g>\n    </g>\n    <g id=\"ytick_5\">\n     <g id=\"line2d_11\">\n      <path clip-path=\"url(#p55f671c6f4)\" d=\"M 53.402188 87.318588 \nL 388.202188 87.318588 \n\" style=\"fill:none;stroke:#cccccc;stroke-linecap:round;\"/>\n     </g>\n     <g id=\"text_11\">\n      <!-- 125000 -->\n      <g style=\"fill:#262626;\" transform=\"translate(7.2 91.255384)scale(0.11 -0.11)\">\n       <use xlink:href=\"#ArialMT-49\"/>\n       <use x=\"55.615234\" xlink:href=\"#ArialMT-50\"/>\n       <use x=\"111.230469\" xlink:href=\"#ArialMT-53\"/>\n       <use x=\"166.845703\" xlink:href=\"#ArialMT-48\"/>\n       <use x=\"222.460938\" xlink:href=\"#ArialMT-48\"/>\n       <use x=\"278.076172\" xlink:href=\"#ArialMT-48\"/>\n      </g>\n     </g>\n    </g>\n    <g id=\"ytick_6\">\n     <g id=\"line2d_12\">\n      <path clip-path=\"url(#p55f671c6f4)\" d=\"M 53.402188 58.297357 \nL 388.202188 58.297357 \n\" style=\"fill:none;stroke:#cccccc;stroke-linecap:round;\"/>\n     </g>\n     <g id=\"text_12\">\n      <!-- 150000 -->\n      <g style=\"fill:#262626;\" transform=\"translate(7.2 62.234154)scale(0.11 -0.11)\">\n       <use xlink:href=\"#ArialMT-49\"/>\n       <use x=\"55.615234\" xlink:href=\"#ArialMT-53\"/>\n       <use x=\"111.230469\" xlink:href=\"#ArialMT-48\"/>\n       <use x=\"166.845703\" xlink:href=\"#ArialMT-48\"/>\n       <use x=\"222.460938\" xlink:href=\"#ArialMT-48\"/>\n       <use x=\"278.076172\" xlink:href=\"#ArialMT-48\"/>\n      </g>\n     </g>\n    </g>\n    <g id=\"ytick_7\">\n     <g id=\"line2d_13\">\n      <path clip-path=\"url(#p55f671c6f4)\" d=\"M 53.402188 29.276126 \nL 388.202188 29.276126 \n\" style=\"fill:none;stroke:#cccccc;stroke-linecap:round;\"/>\n     </g>\n     <g id=\"text_13\">\n      <!-- 175000 -->\n      <g style=\"fill:#262626;\" transform=\"translate(7.2 33.212923)scale(0.11 -0.11)\">\n       <use xlink:href=\"#ArialMT-49\"/>\n       <use x=\"55.615234\" xlink:href=\"#ArialMT-55\"/>\n       <use x=\"111.230469\" xlink:href=\"#ArialMT-53\"/>\n       <use x=\"166.845703\" xlink:href=\"#ArialMT-48\"/>\n       <use x=\"222.460938\" xlink:href=\"#ArialMT-48\"/>\n       <use x=\"278.076172\" xlink:href=\"#ArialMT-48\"/>\n      </g>\n     </g>\n    </g>\n   </g>\n   <g id=\"line2d_14\">\n    <path clip-path=\"url(#p55f671c6f4)\" d=\"M 68.620369 160.803028 \nL 71.694749 170.264031 \nL 74.76913 185.917139 \nL 77.84351 203.547058 \nL 80.91789 209.643603 \nL 83.99227 196.927688 \nL 87.06665 197.76877 \nL 90.14103 206.212767 \nL 93.215411 210.884755 \nL 96.289791 210.152003 \nL 99.364171 207.388361 \nL 102.438551 205.479578 \nL 105.512931 205.41796 \nL 108.587311 206.990559 \nL 111.661692 209.370456 \nL 114.736072 211.406185 \nL 117.810452 212.034247 \nL 120.884832 211.042784 \nL 123.959212 209.591718 \nL 127.033592 209.25441 \nL 130.107973 210.316523 \nL 133.182353 211.734183 \nL 136.256733 212.458442 \nL 139.331113 212.277295 \nL 142.405493 211.65903 \nL 145.479873 211.192137 \nL 148.554254 211.204362 \nL 151.628634 211.674282 \nL 154.703014 212.315368 \nL 157.777394 212.752711 \nL 160.851774 212.758934 \nL 163.926154 212.440429 \nL 167.000535 212.170819 \nL 170.074915 212.244377 \nL 173.149295 212.60314 \nL 176.223675 212.948291 \nL 179.298055 213.056815 \nL 182.372435 212.946353 \nL 185.446816 212.795102 \nL 188.521196 212.76894 \nL 191.595576 212.907949 \nL 194.669956 213.121745 \nL 197.744336 213.271261 \nL 200.818716 213.281627 \nL 203.893097 213.204793 \nL 206.967477 213.166966 \nL 210.041857 213.240968 \nL 213.116237 213.380755 \nL 216.190617 213.485352 \nL 219.264997 213.505593 \nL 222.339378 213.47819 \nL 225.413758 213.474426 \nL 228.488138 213.53091 \nL 231.562518 213.623537 \nL 234.636898 213.69732 \nL 237.711278 213.721245 \nL 240.785659 213.717068 \nL 243.860039 213.732399 \nL 246.934419 213.786872 \nL 250.008799 213.854296 \nL 253.083179 213.898168 \nL 256.157559 213.91277 \nL 259.23194 213.923525 \nL 262.30632 213.954724 \nL 265.3807 214.004222 \nL 268.45508 214.049474 \nL 271.52946 214.074908 \nL 274.60384 214.089223 \nL 277.678221 214.112621 \nL 280.752601 214.150645 \nL 283.826981 214.189309 \nL 286.901361 214.215376 \nL 289.975741 214.232608 \nL 293.050121 214.254269 \nL 296.124502 214.285202 \nL 299.198882 214.317007 \nL 302.273262 214.340596 \nL 305.347642 214.35832 \nL 308.422022 214.379495 \nL 311.496402 214.406626 \nL 314.570783 214.432852 \nL 317.645163 214.453023 \nL 320.719543 214.470563 \nL 323.793923 214.491256 \nL 326.868303 214.514628 \nL 329.942683 214.535542 \nL 333.017064 214.552394 \nL 336.091444 214.569114 \nL 339.165824 214.588478 \nL 342.240204 214.607927 \nL 345.314584 214.624435 \nL 348.388964 214.639334 \nL 351.463345 214.65547 \nL 354.537725 214.672428 \nL 357.612105 214.687701 \nL 360.686485 214.701173 \nL 363.760865 214.715019 \nL 366.835245 214.729777 \nL 369.909626 214.743796 \nL 372.984006 214.756364 \n\" style=\"fill:none;stroke:#4c72b0;stroke-linecap:round;stroke-width:1.5;\"/>\n   </g>\n   <g id=\"line2d_15\">\n    <path clip-path=\"url(#p55f671c6f4)\" d=\"M 68.620369 17.083636 \nL 71.694749 35.192558 \nL 74.76913 68.201414 \nL 77.84351 116.645294 \nL 80.91789 170.928898 \nL 83.99227 203.686315 \nL 87.06665 203.524399 \nL 90.14103 189.903872 \nL 93.215411 168.987917 \nL 96.289791 147.751537 \nL 99.364171 132.172142 \nL 102.438551 124.541971 \nL 105.512931 124.535912 \nL 108.587311 130.910507 \nL 111.661692 142.12715 \nL 114.736072 156.220322 \nL 117.810452 170.650965 \nL 120.884832 182.598339 \nL 123.959212 189.864607 \nL 127.033592 191.692156 \nL 130.107973 188.585805 \nL 133.182353 181.765661 \nL 136.256733 173.006532 \nL 139.331113 164.40581 \nL 142.405493 157.833027 \nL 145.479873 154.459721 \nL 148.554254 154.655515 \nL 151.628634 158.115753 \nL 154.703014 164.009851 \nL 157.777394 171.111011 \nL 160.851774 177.982794 \nL 163.926154 183.27988 \nL 167.000535 186.086573 \nL 170.074915 186.106485 \nL 173.149295 183.64645 \nL 176.223675 179.501643 \nL 179.298055 174.786309 \nL 182.372435 170.674667 \nL 185.446816 168.106724 \nL 188.521196 167.582546 \nL 191.595576 169.0992 \nL 194.669956 172.201261 \nL 197.744336 176.10502 \nL 200.818716 179.884392 \nL 203.893097 182.697628 \nL 206.967477 183.995662 \nL 210.041857 183.639104 \nL 213.116237 181.901884 \nL 216.190617 179.383848 \nL 219.264997 176.849696 \nL 222.339378 175.022229 \nL 225.413758 174.388387 \nL 228.488138 175.083686 \nL 231.562518 176.88054 \nL 234.636898 179.270656 \nL 237.711278 181.617526 \nL 240.785659 183.339859 \nL 243.860039 184.073715 \nL 246.934419 183.763306 \nL 250.008799 182.659234 \nL 253.083179 181.232537 \nL 256.157559 180.026623 \nL 259.23194 179.485531 \nL 262.30632 179.819915 \nL 265.3807 180.951276 \nL 268.45508 182.552549 \nL 271.52946 184.166647 \nL 274.60384 185.362194 \nL 277.678221 185.877036 \nL 280.752601 185.696356 \nL 283.826981 185.044602 \nL 286.901361 184.298217 \nL 289.975741 183.84632 \nL 293.050121 183.947595 \nL 296.124502 184.639584 \nL 299.198882 185.735362 \nL 302.273262 186.906396 \nL 305.347642 187.817404 \nL 308.422022 188.255779 \nL 311.496402 188.207735 \nL 314.570783 187.854039 \nL 317.645163 187.48726 \nL 320.719543 187.386711 \nL 323.793923 187.69931 \nL 326.868303 188.384425 \nL 329.942683 189.240047 \nL 333.017064 189.999302 \nL 336.091444 190.45455 \nL 339.165824 190.545255 \nL 342.240204 190.376945 \nL 345.314584 190.165825 \nL 348.388964 190.130718 \nL 351.463345 190.386704 \nL 354.537725 190.896829 \nL 357.612105 191.498344 \nL 360.686485 191.988612 \nL 363.760865 192.23244 \nL 366.835245 192.224228 \nL 369.909626 192.082119 \nL 372.984006 191.981057 \n\" style=\"fill:none;stroke:#dd8452;stroke-linecap:round;stroke-width:1.5;\"/>\n   </g>\n   <g id=\"patch_3\">\n    <path d=\"M 53.402188 224.64 \nL 53.402188 7.2 \n\" style=\"fill:none;stroke:#cccccc;stroke-linecap:square;stroke-linejoin:miter;stroke-width:1.25;\"/>\n   </g>\n   <g id=\"patch_4\">\n    <path d=\"M 388.202188 224.64 \nL 388.202188 7.2 \n\" style=\"fill:none;stroke:#cccccc;stroke-linecap:square;stroke-linejoin:miter;stroke-width:1.25;\"/>\n   </g>\n   <g id=\"patch_5\">\n    <path d=\"M 53.402187 224.64 \nL 388.202187 224.64 \n\" style=\"fill:none;stroke:#cccccc;stroke-linecap:square;stroke-linejoin:miter;stroke-width:1.25;\"/>\n   </g>\n   <g id=\"patch_6\">\n    <path d=\"M 53.402187 7.2 \nL 388.202187 7.2 \n\" style=\"fill:none;stroke:#cccccc;stroke-linecap:square;stroke-linejoin:miter;stroke-width:1.25;\"/>\n   </g>\n   <g id=\"legend_1\">\n    <g id=\"patch_7\">\n     <path d=\"M 283.360156 47.248594 \nL 380.502188 47.248594 \nQ 382.702188 47.248594 382.702188 45.048594 \nL 382.702188 14.9 \nQ 382.702188 12.7 380.502188 12.7 \nL 283.360156 12.7 \nQ 281.160156 12.7 281.160156 14.9 \nL 281.160156 45.048594 \nQ 281.160156 47.248594 283.360156 47.248594 \nz\n\" style=\"fill:#ffffff;opacity:0.8;stroke:#cccccc;stroke-linejoin:miter;\"/>\n    </g>\n    <g id=\"line2d_16\">\n     <path d=\"M 285.560156 21.123594 \nL 307.560156 21.123594 \n\" style=\"fill:none;stroke:#4c72b0;stroke-linecap:round;stroke-width:1.5;\"/>\n    </g>\n    <g id=\"line2d_17\"/>\n    <g id=\"text_14\">\n     <!-- Training loss -->\n     <defs>\n      <path d=\"M 25.921875 0 \nL 25.921875 63.140625 \nL 2.34375 63.140625 \nL 2.34375 71.578125 \nL 59.078125 71.578125 \nL 59.078125 63.140625 \nL 35.40625 63.140625 \nL 35.40625 0 \nz\n\" id=\"ArialMT-84\"/>\n      <path d=\"M 6.5 0 \nL 6.5 51.859375 \nL 14.40625 51.859375 \nL 14.40625 44 \nQ 17.4375 49.515625 20 51.265625 \nQ 22.5625 53.03125 25.640625 53.03125 \nQ 30.078125 53.03125 34.671875 50.203125 \nL 31.640625 42.046875 \nQ 28.421875 43.953125 25.203125 43.953125 \nQ 22.3125 43.953125 20.015625 42.21875 \nQ 17.71875 40.484375 16.75 37.40625 \nQ 15.28125 32.71875 15.28125 27.15625 \nL 15.28125 0 \nz\n\" id=\"ArialMT-114\"/>\n      <path d=\"M 40.4375 6.390625 \nQ 35.546875 2.25 31.03125 0.53125 \nQ 26.515625 -1.171875 21.34375 -1.171875 \nQ 12.796875 -1.171875 8.203125 3 \nQ 3.609375 7.171875 3.609375 13.671875 \nQ 3.609375 17.484375 5.34375 20.625 \nQ 7.078125 23.78125 9.890625 25.6875 \nQ 12.703125 27.59375 16.21875 28.5625 \nQ 18.796875 29.25 24.03125 29.890625 \nQ 34.671875 31.15625 39.703125 32.90625 \nQ 39.75 34.71875 39.75 35.203125 \nQ 39.75 40.578125 37.25 42.78125 \nQ 33.890625 45.75 27.25 45.75 \nQ 21.046875 45.75 18.09375 43.578125 \nQ 15.140625 41.40625 13.71875 35.890625 \nL 5.125 37.0625 \nQ 6.296875 42.578125 8.984375 45.96875 \nQ 11.671875 49.359375 16.75 51.1875 \nQ 21.828125 53.03125 28.515625 53.03125 \nQ 35.15625 53.03125 39.296875 51.46875 \nQ 43.453125 49.90625 45.40625 47.53125 \nQ 47.359375 45.171875 48.140625 41.546875 \nQ 48.578125 39.3125 48.578125 33.453125 \nL 48.578125 21.734375 \nQ 48.578125 9.46875 49.140625 6.21875 \nQ 49.703125 2.984375 51.375 0 \nL 42.1875 0 \nQ 40.828125 2.734375 40.4375 6.390625 \nz\nM 39.703125 26.03125 \nQ 34.90625 24.078125 25.34375 22.703125 \nQ 19.921875 21.921875 17.671875 20.9375 \nQ 15.4375 19.96875 14.203125 18.09375 \nQ 12.984375 16.21875 12.984375 13.921875 \nQ 12.984375 10.40625 15.640625 8.0625 \nQ 18.3125 5.71875 23.4375 5.71875 \nQ 28.515625 5.71875 32.46875 7.9375 \nQ 36.421875 10.15625 38.28125 14.015625 \nQ 39.703125 17 39.703125 22.796875 \nz\n\" id=\"ArialMT-97\"/>\n      <path d=\"M 6.640625 61.46875 \nL 6.640625 71.578125 \nL 15.4375 71.578125 \nL 15.4375 61.46875 \nz\nM 6.640625 0 \nL 6.640625 51.859375 \nL 15.4375 51.859375 \nL 15.4375 0 \nz\n\" id=\"ArialMT-105\"/>\n      <path d=\"M 6.59375 0 \nL 6.59375 51.859375 \nL 14.5 51.859375 \nL 14.5 44.484375 \nQ 20.21875 53.03125 31 53.03125 \nQ 35.6875 53.03125 39.625 51.34375 \nQ 43.5625 49.65625 45.515625 46.921875 \nQ 47.46875 44.1875 48.25 40.4375 \nQ 48.734375 37.984375 48.734375 31.890625 \nL 48.734375 0 \nL 39.9375 0 \nL 39.9375 31.546875 \nQ 39.9375 36.921875 38.90625 39.578125 \nQ 37.890625 42.234375 35.28125 43.8125 \nQ 32.671875 45.40625 29.15625 45.40625 \nQ 23.53125 45.40625 19.453125 41.84375 \nQ 15.375 38.28125 15.375 28.328125 \nL 15.375 0 \nz\n\" id=\"ArialMT-110\"/>\n      <path d=\"M 4.984375 -4.296875 \nL 13.53125 -5.5625 \nQ 14.0625 -9.515625 16.5 -11.328125 \nQ 19.78125 -13.765625 25.4375 -13.765625 \nQ 31.546875 -13.765625 34.859375 -11.328125 \nQ 38.1875 -8.890625 39.359375 -4.5 \nQ 40.046875 -1.8125 39.984375 6.78125 \nQ 34.234375 0 25.640625 0 \nQ 14.9375 0 9.078125 7.71875 \nQ 3.21875 15.4375 3.21875 26.21875 \nQ 3.21875 33.640625 5.90625 39.90625 \nQ 8.59375 46.1875 13.6875 49.609375 \nQ 18.796875 53.03125 25.6875 53.03125 \nQ 34.859375 53.03125 40.828125 45.609375 \nL 40.828125 51.859375 \nL 48.921875 51.859375 \nL 48.921875 7.03125 \nQ 48.921875 -5.078125 46.453125 -10.125 \nQ 44 -15.1875 38.640625 -18.109375 \nQ 33.296875 -21.046875 25.484375 -21.046875 \nQ 16.21875 -21.046875 10.5 -16.875 \nQ 4.78125 -12.703125 4.984375 -4.296875 \nz\nM 12.25 26.859375 \nQ 12.25 16.65625 16.296875 11.96875 \nQ 20.359375 7.28125 26.46875 7.28125 \nQ 32.515625 7.28125 36.609375 11.9375 \nQ 40.71875 16.609375 40.71875 26.5625 \nQ 40.71875 36.078125 36.5 40.90625 \nQ 32.28125 45.75 26.3125 45.75 \nQ 20.453125 45.75 16.34375 40.984375 \nQ 12.25 36.234375 12.25 26.859375 \nz\n\" id=\"ArialMT-103\"/>\n      <path id=\"ArialMT-32\"/>\n      <path d=\"M 6.390625 0 \nL 6.390625 71.578125 \nL 15.1875 71.578125 \nL 15.1875 0 \nz\n\" id=\"ArialMT-108\"/>\n      <path d=\"M 3.328125 25.921875 \nQ 3.328125 40.328125 11.328125 47.265625 \nQ 18.015625 53.03125 27.640625 53.03125 \nQ 38.328125 53.03125 45.109375 46.015625 \nQ 51.90625 39.015625 51.90625 26.65625 \nQ 51.90625 16.65625 48.90625 10.90625 \nQ 45.90625 5.171875 40.15625 2 \nQ 34.421875 -1.171875 27.640625 -1.171875 \nQ 16.75 -1.171875 10.03125 5.8125 \nQ 3.328125 12.796875 3.328125 25.921875 \nz\nM 12.359375 25.921875 \nQ 12.359375 15.96875 16.703125 11.015625 \nQ 21.046875 6.0625 27.640625 6.0625 \nQ 34.1875 6.0625 38.53125 11.03125 \nQ 42.875 16.015625 42.875 26.21875 \nQ 42.875 35.84375 38.5 40.796875 \nQ 34.125 45.75 27.640625 45.75 \nQ 21.046875 45.75 16.703125 40.8125 \nQ 12.359375 35.890625 12.359375 25.921875 \nz\n\" id=\"ArialMT-111\"/>\n      <path d=\"M 3.078125 15.484375 \nL 11.765625 16.84375 \nQ 12.5 11.625 15.84375 8.84375 \nQ 19.1875 6.0625 25.203125 6.0625 \nQ 31.25 6.0625 34.171875 8.515625 \nQ 37.109375 10.984375 37.109375 14.3125 \nQ 37.109375 17.28125 34.515625 19 \nQ 32.71875 20.171875 25.53125 21.96875 \nQ 15.875 24.421875 12.140625 26.203125 \nQ 8.40625 27.984375 6.46875 31.125 \nQ 4.546875 34.28125 4.546875 38.09375 \nQ 4.546875 41.546875 6.125 44.5 \nQ 7.71875 47.46875 10.453125 49.421875 \nQ 12.5 50.921875 16.03125 51.96875 \nQ 19.578125 53.03125 23.640625 53.03125 \nQ 29.734375 53.03125 34.34375 51.265625 \nQ 38.96875 49.515625 41.15625 46.5 \nQ 43.359375 43.5 44.1875 38.484375 \nL 35.59375 37.3125 \nQ 35.015625 41.3125 32.203125 43.546875 \nQ 29.390625 45.796875 24.265625 45.796875 \nQ 18.21875 45.796875 15.625 43.796875 \nQ 13.03125 41.796875 13.03125 39.109375 \nQ 13.03125 37.40625 14.109375 36.03125 \nQ 15.1875 34.625 17.484375 33.6875 \nQ 18.796875 33.203125 25.25 31.453125 \nQ 34.578125 28.953125 38.25 27.359375 \nQ 41.9375 25.78125 44.03125 22.75 \nQ 46.140625 19.734375 46.140625 15.234375 \nQ 46.140625 10.84375 43.578125 6.953125 \nQ 41.015625 3.078125 36.171875 0.953125 \nQ 31.34375 -1.171875 25.25 -1.171875 \nQ 15.140625 -1.171875 9.84375 3.03125 \nQ 4.546875 7.234375 3.078125 15.484375 \nz\n\" id=\"ArialMT-115\"/>\n     </defs>\n     <g style=\"fill:#262626;\" transform=\"translate(316.360156 24.973594)scale(0.11 -0.11)\">\n      <use xlink:href=\"#ArialMT-84\"/>\n      <use x=\"57.333984\" xlink:href=\"#ArialMT-114\"/>\n      <use x=\"90.634766\" xlink:href=\"#ArialMT-97\"/>\n      <use x=\"146.25\" xlink:href=\"#ArialMT-105\"/>\n      <use x=\"168.466797\" xlink:href=\"#ArialMT-110\"/>\n      <use x=\"224.082031\" xlink:href=\"#ArialMT-105\"/>\n      <use x=\"246.298828\" xlink:href=\"#ArialMT-110\"/>\n      <use x=\"301.914062\" xlink:href=\"#ArialMT-103\"/>\n      <use x=\"357.529297\" xlink:href=\"#ArialMT-32\"/>\n      <use x=\"385.3125\" xlink:href=\"#ArialMT-108\"/>\n      <use x=\"407.529297\" xlink:href=\"#ArialMT-111\"/>\n      <use x=\"463.144531\" xlink:href=\"#ArialMT-115\"/>\n      <use x=\"513.144531\" xlink:href=\"#ArialMT-115\"/>\n     </g>\n    </g>\n    <g id=\"line2d_18\">\n     <path d=\"M 285.560156 36.812344 \nL 307.560156 36.812344 \n\" style=\"fill:none;stroke:#dd8452;stroke-linecap:round;stroke-width:1.5;\"/>\n    </g>\n    <g id=\"line2d_19\"/>\n    <g id=\"text_15\">\n     <!-- Test loss -->\n     <defs>\n      <path d=\"M 42.09375 16.703125 \nL 51.171875 15.578125 \nQ 49.03125 7.625 43.21875 3.21875 \nQ 37.40625 -1.171875 28.375 -1.171875 \nQ 17 -1.171875 10.328125 5.828125 \nQ 3.65625 12.84375 3.65625 25.484375 \nQ 3.65625 38.578125 10.390625 45.796875 \nQ 17.140625 53.03125 27.875 53.03125 \nQ 38.28125 53.03125 44.875 45.953125 \nQ 51.46875 38.875 51.46875 26.03125 \nQ 51.46875 25.25 51.421875 23.6875 \nL 12.75 23.6875 \nQ 13.234375 15.140625 17.578125 10.59375 \nQ 21.921875 6.0625 28.421875 6.0625 \nQ 33.25 6.0625 36.671875 8.59375 \nQ 40.09375 11.140625 42.09375 16.703125 \nz\nM 13.234375 30.90625 \nL 42.1875 30.90625 \nQ 41.609375 37.453125 38.875 40.71875 \nQ 34.671875 45.796875 27.984375 45.796875 \nQ 21.921875 45.796875 17.796875 41.75 \nQ 13.671875 37.703125 13.234375 30.90625 \nz\n\" id=\"ArialMT-101\"/>\n      <path d=\"M 25.78125 7.859375 \nL 27.046875 0.09375 \nQ 23.34375 -0.6875 20.40625 -0.6875 \nQ 15.625 -0.6875 12.984375 0.828125 \nQ 10.359375 2.34375 9.28125 4.8125 \nQ 8.203125 7.28125 8.203125 15.1875 \nL 8.203125 45.015625 \nL 1.765625 45.015625 \nL 1.765625 51.859375 \nL 8.203125 51.859375 \nL 8.203125 64.703125 \nL 16.9375 69.96875 \nL 16.9375 51.859375 \nL 25.78125 51.859375 \nL 25.78125 45.015625 \nL 16.9375 45.015625 \nL 16.9375 14.703125 \nQ 16.9375 10.9375 17.40625 9.859375 \nQ 17.875 8.796875 18.921875 8.15625 \nQ 19.96875 7.515625 21.921875 7.515625 \nQ 23.390625 7.515625 25.78125 7.859375 \nz\n\" id=\"ArialMT-116\"/>\n     </defs>\n     <g style=\"fill:#262626;\" transform=\"translate(316.360156 40.662344)scale(0.11 -0.11)\">\n      <use xlink:href=\"#ArialMT-84\"/>\n      <use x=\"49.958984\" xlink:href=\"#ArialMT-101\"/>\n      <use x=\"105.574219\" xlink:href=\"#ArialMT-115\"/>\n      <use x=\"155.574219\" xlink:href=\"#ArialMT-116\"/>\n      <use x=\"183.357422\" xlink:href=\"#ArialMT-32\"/>\n      <use x=\"211.140625\" xlink:href=\"#ArialMT-108\"/>\n      <use x=\"233.357422\" xlink:href=\"#ArialMT-111\"/>\n      <use x=\"288.972656\" xlink:href=\"#ArialMT-115\"/>\n      <use x=\"338.972656\" xlink:href=\"#ArialMT-115\"/>\n     </g>\n    </g>\n   </g>\n  </g>\n </g>\n <defs>\n  <clipPath id=\"p55f671c6f4\">\n   <rect height=\"217.44\" width=\"334.8\" x=\"53.402188\" y=\"7.2\"/>\n  </clipPath>\n </defs>\n</svg>\n",
      "image/png": "[encoded data removed]"
     },
     "metadata": {}
    }
   ],
   "source": [
    "plt.plot(train_hist, label=\"Training loss\")\n",
    "plt.plot(test_hist, label=\"Test loss\")\n",
    "plt.legend()"
   ]
  },
  {
   "cell_type": "code",
   "execution_count": 61,
   "metadata": {},
   "outputs": [],
   "source": [
    "y_pred_tensor = model(x_test_tensor)\n",
    "y_pred = y_pred_tensor.detach().flatten().numpy()\n",
    "y_test[\"pred\"] = y_pred\n",
    "y_test[\"time\"] = pd.Series(timeline[\"TIME_CET\"])\n",
    "# y_test = y_test.groupby(y_test[\"time\"]).agg({\"VAERDI\":lambda x:sum(x), \"pred\":lambda x:sum(x)}).reset_index()"
   ]
  },
  {
   "cell_type": "code",
   "execution_count": 62,
   "metadata": {},
   "outputs": [
    {
     "output_type": "execute_result",
     "data": {
      "text/plain": "<matplotlib.axes._subplots.AxesSubplot at 0x13287f650>"
     },
     "metadata": {},
     "execution_count": 62
    },
    {
     "output_type": "display_data",
     "data": {
      "text/plain": "<Figure size 1080x432 with 1 Axes>",
      "image/svg+xml": "<?xml version=\"1.0\" encoding=\"utf-8\" standalone=\"no\"?>\n<!DOCTYPE svg PUBLIC \"-//W3C//DTD SVG 1.1//EN\"\n  \"http://www.w3.org/Graphics/SVG/1.1/DTD/svg11.dtd\">\n<!-- Created with matplotlib (https://matplotlib.org/) -->\n<svg height=\"375.094219pt\" version=\"1.1\" viewBox=\"0 0 907.245795 375.094219\" width=\"907.245795pt\" xmlns=\"http://www.w3.org/2000/svg\" xmlns:xlink=\"http://www.w3.org/1999/xlink\">\n <defs>\n  <style type=\"text/css\">\n*{stroke-linecap:butt;stroke-linejoin:round;}\n  </style>\n </defs>\n <g id=\"figure_1\">\n  <g id=\"patch_1\">\n   <path d=\"M 0 375.094219 \nL 907.245795 375.094219 \nL 907.245795 0 \nL 0 0 \nz\n\" style=\"fill:#ffffff;\"/>\n  </g>\n  <g id=\"axes_1\">\n   <g id=\"patch_2\">\n    <path d=\"M 50.025469 333.36 \nL 887.025469 333.36 \nL 887.025469 7.2 \nL 50.025469 7.2 \nz\n\" style=\"fill:#ffffff;\"/>\n   </g>\n   <g id=\"matplotlib.axis_1\">\n    <g id=\"xtick_1\">\n     <g id=\"line2d_1\">\n      <path clip-path=\"url(#pd08bed73ca)\" d=\"M 88.070923 333.36 \nL 88.070923 7.2 \n\" style=\"fill:none;stroke:#cccccc;stroke-linecap:round;\"/>\n     </g>\n     <g id=\"text_1\">\n      <!-- 2019-12-30 00:00:00 -->\n      <defs>\n       <path d=\"M 50.34375 8.453125 \nL 50.34375 0 \nL 3.03125 0 \nQ 2.9375 3.171875 4.046875 6.109375 \nQ 5.859375 10.9375 9.828125 15.625 \nQ 13.8125 20.3125 21.34375 26.46875 \nQ 33.015625 36.03125 37.109375 41.625 \nQ 41.21875 47.21875 41.21875 52.203125 \nQ 41.21875 57.421875 37.46875 61 \nQ 33.734375 64.59375 27.734375 64.59375 \nQ 21.390625 64.59375 17.578125 60.78125 \nQ 13.765625 56.984375 13.71875 50.25 \nL 4.6875 51.171875 \nQ 5.609375 61.28125 11.65625 66.578125 \nQ 17.71875 71.875 27.9375 71.875 \nQ 38.234375 71.875 44.234375 66.15625 \nQ 50.25 60.453125 50.25 52 \nQ 50.25 47.703125 48.484375 43.546875 \nQ 46.734375 39.40625 42.65625 34.8125 \nQ 38.578125 30.21875 29.109375 22.21875 \nQ 21.1875 15.578125 18.9375 13.203125 \nQ 16.703125 10.84375 15.234375 8.453125 \nz\n\" id=\"ArialMT-50\"/>\n       <path d=\"M 4.15625 35.296875 \nQ 4.15625 48 6.765625 55.734375 \nQ 9.375 63.484375 14.515625 67.671875 \nQ 19.671875 71.875 27.484375 71.875 \nQ 33.25 71.875 37.59375 69.546875 \nQ 41.9375 67.234375 44.765625 62.859375 \nQ 47.609375 58.5 49.21875 52.21875 \nQ 50.828125 45.953125 50.828125 35.296875 \nQ 50.828125 22.703125 48.234375 14.96875 \nQ 45.65625 7.234375 40.5 3 \nQ 35.359375 -1.21875 27.484375 -1.21875 \nQ 17.140625 -1.21875 11.234375 6.203125 \nQ 4.15625 15.140625 4.15625 35.296875 \nz\nM 13.1875 35.296875 \nQ 13.1875 17.671875 17.3125 11.828125 \nQ 21.4375 6 27.484375 6 \nQ 33.546875 6 37.671875 11.859375 \nQ 41.796875 17.71875 41.796875 35.296875 \nQ 41.796875 52.984375 37.671875 58.78125 \nQ 33.546875 64.59375 27.390625 64.59375 \nQ 21.34375 64.59375 17.71875 59.46875 \nQ 13.1875 52.9375 13.1875 35.296875 \nz\n\" id=\"ArialMT-48\"/>\n       <path d=\"M 37.25 0 \nL 28.46875 0 \nL 28.46875 56 \nQ 25.296875 52.984375 20.140625 49.953125 \nQ 14.984375 46.921875 10.890625 45.40625 \nL 10.890625 53.90625 \nQ 18.265625 57.375 23.78125 62.296875 \nQ 29.296875 67.234375 31.59375 71.875 \nL 37.25 71.875 \nz\n\" id=\"ArialMT-49\"/>\n       <path d=\"M 5.46875 16.546875 \nL 13.921875 17.328125 \nQ 14.984375 11.375 18.015625 8.6875 \nQ 21.046875 6 25.78125 6 \nQ 29.828125 6 32.875 7.859375 \nQ 35.9375 9.71875 37.890625 12.8125 \nQ 39.84375 15.921875 41.15625 21.1875 \nQ 42.484375 26.46875 42.484375 31.9375 \nQ 42.484375 32.515625 42.4375 33.6875 \nQ 39.796875 29.5 35.234375 26.875 \nQ 30.671875 24.265625 25.34375 24.265625 \nQ 16.453125 24.265625 10.296875 30.703125 \nQ 4.15625 37.15625 4.15625 47.703125 \nQ 4.15625 58.59375 10.578125 65.234375 \nQ 17 71.875 26.65625 71.875 \nQ 33.640625 71.875 39.421875 68.109375 \nQ 45.21875 64.359375 48.21875 57.390625 \nQ 51.21875 50.4375 51.21875 37.25 \nQ 51.21875 23.53125 48.234375 15.40625 \nQ 45.265625 7.28125 39.375 3.03125 \nQ 33.5 -1.21875 25.59375 -1.21875 \nQ 17.1875 -1.21875 11.859375 3.4375 \nQ 6.546875 8.109375 5.46875 16.546875 \nz\nM 41.453125 48.140625 \nQ 41.453125 55.71875 37.421875 60.15625 \nQ 33.40625 64.59375 27.734375 64.59375 \nQ 21.875 64.59375 17.53125 59.8125 \nQ 13.1875 55.03125 13.1875 47.40625 \nQ 13.1875 40.578125 17.3125 36.296875 \nQ 21.4375 32.03125 27.484375 32.03125 \nQ 33.59375 32.03125 37.515625 36.296875 \nQ 41.453125 40.578125 41.453125 48.140625 \nz\n\" id=\"ArialMT-57\"/>\n       <path d=\"M 3.171875 21.484375 \nL 3.171875 30.328125 \nL 30.171875 30.328125 \nL 30.171875 21.484375 \nz\n\" id=\"ArialMT-45\"/>\n       <path d=\"M 4.203125 18.890625 \nL 12.984375 20.0625 \nQ 14.5 12.59375 18.140625 9.296875 \nQ 21.78125 6 27 6 \nQ 33.203125 6 37.46875 10.296875 \nQ 41.75 14.59375 41.75 20.953125 \nQ 41.75 27 37.796875 30.921875 \nQ 33.84375 34.859375 27.734375 34.859375 \nQ 25.25 34.859375 21.53125 33.890625 \nL 22.515625 41.609375 \nQ 23.390625 41.5 23.921875 41.5 \nQ 29.546875 41.5 34.03125 44.421875 \nQ 38.53125 47.359375 38.53125 53.46875 \nQ 38.53125 58.296875 35.25 61.46875 \nQ 31.984375 64.65625 26.8125 64.65625 \nQ 21.6875 64.65625 18.265625 61.421875 \nQ 14.84375 58.203125 13.875 51.765625 \nL 5.078125 53.328125 \nQ 6.6875 62.15625 12.390625 67.015625 \nQ 18.109375 71.875 26.609375 71.875 \nQ 32.46875 71.875 37.390625 69.359375 \nQ 42.328125 66.84375 44.9375 62.5 \nQ 47.5625 58.15625 47.5625 53.265625 \nQ 47.5625 48.640625 45.0625 44.828125 \nQ 42.578125 41.015625 37.703125 38.765625 \nQ 44.046875 37.3125 47.5625 32.6875 \nQ 51.078125 28.078125 51.078125 21.140625 \nQ 51.078125 11.765625 44.234375 5.25 \nQ 37.40625 -1.265625 26.953125 -1.265625 \nQ 17.53125 -1.265625 11.296875 4.34375 \nQ 5.078125 9.96875 4.203125 18.890625 \nz\n\" id=\"ArialMT-51\"/>\n       <path id=\"ArialMT-32\"/>\n       <path d=\"M 9.03125 41.84375 \nL 9.03125 51.859375 \nL 19.046875 51.859375 \nL 19.046875 41.84375 \nz\nM 9.03125 0 \nL 9.03125 10.015625 \nL 19.046875 10.015625 \nL 19.046875 0 \nz\n\" id=\"ArialMT-58\"/>\n      </defs>\n      <g style=\"fill:#262626;\" transform=\"translate(37.005142 350.733594)scale(0.11 -0.11)\">\n       <use xlink:href=\"#ArialMT-50\"/>\n       <use x=\"55.615234\" xlink:href=\"#ArialMT-48\"/>\n       <use x=\"111.230469\" xlink:href=\"#ArialMT-49\"/>\n       <use x=\"166.845703\" xlink:href=\"#ArialMT-57\"/>\n       <use x=\"222.460938\" xlink:href=\"#ArialMT-45\"/>\n       <use x=\"255.761719\" xlink:href=\"#ArialMT-49\"/>\n       <use x=\"311.376953\" xlink:href=\"#ArialMT-50\"/>\n       <use x=\"366.992188\" xlink:href=\"#ArialMT-45\"/>\n       <use x=\"400.292969\" xlink:href=\"#ArialMT-51\"/>\n       <use x=\"455.908203\" xlink:href=\"#ArialMT-48\"/>\n       <use x=\"511.523438\" xlink:href=\"#ArialMT-32\"/>\n       <use x=\"539.306641\" xlink:href=\"#ArialMT-48\"/>\n       <use x=\"594.921875\" xlink:href=\"#ArialMT-48\"/>\n       <use x=\"650.537109\" xlink:href=\"#ArialMT-58\"/>\n       <use x=\"678.320312\" xlink:href=\"#ArialMT-48\"/>\n       <use x=\"733.935547\" xlink:href=\"#ArialMT-48\"/>\n       <use x=\"789.550781\" xlink:href=\"#ArialMT-58\"/>\n       <use x=\"817.333984\" xlink:href=\"#ArialMT-48\"/>\n       <use x=\"872.949219\" xlink:href=\"#ArialMT-48\"/>\n      </g>\n     </g>\n    </g>\n    <g id=\"xtick_2\">\n     <g id=\"line2d_2\">\n      <path clip-path=\"url(#pd08bed73ca)\" d=\"M 121.153927 333.36 \nL 121.153927 7.2 \n\" style=\"fill:none;stroke:#cccccc;stroke-linecap:round;\"/>\n     </g>\n     <g id=\"text_2\">\n      <!-- 2019-12-30 01:00:00 -->\n      <g style=\"fill:#262626;\" transform=\"translate(70.088146 350.733594)scale(0.11 -0.11)\">\n       <use xlink:href=\"#ArialMT-50\"/>\n       <use x=\"55.615234\" xlink:href=\"#ArialMT-48\"/>\n       <use x=\"111.230469\" xlink:href=\"#ArialMT-49\"/>\n       <use x=\"166.845703\" xlink:href=\"#ArialMT-57\"/>\n       <use x=\"222.460938\" xlink:href=\"#ArialMT-45\"/>\n       <use x=\"255.761719\" xlink:href=\"#ArialMT-49\"/>\n       <use x=\"311.376953\" xlink:href=\"#ArialMT-50\"/>\n       <use x=\"366.992188\" xlink:href=\"#ArialMT-45\"/>\n       <use x=\"400.292969\" xlink:href=\"#ArialMT-51\"/>\n       <use x=\"455.908203\" xlink:href=\"#ArialMT-48\"/>\n       <use x=\"511.523438\" xlink:href=\"#ArialMT-32\"/>\n       <use x=\"539.306641\" xlink:href=\"#ArialMT-48\"/>\n       <use x=\"594.921875\" xlink:href=\"#ArialMT-49\"/>\n       <use x=\"650.537109\" xlink:href=\"#ArialMT-58\"/>\n       <use x=\"678.320312\" xlink:href=\"#ArialMT-48\"/>\n       <use x=\"733.935547\" xlink:href=\"#ArialMT-48\"/>\n       <use x=\"789.550781\" xlink:href=\"#ArialMT-58\"/>\n       <use x=\"817.333984\" xlink:href=\"#ArialMT-48\"/>\n       <use x=\"872.949219\" xlink:href=\"#ArialMT-48\"/>\n      </g>\n     </g>\n    </g>\n    <g id=\"xtick_3\">\n     <g id=\"line2d_3\">\n      <path clip-path=\"url(#pd08bed73ca)\" d=\"M 154.236931 333.36 \nL 154.236931 7.2 \n\" style=\"fill:none;stroke:#cccccc;stroke-linecap:round;\"/>\n     </g>\n     <g id=\"text_3\">\n      <!-- 2019-12-30 02:00:00 -->\n      <g style=\"fill:#262626;\" transform=\"translate(103.17115 350.733594)scale(0.11 -0.11)\">\n       <use xlink:href=\"#ArialMT-50\"/>\n       <use x=\"55.615234\" xlink:href=\"#ArialMT-48\"/>\n       <use x=\"111.230469\" xlink:href=\"#ArialMT-49\"/>\n       <use x=\"166.845703\" xlink:href=\"#ArialMT-57\"/>\n       <use x=\"222.460938\" xlink:href=\"#ArialMT-45\"/>\n       <use x=\"255.761719\" xlink:href=\"#ArialMT-49\"/>\n       <use x=\"311.376953\" xlink:href=\"#ArialMT-50\"/>\n       <use x=\"366.992188\" xlink:href=\"#ArialMT-45\"/>\n       <use x=\"400.292969\" xlink:href=\"#ArialMT-51\"/>\n       <use x=\"455.908203\" xlink:href=\"#ArialMT-48\"/>\n       <use x=\"511.523438\" xlink:href=\"#ArialMT-32\"/>\n       <use x=\"539.306641\" xlink:href=\"#ArialMT-48\"/>\n       <use x=\"594.921875\" xlink:href=\"#ArialMT-50\"/>\n       <use x=\"650.537109\" xlink:href=\"#ArialMT-58\"/>\n       <use x=\"678.320312\" xlink:href=\"#ArialMT-48\"/>\n       <use x=\"733.935547\" xlink:href=\"#ArialMT-48\"/>\n       <use x=\"789.550781\" xlink:href=\"#ArialMT-58\"/>\n       <use x=\"817.333984\" xlink:href=\"#ArialMT-48\"/>\n       <use x=\"872.949219\" xlink:href=\"#ArialMT-48\"/>\n      </g>\n     </g>\n    </g>\n    <g id=\"xtick_4\">\n     <g id=\"line2d_4\">\n      <path clip-path=\"url(#pd08bed73ca)\" d=\"M 187.319935 333.36 \nL 187.319935 7.2 \n\" style=\"fill:none;stroke:#cccccc;stroke-linecap:round;\"/>\n     </g>\n     <g id=\"text_4\">\n      <!-- 2019-12-30 03:00:00 -->\n      <g style=\"fill:#262626;\" transform=\"translate(136.254154 350.733594)scale(0.11 -0.11)\">\n       <use xlink:href=\"#ArialMT-50\"/>\n       <use x=\"55.615234\" xlink:href=\"#ArialMT-48\"/>\n       <use x=\"111.230469\" xlink:href=\"#ArialMT-49\"/>\n       <use x=\"166.845703\" xlink:href=\"#ArialMT-57\"/>\n       <use x=\"222.460938\" xlink:href=\"#ArialMT-45\"/>\n       <use x=\"255.761719\" xlink:href=\"#ArialMT-49\"/>\n       <use x=\"311.376953\" xlink:href=\"#ArialMT-50\"/>\n       <use x=\"366.992188\" xlink:href=\"#ArialMT-45\"/>\n       <use x=\"400.292969\" xlink:href=\"#ArialMT-51\"/>\n       <use x=\"455.908203\" xlink:href=\"#ArialMT-48\"/>\n       <use x=\"511.523438\" xlink:href=\"#ArialMT-32\"/>\n       <use x=\"539.306641\" xlink:href=\"#ArialMT-48\"/>\n       <use x=\"594.921875\" xlink:href=\"#ArialMT-51\"/>\n       <use x=\"650.537109\" xlink:href=\"#ArialMT-58\"/>\n       <use x=\"678.320312\" xlink:href=\"#ArialMT-48\"/>\n       <use x=\"733.935547\" xlink:href=\"#ArialMT-48\"/>\n       <use x=\"789.550781\" xlink:href=\"#ArialMT-58\"/>\n       <use x=\"817.333984\" xlink:href=\"#ArialMT-48\"/>\n       <use x=\"872.949219\" xlink:href=\"#ArialMT-48\"/>\n      </g>\n     </g>\n    </g>\n    <g id=\"xtick_5\">\n     <g id=\"line2d_5\">\n      <path clip-path=\"url(#pd08bed73ca)\" d=\"M 220.402939 333.36 \nL 220.402939 7.2 \n\" style=\"fill:none;stroke:#cccccc;stroke-linecap:round;\"/>\n     </g>\n     <g id=\"text_5\">\n      <!-- 2019-12-30 04:00:00 -->\n      <defs>\n       <path d=\"M 32.328125 0 \nL 32.328125 17.140625 \nL 1.265625 17.140625 \nL 1.265625 25.203125 \nL 33.9375 71.578125 \nL 41.109375 71.578125 \nL 41.109375 25.203125 \nL 50.78125 25.203125 \nL 50.78125 17.140625 \nL 41.109375 17.140625 \nL 41.109375 0 \nz\nM 32.328125 25.203125 \nL 32.328125 57.46875 \nL 9.90625 25.203125 \nz\n\" id=\"ArialMT-52\"/>\n      </defs>\n      <g style=\"fill:#262626;\" transform=\"translate(169.337158 350.733594)scale(0.11 -0.11)\">\n       <use xlink:href=\"#ArialMT-50\"/>\n       <use x=\"55.615234\" xlink:href=\"#ArialMT-48\"/>\n       <use x=\"111.230469\" xlink:href=\"#ArialMT-49\"/>\n       <use x=\"166.845703\" xlink:href=\"#ArialMT-57\"/>\n       <use x=\"222.460938\" xlink:href=\"#ArialMT-45\"/>\n       <use x=\"255.761719\" xlink:href=\"#ArialMT-49\"/>\n       <use x=\"311.376953\" xlink:href=\"#ArialMT-50\"/>\n       <use x=\"366.992188\" xlink:href=\"#ArialMT-45\"/>\n       <use x=\"400.292969\" xlink:href=\"#ArialMT-51\"/>\n       <use x=\"455.908203\" xlink:href=\"#ArialMT-48\"/>\n       <use x=\"511.523438\" xlink:href=\"#ArialMT-32\"/>\n       <use x=\"539.306641\" xlink:href=\"#ArialMT-48\"/>\n       <use x=\"594.921875\" xlink:href=\"#ArialMT-52\"/>\n       <use x=\"650.537109\" xlink:href=\"#ArialMT-58\"/>\n       <use x=\"678.320312\" xlink:href=\"#ArialMT-48\"/>\n       <use x=\"733.935547\" xlink:href=\"#ArialMT-48\"/>\n       <use x=\"789.550781\" xlink:href=\"#ArialMT-58\"/>\n       <use x=\"817.333984\" xlink:href=\"#ArialMT-48\"/>\n       <use x=\"872.949219\" xlink:href=\"#ArialMT-48\"/>\n      </g>\n     </g>\n    </g>\n    <g id=\"xtick_6\">\n     <g id=\"line2d_6\">\n      <path clip-path=\"url(#pd08bed73ca)\" d=\"M 253.485943 333.36 \nL 253.485943 7.2 \n\" style=\"fill:none;stroke:#cccccc;stroke-linecap:round;\"/>\n     </g>\n     <g id=\"text_6\">\n      <!-- 2019-12-30 05:00:00 -->\n      <defs>\n       <path d=\"M 4.15625 18.75 \nL 13.375 19.53125 \nQ 14.40625 12.796875 18.140625 9.390625 \nQ 21.875 6 27.15625 6 \nQ 33.5 6 37.890625 10.78125 \nQ 42.28125 15.578125 42.28125 23.484375 \nQ 42.28125 31 38.0625 35.34375 \nQ 33.84375 39.703125 27 39.703125 \nQ 22.75 39.703125 19.328125 37.765625 \nQ 15.921875 35.84375 13.96875 32.765625 \nL 5.71875 33.84375 \nL 12.640625 70.609375 \nL 48.25 70.609375 \nL 48.25 62.203125 \nL 19.671875 62.203125 \nL 15.828125 42.96875 \nQ 22.265625 47.46875 29.34375 47.46875 \nQ 38.71875 47.46875 45.15625 40.96875 \nQ 51.609375 34.46875 51.609375 24.265625 \nQ 51.609375 14.546875 45.953125 7.46875 \nQ 39.0625 -1.21875 27.15625 -1.21875 \nQ 17.390625 -1.21875 11.203125 4.25 \nQ 5.03125 9.71875 4.15625 18.75 \nz\n\" id=\"ArialMT-53\"/>\n      </defs>\n      <g style=\"fill:#262626;\" transform=\"translate(202.420162 350.733594)scale(0.11 -0.11)\">\n       <use xlink:href=\"#ArialMT-50\"/>\n       <use x=\"55.615234\" xlink:href=\"#ArialMT-48\"/>\n       <use x=\"111.230469\" xlink:href=\"#ArialMT-49\"/>\n       <use x=\"166.845703\" xlink:href=\"#ArialMT-57\"/>\n       <use x=\"222.460938\" xlink:href=\"#ArialMT-45\"/>\n       <use x=\"255.761719\" xlink:href=\"#ArialMT-49\"/>\n       <use x=\"311.376953\" xlink:href=\"#ArialMT-50\"/>\n       <use x=\"366.992188\" xlink:href=\"#ArialMT-45\"/>\n       <use x=\"400.292969\" xlink:href=\"#ArialMT-51\"/>\n       <use x=\"455.908203\" xlink:href=\"#ArialMT-48\"/>\n       <use x=\"511.523438\" xlink:href=\"#ArialMT-32\"/>\n       <use x=\"539.306641\" xlink:href=\"#ArialMT-48\"/>\n       <use x=\"594.921875\" xlink:href=\"#ArialMT-53\"/>\n       <use x=\"650.537109\" xlink:href=\"#ArialMT-58\"/>\n       <use x=\"678.320312\" xlink:href=\"#ArialMT-48\"/>\n       <use x=\"733.935547\" xlink:href=\"#ArialMT-48\"/>\n       <use x=\"789.550781\" xlink:href=\"#ArialMT-58\"/>\n       <use x=\"817.333984\" xlink:href=\"#ArialMT-48\"/>\n       <use x=\"872.949219\" xlink:href=\"#ArialMT-48\"/>\n      </g>\n     </g>\n    </g>\n    <g id=\"xtick_7\">\n     <g id=\"line2d_7\">\n      <path clip-path=\"url(#pd08bed73ca)\" d=\"M 286.568947 333.36 \nL 286.568947 7.2 \n\" style=\"fill:none;stroke:#cccccc;stroke-linecap:round;\"/>\n     </g>\n     <g id=\"text_7\">\n      <!-- 2019-12-30 06:00:00 -->\n      <defs>\n       <path d=\"M 49.75 54.046875 \nL 41.015625 53.375 \nQ 39.84375 58.546875 37.703125 60.890625 \nQ 34.125 64.65625 28.90625 64.65625 \nQ 24.703125 64.65625 21.53125 62.3125 \nQ 17.390625 59.28125 14.984375 53.46875 \nQ 12.59375 47.65625 12.5 36.921875 \nQ 15.671875 41.75 20.265625 44.09375 \nQ 24.859375 46.4375 29.890625 46.4375 \nQ 38.671875 46.4375 44.84375 39.96875 \nQ 51.03125 33.5 51.03125 23.25 \nQ 51.03125 16.5 48.125 10.71875 \nQ 45.21875 4.9375 40.140625 1.859375 \nQ 35.0625 -1.21875 28.609375 -1.21875 \nQ 17.625 -1.21875 10.6875 6.859375 \nQ 3.765625 14.9375 3.765625 33.5 \nQ 3.765625 54.25 11.421875 63.671875 \nQ 18.109375 71.875 29.4375 71.875 \nQ 37.890625 71.875 43.28125 67.140625 \nQ 48.6875 62.40625 49.75 54.046875 \nz\nM 13.875 23.1875 \nQ 13.875 18.65625 15.796875 14.5 \nQ 17.71875 10.359375 21.1875 8.171875 \nQ 24.65625 6 28.46875 6 \nQ 34.03125 6 38.03125 10.484375 \nQ 42.046875 14.984375 42.046875 22.703125 \nQ 42.046875 30.125 38.078125 34.390625 \nQ 34.125 38.671875 28.125 38.671875 \nQ 22.171875 38.671875 18.015625 34.390625 \nQ 13.875 30.125 13.875 23.1875 \nz\n\" id=\"ArialMT-54\"/>\n      </defs>\n      <g style=\"fill:#262626;\" transform=\"translate(235.503166 350.733594)scale(0.11 -0.11)\">\n       <use xlink:href=\"#ArialMT-50\"/>\n       <use x=\"55.615234\" xlink:href=\"#ArialMT-48\"/>\n       <use x=\"111.230469\" xlink:href=\"#ArialMT-49\"/>\n       <use x=\"166.845703\" xlink:href=\"#ArialMT-57\"/>\n       <use x=\"222.460938\" xlink:href=\"#ArialMT-45\"/>\n       <use x=\"255.761719\" xlink:href=\"#ArialMT-49\"/>\n       <use x=\"311.376953\" xlink:href=\"#ArialMT-50\"/>\n       <use x=\"366.992188\" xlink:href=\"#ArialMT-45\"/>\n       <use x=\"400.292969\" xlink:href=\"#ArialMT-51\"/>\n       <use x=\"455.908203\" xlink:href=\"#ArialMT-48\"/>\n       <use x=\"511.523438\" xlink:href=\"#ArialMT-32\"/>\n       <use x=\"539.306641\" xlink:href=\"#ArialMT-48\"/>\n       <use x=\"594.921875\" xlink:href=\"#ArialMT-54\"/>\n       <use x=\"650.537109\" xlink:href=\"#ArialMT-58\"/>\n       <use x=\"678.320312\" xlink:href=\"#ArialMT-48\"/>\n       <use x=\"733.935547\" xlink:href=\"#ArialMT-48\"/>\n       <use x=\"789.550781\" xlink:href=\"#ArialMT-58\"/>\n       <use x=\"817.333984\" xlink:href=\"#ArialMT-48\"/>\n       <use x=\"872.949219\" xlink:href=\"#ArialMT-48\"/>\n      </g>\n     </g>\n    </g>\n    <g id=\"xtick_8\">\n     <g id=\"line2d_8\">\n      <path clip-path=\"url(#pd08bed73ca)\" d=\"M 319.651951 333.36 \nL 319.651951 7.2 \n\" style=\"fill:none;stroke:#cccccc;stroke-linecap:round;\"/>\n     </g>\n     <g id=\"text_8\">\n      <!-- 2019-12-30 07:00:00 -->\n      <defs>\n       <path d=\"M 4.734375 62.203125 \nL 4.734375 70.65625 \nL 51.078125 70.65625 \nL 51.078125 63.8125 \nQ 44.234375 56.546875 37.515625 44.484375 \nQ 30.8125 32.421875 27.15625 19.671875 \nQ 24.515625 10.6875 23.78125 0 \nL 14.75 0 \nQ 14.890625 8.453125 18.0625 20.40625 \nQ 21.234375 32.375 27.171875 43.484375 \nQ 33.109375 54.59375 39.796875 62.203125 \nz\n\" id=\"ArialMT-55\"/>\n      </defs>\n      <g style=\"fill:#262626;\" transform=\"translate(268.58617 350.733594)scale(0.11 -0.11)\">\n       <use xlink:href=\"#ArialMT-50\"/>\n       <use x=\"55.615234\" xlink:href=\"#ArialMT-48\"/>\n       <use x=\"111.230469\" xlink:href=\"#ArialMT-49\"/>\n       <use x=\"166.845703\" xlink:href=\"#ArialMT-57\"/>\n       <use x=\"222.460938\" xlink:href=\"#ArialMT-45\"/>\n       <use x=\"255.761719\" xlink:href=\"#ArialMT-49\"/>\n       <use x=\"311.376953\" xlink:href=\"#ArialMT-50\"/>\n       <use x=\"366.992188\" xlink:href=\"#ArialMT-45\"/>\n       <use x=\"400.292969\" xlink:href=\"#ArialMT-51\"/>\n       <use x=\"455.908203\" xlink:href=\"#ArialMT-48\"/>\n       <use x=\"511.523438\" xlink:href=\"#ArialMT-32\"/>\n       <use x=\"539.306641\" xlink:href=\"#ArialMT-48\"/>\n       <use x=\"594.921875\" xlink:href=\"#ArialMT-55\"/>\n       <use x=\"650.537109\" xlink:href=\"#ArialMT-58\"/>\n       <use x=\"678.320312\" xlink:href=\"#ArialMT-48\"/>\n       <use x=\"733.935547\" xlink:href=\"#ArialMT-48\"/>\n       <use x=\"789.550781\" xlink:href=\"#ArialMT-58\"/>\n       <use x=\"817.333984\" xlink:href=\"#ArialMT-48\"/>\n       <use x=\"872.949219\" xlink:href=\"#ArialMT-48\"/>\n      </g>\n     </g>\n    </g>\n    <g id=\"xtick_9\">\n     <g id=\"line2d_9\">\n      <path clip-path=\"url(#pd08bed73ca)\" d=\"M 352.734955 333.36 \nL 352.734955 7.2 \n\" style=\"fill:none;stroke:#cccccc;stroke-linecap:round;\"/>\n     </g>\n     <g id=\"text_9\">\n      <!-- 2019-12-30 08:00:00 -->\n      <defs>\n       <path d=\"M 17.671875 38.8125 \nQ 12.203125 40.828125 9.5625 44.53125 \nQ 6.9375 48.25 6.9375 53.421875 \nQ 6.9375 61.234375 12.546875 66.546875 \nQ 18.171875 71.875 27.484375 71.875 \nQ 36.859375 71.875 42.578125 66.421875 \nQ 48.296875 60.984375 48.296875 53.171875 \nQ 48.296875 48.1875 45.671875 44.5 \nQ 43.0625 40.828125 37.75 38.8125 \nQ 44.34375 36.671875 47.78125 31.875 \nQ 51.21875 27.09375 51.21875 20.453125 \nQ 51.21875 11.28125 44.71875 5.03125 \nQ 38.234375 -1.21875 27.640625 -1.21875 \nQ 17.046875 -1.21875 10.546875 5.046875 \nQ 4.046875 11.328125 4.046875 20.703125 \nQ 4.046875 27.6875 7.59375 32.390625 \nQ 11.140625 37.109375 17.671875 38.8125 \nz\nM 15.921875 53.71875 \nQ 15.921875 48.640625 19.1875 45.40625 \nQ 22.46875 42.1875 27.6875 42.1875 \nQ 32.765625 42.1875 36.015625 45.375 \nQ 39.265625 48.578125 39.265625 53.21875 \nQ 39.265625 58.0625 35.90625 61.359375 \nQ 32.5625 64.65625 27.59375 64.65625 \nQ 22.5625 64.65625 19.234375 61.421875 \nQ 15.921875 58.203125 15.921875 53.71875 \nz\nM 13.09375 20.65625 \nQ 13.09375 16.890625 14.875 13.375 \nQ 16.65625 9.859375 20.171875 7.921875 \nQ 23.6875 6 27.734375 6 \nQ 34.03125 6 38.125 10.046875 \nQ 42.234375 14.109375 42.234375 20.359375 \nQ 42.234375 26.703125 38.015625 30.859375 \nQ 33.796875 35.015625 27.4375 35.015625 \nQ 21.234375 35.015625 17.15625 30.90625 \nQ 13.09375 26.8125 13.09375 20.65625 \nz\n\" id=\"ArialMT-56\"/>\n      </defs>\n      <g style=\"fill:#262626;\" transform=\"translate(301.669174 350.733594)scale(0.11 -0.11)\">\n       <use xlink:href=\"#ArialMT-50\"/>\n       <use x=\"55.615234\" xlink:href=\"#ArialMT-48\"/>\n       <use x=\"111.230469\" xlink:href=\"#ArialMT-49\"/>\n       <use x=\"166.845703\" xlink:href=\"#ArialMT-57\"/>\n       <use x=\"222.460938\" xlink:href=\"#ArialMT-45\"/>\n       <use x=\"255.761719\" xlink:href=\"#ArialMT-49\"/>\n       <use x=\"311.376953\" xlink:href=\"#ArialMT-50\"/>\n       <use x=\"366.992188\" xlink:href=\"#ArialMT-45\"/>\n       <use x=\"400.292969\" xlink:href=\"#ArialMT-51\"/>\n       <use x=\"455.908203\" xlink:href=\"#ArialMT-48\"/>\n       <use x=\"511.523438\" xlink:href=\"#ArialMT-32\"/>\n       <use x=\"539.306641\" xlink:href=\"#ArialMT-48\"/>\n       <use x=\"594.921875\" xlink:href=\"#ArialMT-56\"/>\n       <use x=\"650.537109\" xlink:href=\"#ArialMT-58\"/>\n       <use x=\"678.320312\" xlink:href=\"#ArialMT-48\"/>\n       <use x=\"733.935547\" xlink:href=\"#ArialMT-48\"/>\n       <use x=\"789.550781\" xlink:href=\"#ArialMT-58\"/>\n       <use x=\"817.333984\" xlink:href=\"#ArialMT-48\"/>\n       <use x=\"872.949219\" xlink:href=\"#ArialMT-48\"/>\n      </g>\n     </g>\n    </g>\n    <g id=\"xtick_10\">\n     <g id=\"line2d_10\">\n      <path clip-path=\"url(#pd08bed73ca)\" d=\"M 385.817959 333.36 \nL 385.817959 7.2 \n\" style=\"fill:none;stroke:#cccccc;stroke-linecap:round;\"/>\n     </g>\n     <g id=\"text_10\">\n      <!-- 2019-12-30 09:00:00 -->\n      <g style=\"fill:#262626;\" transform=\"translate(334.752178 350.733594)scale(0.11 -0.11)\">\n       <use xlink:href=\"#ArialMT-50\"/>\n       <use x=\"55.615234\" xlink:href=\"#ArialMT-48\"/>\n       <use x=\"111.230469\" xlink:href=\"#ArialMT-49\"/>\n       <use x=\"166.845703\" xlink:href=\"#ArialMT-57\"/>\n       <use x=\"222.460938\" xlink:href=\"#ArialMT-45\"/>\n       <use x=\"255.761719\" xlink:href=\"#ArialMT-49\"/>\n       <use x=\"311.376953\" xlink:href=\"#ArialMT-50\"/>\n       <use x=\"366.992188\" xlink:href=\"#ArialMT-45\"/>\n       <use x=\"400.292969\" xlink:href=\"#ArialMT-51\"/>\n       <use x=\"455.908203\" xlink:href=\"#ArialMT-48\"/>\n       <use x=\"511.523438\" xlink:href=\"#ArialMT-32\"/>\n       <use x=\"539.306641\" xlink:href=\"#ArialMT-48\"/>\n       <use x=\"594.921875\" xlink:href=\"#ArialMT-57\"/>\n       <use x=\"650.537109\" xlink:href=\"#ArialMT-58\"/>\n       <use x=\"678.320312\" xlink:href=\"#ArialMT-48\"/>\n       <use x=\"733.935547\" xlink:href=\"#ArialMT-48\"/>\n       <use x=\"789.550781\" xlink:href=\"#ArialMT-58\"/>\n       <use x=\"817.333984\" xlink:href=\"#ArialMT-48\"/>\n       <use x=\"872.949219\" xlink:href=\"#ArialMT-48\"/>\n      </g>\n     </g>\n    </g>\n    <g id=\"xtick_11\">\n     <g id=\"line2d_11\">\n      <path clip-path=\"url(#pd08bed73ca)\" d=\"M 418.900963 333.36 \nL 418.900963 7.2 \n\" style=\"fill:none;stroke:#cccccc;stroke-linecap:round;\"/>\n     </g>\n     <g id=\"text_11\">\n      <!-- 2019-12-30 10:00:00 -->\n      <g style=\"fill:#262626;\" transform=\"translate(367.835182 350.733594)scale(0.11 -0.11)\">\n       <use xlink:href=\"#ArialMT-50\"/>\n       <use x=\"55.615234\" xlink:href=\"#ArialMT-48\"/>\n       <use x=\"111.230469\" xlink:href=\"#ArialMT-49\"/>\n       <use x=\"166.845703\" xlink:href=\"#ArialMT-57\"/>\n       <use x=\"222.460938\" xlink:href=\"#ArialMT-45\"/>\n       <use x=\"255.761719\" xlink:href=\"#ArialMT-49\"/>\n       <use x=\"311.376953\" xlink:href=\"#ArialMT-50\"/>\n       <use x=\"366.992188\" xlink:href=\"#ArialMT-45\"/>\n       <use x=\"400.292969\" xlink:href=\"#ArialMT-51\"/>\n       <use x=\"455.908203\" xlink:href=\"#ArialMT-48\"/>\n       <use x=\"511.523438\" xlink:href=\"#ArialMT-32\"/>\n       <use x=\"539.306641\" xlink:href=\"#ArialMT-49\"/>\n       <use x=\"594.921875\" xlink:href=\"#ArialMT-48\"/>\n       <use x=\"650.537109\" xlink:href=\"#ArialMT-58\"/>\n       <use x=\"678.320312\" xlink:href=\"#ArialMT-48\"/>\n       <use x=\"733.935547\" xlink:href=\"#ArialMT-48\"/>\n       <use x=\"789.550781\" xlink:href=\"#ArialMT-58\"/>\n       <use x=\"817.333984\" xlink:href=\"#ArialMT-48\"/>\n       <use x=\"872.949219\" xlink:href=\"#ArialMT-48\"/>\n      </g>\n     </g>\n    </g>\n    <g id=\"xtick_12\">\n     <g id=\"line2d_12\">\n      <path clip-path=\"url(#pd08bed73ca)\" d=\"M 451.983967 333.36 \nL 451.983967 7.2 \n\" style=\"fill:none;stroke:#cccccc;stroke-linecap:round;\"/>\n     </g>\n     <g id=\"text_12\">\n      <!-- 2019-12-30 11:00:00 -->\n      <g style=\"fill:#262626;\" transform=\"translate(401.323811 350.733594)scale(0.11 -0.11)\">\n       <use xlink:href=\"#ArialMT-50\"/>\n       <use x=\"55.615234\" xlink:href=\"#ArialMT-48\"/>\n       <use x=\"111.230469\" xlink:href=\"#ArialMT-49\"/>\n       <use x=\"166.845703\" xlink:href=\"#ArialMT-57\"/>\n       <use x=\"222.460938\" xlink:href=\"#ArialMT-45\"/>\n       <use x=\"255.761719\" xlink:href=\"#ArialMT-49\"/>\n       <use x=\"311.376953\" xlink:href=\"#ArialMT-50\"/>\n       <use x=\"366.992188\" xlink:href=\"#ArialMT-45\"/>\n       <use x=\"400.292969\" xlink:href=\"#ArialMT-51\"/>\n       <use x=\"455.908203\" xlink:href=\"#ArialMT-48\"/>\n       <use x=\"511.523438\" xlink:href=\"#ArialMT-32\"/>\n       <use x=\"539.306641\" xlink:href=\"#ArialMT-49\"/>\n       <use x=\"587.546875\" xlink:href=\"#ArialMT-49\"/>\n       <use x=\"643.162109\" xlink:href=\"#ArialMT-58\"/>\n       <use x=\"670.945312\" xlink:href=\"#ArialMT-48\"/>\n       <use x=\"726.560547\" xlink:href=\"#ArialMT-48\"/>\n       <use x=\"782.175781\" xlink:href=\"#ArialMT-58\"/>\n       <use x=\"809.958984\" xlink:href=\"#ArialMT-48\"/>\n       <use x=\"865.574219\" xlink:href=\"#ArialMT-48\"/>\n      </g>\n     </g>\n    </g>\n    <g id=\"xtick_13\">\n     <g id=\"line2d_13\">\n      <path clip-path=\"url(#pd08bed73ca)\" d=\"M 485.066971 333.36 \nL 485.066971 7.2 \n\" style=\"fill:none;stroke:#cccccc;stroke-linecap:round;\"/>\n     </g>\n     <g id=\"text_13\">\n      <!-- 2019-12-30 12:00:00 -->\n      <g style=\"fill:#262626;\" transform=\"translate(434.001189 350.733594)scale(0.11 -0.11)\">\n       <use xlink:href=\"#ArialMT-50\"/>\n       <use x=\"55.615234\" xlink:href=\"#ArialMT-48\"/>\n       <use x=\"111.230469\" xlink:href=\"#ArialMT-49\"/>\n       <use x=\"166.845703\" xlink:href=\"#ArialMT-57\"/>\n       <use x=\"222.460938\" xlink:href=\"#ArialMT-45\"/>\n       <use x=\"255.761719\" xlink:href=\"#ArialMT-49\"/>\n       <use x=\"311.376953\" xlink:href=\"#ArialMT-50\"/>\n       <use x=\"366.992188\" xlink:href=\"#ArialMT-45\"/>\n       <use x=\"400.292969\" xlink:href=\"#ArialMT-51\"/>\n       <use x=\"455.908203\" xlink:href=\"#ArialMT-48\"/>\n       <use x=\"511.523438\" xlink:href=\"#ArialMT-32\"/>\n       <use x=\"539.306641\" xlink:href=\"#ArialMT-49\"/>\n       <use x=\"594.921875\" xlink:href=\"#ArialMT-50\"/>\n       <use x=\"650.537109\" xlink:href=\"#ArialMT-58\"/>\n       <use x=\"678.320312\" xlink:href=\"#ArialMT-48\"/>\n       <use x=\"733.935547\" xlink:href=\"#ArialMT-48\"/>\n       <use x=\"789.550781\" xlink:href=\"#ArialMT-58\"/>\n       <use x=\"817.333984\" xlink:href=\"#ArialMT-48\"/>\n       <use x=\"872.949219\" xlink:href=\"#ArialMT-48\"/>\n      </g>\n     </g>\n    </g>\n    <g id=\"xtick_14\">\n     <g id=\"line2d_14\">\n      <path clip-path=\"url(#pd08bed73ca)\" d=\"M 518.149975 333.36 \nL 518.149975 7.2 \n\" style=\"fill:none;stroke:#cccccc;stroke-linecap:round;\"/>\n     </g>\n     <g id=\"text_14\">\n      <!-- 2019-12-30 13:00:00 -->\n      <g style=\"fill:#262626;\" transform=\"translate(467.084193 350.733594)scale(0.11 -0.11)\">\n       <use xlink:href=\"#ArialMT-50\"/>\n       <use x=\"55.615234\" xlink:href=\"#ArialMT-48\"/>\n       <use x=\"111.230469\" xlink:href=\"#ArialMT-49\"/>\n       <use x=\"166.845703\" xlink:href=\"#ArialMT-57\"/>\n       <use x=\"222.460938\" xlink:href=\"#ArialMT-45\"/>\n       <use x=\"255.761719\" xlink:href=\"#ArialMT-49\"/>\n       <use x=\"311.376953\" xlink:href=\"#ArialMT-50\"/>\n       <use x=\"366.992188\" xlink:href=\"#ArialMT-45\"/>\n       <use x=\"400.292969\" xlink:href=\"#ArialMT-51\"/>\n       <use x=\"455.908203\" xlink:href=\"#ArialMT-48\"/>\n       <use x=\"511.523438\" xlink:href=\"#ArialMT-32\"/>\n       <use x=\"539.306641\" xlink:href=\"#ArialMT-49\"/>\n       <use x=\"594.921875\" xlink:href=\"#ArialMT-51\"/>\n       <use x=\"650.537109\" xlink:href=\"#ArialMT-58\"/>\n       <use x=\"678.320312\" xlink:href=\"#ArialMT-48\"/>\n       <use x=\"733.935547\" xlink:href=\"#ArialMT-48\"/>\n       <use x=\"789.550781\" xlink:href=\"#ArialMT-58\"/>\n       <use x=\"817.333984\" xlink:href=\"#ArialMT-48\"/>\n       <use x=\"872.949219\" xlink:href=\"#ArialMT-48\"/>\n      </g>\n     </g>\n    </g>\n    <g id=\"xtick_15\">\n     <g id=\"line2d_15\">\n      <path clip-path=\"url(#pd08bed73ca)\" d=\"M 551.232979 333.36 \nL 551.232979 7.2 \n\" style=\"fill:none;stroke:#cccccc;stroke-linecap:round;\"/>\n     </g>\n     <g id=\"text_15\">\n      <!-- 2019-12-30 14:00:00 -->\n      <g style=\"fill:#262626;\" transform=\"translate(500.167197 350.733594)scale(0.11 -0.11)\">\n       <use xlink:href=\"#ArialMT-50\"/>\n       <use x=\"55.615234\" xlink:href=\"#ArialMT-48\"/>\n       <use x=\"111.230469\" xlink:href=\"#ArialMT-49\"/>\n       <use x=\"166.845703\" xlink:href=\"#ArialMT-57\"/>\n       <use x=\"222.460938\" xlink:href=\"#ArialMT-45\"/>\n       <use x=\"255.761719\" xlink:href=\"#ArialMT-49\"/>\n       <use x=\"311.376953\" xlink:href=\"#ArialMT-50\"/>\n       <use x=\"366.992188\" xlink:href=\"#ArialMT-45\"/>\n       <use x=\"400.292969\" xlink:href=\"#ArialMT-51\"/>\n       <use x=\"455.908203\" xlink:href=\"#ArialMT-48\"/>\n       <use x=\"511.523438\" xlink:href=\"#ArialMT-32\"/>\n       <use x=\"539.306641\" xlink:href=\"#ArialMT-49\"/>\n       <use x=\"594.921875\" xlink:href=\"#ArialMT-52\"/>\n       <use x=\"650.537109\" xlink:href=\"#ArialMT-58\"/>\n       <use x=\"678.320312\" xlink:href=\"#ArialMT-48\"/>\n       <use x=\"733.935547\" xlink:href=\"#ArialMT-48\"/>\n       <use x=\"789.550781\" xlink:href=\"#ArialMT-58\"/>\n       <use x=\"817.333984\" xlink:href=\"#ArialMT-48\"/>\n       <use x=\"872.949219\" xlink:href=\"#ArialMT-48\"/>\n      </g>\n     </g>\n    </g>\n    <g id=\"xtick_16\">\n     <g id=\"line2d_16\">\n      <path clip-path=\"url(#pd08bed73ca)\" d=\"M 584.315983 333.36 \nL 584.315983 7.2 \n\" style=\"fill:none;stroke:#cccccc;stroke-linecap:round;\"/>\n     </g>\n     <g id=\"text_16\">\n      <!-- 2019-12-30 15:00:00 -->\n      <g style=\"fill:#262626;\" transform=\"translate(533.250201 350.733594)scale(0.11 -0.11)\">\n       <use xlink:href=\"#ArialMT-50\"/>\n       <use x=\"55.615234\" xlink:href=\"#ArialMT-48\"/>\n       <use x=\"111.230469\" xlink:href=\"#ArialMT-49\"/>\n       <use x=\"166.845703\" xlink:href=\"#ArialMT-57\"/>\n       <use x=\"222.460938\" xlink:href=\"#ArialMT-45\"/>\n       <use x=\"255.761719\" xlink:href=\"#ArialMT-49\"/>\n       <use x=\"311.376953\" xlink:href=\"#ArialMT-50\"/>\n       <use x=\"366.992188\" xlink:href=\"#ArialMT-45\"/>\n       <use x=\"400.292969\" xlink:href=\"#ArialMT-51\"/>\n       <use x=\"455.908203\" xlink:href=\"#ArialMT-48\"/>\n       <use x=\"511.523438\" xlink:href=\"#ArialMT-32\"/>\n       <use x=\"539.306641\" xlink:href=\"#ArialMT-49\"/>\n       <use x=\"594.921875\" xlink:href=\"#ArialMT-53\"/>\n       <use x=\"650.537109\" xlink:href=\"#ArialMT-58\"/>\n       <use x=\"678.320312\" xlink:href=\"#ArialMT-48\"/>\n       <use x=\"733.935547\" xlink:href=\"#ArialMT-48\"/>\n       <use x=\"789.550781\" xlink:href=\"#ArialMT-58\"/>\n       <use x=\"817.333984\" xlink:href=\"#ArialMT-48\"/>\n       <use x=\"872.949219\" xlink:href=\"#ArialMT-48\"/>\n      </g>\n     </g>\n    </g>\n    <g id=\"xtick_17\">\n     <g id=\"line2d_17\">\n      <path clip-path=\"url(#pd08bed73ca)\" d=\"M 617.398987 333.36 \nL 617.398987 7.2 \n\" style=\"fill:none;stroke:#cccccc;stroke-linecap:round;\"/>\n     </g>\n     <g id=\"text_17\">\n      <!-- 2019-12-30 16:00:00 -->\n      <g style=\"fill:#262626;\" transform=\"translate(566.333205 350.733594)scale(0.11 -0.11)\">\n       <use xlink:href=\"#ArialMT-50\"/>\n       <use x=\"55.615234\" xlink:href=\"#ArialMT-48\"/>\n       <use x=\"111.230469\" xlink:href=\"#ArialMT-49\"/>\n       <use x=\"166.845703\" xlink:href=\"#ArialMT-57\"/>\n       <use x=\"222.460938\" xlink:href=\"#ArialMT-45\"/>\n       <use x=\"255.761719\" xlink:href=\"#ArialMT-49\"/>\n       <use x=\"311.376953\" xlink:href=\"#ArialMT-50\"/>\n       <use x=\"366.992188\" xlink:href=\"#ArialMT-45\"/>\n       <use x=\"400.292969\" xlink:href=\"#ArialMT-51\"/>\n       <use x=\"455.908203\" xlink:href=\"#ArialMT-48\"/>\n       <use x=\"511.523438\" xlink:href=\"#ArialMT-32\"/>\n       <use x=\"539.306641\" xlink:href=\"#ArialMT-49\"/>\n       <use x=\"594.921875\" xlink:href=\"#ArialMT-54\"/>\n       <use x=\"650.537109\" xlink:href=\"#ArialMT-58\"/>\n       <use x=\"678.320312\" xlink:href=\"#ArialMT-48\"/>\n       <use x=\"733.935547\" xlink:href=\"#ArialMT-48\"/>\n       <use x=\"789.550781\" xlink:href=\"#ArialMT-58\"/>\n       <use x=\"817.333984\" xlink:href=\"#ArialMT-48\"/>\n       <use x=\"872.949219\" xlink:href=\"#ArialMT-48\"/>\n      </g>\n     </g>\n    </g>\n    <g id=\"xtick_18\">\n     <g id=\"line2d_18\">\n      <path clip-path=\"url(#pd08bed73ca)\" d=\"M 650.48199 333.36 \nL 650.48199 7.2 \n\" style=\"fill:none;stroke:#cccccc;stroke-linecap:round;\"/>\n     </g>\n     <g id=\"text_18\">\n      <!-- 2019-12-30 17:00:00 -->\n      <g style=\"fill:#262626;\" transform=\"translate(599.416209 350.733594)scale(0.11 -0.11)\">\n       <use xlink:href=\"#ArialMT-50\"/>\n       <use x=\"55.615234\" xlink:href=\"#ArialMT-48\"/>\n       <use x=\"111.230469\" xlink:href=\"#ArialMT-49\"/>\n       <use x=\"166.845703\" xlink:href=\"#ArialMT-57\"/>\n       <use x=\"222.460938\" xlink:href=\"#ArialMT-45\"/>\n       <use x=\"255.761719\" xlink:href=\"#ArialMT-49\"/>\n       <use x=\"311.376953\" xlink:href=\"#ArialMT-50\"/>\n       <use x=\"366.992188\" xlink:href=\"#ArialMT-45\"/>\n       <use x=\"400.292969\" xlink:href=\"#ArialMT-51\"/>\n       <use x=\"455.908203\" xlink:href=\"#ArialMT-48\"/>\n       <use x=\"511.523438\" xlink:href=\"#ArialMT-32\"/>\n       <use x=\"539.306641\" xlink:href=\"#ArialMT-49\"/>\n       <use x=\"594.921875\" xlink:href=\"#ArialMT-55\"/>\n       <use x=\"650.537109\" xlink:href=\"#ArialMT-58\"/>\n       <use x=\"678.320312\" xlink:href=\"#ArialMT-48\"/>\n       <use x=\"733.935547\" xlink:href=\"#ArialMT-48\"/>\n       <use x=\"789.550781\" xlink:href=\"#ArialMT-58\"/>\n       <use x=\"817.333984\" xlink:href=\"#ArialMT-48\"/>\n       <use x=\"872.949219\" xlink:href=\"#ArialMT-48\"/>\n      </g>\n     </g>\n    </g>\n    <g id=\"xtick_19\">\n     <g id=\"line2d_19\">\n      <path clip-path=\"url(#pd08bed73ca)\" d=\"M 683.564994 333.36 \nL 683.564994 7.2 \n\" style=\"fill:none;stroke:#cccccc;stroke-linecap:round;\"/>\n     </g>\n     <g id=\"text_19\">\n      <!-- 2019-12-30 18:00:00 -->\n      <g style=\"fill:#262626;\" transform=\"translate(632.499213 350.733594)scale(0.11 -0.11)\">\n       <use xlink:href=\"#ArialMT-50\"/>\n       <use x=\"55.615234\" xlink:href=\"#ArialMT-48\"/>\n       <use x=\"111.230469\" xlink:href=\"#ArialMT-49\"/>\n       <use x=\"166.845703\" xlink:href=\"#ArialMT-57\"/>\n       <use x=\"222.460938\" xlink:href=\"#ArialMT-45\"/>\n       <use x=\"255.761719\" xlink:href=\"#ArialMT-49\"/>\n       <use x=\"311.376953\" xlink:href=\"#ArialMT-50\"/>\n       <use x=\"366.992188\" xlink:href=\"#ArialMT-45\"/>\n       <use x=\"400.292969\" xlink:href=\"#ArialMT-51\"/>\n       <use x=\"455.908203\" xlink:href=\"#ArialMT-48\"/>\n       <use x=\"511.523438\" xlink:href=\"#ArialMT-32\"/>\n       <use x=\"539.306641\" xlink:href=\"#ArialMT-49\"/>\n       <use x=\"594.921875\" xlink:href=\"#ArialMT-56\"/>\n       <use x=\"650.537109\" xlink:href=\"#ArialMT-58\"/>\n       <use x=\"678.320312\" xlink:href=\"#ArialMT-48\"/>\n       <use x=\"733.935547\" xlink:href=\"#ArialMT-48\"/>\n       <use x=\"789.550781\" xlink:href=\"#ArialMT-58\"/>\n       <use x=\"817.333984\" xlink:href=\"#ArialMT-48\"/>\n       <use x=\"872.949219\" xlink:href=\"#ArialMT-48\"/>\n      </g>\n     </g>\n    </g>\n    <g id=\"xtick_20\">\n     <g id=\"line2d_20\">\n      <path clip-path=\"url(#pd08bed73ca)\" d=\"M 716.647998 333.36 \nL 716.647998 7.2 \n\" style=\"fill:none;stroke:#cccccc;stroke-linecap:round;\"/>\n     </g>\n     <g id=\"text_20\">\n      <!-- 2019-12-30 19:00:00 -->\n      <g style=\"fill:#262626;\" transform=\"translate(665.582217 350.733594)scale(0.11 -0.11)\">\n       <use xlink:href=\"#ArialMT-50\"/>\n       <use x=\"55.615234\" xlink:href=\"#ArialMT-48\"/>\n       <use x=\"111.230469\" xlink:href=\"#ArialMT-49\"/>\n       <use x=\"166.845703\" xlink:href=\"#ArialMT-57\"/>\n       <use x=\"222.460938\" xlink:href=\"#ArialMT-45\"/>\n       <use x=\"255.761719\" xlink:href=\"#ArialMT-49\"/>\n       <use x=\"311.376953\" xlink:href=\"#ArialMT-50\"/>\n       <use x=\"366.992188\" xlink:href=\"#ArialMT-45\"/>\n       <use x=\"400.292969\" xlink:href=\"#ArialMT-51\"/>\n       <use x=\"455.908203\" xlink:href=\"#ArialMT-48\"/>\n       <use x=\"511.523438\" xlink:href=\"#ArialMT-32\"/>\n       <use x=\"539.306641\" xlink:href=\"#ArialMT-49\"/>\n       <use x=\"594.921875\" xlink:href=\"#ArialMT-57\"/>\n       <use x=\"650.537109\" xlink:href=\"#ArialMT-58\"/>\n       <use x=\"678.320312\" xlink:href=\"#ArialMT-48\"/>\n       <use x=\"733.935547\" xlink:href=\"#ArialMT-48\"/>\n       <use x=\"789.550781\" xlink:href=\"#ArialMT-58\"/>\n       <use x=\"817.333984\" xlink:href=\"#ArialMT-48\"/>\n       <use x=\"872.949219\" xlink:href=\"#ArialMT-48\"/>\n      </g>\n     </g>\n    </g>\n    <g id=\"xtick_21\">\n     <g id=\"line2d_21\">\n      <path clip-path=\"url(#pd08bed73ca)\" d=\"M 749.731002 333.36 \nL 749.731002 7.2 \n\" style=\"fill:none;stroke:#cccccc;stroke-linecap:round;\"/>\n     </g>\n     <g id=\"text_21\">\n      <!-- 2019-12-30 20:00:00 -->\n      <g style=\"fill:#262626;\" transform=\"translate(698.665221 350.733594)scale(0.11 -0.11)\">\n       <use xlink:href=\"#ArialMT-50\"/>\n       <use x=\"55.615234\" xlink:href=\"#ArialMT-48\"/>\n       <use x=\"111.230469\" xlink:href=\"#ArialMT-49\"/>\n       <use x=\"166.845703\" xlink:href=\"#ArialMT-57\"/>\n       <use x=\"222.460938\" xlink:href=\"#ArialMT-45\"/>\n       <use x=\"255.761719\" xlink:href=\"#ArialMT-49\"/>\n       <use x=\"311.376953\" xlink:href=\"#ArialMT-50\"/>\n       <use x=\"366.992188\" xlink:href=\"#ArialMT-45\"/>\n       <use x=\"400.292969\" xlink:href=\"#ArialMT-51\"/>\n       <use x=\"455.908203\" xlink:href=\"#ArialMT-48\"/>\n       <use x=\"511.523438\" xlink:href=\"#ArialMT-32\"/>\n       <use x=\"539.306641\" xlink:href=\"#ArialMT-50\"/>\n       <use x=\"594.921875\" xlink:href=\"#ArialMT-48\"/>\n       <use x=\"650.537109\" xlink:href=\"#ArialMT-58\"/>\n       <use x=\"678.320312\" xlink:href=\"#ArialMT-48\"/>\n       <use x=\"733.935547\" xlink:href=\"#ArialMT-48\"/>\n       <use x=\"789.550781\" xlink:href=\"#ArialMT-58\"/>\n       <use x=\"817.333984\" xlink:href=\"#ArialMT-48\"/>\n       <use x=\"872.949219\" xlink:href=\"#ArialMT-48\"/>\n      </g>\n     </g>\n    </g>\n    <g id=\"xtick_22\">\n     <g id=\"line2d_22\">\n      <path clip-path=\"url(#pd08bed73ca)\" d=\"M 782.814006 333.36 \nL 782.814006 7.2 \n\" style=\"fill:none;stroke:#cccccc;stroke-linecap:round;\"/>\n     </g>\n     <g id=\"text_22\">\n      <!-- 2019-12-30 21:00:00 -->\n      <g style=\"fill:#262626;\" transform=\"translate(731.748225 350.733594)scale(0.11 -0.11)\">\n       <use xlink:href=\"#ArialMT-50\"/>\n       <use x=\"55.615234\" xlink:href=\"#ArialMT-48\"/>\n       <use x=\"111.230469\" xlink:href=\"#ArialMT-49\"/>\n       <use x=\"166.845703\" xlink:href=\"#ArialMT-57\"/>\n       <use x=\"222.460938\" xlink:href=\"#ArialMT-45\"/>\n       <use x=\"255.761719\" xlink:href=\"#ArialMT-49\"/>\n       <use x=\"311.376953\" xlink:href=\"#ArialMT-50\"/>\n       <use x=\"366.992188\" xlink:href=\"#ArialMT-45\"/>\n       <use x=\"400.292969\" xlink:href=\"#ArialMT-51\"/>\n       <use x=\"455.908203\" xlink:href=\"#ArialMT-48\"/>\n       <use x=\"511.523438\" xlink:href=\"#ArialMT-32\"/>\n       <use x=\"539.306641\" xlink:href=\"#ArialMT-50\"/>\n       <use x=\"594.921875\" xlink:href=\"#ArialMT-49\"/>\n       <use x=\"650.537109\" xlink:href=\"#ArialMT-58\"/>\n       <use x=\"678.320312\" xlink:href=\"#ArialMT-48\"/>\n       <use x=\"733.935547\" xlink:href=\"#ArialMT-48\"/>\n       <use x=\"789.550781\" xlink:href=\"#ArialMT-58\"/>\n       <use x=\"817.333984\" xlink:href=\"#ArialMT-48\"/>\n       <use x=\"872.949219\" xlink:href=\"#ArialMT-48\"/>\n      </g>\n     </g>\n    </g>\n    <g id=\"xtick_23\">\n     <g id=\"line2d_23\">\n      <path clip-path=\"url(#pd08bed73ca)\" d=\"M 815.89701 333.36 \nL 815.89701 7.2 \n\" style=\"fill:none;stroke:#cccccc;stroke-linecap:round;\"/>\n     </g>\n     <g id=\"text_23\">\n      <!-- 2019-12-30 22:00:00 -->\n      <g style=\"fill:#262626;\" transform=\"translate(764.831229 350.733594)scale(0.11 -0.11)\">\n       <use xlink:href=\"#ArialMT-50\"/>\n       <use x=\"55.615234\" xlink:href=\"#ArialMT-48\"/>\n       <use x=\"111.230469\" xlink:href=\"#ArialMT-49\"/>\n       <use x=\"166.845703\" xlink:href=\"#ArialMT-57\"/>\n       <use x=\"222.460938\" xlink:href=\"#ArialMT-45\"/>\n       <use x=\"255.761719\" xlink:href=\"#ArialMT-49\"/>\n       <use x=\"311.376953\" xlink:href=\"#ArialMT-50\"/>\n       <use x=\"366.992188\" xlink:href=\"#ArialMT-45\"/>\n       <use x=\"400.292969\" xlink:href=\"#ArialMT-51\"/>\n       <use x=\"455.908203\" xlink:href=\"#ArialMT-48\"/>\n       <use x=\"511.523438\" xlink:href=\"#ArialMT-32\"/>\n       <use x=\"539.306641\" xlink:href=\"#ArialMT-50\"/>\n       <use x=\"594.921875\" xlink:href=\"#ArialMT-50\"/>\n       <use x=\"650.537109\" xlink:href=\"#ArialMT-58\"/>\n       <use x=\"678.320312\" xlink:href=\"#ArialMT-48\"/>\n       <use x=\"733.935547\" xlink:href=\"#ArialMT-48\"/>\n       <use x=\"789.550781\" xlink:href=\"#ArialMT-58\"/>\n       <use x=\"817.333984\" xlink:href=\"#ArialMT-48\"/>\n       <use x=\"872.949219\" xlink:href=\"#ArialMT-48\"/>\n      </g>\n     </g>\n    </g>\n    <g id=\"xtick_24\">\n     <g id=\"line2d_24\">\n      <path clip-path=\"url(#pd08bed73ca)\" d=\"M 848.980014 333.36 \nL 848.980014 7.2 \n\" style=\"fill:none;stroke:#cccccc;stroke-linecap:round;\"/>\n     </g>\n     <g id=\"text_24\">\n      <!-- 2019-12-30 23:00:00 -->\n      <g style=\"fill:#262626;\" transform=\"translate(797.914233 350.733594)scale(0.11 -0.11)\">\n       <use xlink:href=\"#ArialMT-50\"/>\n       <use x=\"55.615234\" xlink:href=\"#ArialMT-48\"/>\n       <use x=\"111.230469\" xlink:href=\"#ArialMT-49\"/>\n       <use x=\"166.845703\" xlink:href=\"#ArialMT-57\"/>\n       <use x=\"222.460938\" xlink:href=\"#ArialMT-45\"/>\n       <use x=\"255.761719\" xlink:href=\"#ArialMT-49\"/>\n       <use x=\"311.376953\" xlink:href=\"#ArialMT-50\"/>\n       <use x=\"366.992188\" xlink:href=\"#ArialMT-45\"/>\n       <use x=\"400.292969\" xlink:href=\"#ArialMT-51\"/>\n       <use x=\"455.908203\" xlink:href=\"#ArialMT-48\"/>\n       <use x=\"511.523438\" xlink:href=\"#ArialMT-32\"/>\n       <use x=\"539.306641\" xlink:href=\"#ArialMT-50\"/>\n       <use x=\"594.921875\" xlink:href=\"#ArialMT-51\"/>\n       <use x=\"650.537109\" xlink:href=\"#ArialMT-58\"/>\n       <use x=\"678.320312\" xlink:href=\"#ArialMT-48\"/>\n       <use x=\"733.935547\" xlink:href=\"#ArialMT-48\"/>\n       <use x=\"789.550781\" xlink:href=\"#ArialMT-58\"/>\n       <use x=\"817.333984\" xlink:href=\"#ArialMT-48\"/>\n       <use x=\"872.949219\" xlink:href=\"#ArialMT-48\"/>\n      </g>\n     </g>\n    </g>\n    <g id=\"text_25\">\n     <!-- time -->\n     <defs>\n      <path d=\"M 25.78125 7.859375 \nL 27.046875 0.09375 \nQ 23.34375 -0.6875 20.40625 -0.6875 \nQ 15.625 -0.6875 12.984375 0.828125 \nQ 10.359375 2.34375 9.28125 4.8125 \nQ 8.203125 7.28125 8.203125 15.1875 \nL 8.203125 45.015625 \nL 1.765625 45.015625 \nL 1.765625 51.859375 \nL 8.203125 51.859375 \nL 8.203125 64.703125 \nL 16.9375 69.96875 \nL 16.9375 51.859375 \nL 25.78125 51.859375 \nL 25.78125 45.015625 \nL 16.9375 45.015625 \nL 16.9375 14.703125 \nQ 16.9375 10.9375 17.40625 9.859375 \nQ 17.875 8.796875 18.921875 8.15625 \nQ 19.96875 7.515625 21.921875 7.515625 \nQ 23.390625 7.515625 25.78125 7.859375 \nz\n\" id=\"ArialMT-116\"/>\n      <path d=\"M 6.640625 61.46875 \nL 6.640625 71.578125 \nL 15.4375 71.578125 \nL 15.4375 61.46875 \nz\nM 6.640625 0 \nL 6.640625 51.859375 \nL 15.4375 51.859375 \nL 15.4375 0 \nz\n\" id=\"ArialMT-105\"/>\n      <path d=\"M 6.59375 0 \nL 6.59375 51.859375 \nL 14.453125 51.859375 \nL 14.453125 44.578125 \nQ 16.890625 48.390625 20.9375 50.703125 \nQ 25 53.03125 30.171875 53.03125 \nQ 35.9375 53.03125 39.625 50.640625 \nQ 43.3125 48.25 44.828125 43.953125 \nQ 50.984375 53.03125 60.84375 53.03125 \nQ 68.5625 53.03125 72.703125 48.75 \nQ 76.859375 44.484375 76.859375 35.59375 \nL 76.859375 0 \nL 68.109375 0 \nL 68.109375 32.671875 \nQ 68.109375 37.9375 67.25 40.25 \nQ 66.40625 42.578125 64.15625 43.984375 \nQ 61.921875 45.40625 58.890625 45.40625 \nQ 53.421875 45.40625 49.796875 41.765625 \nQ 46.1875 38.140625 46.1875 30.125 \nL 46.1875 0 \nL 37.40625 0 \nL 37.40625 33.6875 \nQ 37.40625 39.546875 35.25 42.46875 \nQ 33.109375 45.40625 28.21875 45.40625 \nQ 24.515625 45.40625 21.359375 43.453125 \nQ 18.21875 41.5 16.796875 37.734375 \nQ 15.375 33.984375 15.375 26.90625 \nL 15.375 0 \nz\n\" id=\"ArialMT-109\"/>\n      <path d=\"M 42.09375 16.703125 \nL 51.171875 15.578125 \nQ 49.03125 7.625 43.21875 3.21875 \nQ 37.40625 -1.171875 28.375 -1.171875 \nQ 17 -1.171875 10.328125 5.828125 \nQ 3.65625 12.84375 3.65625 25.484375 \nQ 3.65625 38.578125 10.390625 45.796875 \nQ 17.140625 53.03125 27.875 53.03125 \nQ 38.28125 53.03125 44.875 45.953125 \nQ 51.46875 38.875 51.46875 26.03125 \nQ 51.46875 25.25 51.421875 23.6875 \nL 12.75 23.6875 \nQ 13.234375 15.140625 17.578125 10.59375 \nQ 21.921875 6.0625 28.421875 6.0625 \nQ 33.25 6.0625 36.671875 8.59375 \nQ 40.09375 11.140625 42.09375 16.703125 \nz\nM 13.234375 30.90625 \nL 42.1875 30.90625 \nQ 41.609375 37.453125 38.875 40.71875 \nQ 34.671875 45.796875 27.984375 45.796875 \nQ 21.921875 45.796875 17.796875 41.75 \nQ 13.671875 37.703125 13.234375 30.90625 \nz\n\" id=\"ArialMT-101\"/>\n     </defs>\n     <g style=\"fill:#262626;\" transform=\"translate(457.191094 365.509219)scale(0.12 -0.12)\">\n      <use xlink:href=\"#ArialMT-116\"/>\n      <use x=\"27.783203\" xlink:href=\"#ArialMT-105\"/>\n      <use x=\"50\" xlink:href=\"#ArialMT-109\"/>\n      <use x=\"133.300781\" xlink:href=\"#ArialMT-101\"/>\n     </g>\n    </g>\n   </g>\n   <g id=\"matplotlib.axis_2\">\n    <g id=\"ytick_1\">\n     <g id=\"line2d_25\">\n      <path clip-path=\"url(#pd08bed73ca)\" d=\"M 50.025469 327.830919 \nL 887.025469 327.830919 \n\" style=\"fill:none;stroke:#cccccc;stroke-linecap:round;\"/>\n     </g>\n     <g id=\"text_26\">\n      <!-- 200 -->\n      <g style=\"fill:#262626;\" transform=\"translate(22.174375 331.767716)scale(0.11 -0.11)\">\n       <use xlink:href=\"#ArialMT-50\"/>\n       <use x=\"55.615234\" xlink:href=\"#ArialMT-48\"/>\n       <use x=\"111.230469\" xlink:href=\"#ArialMT-48\"/>\n      </g>\n     </g>\n    </g>\n    <g id=\"ytick_2\">\n     <g id=\"line2d_26\">\n      <path clip-path=\"url(#pd08bed73ca)\" d=\"M 50.025469 286.082619 \nL 887.025469 286.082619 \n\" style=\"fill:none;stroke:#cccccc;stroke-linecap:round;\"/>\n     </g>\n     <g id=\"text_27\">\n      <!-- 250 -->\n      <g style=\"fill:#262626;\" transform=\"translate(22.174375 290.019416)scale(0.11 -0.11)\">\n       <use xlink:href=\"#ArialMT-50\"/>\n       <use x=\"55.615234\" xlink:href=\"#ArialMT-53\"/>\n       <use x=\"111.230469\" xlink:href=\"#ArialMT-48\"/>\n      </g>\n     </g>\n    </g>\n    <g id=\"ytick_3\">\n     <g id=\"line2d_27\">\n      <path clip-path=\"url(#pd08bed73ca)\" d=\"M 50.025469 244.334319 \nL 887.025469 244.334319 \n\" style=\"fill:none;stroke:#cccccc;stroke-linecap:round;\"/>\n     </g>\n     <g id=\"text_28\">\n      <!-- 300 -->\n      <g style=\"fill:#262626;\" transform=\"translate(22.174375 248.271115)scale(0.11 -0.11)\">\n       <use xlink:href=\"#ArialMT-51\"/>\n       <use x=\"55.615234\" xlink:href=\"#ArialMT-48\"/>\n       <use x=\"111.230469\" xlink:href=\"#ArialMT-48\"/>\n      </g>\n     </g>\n    </g>\n    <g id=\"ytick_4\">\n     <g id=\"line2d_28\">\n      <path clip-path=\"url(#pd08bed73ca)\" d=\"M 50.025469 202.586018 \nL 887.025469 202.586018 \n\" style=\"fill:none;stroke:#cccccc;stroke-linecap:round;\"/>\n     </g>\n     <g id=\"text_29\">\n      <!-- 350 -->\n      <g style=\"fill:#262626;\" transform=\"translate(22.174375 206.522815)scale(0.11 -0.11)\">\n       <use xlink:href=\"#ArialMT-51\"/>\n       <use x=\"55.615234\" xlink:href=\"#ArialMT-53\"/>\n       <use x=\"111.230469\" xlink:href=\"#ArialMT-48\"/>\n      </g>\n     </g>\n    </g>\n    <g id=\"ytick_5\">\n     <g id=\"line2d_29\">\n      <path clip-path=\"url(#pd08bed73ca)\" d=\"M 50.025469 160.837718 \nL 887.025469 160.837718 \n\" style=\"fill:none;stroke:#cccccc;stroke-linecap:round;\"/>\n     </g>\n     <g id=\"text_30\">\n      <!-- 400 -->\n      <g style=\"fill:#262626;\" transform=\"translate(22.174375 164.774515)scale(0.11 -0.11)\">\n       <use xlink:href=\"#ArialMT-52\"/>\n       <use x=\"55.615234\" xlink:href=\"#ArialMT-48\"/>\n       <use x=\"111.230469\" xlink:href=\"#ArialMT-48\"/>\n      </g>\n     </g>\n    </g>\n    <g id=\"ytick_6\">\n     <g id=\"line2d_30\">\n      <path clip-path=\"url(#pd08bed73ca)\" d=\"M 50.025469 119.089418 \nL 887.025469 119.089418 \n\" style=\"fill:none;stroke:#cccccc;stroke-linecap:round;\"/>\n     </g>\n     <g id=\"text_31\">\n      <!-- 450 -->\n      <g style=\"fill:#262626;\" transform=\"translate(22.174375 123.026215)scale(0.11 -0.11)\">\n       <use xlink:href=\"#ArialMT-52\"/>\n       <use x=\"55.615234\" xlink:href=\"#ArialMT-53\"/>\n       <use x=\"111.230469\" xlink:href=\"#ArialMT-48\"/>\n      </g>\n     </g>\n    </g>\n    <g id=\"ytick_7\">\n     <g id=\"line2d_31\">\n      <path clip-path=\"url(#pd08bed73ca)\" d=\"M 50.025469 77.341117 \nL 887.025469 77.341117 \n\" style=\"fill:none;stroke:#cccccc;stroke-linecap:round;\"/>\n     </g>\n     <g id=\"text_32\">\n      <!-- 500 -->\n      <g style=\"fill:#262626;\" transform=\"translate(22.174375 81.277914)scale(0.11 -0.11)\">\n       <use xlink:href=\"#ArialMT-53\"/>\n       <use x=\"55.615234\" xlink:href=\"#ArialMT-48\"/>\n       <use x=\"111.230469\" xlink:href=\"#ArialMT-48\"/>\n      </g>\n     </g>\n    </g>\n    <g id=\"ytick_8\">\n     <g id=\"line2d_32\">\n      <path clip-path=\"url(#pd08bed73ca)\" d=\"M 50.025469 35.592817 \nL 887.025469 35.592817 \n\" style=\"fill:none;stroke:#cccccc;stroke-linecap:round;\"/>\n     </g>\n     <g id=\"text_33\">\n      <!-- 550 -->\n      <g style=\"fill:#262626;\" transform=\"translate(22.174375 39.529614)scale(0.11 -0.11)\">\n       <use xlink:href=\"#ArialMT-53\"/>\n       <use x=\"55.615234\" xlink:href=\"#ArialMT-53\"/>\n       <use x=\"111.230469\" xlink:href=\"#ArialMT-48\"/>\n      </g>\n     </g>\n    </g>\n    <g id=\"text_34\">\n     <!-- value -->\n     <defs>\n      <path d=\"M 21 0 \nL 1.265625 51.859375 \nL 10.546875 51.859375 \nL 21.6875 20.796875 \nQ 23.484375 15.765625 25 10.359375 \nQ 26.171875 14.453125 28.265625 20.21875 \nL 39.796875 51.859375 \nL 48.828125 51.859375 \nL 29.203125 0 \nz\n\" id=\"ArialMT-118\"/>\n      <path d=\"M 40.4375 6.390625 \nQ 35.546875 2.25 31.03125 0.53125 \nQ 26.515625 -1.171875 21.34375 -1.171875 \nQ 12.796875 -1.171875 8.203125 3 \nQ 3.609375 7.171875 3.609375 13.671875 \nQ 3.609375 17.484375 5.34375 20.625 \nQ 7.078125 23.78125 9.890625 25.6875 \nQ 12.703125 27.59375 16.21875 28.5625 \nQ 18.796875 29.25 24.03125 29.890625 \nQ 34.671875 31.15625 39.703125 32.90625 \nQ 39.75 34.71875 39.75 35.203125 \nQ 39.75 40.578125 37.25 42.78125 \nQ 33.890625 45.75 27.25 45.75 \nQ 21.046875 45.75 18.09375 43.578125 \nQ 15.140625 41.40625 13.71875 35.890625 \nL 5.125 37.0625 \nQ 6.296875 42.578125 8.984375 45.96875 \nQ 11.671875 49.359375 16.75 51.1875 \nQ 21.828125 53.03125 28.515625 53.03125 \nQ 35.15625 53.03125 39.296875 51.46875 \nQ 43.453125 49.90625 45.40625 47.53125 \nQ 47.359375 45.171875 48.140625 41.546875 \nQ 48.578125 39.3125 48.578125 33.453125 \nL 48.578125 21.734375 \nQ 48.578125 9.46875 49.140625 6.21875 \nQ 49.703125 2.984375 51.375 0 \nL 42.1875 0 \nQ 40.828125 2.734375 40.4375 6.390625 \nz\nM 39.703125 26.03125 \nQ 34.90625 24.078125 25.34375 22.703125 \nQ 19.921875 21.921875 17.671875 20.9375 \nQ 15.4375 19.96875 14.203125 18.09375 \nQ 12.984375 16.21875 12.984375 13.921875 \nQ 12.984375 10.40625 15.640625 8.0625 \nQ 18.3125 5.71875 23.4375 5.71875 \nQ 28.515625 5.71875 32.46875 7.9375 \nQ 36.421875 10.15625 38.28125 14.015625 \nQ 39.703125 17 39.703125 22.796875 \nz\n\" id=\"ArialMT-97\"/>\n      <path d=\"M 6.390625 0 \nL 6.390625 71.578125 \nL 15.1875 71.578125 \nL 15.1875 0 \nz\n\" id=\"ArialMT-108\"/>\n      <path d=\"M 40.578125 0 \nL 40.578125 7.625 \nQ 34.515625 -1.171875 24.125 -1.171875 \nQ 19.53125 -1.171875 15.546875 0.578125 \nQ 11.578125 2.34375 9.640625 5 \nQ 7.71875 7.671875 6.9375 11.53125 \nQ 6.390625 14.109375 6.390625 19.734375 \nL 6.390625 51.859375 \nL 15.1875 51.859375 \nL 15.1875 23.09375 \nQ 15.1875 16.21875 15.71875 13.8125 \nQ 16.546875 10.359375 19.234375 8.375 \nQ 21.921875 6.390625 25.875 6.390625 \nQ 29.828125 6.390625 33.296875 8.421875 \nQ 36.765625 10.453125 38.203125 13.9375 \nQ 39.65625 17.4375 39.65625 24.078125 \nL 39.65625 51.859375 \nL 48.4375 51.859375 \nL 48.4375 0 \nz\n\" id=\"ArialMT-117\"/>\n     </defs>\n     <g style=\"fill:#262626;\" transform=\"translate(15.789375 184.622812)rotate(-90)scale(0.12 -0.12)\">\n      <use xlink:href=\"#ArialMT-118\"/>\n      <use x=\"50\" xlink:href=\"#ArialMT-97\"/>\n      <use x=\"105.615234\" xlink:href=\"#ArialMT-108\"/>\n      <use x=\"127.832031\" xlink:href=\"#ArialMT-117\"/>\n      <use x=\"183.447266\" xlink:href=\"#ArialMT-101\"/>\n     </g>\n    </g>\n   </g>\n   <g id=\"line2d_33\">\n    <path clip-path=\"url(#pd08bed73ca)\" d=\"M 88.070923 172.067176 \nL 121.153927 189.531325 \nL 154.236931 188.374062 \nL 187.319935 224.191599 \nL 220.402939 171.518603 \nL 253.485943 131.547111 \nL 286.568947 199.224445 \nL 319.651951 118.823064 \nL 352.734955 164.84138 \nL 385.817959 150.644453 \nL 418.900963 110.090154 \nL 451.983967 58.015829 \nL 485.066971 22.025455 \nL 518.149975 64.893444 \nL 551.232979 23.870729 \nL 584.315983 85.977171 \nL 617.398987 79.1221 \nL 650.48199 100.25008 \nL 683.564994 199.120909 \nL 716.647998 128.458571 \nL 749.731002 195.886251 \nL 782.814006 224.892135 \nL 815.89701 192.265003 \nL 848.980014 168.003396 \n\" style=\"fill:none;stroke:#4c72b0;stroke-linecap:round;stroke-width:2.5;\"/>\n   </g>\n   <g id=\"line2d_34\">\n    <path clip-path=\"url(#pd08bed73ca)\" d=\"M 88.070923 253.858353 \nL 121.153927 261.442509 \nL 154.236931 268.34535 \nL 187.319935 268.96421 \nL 220.402939 276.754585 \nL 253.485943 273.833172 \nL 286.568947 267.867018 \nL 319.651951 267.858303 \nL 352.734955 270.172857 \nL 385.817959 271.324197 \nL 418.900963 273.751938 \nL 451.983967 276.584575 \nL 485.066971 273.783739 \nL 518.149975 286.499834 \nL 551.232979 295.021594 \nL 584.315983 294.778109 \nL 617.398987 296.391613 \nL 650.48199 293.294151 \nL 683.564994 295.313863 \nL 716.647998 293.73207 \nL 749.731002 296.594188 \nL 782.814006 301.719439 \nL 815.89701 309.474624 \nL 848.980014 318.534545 \n\" style=\"fill:none;stroke:#dd8452;stroke-linecap:round;stroke-width:2.5;\"/>\n   </g>\n   <g id=\"line2d_35\"/>\n   <g id=\"line2d_36\"/>\n   <g id=\"line2d_37\"/>\n   <g id=\"patch_3\">\n    <path d=\"M 50.025469 333.36 \nL 50.025469 7.2 \n\" style=\"fill:none;stroke:#cccccc;stroke-linecap:square;stroke-linejoin:miter;stroke-width:1.25;\"/>\n   </g>\n   <g id=\"patch_4\">\n    <path d=\"M 887.025469 333.36 \nL 887.025469 7.2 \n\" style=\"fill:none;stroke:#cccccc;stroke-linecap:square;stroke-linejoin:miter;stroke-width:1.25;\"/>\n   </g>\n   <g id=\"patch_5\">\n    <path d=\"M 50.025469 333.36 \nL 887.025469 333.36 \n\" style=\"fill:none;stroke:#cccccc;stroke-linecap:square;stroke-linejoin:miter;stroke-width:1.25;\"/>\n   </g>\n   <g id=\"patch_6\">\n    <path d=\"M 50.025469 7.2 \nL 887.025469 7.2 \n\" style=\"fill:none;stroke:#cccccc;stroke-linecap:square;stroke-linejoin:miter;stroke-width:1.25;\"/>\n   </g>\n   <g id=\"legend_1\">\n    <g id=\"patch_7\">\n     <path d=\"M 803.980625 62.679531 \nL 879.325469 62.679531 \nQ 881.525469 62.679531 881.525469 60.479531 \nL 881.525469 14.9 \nQ 881.525469 12.7 879.325469 12.7 \nL 803.980625 12.7 \nQ 801.780625 12.7 801.780625 14.9 \nL 801.780625 60.479531 \nQ 801.780625 62.679531 803.980625 62.679531 \nz\n\" style=\"fill:#ffffff;opacity:0.8;stroke:#cccccc;stroke-linejoin:miter;\"/>\n    </g>\n    <g id=\"line2d_38\">\n     <path d=\"M 806.180625 21.123594 \nL 828.180625 21.123594 \n\" style=\"fill:none;\"/>\n    </g>\n    <g id=\"line2d_39\"/>\n    <g id=\"text_35\">\n     <!-- variable -->\n     <defs>\n      <path d=\"M 6.5 0 \nL 6.5 51.859375 \nL 14.40625 51.859375 \nL 14.40625 44 \nQ 17.4375 49.515625 20 51.265625 \nQ 22.5625 53.03125 25.640625 53.03125 \nQ 30.078125 53.03125 34.671875 50.203125 \nL 31.640625 42.046875 \nQ 28.421875 43.953125 25.203125 43.953125 \nQ 22.3125 43.953125 20.015625 42.21875 \nQ 17.71875 40.484375 16.75 37.40625 \nQ 15.28125 32.71875 15.28125 27.15625 \nL 15.28125 0 \nz\n\" id=\"ArialMT-114\"/>\n      <path d=\"M 14.703125 0 \nL 6.546875 0 \nL 6.546875 71.578125 \nL 15.328125 71.578125 \nL 15.328125 46.046875 \nQ 20.90625 53.03125 29.546875 53.03125 \nQ 34.328125 53.03125 38.59375 51.09375 \nQ 42.875 49.171875 45.625 45.671875 \nQ 48.390625 42.1875 49.953125 37.25 \nQ 51.515625 32.328125 51.515625 26.703125 \nQ 51.515625 13.375 44.921875 6.09375 \nQ 38.328125 -1.171875 29.109375 -1.171875 \nQ 19.921875 -1.171875 14.703125 6.5 \nz\nM 14.59375 26.3125 \nQ 14.59375 17 17.140625 12.84375 \nQ 21.296875 6.0625 28.375 6.0625 \nQ 34.125 6.0625 38.328125 11.0625 \nQ 42.53125 16.0625 42.53125 25.984375 \nQ 42.53125 36.140625 38.5 40.96875 \nQ 34.46875 45.796875 28.765625 45.796875 \nQ 23 45.796875 18.796875 40.796875 \nQ 14.59375 35.796875 14.59375 26.3125 \nz\n\" id=\"ArialMT-98\"/>\n     </defs>\n     <g style=\"fill:#262626;\" transform=\"translate(836.980625 24.973594)scale(0.11 -0.11)\">\n      <use xlink:href=\"#ArialMT-118\"/>\n      <use x=\"50\" xlink:href=\"#ArialMT-97\"/>\n      <use x=\"105.615234\" xlink:href=\"#ArialMT-114\"/>\n      <use x=\"138.916016\" xlink:href=\"#ArialMT-105\"/>\n      <use x=\"161.132812\" xlink:href=\"#ArialMT-97\"/>\n      <use x=\"216.748047\" xlink:href=\"#ArialMT-98\"/>\n      <use x=\"272.363281\" xlink:href=\"#ArialMT-108\"/>\n      <use x=\"294.580078\" xlink:href=\"#ArialMT-101\"/>\n     </g>\n    </g>\n    <g id=\"line2d_40\">\n     <path d=\"M 806.180625 36.683437 \nL 828.180625 36.683437 \n\" style=\"fill:none;stroke:#4c72b0;stroke-linecap:round;stroke-width:1.5;\"/>\n    </g>\n    <g id=\"line2d_41\"/>\n    <g id=\"text_36\">\n     <!-- VAERDI -->\n     <defs>\n      <path d=\"M 28.171875 0 \nL 0.4375 71.578125 \nL 10.6875 71.578125 \nL 29.296875 19.578125 \nQ 31.546875 13.328125 33.0625 7.859375 \nQ 34.71875 13.71875 36.921875 19.578125 \nL 56.25 71.578125 \nL 65.921875 71.578125 \nL 37.890625 0 \nz\n\" id=\"ArialMT-86\"/>\n      <path d=\"M -0.140625 0 \nL 27.34375 71.578125 \nL 37.546875 71.578125 \nL 66.84375 0 \nL 56.0625 0 \nL 47.703125 21.6875 \nL 17.78125 21.6875 \nL 9.90625 0 \nz\nM 20.515625 29.390625 \nL 44.78125 29.390625 \nL 37.3125 49.21875 \nQ 33.890625 58.25 32.234375 64.0625 \nQ 30.859375 57.171875 28.375 50.390625 \nz\n\" id=\"ArialMT-65\"/>\n      <path d=\"M 7.90625 0 \nL 7.90625 71.578125 \nL 59.671875 71.578125 \nL 59.671875 63.140625 \nL 17.390625 63.140625 \nL 17.390625 41.21875 \nL 56.984375 41.21875 \nL 56.984375 32.8125 \nL 17.390625 32.8125 \nL 17.390625 8.453125 \nL 61.328125 8.453125 \nL 61.328125 0 \nz\n\" id=\"ArialMT-69\"/>\n      <path d=\"M 7.859375 0 \nL 7.859375 71.578125 \nL 39.59375 71.578125 \nQ 49.171875 71.578125 54.140625 69.640625 \nQ 59.125 67.71875 62.109375 62.828125 \nQ 65.09375 57.953125 65.09375 52.046875 \nQ 65.09375 44.4375 60.15625 39.203125 \nQ 55.21875 33.984375 44.921875 32.5625 \nQ 48.6875 30.765625 50.640625 29 \nQ 54.78125 25.203125 58.5 19.484375 \nL 70.953125 0 \nL 59.03125 0 \nL 49.5625 14.890625 \nQ 45.40625 21.34375 42.71875 24.75 \nQ 40.046875 28.171875 37.921875 29.53125 \nQ 35.796875 30.90625 33.59375 31.453125 \nQ 31.984375 31.78125 28.328125 31.78125 \nL 17.328125 31.78125 \nL 17.328125 0 \nz\nM 17.328125 39.984375 \nL 37.703125 39.984375 \nQ 44.1875 39.984375 47.84375 41.328125 \nQ 51.515625 42.671875 53.421875 45.625 \nQ 55.328125 48.578125 55.328125 52.046875 \nQ 55.328125 57.125 51.640625 60.390625 \nQ 47.953125 63.671875 39.984375 63.671875 \nL 17.328125 63.671875 \nz\n\" id=\"ArialMT-82\"/>\n      <path d=\"M 7.71875 0 \nL 7.71875 71.578125 \nL 32.375 71.578125 \nQ 40.71875 71.578125 45.125 70.5625 \nQ 51.265625 69.140625 55.609375 65.4375 \nQ 61.28125 60.640625 64.078125 53.1875 \nQ 66.890625 45.75 66.890625 36.1875 \nQ 66.890625 28.03125 64.984375 21.734375 \nQ 63.09375 15.4375 60.109375 11.296875 \nQ 57.125 7.171875 53.578125 4.796875 \nQ 50.046875 2.4375 45.046875 1.21875 \nQ 40.046875 0 33.546875 0 \nz\nM 17.1875 8.453125 \nL 32.46875 8.453125 \nQ 39.546875 8.453125 43.578125 9.765625 \nQ 47.609375 11.078125 50 13.484375 \nQ 53.375 16.84375 55.25 22.53125 \nQ 57.125 28.21875 57.125 36.328125 \nQ 57.125 47.5625 53.4375 53.59375 \nQ 49.75 59.625 44.484375 61.671875 \nQ 40.671875 63.140625 32.234375 63.140625 \nL 17.1875 63.140625 \nz\n\" id=\"ArialMT-68\"/>\n      <path d=\"M 9.328125 0 \nL 9.328125 71.578125 \nL 18.796875 71.578125 \nL 18.796875 0 \nz\n\" id=\"ArialMT-73\"/>\n     </defs>\n     <g style=\"fill:#262626;\" transform=\"translate(836.980625 40.533437)scale(0.11 -0.11)\">\n      <use xlink:href=\"#ArialMT-86\"/>\n      <use x=\"59.324219\" xlink:href=\"#ArialMT-65\"/>\n      <use x=\"126.023438\" xlink:href=\"#ArialMT-69\"/>\n      <use x=\"192.722656\" xlink:href=\"#ArialMT-82\"/>\n      <use x=\"264.939453\" xlink:href=\"#ArialMT-68\"/>\n      <use x=\"337.15625\" xlink:href=\"#ArialMT-73\"/>\n     </g>\n    </g>\n    <g id=\"line2d_42\">\n     <path d=\"M 806.180625 52.243281 \nL 828.180625 52.243281 \n\" style=\"fill:none;stroke:#dd8452;stroke-linecap:round;stroke-width:1.5;\"/>\n    </g>\n    <g id=\"line2d_43\"/>\n    <g id=\"text_37\">\n     <!-- pred -->\n     <defs>\n      <path d=\"M 6.59375 -19.875 \nL 6.59375 51.859375 \nL 14.59375 51.859375 \nL 14.59375 45.125 \nQ 17.4375 49.078125 21 51.046875 \nQ 24.5625 53.03125 29.640625 53.03125 \nQ 36.28125 53.03125 41.359375 49.609375 \nQ 46.4375 46.1875 49.015625 39.953125 \nQ 51.609375 33.734375 51.609375 26.3125 \nQ 51.609375 18.359375 48.75 11.984375 \nQ 45.90625 5.609375 40.453125 2.21875 \nQ 35.015625 -1.171875 29 -1.171875 \nQ 24.609375 -1.171875 21.109375 0.6875 \nQ 17.625 2.546875 15.375 5.375 \nL 15.375 -19.875 \nz\nM 14.546875 25.640625 \nQ 14.546875 15.625 18.59375 10.84375 \nQ 22.65625 6.0625 28.421875 6.0625 \nQ 34.28125 6.0625 38.453125 11.015625 \nQ 42.625 15.96875 42.625 26.375 \nQ 42.625 36.28125 38.546875 41.203125 \nQ 34.46875 46.140625 28.8125 46.140625 \nQ 23.1875 46.140625 18.859375 40.890625 \nQ 14.546875 35.640625 14.546875 25.640625 \nz\n\" id=\"ArialMT-112\"/>\n      <path d=\"M 40.234375 0 \nL 40.234375 6.546875 \nQ 35.296875 -1.171875 25.734375 -1.171875 \nQ 19.53125 -1.171875 14.328125 2.25 \nQ 9.125 5.671875 6.265625 11.796875 \nQ 3.421875 17.921875 3.421875 25.875 \nQ 3.421875 33.640625 6 39.96875 \nQ 8.59375 46.296875 13.765625 49.65625 \nQ 18.953125 53.03125 25.34375 53.03125 \nQ 30.03125 53.03125 33.6875 51.046875 \nQ 37.359375 49.078125 39.65625 45.90625 \nL 39.65625 71.578125 \nL 48.390625 71.578125 \nL 48.390625 0 \nz\nM 12.453125 25.875 \nQ 12.453125 15.921875 16.640625 10.984375 \nQ 20.84375 6.0625 26.5625 6.0625 \nQ 32.328125 6.0625 36.34375 10.765625 \nQ 40.375 15.484375 40.375 25.140625 \nQ 40.375 35.796875 36.265625 40.765625 \nQ 32.171875 45.75 26.171875 45.75 \nQ 20.3125 45.75 16.375 40.96875 \nQ 12.453125 36.1875 12.453125 25.875 \nz\n\" id=\"ArialMT-100\"/>\n     </defs>\n     <g style=\"fill:#262626;\" transform=\"translate(836.980625 56.093281)scale(0.11 -0.11)\">\n      <use xlink:href=\"#ArialMT-112\"/>\n      <use x=\"55.615234\" xlink:href=\"#ArialMT-114\"/>\n      <use x=\"88.916016\" xlink:href=\"#ArialMT-101\"/>\n      <use x=\"144.53125\" xlink:href=\"#ArialMT-100\"/>\n     </g>\n    </g>\n   </g>\n  </g>\n </g>\n <defs>\n  <clipPath id=\"pd08bed73ca\">\n   <rect height=\"326.16\" width=\"837\" x=\"50.025469\" y=\"7.2\"/>\n  </clipPath>\n </defs>\n</svg>\n",
      "image/png": "[encoded data removed]"
     },
     "metadata": {}
    }
   ],
   "source": [
    "plt.figure(figsize=(15,6))\n",
    "sns.set(style=\"whitegrid\")\n",
    "sns.lineplot(x=\"time\",  y=\"value\", data=pd.melt(y_test, ['time']), hue='variable',linewidth=2.5)"
   ]
  },
  {
   "cell_type": "markdown",
   "metadata": {},
   "source": [
    "## Clustering"
   ]
  },
  {
   "cell_type": "code",
   "execution_count": null,
   "metadata": {},
   "outputs": [],
   "source": [
    "from sklearn.cluster import KMeans, SpectralClustering, MeanShift\n",
    "from sklearn.preprocessing import OneHotEncoder, StandardScaler\n",
    "from yellowbrick.cluster.elbow import kelbow_visualizer"
   ]
  },
  {
   "cell_type": "code",
   "execution_count": null,
   "metadata": {},
   "outputs": [],
   "source": [
    "feat_cols = [\"u_interp\", \"v_interp\", \"tmp_interp\",\"Rotor_diameter\",\"Navhub_height\",\"Slope\",\"Elevation\",\"Roughness\"]"
   ]
  },
  {
   "cell_type": "code",
   "execution_count": null,
   "metadata": {},
   "outputs": [],
   "source": [
    "train_pd[\"Rotor_diameter\"].plot.bar()"
   ]
  },
  {
   "cell_type": "code",
   "execution_count": null,
   "metadata": {},
   "outputs": [],
   "source": [
    "train_pd[\"Navhub_height\"].plot.bar()"
   ]
  },
  {
   "cell_type": "code",
   "execution_count": null,
   "metadata": {},
   "outputs": [],
   "source": []
  },
  {
   "cell_type": "code",
   "execution_count": null,
   "metadata": {},
   "outputs": [],
   "source": []
  },
  {
   "cell_type": "code",
   "execution_count": null,
   "metadata": {},
   "outputs": [],
   "source": []
  },
  {
   "cell_type": "code",
   "execution_count": null,
   "metadata": {},
   "outputs": [],
   "source": []
  },
  {
   "cell_type": "code",
   "execution_count": null,
   "metadata": {},
   "outputs": [],
   "source": []
  },
  {
   "cell_type": "code",
   "execution_count": null,
   "metadata": {},
   "outputs": [],
   "source": [
    "x_train = train_pd[feat_cols]\n",
    "y_train = train_pd[[\"VAERDI\"]]\n",
    "x_test = test_pd[feat_cols]\n",
    "y_test = test_pd[[\"VAERDI\"]]\n",
    "timeline = test_pd[[\"TIME_CET\"]]"
   ]
  },
  {
   "cell_type": "code",
   "execution_count": null,
   "metadata": {},
   "outputs": [],
   "source": [
    "def SpectralClustering_elbow(df,k=(2,10)):\n",
    "    kelbow_visualizer(SpectralClustering(random_state=3, assign_labels='discretize'), df, k=k)\n",
    "\n",
    "def SpectralClustering_simple(df, k):\n",
    "    sc = SpectralClustering(random_state=3, assign_labels='discretize', n_clusters=k)\n",
    "    cluster = sc.fit_predict(df)\n",
    "    return cluster"
   ]
  },
  {
   "cell_type": "code",
   "execution_count": null,
   "metadata": {},
   "outputs": [],
   "source": [
    "scaler = StandardScaler()"
   ]
  },
  {
   "cell_type": "code",
   "execution_count": null,
   "metadata": {},
   "outputs": [],
   "source": [
    "scaler.fit(x_train)\n",
    "x_train = scaler.transform(x_train)\n",
    "x_test = scaler.transform(x_test)"
   ]
  },
  {
   "cell_type": "code",
   "execution_count": null,
   "metadata": {},
   "outputs": [],
   "source": [
    "SpectralClustering_elbow(x_train)"
   ]
  },
  {
   "cell_type": "code",
   "execution_count": null,
   "metadata": {},
   "outputs": [],
   "source": [
    "x_train_cls = sc.predict(x_train)\n",
    "x_test_cls = sc.predict(x_test)"
   ]
  },
  {
   "cell_type": "code",
   "execution_count": null,
   "metadata": {},
   "outputs": [],
   "source": [
    "x_train_cls"
   ]
  },
  {
   "cell_type": "code",
   "execution_count": null,
   "metadata": {},
   "outputs": [],
   "source": [
    "x_test_cls"
   ]
  },
  {
   "cell_type": "code",
   "execution_count": null,
   "metadata": {},
   "outputs": [],
   "source": []
  }
 ],
 "metadata": {
  "language_info": {
   "name": "python",
   "codemirror_mode": {
    "name": "ipython",
    "version": 3
   },
   "version": "3.7.7-final"
  },
  "orig_nbformat": 2,
  "file_extension": ".py",
  "mimetype": "text/x-python",
  "name": "python",
  "npconvert_exporter": "python",
  "pygments_lexer": "ipython3",
  "version": 3,
  "kernelspec": {
   "name": "python37264bit3a462acd451f4b989328b3d637ce9031",
   "display_name": "Python 3.7.2 64-bit"
  }
 },
 "nbformat": 4,
 "nbformat_minor": 2
}